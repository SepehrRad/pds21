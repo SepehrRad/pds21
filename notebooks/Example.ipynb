{
 "cells": [
  {
   "cell_type": "code",
   "execution_count": 1,
   "metadata": {},
   "outputs": [
    {
     "name": "stdout",
     "output_type": "stream",
     "text": [
      "Obtaining file:///Users/christianbergen/Documents/prog/pds21\r\n",
      "Requirement already satisfied: pandas in /opt/anaconda3/envs/pds_env/lib/python3.8/site-packages (from yellowcab==0.0.1.dev1) (1.2.3)\r\n",
      "Requirement already satisfied: numpy in /opt/anaconda3/envs/pds_env/lib/python3.8/site-packages (from yellowcab==0.0.1.dev1) (1.19.2)\r\n",
      "Requirement already satisfied: click in /opt/anaconda3/envs/pds_env/lib/python3.8/site-packages (from yellowcab==0.0.1.dev1) (7.1.2)\r\n",
      "Requirement already satisfied: scikit-learn in /opt/anaconda3/envs/pds_env/lib/python3.8/site-packages (from yellowcab==0.0.1.dev1) (0.24.1)\r\n",
      "Requirement already satisfied: pyarrow in /opt/anaconda3/envs/pds_env/lib/python3.8/site-packages (from yellowcab==0.0.1.dev1) (3.0.0)\r\n",
      "Requirement already satisfied: scipy in /opt/anaconda3/envs/pds_env/lib/python3.8/site-packages (from yellowcab==0.0.1.dev1) (1.6.2)\r\n",
      "Requirement already satisfied: pyod in /opt/anaconda3/envs/pds_env/lib/python3.8/site-packages (from yellowcab==0.0.1.dev1) (0.8.8)\r\n",
      "Requirement already satisfied: geopandas in /opt/anaconda3/envs/pds_env/lib/python3.8/site-packages (from yellowcab==0.0.1.dev1) (0.9.0)\r\n",
      "Requirement already satisfied: pyproj>=2.2.0 in /opt/anaconda3/envs/pds_env/lib/python3.8/site-packages (from geopandas->yellowcab==0.0.1.dev1) (3.0.1)\r\n",
      "Requirement already satisfied: shapely>=1.6 in /opt/anaconda3/envs/pds_env/lib/python3.8/site-packages (from geopandas->yellowcab==0.0.1.dev1) (1.7.1)\r\n",
      "Requirement already satisfied: fiona>=1.8 in /opt/anaconda3/envs/pds_env/lib/python3.8/site-packages (from geopandas->yellowcab==0.0.1.dev1) (1.8.19)\r\n",
      "Requirement already satisfied: attrs>=17 in /opt/anaconda3/envs/pds_env/lib/python3.8/site-packages (from fiona>=1.8->geopandas->yellowcab==0.0.1.dev1) (20.3.0)\r\n",
      "Requirement already satisfied: munch in /opt/anaconda3/envs/pds_env/lib/python3.8/site-packages (from fiona>=1.8->geopandas->yellowcab==0.0.1.dev1) (2.5.0)\r\n",
      "Requirement already satisfied: six>=1.7 in /opt/anaconda3/envs/pds_env/lib/python3.8/site-packages (from fiona>=1.8->geopandas->yellowcab==0.0.1.dev1) (1.15.0)\r\n",
      "Requirement already satisfied: certifi in /opt/anaconda3/envs/pds_env/lib/python3.8/site-packages (from fiona>=1.8->geopandas->yellowcab==0.0.1.dev1) (2020.12.5)\r\n",
      "Requirement already satisfied: click-plugins>=1.0 in /opt/anaconda3/envs/pds_env/lib/python3.8/site-packages (from fiona>=1.8->geopandas->yellowcab==0.0.1.dev1) (1.1.1)\r\n",
      "Requirement already satisfied: cligj>=0.5 in /opt/anaconda3/envs/pds_env/lib/python3.8/site-packages (from fiona>=1.8->geopandas->yellowcab==0.0.1.dev1) (0.7.1)\r\n",
      "Requirement already satisfied: python-dateutil>=2.7.3 in /opt/anaconda3/envs/pds_env/lib/python3.8/site-packages (from pandas->yellowcab==0.0.1.dev1) (2.8.1)\r\n",
      "Requirement already satisfied: pytz>=2017.3 in /opt/anaconda3/envs/pds_env/lib/python3.8/site-packages (from pandas->yellowcab==0.0.1.dev1) (2021.1)\r\n",
      "Requirement already satisfied: matplotlib in /opt/anaconda3/envs/pds_env/lib/python3.8/site-packages (from pyod->yellowcab==0.0.1.dev1) (3.3.4)\r\n",
      "Requirement already satisfied: joblib in /opt/anaconda3/envs/pds_env/lib/python3.8/site-packages (from pyod->yellowcab==0.0.1.dev1) (1.0.1)\r\n",
      "Requirement already satisfied: statsmodels in /opt/anaconda3/envs/pds_env/lib/python3.8/site-packages (from pyod->yellowcab==0.0.1.dev1) (0.12.2)\r\n",
      "Requirement already satisfied: numba>=0.35 in /opt/anaconda3/envs/pds_env/lib/python3.8/site-packages (from pyod->yellowcab==0.0.1.dev1) (0.53.1)\r\n",
      "Requirement already satisfied: setuptools in /opt/anaconda3/envs/pds_env/lib/python3.8/site-packages (from numba>=0.35->pyod->yellowcab==0.0.1.dev1) (52.0.0.post20210125)\r\n",
      "Requirement already satisfied: llvmlite<0.37,>=0.36.0rc1 in /opt/anaconda3/envs/pds_env/lib/python3.8/site-packages (from numba>=0.35->pyod->yellowcab==0.0.1.dev1) (0.36.0)\r\n",
      "Requirement already satisfied: threadpoolctl>=2.0.0 in /opt/anaconda3/envs/pds_env/lib/python3.8/site-packages (from scikit-learn->yellowcab==0.0.1.dev1) (2.1.0)\r\n",
      "Requirement already satisfied: kiwisolver>=1.0.1 in /opt/anaconda3/envs/pds_env/lib/python3.8/site-packages (from matplotlib->pyod->yellowcab==0.0.1.dev1) (1.3.1)\r\n",
      "Requirement already satisfied: pyparsing!=2.0.4,!=2.1.2,!=2.1.6,>=2.0.3 in /opt/anaconda3/envs/pds_env/lib/python3.8/site-packages (from matplotlib->pyod->yellowcab==0.0.1.dev1) (2.4.7)\r\n",
      "Requirement already satisfied: cycler>=0.10 in /opt/anaconda3/envs/pds_env/lib/python3.8/site-packages (from matplotlib->pyod->yellowcab==0.0.1.dev1) (0.10.0)\r\n",
      "Requirement already satisfied: pillow>=6.2.0 in /opt/anaconda3/envs/pds_env/lib/python3.8/site-packages (from matplotlib->pyod->yellowcab==0.0.1.dev1) (8.2.0)\r\n",
      "Requirement already satisfied: patsy>=0.5 in /opt/anaconda3/envs/pds_env/lib/python3.8/site-packages (from statsmodels->pyod->yellowcab==0.0.1.dev1) (0.5.1)\r\n",
      "Installing collected packages: yellowcab\r\n",
      "  Attempting uninstall: yellowcab\r\n",
      "    Found existing installation: yellowcab 0.0.1.dev1\r\n",
      "    Uninstalling yellowcab-0.0.1.dev1:\r\n",
      "      Successfully uninstalled yellowcab-0.0.1.dev1\r\n",
      "  Running setup.py develop for yellowcab\r\n",
      "Successfully installed yellowcab\r\n"
     ]
    }
   ],
   "source": [
    "!pip install -e .."
   ]
  },
  {
   "cell_type": "code",
   "execution_count": 2,
   "metadata": {
    "pycharm": {
     "name": "#%%\n"
    }
   },
   "outputs": [],
   "source": [
    "import yellowcab\n",
    "import datetime\n"
   ]
  }
 ],
 "metadata": {
  "kernelspec": {
   "display_name": "Python 3",
   "language": "python",
   "name": "python3"
  },
  "language_info": {
   "codemirror_mode": {
    "name": "ipython",
    "version": 3
   },
   "file_extension": ".py",
   "mimetype": "text/x-python",
   "name": "python",
   "nbconvert_exporter": "python",
   "pygments_lexer": "ipython3",
   "version": "3.8.8"
  }
 },
 "nbformat": 4,
 "nbformat_minor": 4
}