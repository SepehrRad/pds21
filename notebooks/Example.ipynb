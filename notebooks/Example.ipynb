{
 "cells": [
  {
   "cell_type": "code",
   "execution_count": 1,
   "metadata": {},
   "outputs": [
    {
     "name": "stdout",
     "output_type": "stream",
     "text": [
      "Obtaining file:///Users/simonwolf/git/pds21\r\n",
      "Requirement already satisfied: pandas in /Users/simonwolf/opt/anaconda3/envs/pds21_project/lib/python3.8/site-packages (from yellowcab==0.0.1.dev1) (1.2.4)\r\n",
      "Requirement already satisfied: numpy in /Users/simonwolf/opt/anaconda3/envs/pds21_project/lib/python3.8/site-packages (from yellowcab==0.0.1.dev1) (1.20.2)\r\n",
      "Requirement already satisfied: click in /Users/simonwolf/opt/anaconda3/envs/pds21_project/lib/python3.8/site-packages (from yellowcab==0.0.1.dev1) (7.1.2)\r\n",
      "Requirement already satisfied: scikit-learn in /Users/simonwolf/opt/anaconda3/envs/pds21_project/lib/python3.8/site-packages (from yellowcab==0.0.1.dev1) (0.24.1)\r\n",
      "Requirement already satisfied: pyarrow in /Users/simonwolf/opt/anaconda3/envs/pds21_project/lib/python3.8/site-packages (from yellowcab==0.0.1.dev1) (3.0.0)\r\n",
      "Requirement already satisfied: scipy in /Users/simonwolf/opt/anaconda3/envs/pds21_project/lib/python3.8/site-packages (from yellowcab==0.0.1.dev1) (1.6.2)\r\n",
      "Requirement already satisfied: pyod in /Users/simonwolf/opt/anaconda3/envs/pds21_project/lib/python3.8/site-packages (from yellowcab==0.0.1.dev1) (0.8.8)\r\n",
      "Requirement already satisfied: geopandas in /Users/simonwolf/opt/anaconda3/envs/pds21_project/lib/python3.8/site-packages (from yellowcab==0.0.1.dev1) (0.9.0)\r\n",
      "Requirement already satisfied: pyproj>=2.2.0 in /Users/simonwolf/opt/anaconda3/envs/pds21_project/lib/python3.8/site-packages (from geopandas->yellowcab==0.0.1.dev1) (3.0.1)\r\n",
      "Requirement already satisfied: shapely>=1.6 in /Users/simonwolf/opt/anaconda3/envs/pds21_project/lib/python3.8/site-packages (from geopandas->yellowcab==0.0.1.dev1) (1.7.1)\r\n",
      "Requirement already satisfied: fiona>=1.8 in /Users/simonwolf/opt/anaconda3/envs/pds21_project/lib/python3.8/site-packages (from geopandas->yellowcab==0.0.1.dev1) (1.8.19)\r\n",
      "Requirement already satisfied: click-plugins>=1.0 in /Users/simonwolf/opt/anaconda3/envs/pds21_project/lib/python3.8/site-packages (from fiona>=1.8->geopandas->yellowcab==0.0.1.dev1) (1.1.1)\r\n",
      "Requirement already satisfied: cligj>=0.5 in /Users/simonwolf/opt/anaconda3/envs/pds21_project/lib/python3.8/site-packages (from fiona>=1.8->geopandas->yellowcab==0.0.1.dev1) (0.7.1)\r\n",
      "Requirement already satisfied: munch in /Users/simonwolf/opt/anaconda3/envs/pds21_project/lib/python3.8/site-packages (from fiona>=1.8->geopandas->yellowcab==0.0.1.dev1) (2.5.0)\r\n",
      "Requirement already satisfied: certifi in /Users/simonwolf/opt/anaconda3/envs/pds21_project/lib/python3.8/site-packages (from fiona>=1.8->geopandas->yellowcab==0.0.1.dev1) (2020.12.5)\r\n",
      "Requirement already satisfied: six>=1.7 in /Users/simonwolf/opt/anaconda3/envs/pds21_project/lib/python3.8/site-packages (from fiona>=1.8->geopandas->yellowcab==0.0.1.dev1) (1.15.0)\r\n",
      "Requirement already satisfied: attrs>=17 in /Users/simonwolf/opt/anaconda3/envs/pds21_project/lib/python3.8/site-packages (from fiona>=1.8->geopandas->yellowcab==0.0.1.dev1) (20.3.0)\r\n",
      "Requirement already satisfied: python-dateutil>=2.7.3 in /Users/simonwolf/opt/anaconda3/envs/pds21_project/lib/python3.8/site-packages (from pandas->yellowcab==0.0.1.dev1) (2.8.1)\r\n",
      "Requirement already satisfied: pytz>=2017.3 in /Users/simonwolf/opt/anaconda3/envs/pds21_project/lib/python3.8/site-packages (from pandas->yellowcab==0.0.1.dev1) (2021.1)\r\n",
      "Requirement already satisfied: matplotlib in /Users/simonwolf/opt/anaconda3/envs/pds21_project/lib/python3.8/site-packages (from pyod->yellowcab==0.0.1.dev1) (3.4.1)\r\n",
      "Requirement already satisfied: numba>=0.35 in /Users/simonwolf/opt/anaconda3/envs/pds21_project/lib/python3.8/site-packages (from pyod->yellowcab==0.0.1.dev1) (0.53.1)\r\n",
      "Requirement already satisfied: statsmodels in /Users/simonwolf/opt/anaconda3/envs/pds21_project/lib/python3.8/site-packages (from pyod->yellowcab==0.0.1.dev1) (0.12.2)\r\n",
      "Requirement already satisfied: joblib in /Users/simonwolf/opt/anaconda3/envs/pds21_project/lib/python3.8/site-packages (from pyod->yellowcab==0.0.1.dev1) (1.0.1)\r\n",
      "Requirement already satisfied: llvmlite<0.37,>=0.36.0rc1 in /Users/simonwolf/opt/anaconda3/envs/pds21_project/lib/python3.8/site-packages (from numba>=0.35->pyod->yellowcab==0.0.1.dev1) (0.36.0)\r\n",
      "Requirement already satisfied: setuptools in /Users/simonwolf/opt/anaconda3/envs/pds21_project/lib/python3.8/site-packages (from numba>=0.35->pyod->yellowcab==0.0.1.dev1) (52.0.0.post20210125)\r\n",
      "Requirement already satisfied: threadpoolctl>=2.0.0 in /Users/simonwolf/opt/anaconda3/envs/pds21_project/lib/python3.8/site-packages (from scikit-learn->yellowcab==0.0.1.dev1) (2.1.0)\r\n",
      "Requirement already satisfied: pyparsing>=2.2.1 in /Users/simonwolf/opt/anaconda3/envs/pds21_project/lib/python3.8/site-packages (from matplotlib->pyod->yellowcab==0.0.1.dev1) (2.4.7)\r\n",
      "Requirement already satisfied: kiwisolver>=1.0.1 in /Users/simonwolf/opt/anaconda3/envs/pds21_project/lib/python3.8/site-packages (from matplotlib->pyod->yellowcab==0.0.1.dev1) (1.3.1)\r\n",
      "Requirement already satisfied: cycler>=0.10 in /Users/simonwolf/opt/anaconda3/envs/pds21_project/lib/python3.8/site-packages (from matplotlib->pyod->yellowcab==0.0.1.dev1) (0.10.0)\r\n",
      "Requirement already satisfied: pillow>=6.2.0 in /Users/simonwolf/opt/anaconda3/envs/pds21_project/lib/python3.8/site-packages (from matplotlib->pyod->yellowcab==0.0.1.dev1) (8.2.0)\r\n",
      "Requirement already satisfied: patsy>=0.5 in /Users/simonwolf/opt/anaconda3/envs/pds21_project/lib/python3.8/site-packages (from statsmodels->pyod->yellowcab==0.0.1.dev1) (0.5.1)\r\n",
      "Installing collected packages: yellowcab\r\n",
      "  Attempting uninstall: yellowcab\r\n",
      "    Found existing installation: yellowcab 0.0.1.dev1\r\n",
      "    Uninstalling yellowcab-0.0.1.dev1:\r\n",
      "      Successfully uninstalled yellowcab-0.0.1.dev1\r\n",
      "  Running setup.py develop for yellowcab\r\n",
      "Successfully installed yellowcab\r\n"
     ]
    }
   ],
   "source": [
    "!pip install -e .."
   ]
  },
  {
   "cell_type": "code",
   "execution_count": 2,
   "metadata": {},
   "outputs": [],
   "source": [
    "import yellowcab"
   ]
  },
  {
   "cell_type": "code",
   "execution_count": 3,
   "metadata": {},
   "outputs": [
    {
     "ename": "AttributeError",
     "evalue": "module 'yellowcab.io' has no attribute 'read_file'",
     "output_type": "error",
     "traceback": [
      "\u001B[0;31m---------------------------------------------------------------------------\u001B[0m",
      "\u001B[0;31mAttributeError\u001B[0m                            Traceback (most recent call last)",
      "\u001B[0;32m<ipython-input-3-92095d4f2d93>\u001B[0m in \u001B[0;36m<module>\u001B[0;34m\u001B[0m\n\u001B[0;32m----> 1\u001B[0;31m \u001B[0mtrips_df\u001B[0m \u001B[0;34m=\u001B[0m \u001B[0myellowcab\u001B[0m\u001B[0;34m.\u001B[0m\u001B[0mio\u001B[0m\u001B[0;34m.\u001B[0m\u001B[0mread_file\u001B[0m\u001B[0;34m(\u001B[0m\u001B[0;34m)\u001B[0m\u001B[0;34m\u001B[0m\u001B[0;34m\u001B[0m\u001B[0m\n\u001B[0m\u001B[1;32m      2\u001B[0m \u001B[0;34m\u001B[0m\u001B[0m\n",
      "\u001B[0;31mAttributeError\u001B[0m: module 'yellowcab.io' has no attribute 'read_file'"
     ]
    }
   ],
   "source": [
    "trips_df = yellowcab.io.read_parquet('01.parquet')"
   ]
  },
  {
   "cell_type": "code",
   "execution_count": null,
   "metadata": {},
   "outputs": [],
   "source": []
  }
 ],
 "metadata": {
  "kernelspec": {
   "display_name": "Python 3",
   "language": "python",
   "name": "python3"
  },
  "language_info": {
   "codemirror_mode": {
    "name": "ipython",
    "version": 3
   },
   "file_extension": ".py",
   "mimetype": "text/x-python",
   "name": "python",
   "nbconvert_exporter": "python",
   "pygments_lexer": "ipython3",
   "version": "3.8.8"
  }
 },
 "nbformat": 4,
 "nbformat_minor": 4
}