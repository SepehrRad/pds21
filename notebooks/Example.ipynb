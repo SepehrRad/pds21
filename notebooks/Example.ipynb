{
 "cells": [
  {
   "cell_type": "code",
   "execution_count": 1,
   "metadata": {},
   "outputs": [
    {
     "name": "stdout",
     "output_type": "stream",
     "text": [
      "Obtaining file:///Users/christianbergen/Documents/prog/pds21\r\n",
      "Requirement already satisfied: pandas in /opt/anaconda3/envs/pds_env/lib/python3.8/site-packages (from yellowcab==0.0.1.dev1) (1.2.3)\r\n",
      "Requirement already satisfied: click in /opt/anaconda3/envs/pds_env/lib/python3.8/site-packages (from yellowcab==0.0.1.dev1) (7.1.2)\r\n",
      "Requirement already satisfied: scikit-learn in /opt/anaconda3/envs/pds_env/lib/python3.8/site-packages (from yellowcab==0.0.1.dev1) (0.24.1)\r\n",
      "Requirement already satisfied: pyarrow in /opt/anaconda3/envs/pds_env/lib/python3.8/site-packages (from yellowcab==0.0.1.dev1) (3.0.0)\r\n",
      "Requirement already satisfied: python-dateutil>=2.7.3 in /opt/anaconda3/envs/pds_env/lib/python3.8/site-packages (from pandas->yellowcab==0.0.1.dev1) (2.8.1)\r\n",
      "Requirement already satisfied: pytz>=2017.3 in /opt/anaconda3/envs/pds_env/lib/python3.8/site-packages (from pandas->yellowcab==0.0.1.dev1) (2021.1)\r\n",
      "Requirement already satisfied: numpy>=1.16.5 in /opt/anaconda3/envs/pds_env/lib/python3.8/site-packages (from pandas->yellowcab==0.0.1.dev1) (1.19.2)\r\n",
      "Requirement already satisfied: six>=1.5 in /opt/anaconda3/envs/pds_env/lib/python3.8/site-packages (from python-dateutil>=2.7.3->pandas->yellowcab==0.0.1.dev1) (1.15.0)\r\n",
      "Requirement already satisfied: threadpoolctl>=2.0.0 in /opt/anaconda3/envs/pds_env/lib/python3.8/site-packages (from scikit-learn->yellowcab==0.0.1.dev1) (2.1.0)\r\n",
      "Requirement already satisfied: scipy>=0.19.1 in /opt/anaconda3/envs/pds_env/lib/python3.8/site-packages (from scikit-learn->yellowcab==0.0.1.dev1) (1.6.2)\r\n",
      "Requirement already satisfied: joblib>=0.11 in /opt/anaconda3/envs/pds_env/lib/python3.8/site-packages (from scikit-learn->yellowcab==0.0.1.dev1) (1.0.1)\r\n",
      "Installing collected packages: yellowcab\r\n",
      "  Attempting uninstall: yellowcab\r\n",
      "    Found existing installation: yellowcab 0.0.1.dev1\r\n",
      "    Uninstalling yellowcab-0.0.1.dev1:\r\n",
      "      Successfully uninstalled yellowcab-0.0.1.dev1\r\n",
      "  Running setup.py develop for yellowcab\r\n",
      "Successfully installed yellowcab\r\n"
     ]
    }
   ],
   "source": [
    "!pip install -e .."
   ]
  },
  {
   "cell_type": "code",
   "execution_count": 2,
   "metadata": {
    "pycharm": {
     "name": "#%%\n"
    }
   },
   "outputs": [],
   "source": [
    "import yellowcab\n",
    "\n",
    "\n",
    "\n",
    "\n",
    "\n"
   ]
  }
 ],
 "metadata": {
  "kernelspec": {
   "display_name": "Python 3",
   "language": "python",
   "name": "python3"
  },
  "language_info": {
   "codemirror_mode": {
    "name": "ipython",
    "version": 3
   },
   "file_extension": ".py",
   "mimetype": "text/x-python",
   "name": "python",
   "nbconvert_exporter": "python",
   "pygments_lexer": "ipython3",
   "version": "3.9.2"
  }
 },
 "nbformat": 4,
 "nbformat_minor": 4
}