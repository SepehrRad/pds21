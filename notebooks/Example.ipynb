{
 "cells": [
  {
   "cell_type": "code",
   "execution_count": 5,
   "metadata": {},
   "outputs": [
    {
     "name": "stdout",
     "output_type": "stream",
     "text": [
      "Requirement already satisfied: setuptools~=56.0.0 in /Users/kienscherfp/opt/miniconda3/envs/PDS21/lib/python3.9/site-packages (from -r ../requirements.txt (line 1)) (56.0.0)\n",
      "Requirement already satisfied: pandas~=1.2.4 in /Users/kienscherfp/opt/miniconda3/envs/PDS21/lib/python3.9/site-packages (from -r ../requirements.txt (line 2)) (1.2.4)\n",
      "Requirement already satisfied: scikit-learn~=0.24.1 in /Users/kienscherfp/opt/miniconda3/envs/PDS21/lib/python3.9/site-packages (from -r ../requirements.txt (line 3)) (0.24.1)\n",
      "Requirement already satisfied: click~=7.1.2 in /Users/kienscherfp/opt/miniconda3/envs/PDS21/lib/python3.9/site-packages (from -r ../requirements.txt (line 4)) (7.1.2)\n",
      "Requirement already satisfied: python-dateutil>=2.7.3 in /Users/kienscherfp/opt/miniconda3/envs/PDS21/lib/python3.9/site-packages (from pandas~=1.2.4->-r ../requirements.txt (line 2)) (2.8.1)\n",
      "Requirement already satisfied: pytz>=2017.3 in /Users/kienscherfp/opt/miniconda3/envs/PDS21/lib/python3.9/site-packages (from pandas~=1.2.4->-r ../requirements.txt (line 2)) (2021.1)\n",
      "Requirement already satisfied: numpy>=1.16.5 in /Users/kienscherfp/opt/miniconda3/envs/PDS21/lib/python3.9/site-packages (from pandas~=1.2.4->-r ../requirements.txt (line 2)) (1.20.2)\n",
      "Requirement already satisfied: threadpoolctl>=2.0.0 in /Users/kienscherfp/opt/miniconda3/envs/PDS21/lib/python3.9/site-packages (from scikit-learn~=0.24.1->-r ../requirements.txt (line 3)) (2.1.0)\n",
      "Requirement already satisfied: scipy>=0.19.1 in /Users/kienscherfp/opt/miniconda3/envs/PDS21/lib/python3.9/site-packages (from scikit-learn~=0.24.1->-r ../requirements.txt (line 3)) (1.6.2)\n",
      "Requirement already satisfied: joblib>=0.11 in /Users/kienscherfp/opt/miniconda3/envs/PDS21/lib/python3.9/site-packages (from scikit-learn~=0.24.1->-r ../requirements.txt (line 3)) (1.0.1)\n",
      "Requirement already satisfied: six>=1.5 in /Users/kienscherfp/opt/miniconda3/envs/PDS21/lib/python3.9/site-packages (from python-dateutil>=2.7.3->pandas~=1.2.4->-r ../requirements.txt (line 2)) (1.15.0)\n",
      "Obtaining file:///Users/kienscherfp/sciebo/Teaching/Master/PDS/SS2021/PDS_Project_2021\n",
      "Installing collected packages: yellowcab\n",
      "  Attempting uninstall: yellowcab\n",
      "    Found existing installation: yellowcab 0.0.1.dev1\n",
      "    Uninstalling yellowcab-0.0.1.dev1:\n",
      "      Successfully uninstalled yellowcab-0.0.1.dev1\n",
      "  Running setup.py develop for yellowcab\n",
      "Successfully installed yellowcab\n"
     ]
    }
   ],
   "source": [
    "!pip install -e .."
   ]
  },
  {
   "cell_type": "code",
   "execution_count": 2,
   "metadata": {},
   "outputs": [],
   "source": [
    "import yellowcab"
   ]
  },
  {
   "cell_type": "code",
   "execution_count": null,
   "metadata": {},
   "outputs": [],
   "source": []
  }
 ],
 "metadata": {
  "kernelspec": {
   "display_name": "Python 3",
   "language": "python",
   "name": "python3"
  },
  "language_info": {
   "codemirror_mode": {
    "name": "ipython",
    "version": 3
   },
   "file_extension": ".py",
   "mimetype": "text/x-python",
   "name": "python",
   "nbconvert_exporter": "python",
   "pygments_lexer": "ipython3",
   "version": "3.9.2"
  }
 },
 "nbformat": 4,
 "nbformat_minor": 4
}
