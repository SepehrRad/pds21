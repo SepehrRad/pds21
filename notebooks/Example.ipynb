{
 "cells": [
  {
   "cell_type": "code",
   "execution_count": 1,
   "metadata": {},
   "outputs": [
    {
     "name": "stdout",
     "output_type": "stream",
     "text": [
      "Obtaining file:///Users/simonwolf/git/pds21\r\n",
      "Requirement already satisfied: pandas in /Users/simonwolf/opt/anaconda3/envs/pds21_project/lib/python3.8/site-packages (from yellowcab==0.0.1.dev1) (1.2.4)\r\n",
      "Requirement already satisfied: click in /Users/simonwolf/opt/anaconda3/envs/pds21_project/lib/python3.8/site-packages (from yellowcab==0.0.1.dev1) (7.1.2)\r\n",
      "Requirement already satisfied: scikit-learn in /Users/simonwolf/opt/anaconda3/envs/pds21_project/lib/python3.8/site-packages (from yellowcab==0.0.1.dev1) (0.24.1)\r\n",
      "Requirement already satisfied: pyarrow in /Users/simonwolf/opt/anaconda3/envs/pds21_project/lib/python3.8/site-packages (from yellowcab==0.0.1.dev1) (3.0.0)\r\n",
      "Requirement already satisfied: numpy in /Users/simonwolf/opt/anaconda3/envs/pds21_project/lib/python3.8/site-packages (from yellowcab==0.0.1.dev1) (1.20.2)\r\n",
      "Requirement already satisfied: scipy in /Users/simonwolf/opt/anaconda3/envs/pds21_project/lib/python3.8/site-packages (from yellowcab==0.0.1.dev1) (1.6.2)\r\n",
      "Collecting pyod\r\n",
      "  Downloading pyod-0.8.8.tar.gz (102 kB)\r\n",
      "\u001B[K     |████████████████████████████████| 102 kB 3.0 MB/s eta 0:00:01\r\n",
      "\u001B[?25hRequirement already satisfied: python-dateutil>=2.7.3 in /Users/simonwolf/opt/anaconda3/envs/pds21_project/lib/python3.8/site-packages (from pandas->yellowcab==0.0.1.dev1) (2.8.1)\r\n",
      "Requirement already satisfied: pytz>=2017.3 in /Users/simonwolf/opt/anaconda3/envs/pds21_project/lib/python3.8/site-packages (from pandas->yellowcab==0.0.1.dev1) (2021.1)\r\n",
      "Requirement already satisfied: six>=1.5 in /Users/simonwolf/opt/anaconda3/envs/pds21_project/lib/python3.8/site-packages (from python-dateutil>=2.7.3->pandas->yellowcab==0.0.1.dev1) (1.15.0)\r\n",
      "Requirement already satisfied: joblib in /Users/simonwolf/opt/anaconda3/envs/pds21_project/lib/python3.8/site-packages (from pyod->yellowcab==0.0.1.dev1) (1.0.1)\r\n",
      "Collecting matplotlib\r\n",
      "  Downloading matplotlib-3.4.1-cp38-cp38-macosx_10_9_x86_64.whl (7.2 MB)\r\n",
      "\u001B[K     |████████████████████████████████| 7.2 MB 2.8 MB/s eta 0:00:01\r\n",
      "\u001B[?25hCollecting numba>=0.35\r\n",
      "  Downloading numba-0.53.1-cp38-cp38-macosx_10_14_x86_64.whl (2.2 MB)\r\n",
      "\u001B[K     |████████████████████████████████| 2.2 MB 2.1 MB/s eta 0:00:01\r\n",
      "\u001B[?25hCollecting statsmodels\r\n",
      "  Downloading statsmodels-0.12.2-cp38-cp38-macosx_10_15_x86_64.whl (9.5 MB)\r\n",
      "\u001B[K     |████████████████████████████████| 9.5 MB 2.7 MB/s eta 0:00:01     |████████████████▍               | 4.9 MB 443 kB/s eta 0:00:11\r\n",
      "\u001B[?25hRequirement already satisfied: setuptools in /Users/simonwolf/opt/anaconda3/envs/pds21_project/lib/python3.8/site-packages (from numba>=0.35->pyod->yellowcab==0.0.1.dev1) (52.0.0.post20210125)\r\n",
      "Collecting llvmlite<0.37,>=0.36.0rc1\r\n",
      "  Downloading llvmlite-0.36.0-cp38-cp38-macosx_10_9_x86_64.whl (18.5 MB)\r\n",
      "\u001B[K     |████████████████████████████████| 18.5 MB 1.3 MB/s eta 0:00:01    |█████▏                          | 3.0 MB 3.7 MB/s eta 0:00:05\r\n",
      "\u001B[?25hRequirement already satisfied: threadpoolctl>=2.0.0 in /Users/simonwolf/opt/anaconda3/envs/pds21_project/lib/python3.8/site-packages (from scikit-learn->yellowcab==0.0.1.dev1) (2.1.0)\r\n",
      "Collecting kiwisolver>=1.0.1\r\n",
      "  Downloading kiwisolver-1.3.1-cp38-cp38-macosx_10_9_x86_64.whl (61 kB)\r\n",
      "\u001B[K     |████████████████████████████████| 61 kB 296 kB/s eta 0:00:01\r\n",
      "\u001B[?25hCollecting cycler>=0.10\r\n",
      "  Using cached cycler-0.10.0-py2.py3-none-any.whl (6.5 kB)\r\n",
      "Collecting pillow>=6.2.0\r\n",
      "  Downloading Pillow-8.2.0-cp38-cp38-macosx_10_10_x86_64.whl (2.8 MB)\r\n",
      "\u001B[K     |████████████████████████████████| 2.8 MB 2.5 MB/s eta 0:00:01\r\n",
      "\u001B[?25hRequirement already satisfied: pyparsing>=2.2.1 in /Users/simonwolf/opt/anaconda3/envs/pds21_project/lib/python3.8/site-packages (from matplotlib->pyod->yellowcab==0.0.1.dev1) (2.4.7)\r\n",
      "Collecting patsy>=0.5\r\n",
      "  Downloading patsy-0.5.1-py2.py3-none-any.whl (231 kB)\r\n",
      "\u001B[K     |████████████████████████████████| 231 kB 2.7 MB/s eta 0:00:01\r\n",
      "\u001B[?25hBuilding wheels for collected packages: pyod\r\n",
      "  Building wheel for pyod (setup.py) ... \u001B[?25l-\b \bdone\r\n",
      "\u001B[?25h  Created wheel for pyod: filename=pyod-0.8.8-py3-none-any.whl size=116965 sha256=e3c875e54fc42df399796ed08f64739f5a0b1350f93a5a2ebca172f4f7b9fe50\r\n",
      "  Stored in directory: /Users/simonwolf/Library/Caches/pip/wheels/3e/f3/a1/cefa187f3d8ef8d919dc6dc5b3397df0db69a309c7fec5fa63\r\n",
      "Successfully built pyod\r\n",
      "Installing collected packages: pillow, patsy, llvmlite, kiwisolver, cycler, statsmodels, numba, matplotlib, pyod, yellowcab\r\n",
      "  Attempting uninstall: yellowcab\r\n",
      "    Found existing installation: yellowcab 0.0.1.dev1\r\n",
      "    Uninstalling yellowcab-0.0.1.dev1:\r\n",
      "      Successfully uninstalled yellowcab-0.0.1.dev1\r\n",
      "  Running setup.py develop for yellowcab\r\n",
      "Successfully installed cycler-0.10.0 kiwisolver-1.3.1 llvmlite-0.36.0 matplotlib-3.4.1 numba-0.53.1 patsy-0.5.1 pillow-8.2.0 pyod-0.8.8 statsmodels-0.12.2 yellowcab\r\n"
     ]
    }
   ],
   "source": [
    "!pip install -e .."
   ]
  },
  {
   "cell_type": "code",
   "execution_count": 2,
   "metadata": {},
   "outputs": [],
   "source": [
    "import yellowcab\n",
    "import pandas as pd"
   ]
  },
  {
   "cell_type": "code",
   "execution_count": 3,
   "metadata": {},
   "outputs": [
    {
     "name": "stdout",
     "output_type": "stream",
     "text": [
      "Data file not found. Path was /Users/simonwolf/git/pds21/notebooks/../data/input/<My_data>.parquet\n"
     ]
    }
   ],
   "source": [
    "trips_df = yellowcab.io.read_file()"
   ]
  },
  {
   "cell_type": "code",
   "execution_count": 7,
   "metadata": {},
   "outputs": [],
   "source": []
  }
 ],
 "metadata": {
  "kernelspec": {
   "display_name": "Python 3",
   "language": "python",
   "name": "python3"
  },
  "language_info": {
   "codemirror_mode": {
    "name": "ipython",
    "version": 3
   },
   "file_extension": ".py",
   "mimetype": "text/x-python",
   "name": "python",
   "nbconvert_exporter": "python",
   "pygments_lexer": "ipython3",
   "version": "3.8.8"
  }
 },
 "nbformat": 4,
 "nbformat_minor": 4
}