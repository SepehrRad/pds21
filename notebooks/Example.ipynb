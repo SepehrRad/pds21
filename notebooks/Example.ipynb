{
 "cells": [
  {
   "cell_type": "code",
   "execution_count": 1,
   "metadata": {},
   "outputs": [
    {
     "name": "stdout",
     "output_type": "stream",
     "text": [
      "Obtaining file:///Users/christianbergen/Documents/prog/pds21\r\n",
      "Requirement already satisfied: pandas in /opt/anaconda3/envs/pds_env/lib/python3.8/site-packages (from yellowcab==0.0.1.dev1) (1.2.3)\r\n",
      "Requirement already satisfied: numpy in /opt/anaconda3/envs/pds_env/lib/python3.8/site-packages (from yellowcab==0.0.1.dev1) (1.19.2)\r\n",
      "Requirement already satisfied: click in /opt/anaconda3/envs/pds_env/lib/python3.8/site-packages (from yellowcab==0.0.1.dev1) (7.1.2)\r\n",
      "Requirement already satisfied: scikit-learn in /opt/anaconda3/envs/pds_env/lib/python3.8/site-packages (from yellowcab==0.0.1.dev1) (0.24.1)\r\n",
      "Requirement already satisfied: pyarrow in /opt/anaconda3/envs/pds_env/lib/python3.8/site-packages (from yellowcab==0.0.1.dev1) (3.0.0)\r\n",
      "Requirement already satisfied: scipy in /opt/anaconda3/envs/pds_env/lib/python3.8/site-packages (from yellowcab==0.0.1.dev1) (1.6.2)\r\n",
      "Requirement already satisfied: pyod in /opt/anaconda3/envs/pds_env/lib/python3.8/site-packages (from yellowcab==0.0.1.dev1) (0.8.8)\r\n",
      "Requirement already satisfied: geopandas in /opt/anaconda3/envs/pds_env/lib/python3.8/site-packages (from yellowcab==0.0.1.dev1) (0.9.0)\r\n",
      "Requirement already satisfied: pyproj>=2.2.0 in /opt/anaconda3/envs/pds_env/lib/python3.8/site-packages (from geopandas->yellowcab==0.0.1.dev1) (3.0.1)\r\n",
      "Requirement already satisfied: shapely>=1.6 in /opt/anaconda3/envs/pds_env/lib/python3.8/site-packages (from geopandas->yellowcab==0.0.1.dev1) (1.7.1)\r\n",
      "Requirement already satisfied: fiona>=1.8 in /opt/anaconda3/envs/pds_env/lib/python3.8/site-packages (from geopandas->yellowcab==0.0.1.dev1) (1.8.19)\r\n",
      "Requirement already satisfied: attrs>=17 in /opt/anaconda3/envs/pds_env/lib/python3.8/site-packages (from fiona>=1.8->geopandas->yellowcab==0.0.1.dev1) (20.3.0)\r\n",
      "Requirement already satisfied: munch in /opt/anaconda3/envs/pds_env/lib/python3.8/site-packages (from fiona>=1.8->geopandas->yellowcab==0.0.1.dev1) (2.5.0)\r\n",
      "Requirement already satisfied: six>=1.7 in /opt/anaconda3/envs/pds_env/lib/python3.8/site-packages (from fiona>=1.8->geopandas->yellowcab==0.0.1.dev1) (1.15.0)\r\n",
      "Requirement already satisfied: certifi in /opt/anaconda3/envs/pds_env/lib/python3.8/site-packages (from fiona>=1.8->geopandas->yellowcab==0.0.1.dev1) (2020.12.5)\r\n",
      "Requirement already satisfied: click-plugins>=1.0 in /opt/anaconda3/envs/pds_env/lib/python3.8/site-packages (from fiona>=1.8->geopandas->yellowcab==0.0.1.dev1) (1.1.1)\r\n",
      "Requirement already satisfied: cligj>=0.5 in /opt/anaconda3/envs/pds_env/lib/python3.8/site-packages (from fiona>=1.8->geopandas->yellowcab==0.0.1.dev1) (0.7.1)\r\n",
      "Requirement already satisfied: python-dateutil>=2.7.3 in /opt/anaconda3/envs/pds_env/lib/python3.8/site-packages (from pandas->yellowcab==0.0.1.dev1) (2.8.1)\r\n",
      "Requirement already satisfied: pytz>=2017.3 in /opt/anaconda3/envs/pds_env/lib/python3.8/site-packages (from pandas->yellowcab==0.0.1.dev1) (2021.1)\r\n",
      "Requirement already satisfied: matplotlib in /opt/anaconda3/envs/pds_env/lib/python3.8/site-packages (from pyod->yellowcab==0.0.1.dev1) (3.3.4)\r\n",
      "Requirement already satisfied: joblib in /opt/anaconda3/envs/pds_env/lib/python3.8/site-packages (from pyod->yellowcab==0.0.1.dev1) (1.0.1)\r\n",
      "Requirement already satisfied: statsmodels in /opt/anaconda3/envs/pds_env/lib/python3.8/site-packages (from pyod->yellowcab==0.0.1.dev1) (0.12.2)\r\n",
      "Requirement already satisfied: numba>=0.35 in /opt/anaconda3/envs/pds_env/lib/python3.8/site-packages (from pyod->yellowcab==0.0.1.dev1) (0.53.1)\r\n",
      "Requirement already satisfied: setuptools in /opt/anaconda3/envs/pds_env/lib/python3.8/site-packages (from numba>=0.35->pyod->yellowcab==0.0.1.dev1) (52.0.0.post20210125)\r\n",
      "Requirement already satisfied: llvmlite<0.37,>=0.36.0rc1 in /opt/anaconda3/envs/pds_env/lib/python3.8/site-packages (from numba>=0.35->pyod->yellowcab==0.0.1.dev1) (0.36.0)\r\n",
      "Requirement already satisfied: threadpoolctl>=2.0.0 in /opt/anaconda3/envs/pds_env/lib/python3.8/site-packages (from scikit-learn->yellowcab==0.0.1.dev1) (2.1.0)\r\n",
      "Requirement already satisfied: kiwisolver>=1.0.1 in /opt/anaconda3/envs/pds_env/lib/python3.8/site-packages (from matplotlib->pyod->yellowcab==0.0.1.dev1) (1.3.1)\r\n",
      "Requirement already satisfied: pyparsing!=2.0.4,!=2.1.2,!=2.1.6,>=2.0.3 in /opt/anaconda3/envs/pds_env/lib/python3.8/site-packages (from matplotlib->pyod->yellowcab==0.0.1.dev1) (2.4.7)\r\n",
      "Requirement already satisfied: cycler>=0.10 in /opt/anaconda3/envs/pds_env/lib/python3.8/site-packages (from matplotlib->pyod->yellowcab==0.0.1.dev1) (0.10.0)\r\n",
      "Requirement already satisfied: pillow>=6.2.0 in /opt/anaconda3/envs/pds_env/lib/python3.8/site-packages (from matplotlib->pyod->yellowcab==0.0.1.dev1) (8.2.0)\r\n",
      "Requirement already satisfied: patsy>=0.5 in /opt/anaconda3/envs/pds_env/lib/python3.8/site-packages (from statsmodels->pyod->yellowcab==0.0.1.dev1) (0.5.1)\r\n",
      "Installing collected packages: yellowcab\r\n",
      "  Attempting uninstall: yellowcab\r\n",
      "    Found existing installation: yellowcab 0.0.1.dev1\r\n",
      "    Uninstalling yellowcab-0.0.1.dev1:\r\n",
      "      Successfully uninstalled yellowcab-0.0.1.dev1\r\n",
      "  Running setup.py develop for yellowcab\r\n",
      "Successfully installed yellowcab\r\n"
     ]
    }
   ],
   "source": [
    "!pip install -e .."
   ]
  },
  {
   "cell_type": "code",
   "execution_count": 2,
   "metadata": {},
   "outputs": [],
   "source": [
    "import yellowcab\n",
    "import datetime"
   ]
  },
  {
   "cell_type": "code",
   "execution_count": 3,
   "metadata": {},
   "outputs": [],
   "source": [
    "trips_df = yellowcab.io.read_parquet(base_path='/Users/christianbergen/Documents/trip_data',\n",
    "                                     relative_path=\"\", file = '06.parquet')"
   ]
  },
  {
   "cell_type": "code",
   "execution_count": 4,
   "metadata": {},
   "outputs": [
    {
     "data": {
      "text/plain": "  tpep_pickup_datetime tpep_dropoff_datetime  passenger_count  trip_distance  \\\n0  2020-06-01 00:31:23   2020-06-01 00:49:58              1.0            3.6   \n1  2020-06-01 00:42:50   2020-06-01 01:04:33              1.0            5.6   \n2  2020-06-01 00:39:51   2020-06-01 00:49:09              1.0            2.3   \n3  2020-06-01 00:56:13   2020-06-01 01:11:38              1.0            5.3   \n4  2020-06-01 00:16:41   2020-06-01 00:29:30              1.0            4.4   \n\n   RatecodeID  PULocationID  DOLocationID  payment_type  fare_amount  extra  \\\n0         1.0           140            68           1.0         15.5    3.0   \n1         1.0            79           226           1.0         19.5    3.0   \n2         1.0           238           116           2.0         10.0    0.5   \n3         1.0           141           116           2.0         17.5    3.0   \n4         1.0           186            75           1.0         14.5    3.0   \n\n   mta_tax  tip_amount  tolls_amount  improvement_surcharge  total_amount  \\\n0      0.5        4.00           0.0                    0.3         23.30   \n1      0.5        2.00           0.0                    0.3         25.30   \n2      0.5        0.00           0.0                    0.3         11.30   \n3      0.5        0.00           0.0                    0.3         21.30   \n4      0.5        3.65           0.0                    0.3         21.95   \n\n   congestion_surcharge  \n0                   2.5  \n1                   2.5  \n2                   0.0  \n3                   2.5  \n4                   2.5  ",
      "text/html": "<div>\n<style scoped>\n    .dataframe tbody tr th:only-of-type {\n        vertical-align: middle;\n    }\n\n    .dataframe tbody tr th {\n        vertical-align: top;\n    }\n\n    .dataframe thead th {\n        text-align: right;\n    }\n</style>\n<table border=\"1\" class=\"dataframe\">\n  <thead>\n    <tr style=\"text-align: right;\">\n      <th></th>\n      <th>tpep_pickup_datetime</th>\n      <th>tpep_dropoff_datetime</th>\n      <th>passenger_count</th>\n      <th>trip_distance</th>\n      <th>RatecodeID</th>\n      <th>PULocationID</th>\n      <th>DOLocationID</th>\n      <th>payment_type</th>\n      <th>fare_amount</th>\n      <th>extra</th>\n      <th>mta_tax</th>\n      <th>tip_amount</th>\n      <th>tolls_amount</th>\n      <th>improvement_surcharge</th>\n      <th>total_amount</th>\n      <th>congestion_surcharge</th>\n    </tr>\n  </thead>\n  <tbody>\n    <tr>\n      <th>0</th>\n      <td>2020-06-01 00:31:23</td>\n      <td>2020-06-01 00:49:58</td>\n      <td>1.0</td>\n      <td>3.6</td>\n      <td>1.0</td>\n      <td>140</td>\n      <td>68</td>\n      <td>1.0</td>\n      <td>15.5</td>\n      <td>3.0</td>\n      <td>0.5</td>\n      <td>4.00</td>\n      <td>0.0</td>\n      <td>0.3</td>\n      <td>23.30</td>\n      <td>2.5</td>\n    </tr>\n    <tr>\n      <th>1</th>\n      <td>2020-06-01 00:42:50</td>\n      <td>2020-06-01 01:04:33</td>\n      <td>1.0</td>\n      <td>5.6</td>\n      <td>1.0</td>\n      <td>79</td>\n      <td>226</td>\n      <td>1.0</td>\n      <td>19.5</td>\n      <td>3.0</td>\n      <td>0.5</td>\n      <td>2.00</td>\n      <td>0.0</td>\n      <td>0.3</td>\n      <td>25.30</td>\n      <td>2.5</td>\n    </tr>\n    <tr>\n      <th>2</th>\n      <td>2020-06-01 00:39:51</td>\n      <td>2020-06-01 00:49:09</td>\n      <td>1.0</td>\n      <td>2.3</td>\n      <td>1.0</td>\n      <td>238</td>\n      <td>116</td>\n      <td>2.0</td>\n      <td>10.0</td>\n      <td>0.5</td>\n      <td>0.5</td>\n      <td>0.00</td>\n      <td>0.0</td>\n      <td>0.3</td>\n      <td>11.30</td>\n      <td>0.0</td>\n    </tr>\n    <tr>\n      <th>3</th>\n      <td>2020-06-01 00:56:13</td>\n      <td>2020-06-01 01:11:38</td>\n      <td>1.0</td>\n      <td>5.3</td>\n      <td>1.0</td>\n      <td>141</td>\n      <td>116</td>\n      <td>2.0</td>\n      <td>17.5</td>\n      <td>3.0</td>\n      <td>0.5</td>\n      <td>0.00</td>\n      <td>0.0</td>\n      <td>0.3</td>\n      <td>21.30</td>\n      <td>2.5</td>\n    </tr>\n    <tr>\n      <th>4</th>\n      <td>2020-06-01 00:16:41</td>\n      <td>2020-06-01 00:29:30</td>\n      <td>1.0</td>\n      <td>4.4</td>\n      <td>1.0</td>\n      <td>186</td>\n      <td>75</td>\n      <td>1.0</td>\n      <td>14.5</td>\n      <td>3.0</td>\n      <td>0.5</td>\n      <td>3.65</td>\n      <td>0.0</td>\n      <td>0.3</td>\n      <td>21.95</td>\n      <td>2.5</td>\n    </tr>\n  </tbody>\n</table>\n</div>"
     },
     "execution_count": 4,
     "metadata": {},
     "output_type": "execute_result"
    }
   ],
   "source": [
    "trips_df.head()"
   ]
  },
  {
   "cell_type": "code",
   "execution_count": 5,
   "outputs": [
    {
     "data": {
      "text/plain": "                      min_trip_distance  max_trip_distance  \\\ntpep_pickup_datetime                                         \n1                                  0.93               2.00   \n5                                  0.78              11.66   \n6                                  0.00           22543.99   \n7                                  1.69               9.38   \n\n                      mean_trip_distance  median_trip_distance  \\\ntpep_pickup_datetime                                             \n1                               1.570000                 1.780   \n5                               5.685000                 5.150   \n6                               2.864577                 1.710   \n7                               5.535000                 5.535   \n\n                      std_trip_distance  var_trip_distance  sem_trip_distance  \ntpep_pickup_datetime                                                           \n1                              0.565066           0.319300           0.326241  \n5                              5.485918          30.095300           2.742959  \n6                             32.120142        1031.703494           0.045469  \n7                              5.437651          29.568050           3.845000  ",
      "text/html": "<div>\n<style scoped>\n    .dataframe tbody tr th:only-of-type {\n        vertical-align: middle;\n    }\n\n    .dataframe tbody tr th {\n        vertical-align: top;\n    }\n\n    .dataframe thead th {\n        text-align: right;\n    }\n</style>\n<table border=\"1\" class=\"dataframe\">\n  <thead>\n    <tr style=\"text-align: right;\">\n      <th></th>\n      <th>min_trip_distance</th>\n      <th>max_trip_distance</th>\n      <th>mean_trip_distance</th>\n      <th>median_trip_distance</th>\n      <th>std_trip_distance</th>\n      <th>var_trip_distance</th>\n      <th>sem_trip_distance</th>\n    </tr>\n    <tr>\n      <th>tpep_pickup_datetime</th>\n      <th></th>\n      <th></th>\n      <th></th>\n      <th></th>\n      <th></th>\n      <th></th>\n      <th></th>\n    </tr>\n  </thead>\n  <tbody>\n    <tr>\n      <th>1</th>\n      <td>0.93</td>\n      <td>2.00</td>\n      <td>1.570000</td>\n      <td>1.780</td>\n      <td>0.565066</td>\n      <td>0.319300</td>\n      <td>0.326241</td>\n    </tr>\n    <tr>\n      <th>5</th>\n      <td>0.78</td>\n      <td>11.66</td>\n      <td>5.685000</td>\n      <td>5.150</td>\n      <td>5.485918</td>\n      <td>30.095300</td>\n      <td>2.742959</td>\n    </tr>\n    <tr>\n      <th>6</th>\n      <td>0.00</td>\n      <td>22543.99</td>\n      <td>2.864577</td>\n      <td>1.710</td>\n      <td>32.120142</td>\n      <td>1031.703494</td>\n      <td>0.045469</td>\n    </tr>\n    <tr>\n      <th>7</th>\n      <td>1.69</td>\n      <td>9.38</td>\n      <td>5.535000</td>\n      <td>5.535</td>\n      <td>5.437651</td>\n      <td>29.568050</td>\n      <td>3.845000</td>\n    </tr>\n  </tbody>\n</table>\n</div>"
     },
     "execution_count": 5,
     "metadata": {},
     "output_type": "execute_result"
    }
   ],
   "source": [
    "yellowcab.eda.agg_stats(trips_df['tpep_pickup_datetime'].dt.month, trips_df['trip_distance'])"
   ],
   "metadata": {
    "collapsed": false,
    "pycharm": {
     "name": "#%%\n"
    }
   }
  },
  {
   "cell_type": "code",
   "execution_count": 6,
   "outputs": [
    {
     "data": {
      "text/plain": "                      std_trip_distance\ntpep_pickup_datetime                   \n1                              0.565066\n5                              5.485918\n6                             32.120142\n7                              5.437651",
      "text/html": "<div>\n<style scoped>\n    .dataframe tbody tr th:only-of-type {\n        vertical-align: middle;\n    }\n\n    .dataframe tbody tr th {\n        vertical-align: top;\n    }\n\n    .dataframe thead th {\n        text-align: right;\n    }\n</style>\n<table border=\"1\" class=\"dataframe\">\n  <thead>\n    <tr style=\"text-align: right;\">\n      <th></th>\n      <th>std_trip_distance</th>\n    </tr>\n    <tr>\n      <th>tpep_pickup_datetime</th>\n      <th></th>\n    </tr>\n  </thead>\n  <tbody>\n    <tr>\n      <th>1</th>\n      <td>0.565066</td>\n    </tr>\n    <tr>\n      <th>5</th>\n      <td>5.485918</td>\n    </tr>\n    <tr>\n      <th>6</th>\n      <td>32.120142</td>\n    </tr>\n    <tr>\n      <th>7</th>\n      <td>5.437651</td>\n    </tr>\n  </tbody>\n</table>\n</div>"
     },
     "execution_count": 6,
     "metadata": {},
     "output_type": "execute_result"
    }
   ],
   "source": [
    "yellowcab.eda.agg_stats(trips_df['tpep_pickup_datetime'].dt.month, trips_df['trip_distance'], 'std')\n"
   ],
   "metadata": {
    "collapsed": false,
    "pycharm": {
     "name": "#%%\n"
    }
   }
  },
  {
   "cell_type": "code",
   "execution_count": 7,
   "outputs": [
    {
     "data": {
      "text/plain": "                      std_trip_distance  min_trip_distance  max_trip_distance\ntpep_pickup_datetime                                                         \n1                              0.565066               0.93               2.00\n5                              5.485918               0.78              11.66\n6                             32.120142               0.00           22543.99\n7                              5.437651               1.69               9.38",
      "text/html": "<div>\n<style scoped>\n    .dataframe tbody tr th:only-of-type {\n        vertical-align: middle;\n    }\n\n    .dataframe tbody tr th {\n        vertical-align: top;\n    }\n\n    .dataframe thead th {\n        text-align: right;\n    }\n</style>\n<table border=\"1\" class=\"dataframe\">\n  <thead>\n    <tr style=\"text-align: right;\">\n      <th></th>\n      <th>std_trip_distance</th>\n      <th>min_trip_distance</th>\n      <th>max_trip_distance</th>\n    </tr>\n    <tr>\n      <th>tpep_pickup_datetime</th>\n      <th></th>\n      <th></th>\n      <th></th>\n    </tr>\n  </thead>\n  <tbody>\n    <tr>\n      <th>1</th>\n      <td>0.565066</td>\n      <td>0.93</td>\n      <td>2.00</td>\n    </tr>\n    <tr>\n      <th>5</th>\n      <td>5.485918</td>\n      <td>0.78</td>\n      <td>11.66</td>\n    </tr>\n    <tr>\n      <th>6</th>\n      <td>32.120142</td>\n      <td>0.00</td>\n      <td>22543.99</td>\n    </tr>\n    <tr>\n      <th>7</th>\n      <td>5.437651</td>\n      <td>1.69</td>\n      <td>9.38</td>\n    </tr>\n  </tbody>\n</table>\n</div>"
     },
     "execution_count": 7,
     "metadata": {},
     "output_type": "execute_result"
    }
   ],
   "source": [
    "yellowcab.eda.agg_stats(trips_df['tpep_pickup_datetime'].dt.month, trips_df['trip_distance'], ['std', 'min', 'max'])\n",
    "\n"
   ],
   "metadata": {
    "collapsed": false,
    "pycharm": {
     "name": "#%%\n"
    }
   }
  },
  {
   "cell_type": "code",
   "execution_count": null,
   "outputs": [],
   "source": [],
   "metadata": {
    "collapsed": false,
    "pycharm": {
     "name": "#%%\n"
    }
   }
  }
 ],
 "metadata": {
  "kernelspec": {
   "display_name": "Python 3",
   "language": "python",
   "name": "python3"
  },
  "language_info": {
   "codemirror_mode": {
    "name": "ipython",
    "version": 3
   },
   "file_extension": ".py",
   "mimetype": "text/x-python",
   "name": "python",
   "nbconvert_exporter": "python",
   "pygments_lexer": "ipython3",
   "version": "3.8.8"
  }
 },
 "nbformat": 4,
 "nbformat_minor": 4
}