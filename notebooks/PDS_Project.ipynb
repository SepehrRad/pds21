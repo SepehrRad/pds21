{
 "cells": [
  {
   "cell_type": "code",
   "execution_count": 1,
   "metadata": {
    "pycharm": {
     "name": "#%%\n"
    }
   },
   "outputs": [],
   "source": [
    "from yellowcab.io.input import read_parquet_sample, read_parquet_dataset\n",
    "from yellowcab.prediction import make_baseline_predictions\n",
    "from yellowcab.io.utils import get_zone_information\n",
    "from yellowcab.preprocessing import transform_columns"
   ]
  },
  {
   "cell_type": "code",
   "execution_count": 2,
   "outputs": [
    {
     "name": "stdout",
     "output_type": "stream",
     "text": [
      "<class 'pandas.core.frame.DataFrame'>\n",
      "Int64Index: 2097680 entries, 2479665 to 9036575\n",
      "Data columns (total 28 columns):\n",
      " #   Column                 Dtype         \n",
      "---  ------                 -----         \n",
      " 0   pickup_datetime        datetime64[ns]\n",
      " 1   dropoff_datetime       datetime64[ns]\n",
      " 2   passenger_count        float64       \n",
      " 3   trip_distance          float64       \n",
      " 4   RatecodeID             object        \n",
      " 5   PULocationID           object        \n",
      " 6   DOLocationID           object        \n",
      " 7   payment_type           object        \n",
      " 8   fare_amount            float64       \n",
      " 9   extra                  float64       \n",
      " 10  mta_tax                float64       \n",
      " 11  tip_amount             float64       \n",
      " 12  tolls_amount           float64       \n",
      " 13  improvement_surcharge  float64       \n",
      " 14  total_amount           float64       \n",
      " 15  congestion_surcharge   float64       \n",
      " 16  centers_lat_pickup     float64       \n",
      " 17  centers_long_pickup    float64       \n",
      " 18  centers_lat_dropoff    float64       \n",
      " 19  centers_long_dropoff   float64       \n",
      " 20  trip_duration_minutes  float64       \n",
      " 21  pickup_month           int64         \n",
      " 22  pickup_day             int64         \n",
      " 23  pickup_hour            int64         \n",
      " 24  dropoff_month          int64         \n",
      " 25  dropoff_day            int64         \n",
      " 26  dropoff_hour           int64         \n",
      " 27  weekend                bool          \n",
      "dtypes: bool(1), datetime64[ns](2), float64(15), int64(6), object(4)\n",
      "memory usage: 450.1+ MB\n"
     ]
    }
   ],
   "source": [
    "cab_df = read_parquet_dataset(relative_path=\"input/cleaned\").sample(frac=0.1,random_state=7)\n",
    "cab_df.info()"
   ],
   "metadata": {
    "collapsed": false,
    "pycharm": {
     "name": "#%%\n"
    }
   }
  },
  {
   "cell_type": "code",
   "execution_count": null,
   "outputs": [
    {
     "name": "stdout",
     "output_type": "stream",
     "text": [
      "{'cyclical_features': ['pickup_month', 'pickup_day', 'pickup_hour'], 'categorical_features': ['Zone_pickup', 'Zone_dropoff'], 'temporal_features': ['pickup_datetime', 'dropoff_datetime'], 'spatial_features': ['LocationID_pickup', 'Borough_pickup', 'Zone_pickup', 'service_zone_pickup', 'LocationID_dropoff', 'Borough_dropoff', 'Zone_dropoff', 'service_zone_dropoff']}\n",
      "<class 'pandas.core.frame.DataFrame'>\n",
      "Int64Index: 2097680 entries, 0 to 2097679\n",
      "Data columns (total 6 columns):\n",
      " #   Column        Dtype  \n",
      "---  ------        -----  \n",
      " 0   pickup_month  int64  \n",
      " 1   pickup_day    int64  \n",
      " 2   pickup_hour   int64  \n",
      " 3   Zone_pickup   object \n",
      " 4   Zone_dropoff  object \n",
      " 5   fare_amount   float64\n",
      "dtypes: float64(1), int64(3), object(2)\n",
      "memory usage: 112.0+ MB\n",
      "{'cyclical_features': ['pickup_month', 'pickup_day', 'pickup_hour'], 'categorical_features': ['Zone_pickup', 'Zone_dropoff'], 'temporal_features': ['pickup_datetime', 'dropoff_datetime'], 'spatial_features': ['LocationID_pickup', 'Borough_pickup', 'Zone_pickup', 'service_zone_pickup', 'LocationID_dropoff', 'Borough_dropoff', 'Zone_dropoff', 'service_zone_dropoff']}\n"
     ]
    }
   ],
   "source": [
    "from yellowcab.prediction import make_baseline_predictions\n",
    "make_baseline_predictions(cab_df)\n",
    "\n",
    "\n",
    "\n"
   ],
   "metadata": {
    "collapsed": false,
    "pycharm": {
     "name": "#%%\n",
     "is_executing": true
    }
   }
  },
  {
   "cell_type": "code",
   "execution_count": null,
   "outputs": [],
   "source": [],
   "metadata": {
    "collapsed": false,
    "pycharm": {
     "name": "#%%\n",
     "is_executing": true
    }
   }
  }
 ],
 "metadata": {
  "kernelspec": {
   "display_name": "Python 3",
   "language": "python",
   "name": "python3"
  },
  "language_info": {
   "codemirror_mode": {
    "name": "ipython",
    "version": 3
   },
   "file_extension": ".py",
   "mimetype": "text/x-python",
   "name": "python",
   "nbconvert_exporter": "python",
   "pygments_lexer": "ipython3",
   "version": "3.8.8"
  }
 },
 "nbformat": 4,
 "nbformat_minor": 1
}