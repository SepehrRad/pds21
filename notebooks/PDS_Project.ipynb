{
 "cells": [
  {
   "cell_type": "code",
   "execution_count": 1,
   "metadata": {},
   "outputs": [],
   "source": [
    "import yellowcab.cleaning"
   ]
  },
  {
   "cell_type": "code",
   "execution_count": 2,
   "metadata": {
    "pycharm": {
     "name": "#%%\n"
    }
   },
   "outputs": [
    {
     "name": "stderr",
     "output_type": "stream",
     "text": [
      "  0%|          | 0/12 [00:00<?, ?it/s]"
     ]
    },
    {
     "name": "stdout",
     "output_type": "stream",
     "text": [
      "Started cleaning the January data set\n",
      "196751 invalid entries have been successfully dropped!\n",
      "205 invalid date entries have been successfully dropped!\n",
      "55316 invalid zone entries have been successfully dropped!\n",
      "Outlier detection completed. Number of removed outlier: 178525\n"
     ]
    },
    {
     "name": "stderr",
     "output_type": "stream",
     "text": [
      "  8%|▊         | 1/12 [01:43<19:03, 103.93s/it]"
     ]
    },
    {
     "name": "stdout",
     "output_type": "stream",
     "text": [
      "Finished cleaning the January data set\n",
      "Started cleaning the February data set\n",
      "199409 invalid entries have been successfully dropped!\n",
      "291 invalid date entries have been successfully dropped!\n",
      "50727 invalid zone entries have been successfully dropped!\n",
      "Outlier detection completed. Number of removed outlier: 496191\n"
     ]
    },
    {
     "name": "stderr",
     "output_type": "stream",
     "text": [
      " 17%|█▋        | 2/12 [03:37<18:14, 109.47s/it]"
     ]
    },
    {
     "name": "stdout",
     "output_type": "stream",
     "text": [
      "Finished cleaning the February data set\n",
      "Started cleaning the March data set\n",
      "103611 invalid entries have been successfully dropped!\n",
      "421 invalid date entries have been successfully dropped!\n",
      "24494 invalid zone entries have been successfully dropped!\n",
      "Outlier detection completed. Number of removed outlier: 243017\n"
     ]
    },
    {
     "name": "stderr",
     "output_type": "stream",
     "text": [
      " 25%|██▌       | 3/12 [04:19<11:50, 78.93s/it] "
     ]
    },
    {
     "name": "stdout",
     "output_type": "stream",
     "text": [
      "Finished cleaning the March data set\n",
      "Started cleaning the April data set\n",
      "13099 invalid entries have been successfully dropped!\n",
      "130 invalid date entries have been successfully dropped!\n",
      "2249 invalid zone entries have been successfully dropped!\n",
      "Outlier detection completed. Number of removed outlier: 25716\n"
     ]
    },
    {
     "name": "stderr",
     "output_type": "stream",
     "text": [
      " 33%|███▎      | 4/12 [04:24<06:35, 49.50s/it]"
     ]
    },
    {
     "name": "stdout",
     "output_type": "stream",
     "text": [
      "Finished cleaning the April data set\n",
      "Started cleaning the May data set\n",
      "19779 invalid entries have been successfully dropped!\n",
      "23 invalid date entries have been successfully dropped!\n",
      "3157 invalid zone entries have been successfully dropped!\n",
      "Outlier detection completed. Number of removed outlier: 30286\n"
     ]
    },
    {
     "name": "stderr",
     "output_type": "stream",
     "text": [
      " 42%|████▏     | 5/12 [04:28<03:52, 33.18s/it]"
     ]
    },
    {
     "name": "stdout",
     "output_type": "stream",
     "text": [
      "Finished cleaning the May data set\n",
      "Started cleaning the June data set\n",
      "31171 invalid entries have been successfully dropped!\n",
      "9 invalid date entries have been successfully dropped!\n",
      "5663 invalid zone entries have been successfully dropped!\n",
      "Outlier detection completed. Number of removed outlier: 68622\n"
     ]
    },
    {
     "name": "stderr",
     "output_type": "stream",
     "text": [
      " 50%|█████     | 6/12 [04:35<02:26, 24.36s/it]"
     ]
    },
    {
     "name": "stdout",
     "output_type": "stream",
     "text": [
      "Finished cleaning the June data set\n",
      "Started cleaning the July data set\n",
      "45798 invalid entries have been successfully dropped!\n",
      "10 invalid date entries have been successfully dropped!\n",
      "8771 invalid zone entries have been successfully dropped!\n",
      "Outlier detection completed. Number of removed outlier: 77137\n"
     ]
    },
    {
     "name": "stderr",
     "output_type": "stream",
     "text": [
      " 58%|█████▊    | 7/12 [04:45<01:37, 19.52s/it]"
     ]
    },
    {
     "name": "stdout",
     "output_type": "stream",
     "text": [
      "Finished cleaning the July data set\n",
      "Started cleaning the August data set\n",
      "51582 invalid entries have been successfully dropped!\n",
      "15 invalid date entries have been successfully dropped!\n",
      "9215 invalid zone entries have been successfully dropped!\n",
      "Outlier detection completed. Number of removed outlier: 34822\n"
     ]
    },
    {
     "name": "stderr",
     "output_type": "stream",
     "text": [
      " 67%|██████▋   | 8/12 [04:58<01:09, 17.47s/it]"
     ]
    },
    {
     "name": "stdout",
     "output_type": "stream",
     "text": [
      "Finished cleaning the August data set\n",
      "Started cleaning the September data set\n",
      "54302 invalid entries have been successfully dropped!\n",
      "132 invalid date entries have been successfully dropped!\n",
      "11352 invalid zone entries have been successfully dropped!\n",
      "Outlier detection completed. Number of removed outlier: 162348\n"
     ]
    },
    {
     "name": "stderr",
     "output_type": "stream",
     "text": [
      " 75%|███████▌  | 9/12 [05:14<00:50, 16.99s/it]"
     ]
    },
    {
     "name": "stdout",
     "output_type": "stream",
     "text": [
      "Finished cleaning the September data set\n",
      "Started cleaning the October data set\n",
      "61418 invalid entries have been successfully dropped!\n",
      "26 invalid date entries have been successfully dropped!\n",
      "13789 invalid zone entries have been successfully dropped!\n",
      "Outlier detection completed. Number of removed outlier: 113339\n"
     ]
    },
    {
     "name": "stderr",
     "output_type": "stream",
     "text": [
      " 83%|████████▎ | 10/12 [05:34<00:35, 17.96s/it]"
     ]
    },
    {
     "name": "stdout",
     "output_type": "stream",
     "text": [
      "Finished cleaning the October data set\n",
      "Started cleaning the November data set\n",
      "52441 invalid entries have been successfully dropped!\n",
      "107 invalid date entries have been successfully dropped!\n",
      "13297 invalid zone entries have been successfully dropped!\n",
      "Outlier detection completed. Number of removed outlier: 181152\n"
     ]
    },
    {
     "name": "stderr",
     "output_type": "stream",
     "text": [
      " 92%|█████████▏| 11/12 [05:52<00:18, 18.06s/it]"
     ]
    },
    {
     "name": "stdout",
     "output_type": "stream",
     "text": [
      "Finished cleaning the November data set\n",
      "Started cleaning the December data set\n",
      "50607 invalid entries have been successfully dropped!\n",
      "29 invalid date entries have been successfully dropped!\n",
      "13382 invalid zone entries have been successfully dropped!\n",
      "Outlier detection completed. Number of removed outlier: 169278\n"
     ]
    },
    {
     "name": "stderr",
     "output_type": "stream",
     "text": [
      "100%|██████████| 12/12 [06:10<00:00, 30.86s/it]"
     ]
    },
    {
     "name": "stdout",
     "output_type": "stream",
     "text": [
      "Finished cleaning the December data set\n"
     ]
    },
    {
     "name": "stderr",
     "output_type": "stream",
     "text": [
      "\n"
     ]
    }
   ],
   "source": [
    "yellowcab.cleaning.clean_all_datasets()"
   ]
  }
 ],
 "metadata": {
  "kernelspec": {
   "display_name": "Python 3",
   "language": "python",
   "name": "python3"
  },
  "language_info": {
   "codemirror_mode": {
    "name": "ipython",
    "version": 3
   },
   "file_extension": ".py",
   "mimetype": "text/x-python",
   "name": "python",
   "nbconvert_exporter": "python",
   "pygments_lexer": "ipython3",
   "version": "3.8.8"
  }
 },
 "nbformat": 4,
 "nbformat_minor": 1
}