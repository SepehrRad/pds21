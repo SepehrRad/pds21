{
 "cells": [
  {
   "cell_type": "code",
   "execution_count": 1,
   "metadata": {
    "pycharm": {
     "name": "#%%\n"
    }
   },
   "outputs": [],
   "source": [
    "from yellowcab.io.input import read_parquet_dataset\n"
   ]
  },
  {
   "cell_type": "code",
   "execution_count": 2,
   "outputs": [
    {
     "name": "stdout",
     "output_type": "stream",
     "text": [
      "<class 'pandas.core.frame.DataFrame'>\n",
      "Int64Index: 800000 entries, 2479665 to 5424152\n",
      "Data columns (total 28 columns):\n",
      " #   Column                 Non-Null Count   Dtype         \n",
      "---  ------                 --------------   -----         \n",
      " 0   pickup_datetime        800000 non-null  datetime64[ns]\n",
      " 1   dropoff_datetime       800000 non-null  datetime64[ns]\n",
      " 2   passenger_count        800000 non-null  float64       \n",
      " 3   trip_distance          800000 non-null  float64       \n",
      " 4   RatecodeID             800000 non-null  object        \n",
      " 5   PULocationID           800000 non-null  object        \n",
      " 6   DOLocationID           800000 non-null  object        \n",
      " 7   payment_type           800000 non-null  object        \n",
      " 8   fare_amount            800000 non-null  float64       \n",
      " 9   extra                  800000 non-null  float64       \n",
      " 10  mta_tax                800000 non-null  float64       \n",
      " 11  tip_amount             800000 non-null  float64       \n",
      " 12  tolls_amount           800000 non-null  float64       \n",
      " 13  improvement_surcharge  800000 non-null  float64       \n",
      " 14  total_amount           800000 non-null  float64       \n",
      " 15  congestion_surcharge   800000 non-null  float64       \n",
      " 16  centers_lat_pickup     800000 non-null  float64       \n",
      " 17  centers_long_pickup    800000 non-null  float64       \n",
      " 18  centers_lat_dropoff    800000 non-null  float64       \n",
      " 19  centers_long_dropoff   800000 non-null  float64       \n",
      " 20  trip_duration_minutes  800000 non-null  float64       \n",
      " 21  pickup_month           800000 non-null  int64         \n",
      " 22  pickup_day             800000 non-null  int64         \n",
      " 23  pickup_hour            800000 non-null  int64         \n",
      " 24  dropoff_month          800000 non-null  int64         \n",
      " 25  dropoff_day            800000 non-null  int64         \n",
      " 26  dropoff_hour           800000 non-null  int64         \n",
      " 27  weekend                800000 non-null  bool          \n",
      "dtypes: bool(1), datetime64[ns](2), float64(15), int64(6), object(4)\n",
      "memory usage: 171.7+ MB\n"
     ]
    }
   ],
   "source": [
    "cab_df = read_parquet_dataset(relative_path=\"input/cleaned\").sample(800000,random_state=7)\n",
    "cab_df.info()"
   ],
   "metadata": {
    "collapsed": false,
    "pycharm": {
     "name": "#%%\n"
    }
   }
  },
  {
   "cell_type": "code",
   "execution_count": 3,
   "outputs": [
    {
     "name": "stdout",
     "output_type": "stream",
     "text": [
      "\n",
      "classification\n",
      "                   pre       rec       spe        f1       geo       iba       sup\n",
      "\n",
      "       Cash       0.92      0.65      0.98      0.76      0.80      0.62     23847\n",
      "Credit card       1.00      0.96      1.00      0.98      0.98      0.96     65771\n",
      "    Dispute       0.01      0.41      0.95      0.02      0.62      0.37       115\n",
      "  No charge       0.03      0.60      0.94      0.06      0.75      0.55       267\n",
      "\n",
      "avg / total       0.98      0.88      0.99      0.92      0.93      0.87     90000\n",
      "\n",
      "\n",
      "classification\n",
      "                   pre       rec       spe        f1       geo       iba       sup\n",
      "\n",
      "       Cash       0.94      0.21      0.99      0.34      0.46      0.19     23847\n",
      "Credit card       1.00      0.78      1.00      0.88      0.89      0.77     65771\n",
      "    Dispute       0.00      0.63      0.67      0.00      0.65      0.42       115\n",
      "  No charge       0.03      0.39      0.96      0.05      0.61      0.35       267\n",
      "\n",
      "avg / total       0.98      0.63      1.00      0.73      0.77      0.61     90000\n",
      "\n"
     ]
    }
   ],
   "source": [
    "from yellowcab.prediction import make_baseline_predictions\n",
    "make_baseline_predictions(cab_df)"
   ],
   "metadata": {
    "collapsed": false,
    "pycharm": {
     "name": "#%%\n"
    }
   }
  },
  {
   "cell_type": "code",
   "execution_count": 3,
   "outputs": [
    {
     "name": "stdout",
     "output_type": "stream",
     "text": [
      "\n",
      "trip_distance regression\n",
      "MAE:  1.065\n",
      "MSE:  2.544\n",
      "RMSE:  1.595\n",
      "R2:  54.355 %\n",
      "\n",
      "fare_amount regression\n",
      "MAE:  3.679\n",
      "MSE:  26.553\n",
      "RMSE:  5.153\n",
      "R2:  45.308 %\n"
     ]
    }
   ],
   "source": [
    "from yellowcab.prediction import make_baseline_predictions\n",
    "make_baseline_predictions(cab_df)"
   ],
   "metadata": {
    "collapsed": false,
    "pycharm": {
     "name": "#%%\n"
    }
   }
  }
 ],
 "metadata": {
  "kernelspec": {
   "display_name": "Python 3",
   "language": "python",
   "name": "python3"
  },
  "language_info": {
   "codemirror_mode": {
    "name": "ipython",
    "version": 3
   },
   "file_extension": ".py",
   "mimetype": "text/x-python",
   "name": "python",
   "nbconvert_exporter": "python",
   "pygments_lexer": "ipython3",
   "version": "3.8.8"
  }
 },
 "nbformat": 4,
 "nbformat_minor": 1
}