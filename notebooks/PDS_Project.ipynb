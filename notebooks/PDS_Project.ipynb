{
 "cells": [
  {
   "cell_type": "code",
   "execution_count": 1,
   "metadata": {
    "pycharm": {
     "name": "#%%\n"
    }
   },
   "outputs": [],
   "source": [
    "from yellowcab.io.input import read_parquet_sample, read_parquet_dataset\n",
    "from yellowcab.prediction import make_baseline_predictions\n",
    "from yellowcab.io.utils import get_zone_information\n",
    "from yellowcab.preprocessing import transform_columns"
   ]
  },
  {
   "cell_type": "code",
   "execution_count": 2,
   "outputs": [
    {
     "name": "stdout",
     "output_type": "stream",
     "text": [
      "<class 'pandas.core.frame.DataFrame'>\n",
      "Int64Index: 1000000 entries, 2479665 to 1524461\n",
      "Data columns (total 28 columns):\n",
      " #   Column                 Non-Null Count    Dtype         \n",
      "---  ------                 --------------    -----         \n",
      " 0   pickup_datetime        1000000 non-null  datetime64[ns]\n",
      " 1   dropoff_datetime       1000000 non-null  datetime64[ns]\n",
      " 2   passenger_count        1000000 non-null  float64       \n",
      " 3   trip_distance          1000000 non-null  float64       \n",
      " 4   RatecodeID             1000000 non-null  object        \n",
      " 5   PULocationID           1000000 non-null  object        \n",
      " 6   DOLocationID           1000000 non-null  object        \n",
      " 7   payment_type           1000000 non-null  object        \n",
      " 8   fare_amount            1000000 non-null  float64       \n",
      " 9   extra                  1000000 non-null  float64       \n",
      " 10  mta_tax                1000000 non-null  float64       \n",
      " 11  tip_amount             1000000 non-null  float64       \n",
      " 12  tolls_amount           1000000 non-null  float64       \n",
      " 13  improvement_surcharge  1000000 non-null  float64       \n",
      " 14  total_amount           1000000 non-null  float64       \n",
      " 15  congestion_surcharge   1000000 non-null  float64       \n",
      " 16  centers_lat_pickup     1000000 non-null  float64       \n",
      " 17  centers_long_pickup    1000000 non-null  float64       \n",
      " 18  centers_lat_dropoff    1000000 non-null  float64       \n",
      " 19  centers_long_dropoff   1000000 non-null  float64       \n",
      " 20  trip_duration_minutes  1000000 non-null  float64       \n",
      " 21  pickup_month           1000000 non-null  int64         \n",
      " 22  pickup_day             1000000 non-null  int64         \n",
      " 23  pickup_hour            1000000 non-null  int64         \n",
      " 24  dropoff_month          1000000 non-null  int64         \n",
      " 25  dropoff_day            1000000 non-null  int64         \n",
      " 26  dropoff_hour           1000000 non-null  int64         \n",
      " 27  weekend                1000000 non-null  bool          \n",
      "dtypes: bool(1), datetime64[ns](2), float64(15), int64(6), object(4)\n",
      "memory usage: 214.6+ MB\n"
     ]
    }
   ],
   "source": [
    "cab_df = read_parquet_dataset(relative_path=\"input/cleaned\").sample(800000,random_state=7)\n",
    "cab_df.info()"
   ],
   "metadata": {
    "collapsed": false,
    "pycharm": {
     "name": "#%%\n"
    }
   }
  },
  {
   "cell_type": "code",
   "execution_count": 3,
   "outputs": [
    {
     "name": "stdout",
     "output_type": "stream",
     "text": [
      "\n",
      "classification\n",
      "                   pre       rec       spe        f1       geo       iba       sup\n",
      "\n",
      "       Cash       0.92      0.65      0.98      0.76      0.80      0.62      7925\n",
      "Credit card       1.00      0.97      1.00      0.98      0.98      0.96     21948\n",
      "    Dispute       0.01      0.30      0.95      0.01      0.53      0.27        30\n",
      "  No charge       0.03      0.55      0.95      0.06      0.72      0.50        97\n",
      "\n",
      "avg / total       0.97      0.88      0.99      0.92      0.93      0.87     30000\n",
      "\n",
      "\n",
      "classification\n",
      "                   pre       rec       spe        f1       geo       iba       sup\n",
      "\n",
      "       Cash       0.95      0.10      1.00      0.18      0.32      0.09      7925\n",
      "Credit card       1.00      0.88      1.00      0.93      0.93      0.86     21948\n",
      "    Dispute       0.00      0.67      0.71      0.00      0.69      0.47        30\n",
      "  No charge       0.03      0.43      0.96      0.06      0.64      0.39        97\n",
      "\n",
      "avg / total       0.98      0.67      1.00      0.73      0.77      0.66     30000\n",
      "\n"
     ]
    }
   ],
   "source": [
    "from yellowcab.prediction import make_baseline_predictions\n",
    "make_baseline_predictions(cab_df)"
   ],
   "metadata": {
    "collapsed": false,
    "pycharm": {
     "name": "#%%\n"
    }
   }
  },
  {
   "cell_type": "code",
   "execution_count": 3,
   "outputs": [
    {
     "name": "stdout",
     "output_type": "stream",
     "text": [
      "\n",
      "trip_distance regression\n",
      "MAE:  1.069\n",
      "MSE:  2.574\n",
      "RMSE:  1.604\n",
      "R2:  54.216 %\n",
      "\n",
      "fare_amount regression\n",
      "MAE:  3.691\n",
      "MSE:  26.848\n",
      "RMSE:  5.182\n",
      "R2:  45.232 %\n"
     ]
    }
   ],
   "source": [
    "from yellowcab.prediction import make_baseline_predictions\n",
    "make_baseline_predictions(cab_df)"
   ],
   "metadata": {
    "collapsed": false,
    "pycharm": {
     "name": "#%%\n"
    }
   }
  }
 ],
 "metadata": {
  "kernelspec": {
   "display_name": "Python 3",
   "language": "python",
   "name": "python3"
  },
  "language_info": {
   "codemirror_mode": {
    "name": "ipython",
    "version": 3
   },
   "file_extension": ".py",
   "mimetype": "text/x-python",
   "name": "python",
   "nbconvert_exporter": "python",
   "pygments_lexer": "ipython3",
   "version": "3.8.8"
  }
 },
 "nbformat": 4,
 "nbformat_minor": 1
}