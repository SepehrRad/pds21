{
 "cells": [
  {
   "cell_type": "code",
   "execution_count": 1,
   "metadata": {},
   "outputs": [],
   "source": [
    "import pandas as pd \n",
    "import geopandas\n",
    "import numpy as np\n",
    "import yellowcab.cleaning"
   ]
  },
  {
   "cell_type": "code",
   "execution_count": 2,
   "metadata": {},
   "outputs": [
    {
     "data": {
      "text/plain": "        tpep_pickup_datetime tpep_dropoff_datetime  passenger_count  \\\n0        2020-01-01 00:28:15   2020-01-01 00:33:03              1.0   \n1        2020-01-01 00:35:39   2020-01-01 00:43:04              1.0   \n2        2020-01-01 00:47:41   2020-01-01 00:53:52              1.0   \n3        2020-01-01 00:55:23   2020-01-01 01:00:14              1.0   \n4        2020-01-01 00:01:58   2020-01-01 00:04:16              1.0   \n...                      ...                   ...              ...   \n6339562  2020-01-31 23:38:07   2020-01-31 23:52:21              1.0   \n6339563  2020-01-31 23:00:18   2020-01-31 23:19:18              1.0   \n6339564  2020-01-31 23:24:22   2020-01-31 23:40:39              1.0   \n6339565  2020-01-31 23:44:22   2020-01-31 23:54:00              1.0   \n6339566  2020-01-31 23:19:37   2020-01-31 23:20:41              1.0   \n\n         trip_distance  RatecodeID  PULocationID  DOLocationID  payment_type  \\\n0                 1.20         1.0           238           239           1.0   \n1                 1.20         1.0           239           238           1.0   \n2                 0.60         1.0           238           238           1.0   \n3                 0.80         1.0           238           151           1.0   \n4                 0.00         1.0           193           193           2.0   \n...                ...         ...           ...           ...           ...   \n6339562           2.10         1.0           163           246           1.0   \n6339563           2.13         1.0           164            79           1.0   \n6339564           2.55         1.0            79            68           1.0   \n6339565           1.61         1.0           100           142           2.0   \n6339566           0.00         1.0           193           193           1.0   \n\n         fare_amount  extra  mta_tax  tip_amount  tolls_amount  \\\n0                6.0    3.0      0.5        1.47           0.0   \n1                7.0    3.0      0.5        1.50           0.0   \n2                6.0    3.0      0.5        1.00           0.0   \n3                5.5    0.5      0.5        1.36           0.0   \n4                3.5    0.5      0.5        0.00           0.0   \n...              ...    ...      ...         ...           ...   \n6339562         11.0    0.5      0.5        2.96           0.0   \n6339563         13.0    0.5      0.5        3.36           0.0   \n6339564         12.5    0.5      0.5        3.26           0.0   \n6339565          8.5    0.5      0.5        0.00           0.0   \n6339566          0.0    0.0      0.0        0.00           0.0   \n\n         improvement_surcharge  total_amount  congestion_surcharge  \n0                          0.3         11.27                   2.5  \n1                          0.3         12.30                   2.5  \n2                          0.3         10.80                   2.5  \n3                          0.3          8.16                   0.0  \n4                          0.3          4.80                   0.0  \n...                        ...           ...                   ...  \n6339562                    0.3         17.76                   2.5  \n6339563                    0.3         20.16                   2.5  \n6339564                    0.3         19.56                   2.5  \n6339565                    0.3         12.30                   2.5  \n6339566                    0.0          0.00                   0.0  \n\n[6339567 rows x 16 columns]",
      "text/html": "<div>\n<style scoped>\n    .dataframe tbody tr th:only-of-type {\n        vertical-align: middle;\n    }\n\n    .dataframe tbody tr th {\n        vertical-align: top;\n    }\n\n    .dataframe thead th {\n        text-align: right;\n    }\n</style>\n<table border=\"1\" class=\"dataframe\">\n  <thead>\n    <tr style=\"text-align: right;\">\n      <th></th>\n      <th>tpep_pickup_datetime</th>\n      <th>tpep_dropoff_datetime</th>\n      <th>passenger_count</th>\n      <th>trip_distance</th>\n      <th>RatecodeID</th>\n      <th>PULocationID</th>\n      <th>DOLocationID</th>\n      <th>payment_type</th>\n      <th>fare_amount</th>\n      <th>extra</th>\n      <th>mta_tax</th>\n      <th>tip_amount</th>\n      <th>tolls_amount</th>\n      <th>improvement_surcharge</th>\n      <th>total_amount</th>\n      <th>congestion_surcharge</th>\n    </tr>\n  </thead>\n  <tbody>\n    <tr>\n      <th>0</th>\n      <td>2020-01-01 00:28:15</td>\n      <td>2020-01-01 00:33:03</td>\n      <td>1.0</td>\n      <td>1.20</td>\n      <td>1.0</td>\n      <td>238</td>\n      <td>239</td>\n      <td>1.0</td>\n      <td>6.0</td>\n      <td>3.0</td>\n      <td>0.5</td>\n      <td>1.47</td>\n      <td>0.0</td>\n      <td>0.3</td>\n      <td>11.27</td>\n      <td>2.5</td>\n    </tr>\n    <tr>\n      <th>1</th>\n      <td>2020-01-01 00:35:39</td>\n      <td>2020-01-01 00:43:04</td>\n      <td>1.0</td>\n      <td>1.20</td>\n      <td>1.0</td>\n      <td>239</td>\n      <td>238</td>\n      <td>1.0</td>\n      <td>7.0</td>\n      <td>3.0</td>\n      <td>0.5</td>\n      <td>1.50</td>\n      <td>0.0</td>\n      <td>0.3</td>\n      <td>12.30</td>\n      <td>2.5</td>\n    </tr>\n    <tr>\n      <th>2</th>\n      <td>2020-01-01 00:47:41</td>\n      <td>2020-01-01 00:53:52</td>\n      <td>1.0</td>\n      <td>0.60</td>\n      <td>1.0</td>\n      <td>238</td>\n      <td>238</td>\n      <td>1.0</td>\n      <td>6.0</td>\n      <td>3.0</td>\n      <td>0.5</td>\n      <td>1.00</td>\n      <td>0.0</td>\n      <td>0.3</td>\n      <td>10.80</td>\n      <td>2.5</td>\n    </tr>\n    <tr>\n      <th>3</th>\n      <td>2020-01-01 00:55:23</td>\n      <td>2020-01-01 01:00:14</td>\n      <td>1.0</td>\n      <td>0.80</td>\n      <td>1.0</td>\n      <td>238</td>\n      <td>151</td>\n      <td>1.0</td>\n      <td>5.5</td>\n      <td>0.5</td>\n      <td>0.5</td>\n      <td>1.36</td>\n      <td>0.0</td>\n      <td>0.3</td>\n      <td>8.16</td>\n      <td>0.0</td>\n    </tr>\n    <tr>\n      <th>4</th>\n      <td>2020-01-01 00:01:58</td>\n      <td>2020-01-01 00:04:16</td>\n      <td>1.0</td>\n      <td>0.00</td>\n      <td>1.0</td>\n      <td>193</td>\n      <td>193</td>\n      <td>2.0</td>\n      <td>3.5</td>\n      <td>0.5</td>\n      <td>0.5</td>\n      <td>0.00</td>\n      <td>0.0</td>\n      <td>0.3</td>\n      <td>4.80</td>\n      <td>0.0</td>\n    </tr>\n    <tr>\n      <th>...</th>\n      <td>...</td>\n      <td>...</td>\n      <td>...</td>\n      <td>...</td>\n      <td>...</td>\n      <td>...</td>\n      <td>...</td>\n      <td>...</td>\n      <td>...</td>\n      <td>...</td>\n      <td>...</td>\n      <td>...</td>\n      <td>...</td>\n      <td>...</td>\n      <td>...</td>\n      <td>...</td>\n    </tr>\n    <tr>\n      <th>6339562</th>\n      <td>2020-01-31 23:38:07</td>\n      <td>2020-01-31 23:52:21</td>\n      <td>1.0</td>\n      <td>2.10</td>\n      <td>1.0</td>\n      <td>163</td>\n      <td>246</td>\n      <td>1.0</td>\n      <td>11.0</td>\n      <td>0.5</td>\n      <td>0.5</td>\n      <td>2.96</td>\n      <td>0.0</td>\n      <td>0.3</td>\n      <td>17.76</td>\n      <td>2.5</td>\n    </tr>\n    <tr>\n      <th>6339563</th>\n      <td>2020-01-31 23:00:18</td>\n      <td>2020-01-31 23:19:18</td>\n      <td>1.0</td>\n      <td>2.13</td>\n      <td>1.0</td>\n      <td>164</td>\n      <td>79</td>\n      <td>1.0</td>\n      <td>13.0</td>\n      <td>0.5</td>\n      <td>0.5</td>\n      <td>3.36</td>\n      <td>0.0</td>\n      <td>0.3</td>\n      <td>20.16</td>\n      <td>2.5</td>\n    </tr>\n    <tr>\n      <th>6339564</th>\n      <td>2020-01-31 23:24:22</td>\n      <td>2020-01-31 23:40:39</td>\n      <td>1.0</td>\n      <td>2.55</td>\n      <td>1.0</td>\n      <td>79</td>\n      <td>68</td>\n      <td>1.0</td>\n      <td>12.5</td>\n      <td>0.5</td>\n      <td>0.5</td>\n      <td>3.26</td>\n      <td>0.0</td>\n      <td>0.3</td>\n      <td>19.56</td>\n      <td>2.5</td>\n    </tr>\n    <tr>\n      <th>6339565</th>\n      <td>2020-01-31 23:44:22</td>\n      <td>2020-01-31 23:54:00</td>\n      <td>1.0</td>\n      <td>1.61</td>\n      <td>1.0</td>\n      <td>100</td>\n      <td>142</td>\n      <td>2.0</td>\n      <td>8.5</td>\n      <td>0.5</td>\n      <td>0.5</td>\n      <td>0.00</td>\n      <td>0.0</td>\n      <td>0.3</td>\n      <td>12.30</td>\n      <td>2.5</td>\n    </tr>\n    <tr>\n      <th>6339566</th>\n      <td>2020-01-31 23:19:37</td>\n      <td>2020-01-31 23:20:41</td>\n      <td>1.0</td>\n      <td>0.00</td>\n      <td>1.0</td>\n      <td>193</td>\n      <td>193</td>\n      <td>1.0</td>\n      <td>0.0</td>\n      <td>0.0</td>\n      <td>0.0</td>\n      <td>0.00</td>\n      <td>0.0</td>\n      <td>0.0</td>\n      <td>0.00</td>\n      <td>0.0</td>\n    </tr>\n  </tbody>\n</table>\n<p>6339567 rows × 16 columns</p>\n</div>"
     },
     "execution_count": 2,
     "metadata": {},
     "output_type": "execute_result"
    }
   ],
   "source": [
    "cab_df = pd.read_parquet(\"../data/trip_data/01.parquet\")\n",
    "cab_df"
   ]
  },
  {
   "cell_type": "code",
   "execution_count": 3,
   "metadata": {},
   "outputs": [
    {
     "name": "stdout",
     "output_type": "stream",
     "text": [
      "<class 'pandas.core.frame.DataFrame'>\n",
      "Int64Index: 6339567 entries, 0 to 6339566\n",
      "Data columns (total 16 columns):\n",
      " #   Column                 Dtype         \n",
      "---  ------                 -----         \n",
      " 0   tpep_pickup_datetime   datetime64[ns]\n",
      " 1   tpep_dropoff_datetime  datetime64[ns]\n",
      " 2   passenger_count        float64       \n",
      " 3   trip_distance          float64       \n",
      " 4   RatecodeID             float64       \n",
      " 5   PULocationID           int64         \n",
      " 6   DOLocationID           int64         \n",
      " 7   payment_type           float64       \n",
      " 8   fare_amount            float64       \n",
      " 9   extra                  float64       \n",
      " 10  mta_tax                float64       \n",
      " 11  tip_amount             float64       \n",
      " 12  tolls_amount           float64       \n",
      " 13  improvement_surcharge  float64       \n",
      " 14  total_amount           float64       \n",
      " 15  congestion_surcharge   float64       \n",
      "dtypes: datetime64[ns](2), float64(12), int64(2)\n",
      "memory usage: 822.2 MB\n"
     ]
    }
   ],
   "source": [
    "cab_df.info()"
   ]
  },
  {
   "cell_type": "code",
   "execution_count": 4,
   "metadata": {},
   "outputs": [
    {
     "name": "stdout",
     "output_type": "stream",
     "text": [
      "<class 'pandas.core.frame.DataFrame'>\n",
      "RangeIndex: 265 entries, 0 to 264\n",
      "Data columns (total 4 columns):\n",
      " #   Column        Non-Null Count  Dtype \n",
      "---  ------        --------------  ----- \n",
      " 0   LocationID    265 non-null    int64 \n",
      " 1   Borough       265 non-null    object\n",
      " 2   Zone          264 non-null    object\n",
      " 3   service_zone  263 non-null    object\n",
      "dtypes: int64(1), object(3)\n",
      "memory usage: 8.4+ KB\n"
     ]
    }
   ],
   "source": [
    "taxi_zone_df = pd.read_csv(\"../data/taxi_zones/taxi_zones.csv\")\n",
    "taxi_zone_df.info()"
   ]
  },
  {
   "cell_type": "code",
   "execution_count": 5,
   "metadata": {},
   "outputs": [
    {
     "data": {
      "text/plain": "          Shape_Leng  Shape_Area                     zone  LocationID  \\\nOBJECTID                                                                \n1           0.116357    0.000782           Newark Airport           1   \n2           0.433470    0.004866              Jamaica Bay           2   \n3           0.084341    0.000314  Allerton/Pelham Gardens           3   \n4           0.043567    0.000112            Alphabet City           4   \n5           0.092146    0.000498            Arden Heights           5   \n...              ...         ...                      ...         ...   \n259         0.126750    0.000395       Woodlawn/Wakefield         259   \n260         0.133514    0.000422                 Woodside         260   \n261         0.027120    0.000034       World Trade Center         261   \n262         0.049064    0.000122           Yorkville East         262   \n263         0.037017    0.000066           Yorkville West         263   \n\n                borough                                           geometry  \\\nOBJECTID                                                                     \n1                   EWR  POLYGON ((933100.918 192536.086, 933091.011 19...   \n2                Queens  MULTIPOLYGON (((1033269.244 172126.008, 103343...   \n3                 Bronx  POLYGON ((1026308.770 256767.698, 1026495.593 ...   \n4             Manhattan  POLYGON ((992073.467 203714.076, 992068.667 20...   \n5         Staten Island  POLYGON ((935843.310 144283.336, 936046.565 14...   \n...                 ...                                                ...   \n259               Bronx  POLYGON ((1025414.782 270986.139, 1025138.624 ...   \n260              Queens  POLYGON ((1011466.966 216463.005, 1011545.889 ...   \n261           Manhattan  POLYGON ((980555.204 196138.486, 980570.792 19...   \n262           Manhattan  MULTIPOLYGON (((999804.795 224498.527, 999824....   \n263           Manhattan  POLYGON ((997493.323 220912.386, 997355.264 22...   \n\n                Borough                     Zone service_zone  \nOBJECTID                                                       \n1                   EWR           Newark Airport          EWR  \n2                Queens              Jamaica Bay    Boro Zone  \n3                 Bronx  Allerton/Pelham Gardens    Boro Zone  \n4             Manhattan            Alphabet City  Yellow Zone  \n5         Staten Island            Arden Heights    Boro Zone  \n...                 ...                      ...          ...  \n259               Bronx       Woodlawn/Wakefield    Boro Zone  \n260              Queens                 Woodside    Boro Zone  \n261           Manhattan       World Trade Center  Yellow Zone  \n262           Manhattan           Yorkville East  Yellow Zone  \n263           Manhattan           Yorkville West  Yellow Zone  \n\n[263 rows x 9 columns]",
      "text/html": "<div>\n<style scoped>\n    .dataframe tbody tr th:only-of-type {\n        vertical-align: middle;\n    }\n\n    .dataframe tbody tr th {\n        vertical-align: top;\n    }\n\n    .dataframe thead th {\n        text-align: right;\n    }\n</style>\n<table border=\"1\" class=\"dataframe\">\n  <thead>\n    <tr style=\"text-align: right;\">\n      <th></th>\n      <th>Shape_Leng</th>\n      <th>Shape_Area</th>\n      <th>zone</th>\n      <th>LocationID</th>\n      <th>borough</th>\n      <th>geometry</th>\n      <th>Borough</th>\n      <th>Zone</th>\n      <th>service_zone</th>\n    </tr>\n    <tr>\n      <th>OBJECTID</th>\n      <th></th>\n      <th></th>\n      <th></th>\n      <th></th>\n      <th></th>\n      <th></th>\n      <th></th>\n      <th></th>\n      <th></th>\n    </tr>\n  </thead>\n  <tbody>\n    <tr>\n      <th>1</th>\n      <td>0.116357</td>\n      <td>0.000782</td>\n      <td>Newark Airport</td>\n      <td>1</td>\n      <td>EWR</td>\n      <td>POLYGON ((933100.918 192536.086, 933091.011 19...</td>\n      <td>EWR</td>\n      <td>Newark Airport</td>\n      <td>EWR</td>\n    </tr>\n    <tr>\n      <th>2</th>\n      <td>0.433470</td>\n      <td>0.004866</td>\n      <td>Jamaica Bay</td>\n      <td>2</td>\n      <td>Queens</td>\n      <td>MULTIPOLYGON (((1033269.244 172126.008, 103343...</td>\n      <td>Queens</td>\n      <td>Jamaica Bay</td>\n      <td>Boro Zone</td>\n    </tr>\n    <tr>\n      <th>3</th>\n      <td>0.084341</td>\n      <td>0.000314</td>\n      <td>Allerton/Pelham Gardens</td>\n      <td>3</td>\n      <td>Bronx</td>\n      <td>POLYGON ((1026308.770 256767.698, 1026495.593 ...</td>\n      <td>Bronx</td>\n      <td>Allerton/Pelham Gardens</td>\n      <td>Boro Zone</td>\n    </tr>\n    <tr>\n      <th>4</th>\n      <td>0.043567</td>\n      <td>0.000112</td>\n      <td>Alphabet City</td>\n      <td>4</td>\n      <td>Manhattan</td>\n      <td>POLYGON ((992073.467 203714.076, 992068.667 20...</td>\n      <td>Manhattan</td>\n      <td>Alphabet City</td>\n      <td>Yellow Zone</td>\n    </tr>\n    <tr>\n      <th>5</th>\n      <td>0.092146</td>\n      <td>0.000498</td>\n      <td>Arden Heights</td>\n      <td>5</td>\n      <td>Staten Island</td>\n      <td>POLYGON ((935843.310 144283.336, 936046.565 14...</td>\n      <td>Staten Island</td>\n      <td>Arden Heights</td>\n      <td>Boro Zone</td>\n    </tr>\n    <tr>\n      <th>...</th>\n      <td>...</td>\n      <td>...</td>\n      <td>...</td>\n      <td>...</td>\n      <td>...</td>\n      <td>...</td>\n      <td>...</td>\n      <td>...</td>\n      <td>...</td>\n    </tr>\n    <tr>\n      <th>259</th>\n      <td>0.126750</td>\n      <td>0.000395</td>\n      <td>Woodlawn/Wakefield</td>\n      <td>259</td>\n      <td>Bronx</td>\n      <td>POLYGON ((1025414.782 270986.139, 1025138.624 ...</td>\n      <td>Bronx</td>\n      <td>Woodlawn/Wakefield</td>\n      <td>Boro Zone</td>\n    </tr>\n    <tr>\n      <th>260</th>\n      <td>0.133514</td>\n      <td>0.000422</td>\n      <td>Woodside</td>\n      <td>260</td>\n      <td>Queens</td>\n      <td>POLYGON ((1011466.966 216463.005, 1011545.889 ...</td>\n      <td>Queens</td>\n      <td>Woodside</td>\n      <td>Boro Zone</td>\n    </tr>\n    <tr>\n      <th>261</th>\n      <td>0.027120</td>\n      <td>0.000034</td>\n      <td>World Trade Center</td>\n      <td>261</td>\n      <td>Manhattan</td>\n      <td>POLYGON ((980555.204 196138.486, 980570.792 19...</td>\n      <td>Manhattan</td>\n      <td>World Trade Center</td>\n      <td>Yellow Zone</td>\n    </tr>\n    <tr>\n      <th>262</th>\n      <td>0.049064</td>\n      <td>0.000122</td>\n      <td>Yorkville East</td>\n      <td>262</td>\n      <td>Manhattan</td>\n      <td>MULTIPOLYGON (((999804.795 224498.527, 999824....</td>\n      <td>Manhattan</td>\n      <td>Yorkville East</td>\n      <td>Yellow Zone</td>\n    </tr>\n    <tr>\n      <th>263</th>\n      <td>0.037017</td>\n      <td>0.000066</td>\n      <td>Yorkville West</td>\n      <td>263</td>\n      <td>Manhattan</td>\n      <td>POLYGON ((997493.323 220912.386, 997355.264 22...</td>\n      <td>Manhattan</td>\n      <td>Yorkville West</td>\n      <td>Yellow Zone</td>\n    </tr>\n  </tbody>\n</table>\n<p>263 rows × 9 columns</p>\n</div>"
     },
     "execution_count": 5,
     "metadata": {},
     "output_type": "execute_result"
    }
   ],
   "source": [
    "geo_df = geopandas.read_file(\"../data/taxi_zones/taxi_zones.geojson\") \n",
    "\n",
    "joined_gdf = geo_df.merge(taxi_zone_df,how='left', on=\"LocationID\")\n",
    "\n",
    "joined_gdf.set_index(\"OBJECTID\")"
   ]
  },
  {
   "cell_type": "code",
   "execution_count": 6,
   "metadata": {},
   "outputs": [
    {
     "data": {
      "text/plain": "'cab_df = yellowcab.cleaning.get_date_components(cab_df)\\njoined_gdf = yellowcab.cleaning.get_position(joined_gdf)\\ncab_df = yellowcab.cleaning.to_int(cab_df)\\ncab_df = yellowcab.cleaning.get_duration(cab_df)\\ncab_df = yellowcab.cleaning.is_weekend(cab_df)\\ncab_df = yellowcab.cleaning.remove_outliers(cab_df)\\ncab_df'"
     },
     "execution_count": 6,
     "metadata": {},
     "output_type": "execute_result"
    }
   ],
   "source": [
    "\"\"\"cab_df = yellowcab.cleaning.get_date_components(cab_df)\n",
    "joined_gdf = yellowcab.cleaning.get_position(joined_gdf)\n",
    "cab_df = yellowcab.cleaning.to_int(cab_df)\n",
    "cab_df = yellowcab.cleaning.get_duration(cab_df)\n",
    "cab_df = yellowcab.cleaning.is_weekend(cab_df)\n",
    "cab_df = yellowcab.cleaning.remove_outliers(cab_df)\n",
    "cab_df\"\"\""
   ]
  },
  {
   "cell_type": "code",
   "execution_count": 7,
   "metadata": {
    "pycharm": {
     "name": "#%%\n"
    }
   },
   "outputs": [
    {
     "data": {
      "text/plain": "\"relevant_columns = ['passenger_count', 'trip_distance', 'RatecodeID',\\n                    'PULocationID', 'DOLocationID', 'payment_type',\\n                    'fare_amount', 'extra', 'mta_tax', 'tip_amount',\\n                    'tolls_amount', 'improvement_surcharge', 'total_amount',\\n                    'congestion_surcharge']\""
     },
     "execution_count": 7,
     "metadata": {},
     "output_type": "execute_result"
    }
   ],
   "source": [
    "\"\"\"relevant_columns = ['passenger_count', 'trip_distance', 'RatecodeID',\n",
    "                    'PULocationID', 'DOLocationID', 'payment_type',\n",
    "                    'fare_amount', 'extra', 'mta_tax', 'tip_amount',\n",
    "                    'tolls_amount', 'improvement_surcharge', 'total_amount',\n",
    "                    'congestion_surcharge']\"\"\""
   ]
  },
  {
   "cell_type": "code",
   "execution_count": 8,
   "metadata": {
    "pycharm": {
     "name": "#%%\n"
    },
    "scrolled": false
   },
   "outputs": [
    {
     "data": {
      "text/plain": "'\\nfor c in relevant_columns:\\n    print(\"---- %s ---\" % c)\\n    print(cab_df[c].value_counts())'"
     },
     "execution_count": 8,
     "metadata": {},
     "output_type": "execute_result"
    }
   ],
   "source": [
    "\"\"\"\n",
    "for c in relevant_columns:\n",
    "    print(\"---- %s ---\" % c)\n",
    "    print(cab_df[c].value_counts())\"\"\""
   ]
  },
  {
   "cell_type": "code",
   "execution_count": 9,
   "metadata": {
    "pycharm": {
     "name": "#%%\n"
    }
   },
   "outputs": [
    {
     "data": {
      "text/plain": "'\\ncab_df[cab_df[\"fare_amount\"] == 65.25].drop([\"start_month\", \"start_day\", \"start_hour\", \"end_month\", \"end_day\", \"end_hour\"], axis=1)\\n'"
     },
     "execution_count": 9,
     "metadata": {},
     "output_type": "execute_result"
    }
   ],
   "source": [
    "\"\"\"\n",
    "cab_df[cab_df[\"fare_amount\"] == 65.25].drop([\"start_month\", \"start_day\", \"start_hour\", \"end_month\", \"end_day\", \"end_hour\"], axis=1)\n",
    "\"\"\""
   ]
  },
  {
   "cell_type": "code",
   "execution_count": 10,
   "metadata": {
    "pycharm": {
     "name": "#%%\n"
    }
   },
   "outputs": [
    {
     "data": {
      "text/plain": "'\\ncab_df[cab_df[\"DOLocationID\"] == 1]'"
     },
     "execution_count": 10,
     "metadata": {},
     "output_type": "execute_result"
    }
   ],
   "source": [
    "\"\"\"\n",
    "cab_df[cab_df[\"DOLocationID\"] == 1]\"\"\""
   ]
  },
  {
   "cell_type": "code",
   "execution_count": 11,
   "metadata": {
    "pycharm": {
     "name": "#%%\n"
    }
   },
   "outputs": [
    {
     "name": "stdout",
     "output_type": "stream",
     "text": [
      "Shape with outliers: (4437696, 21) (4437696,)\n",
      "MAE with outliers: 0.301\n",
      "Shape isolation forest: (3816108, 21) (3816108,)\n",
      "MAE isolation forest: 0.308\n"
     ]
    },
    {
     "data": {
      "text/plain": "         passenger_count  trip_distance RatecodeID PULocationID DOLocationID  \\\n0                      1           1.20        1.0          238          239   \n1                      1           1.20        1.0          239          238   \n2                      1           0.60        1.0          238          238   \n3                      1           0.80        1.0          238          151   \n4                      1           0.00        1.0          193          193   \n...                  ...            ...        ...          ...          ...   \n6339562                1           2.10        1.0          163          246   \n6339563                1           2.13        1.0          164           79   \n6339564                1           2.55        1.0           79           68   \n6339565                1           1.61        1.0          100          142   \n6339566                1           0.00        1.0          193          193   \n\n        payment_type  fare_amount  extra  mta_tax  tip_amount  ...  \\\n0                1.0          6.0    3.0      0.5        1.47  ...   \n1                1.0          7.0    3.0      0.5        1.50  ...   \n2                1.0          6.0    3.0      0.5        1.00  ...   \n3                1.0          5.5    0.5      0.5        1.36  ...   \n4                2.0          3.5    0.5      0.5        0.00  ...   \n...              ...          ...    ...      ...         ...  ...   \n6339562          1.0         11.0    0.5      0.5        2.96  ...   \n6339563          1.0         13.0    0.5      0.5        3.36  ...   \n6339564          1.0         12.5    0.5      0.5        3.26  ...   \n6339565          2.0          8.5    0.5      0.5        0.00  ...   \n6339566          1.0          0.0    0.0      0.0        0.00  ...   \n\n         total_amount  congestion_surcharge  start_month  start_day  \\\n0               11.27                   2.5            1          1   \n1               12.30                   2.5            1          1   \n2               10.80                   2.5            1          1   \n3                8.16                   0.0            1          1   \n4                4.80                   0.0            1          1   \n...               ...                   ...          ...        ...   \n6339562         17.76                   2.5            1         31   \n6339563         20.16                   2.5            1         31   \n6339564         19.56                   2.5            1         31   \n6339565         12.30                   2.5            1         31   \n6339566          0.00                   0.0            1         31   \n\n         start_hour  end_month  end_day  end_hour  weekend  \\\n0                 0          1        1         0    False   \n1                 0          1        1         0    False   \n2                 0          1        1         0    False   \n3                 0          1        1         1    False   \n4                 0          1        1         0    False   \n...             ...        ...      ...       ...      ...   \n6339562          23          1       31        23    False   \n6339563          23          1       31        23    False   \n6339564          23          1       31        23    False   \n6339565          23          1       31        23    False   \n6339566          23          1       31        23    False   \n\n         trip_duration_minutes  \n0                     4.800000  \n1                     7.416667  \n2                     6.183333  \n3                     4.850000  \n4                     2.300000  \n...                        ...  \n6339562              14.233333  \n6339563              19.000000  \n6339564              16.283333  \n6339565               9.633333  \n6339566               1.066667  \n\n[6339567 rows x 22 columns]",
      "text/html": "<div>\n<style scoped>\n    .dataframe tbody tr th:only-of-type {\n        vertical-align: middle;\n    }\n\n    .dataframe tbody tr th {\n        vertical-align: top;\n    }\n\n    .dataframe thead th {\n        text-align: right;\n    }\n</style>\n<table border=\"1\" class=\"dataframe\">\n  <thead>\n    <tr style=\"text-align: right;\">\n      <th></th>\n      <th>passenger_count</th>\n      <th>trip_distance</th>\n      <th>RatecodeID</th>\n      <th>PULocationID</th>\n      <th>DOLocationID</th>\n      <th>payment_type</th>\n      <th>fare_amount</th>\n      <th>extra</th>\n      <th>mta_tax</th>\n      <th>tip_amount</th>\n      <th>...</th>\n      <th>total_amount</th>\n      <th>congestion_surcharge</th>\n      <th>start_month</th>\n      <th>start_day</th>\n      <th>start_hour</th>\n      <th>end_month</th>\n      <th>end_day</th>\n      <th>end_hour</th>\n      <th>weekend</th>\n      <th>trip_duration_minutes</th>\n    </tr>\n  </thead>\n  <tbody>\n    <tr>\n      <th>0</th>\n      <td>1</td>\n      <td>1.20</td>\n      <td>1.0</td>\n      <td>238</td>\n      <td>239</td>\n      <td>1.0</td>\n      <td>6.0</td>\n      <td>3.0</td>\n      <td>0.5</td>\n      <td>1.47</td>\n      <td>...</td>\n      <td>11.27</td>\n      <td>2.5</td>\n      <td>1</td>\n      <td>1</td>\n      <td>0</td>\n      <td>1</td>\n      <td>1</td>\n      <td>0</td>\n      <td>False</td>\n      <td>4.800000</td>\n    </tr>\n    <tr>\n      <th>1</th>\n      <td>1</td>\n      <td>1.20</td>\n      <td>1.0</td>\n      <td>239</td>\n      <td>238</td>\n      <td>1.0</td>\n      <td>7.0</td>\n      <td>3.0</td>\n      <td>0.5</td>\n      <td>1.50</td>\n      <td>...</td>\n      <td>12.30</td>\n      <td>2.5</td>\n      <td>1</td>\n      <td>1</td>\n      <td>0</td>\n      <td>1</td>\n      <td>1</td>\n      <td>0</td>\n      <td>False</td>\n      <td>7.416667</td>\n    </tr>\n    <tr>\n      <th>2</th>\n      <td>1</td>\n      <td>0.60</td>\n      <td>1.0</td>\n      <td>238</td>\n      <td>238</td>\n      <td>1.0</td>\n      <td>6.0</td>\n      <td>3.0</td>\n      <td>0.5</td>\n      <td>1.00</td>\n      <td>...</td>\n      <td>10.80</td>\n      <td>2.5</td>\n      <td>1</td>\n      <td>1</td>\n      <td>0</td>\n      <td>1</td>\n      <td>1</td>\n      <td>0</td>\n      <td>False</td>\n      <td>6.183333</td>\n    </tr>\n    <tr>\n      <th>3</th>\n      <td>1</td>\n      <td>0.80</td>\n      <td>1.0</td>\n      <td>238</td>\n      <td>151</td>\n      <td>1.0</td>\n      <td>5.5</td>\n      <td>0.5</td>\n      <td>0.5</td>\n      <td>1.36</td>\n      <td>...</td>\n      <td>8.16</td>\n      <td>0.0</td>\n      <td>1</td>\n      <td>1</td>\n      <td>0</td>\n      <td>1</td>\n      <td>1</td>\n      <td>1</td>\n      <td>False</td>\n      <td>4.850000</td>\n    </tr>\n    <tr>\n      <th>4</th>\n      <td>1</td>\n      <td>0.00</td>\n      <td>1.0</td>\n      <td>193</td>\n      <td>193</td>\n      <td>2.0</td>\n      <td>3.5</td>\n      <td>0.5</td>\n      <td>0.5</td>\n      <td>0.00</td>\n      <td>...</td>\n      <td>4.80</td>\n      <td>0.0</td>\n      <td>1</td>\n      <td>1</td>\n      <td>0</td>\n      <td>1</td>\n      <td>1</td>\n      <td>0</td>\n      <td>False</td>\n      <td>2.300000</td>\n    </tr>\n    <tr>\n      <th>...</th>\n      <td>...</td>\n      <td>...</td>\n      <td>...</td>\n      <td>...</td>\n      <td>...</td>\n      <td>...</td>\n      <td>...</td>\n      <td>...</td>\n      <td>...</td>\n      <td>...</td>\n      <td>...</td>\n      <td>...</td>\n      <td>...</td>\n      <td>...</td>\n      <td>...</td>\n      <td>...</td>\n      <td>...</td>\n      <td>...</td>\n      <td>...</td>\n      <td>...</td>\n      <td>...</td>\n    </tr>\n    <tr>\n      <th>6339562</th>\n      <td>1</td>\n      <td>2.10</td>\n      <td>1.0</td>\n      <td>163</td>\n      <td>246</td>\n      <td>1.0</td>\n      <td>11.0</td>\n      <td>0.5</td>\n      <td>0.5</td>\n      <td>2.96</td>\n      <td>...</td>\n      <td>17.76</td>\n      <td>2.5</td>\n      <td>1</td>\n      <td>31</td>\n      <td>23</td>\n      <td>1</td>\n      <td>31</td>\n      <td>23</td>\n      <td>False</td>\n      <td>14.233333</td>\n    </tr>\n    <tr>\n      <th>6339563</th>\n      <td>1</td>\n      <td>2.13</td>\n      <td>1.0</td>\n      <td>164</td>\n      <td>79</td>\n      <td>1.0</td>\n      <td>13.0</td>\n      <td>0.5</td>\n      <td>0.5</td>\n      <td>3.36</td>\n      <td>...</td>\n      <td>20.16</td>\n      <td>2.5</td>\n      <td>1</td>\n      <td>31</td>\n      <td>23</td>\n      <td>1</td>\n      <td>31</td>\n      <td>23</td>\n      <td>False</td>\n      <td>19.000000</td>\n    </tr>\n    <tr>\n      <th>6339564</th>\n      <td>1</td>\n      <td>2.55</td>\n      <td>1.0</td>\n      <td>79</td>\n      <td>68</td>\n      <td>1.0</td>\n      <td>12.5</td>\n      <td>0.5</td>\n      <td>0.5</td>\n      <td>3.26</td>\n      <td>...</td>\n      <td>19.56</td>\n      <td>2.5</td>\n      <td>1</td>\n      <td>31</td>\n      <td>23</td>\n      <td>1</td>\n      <td>31</td>\n      <td>23</td>\n      <td>False</td>\n      <td>16.283333</td>\n    </tr>\n    <tr>\n      <th>6339565</th>\n      <td>1</td>\n      <td>1.61</td>\n      <td>1.0</td>\n      <td>100</td>\n      <td>142</td>\n      <td>2.0</td>\n      <td>8.5</td>\n      <td>0.5</td>\n      <td>0.5</td>\n      <td>0.00</td>\n      <td>...</td>\n      <td>12.30</td>\n      <td>2.5</td>\n      <td>1</td>\n      <td>31</td>\n      <td>23</td>\n      <td>1</td>\n      <td>31</td>\n      <td>23</td>\n      <td>False</td>\n      <td>9.633333</td>\n    </tr>\n    <tr>\n      <th>6339566</th>\n      <td>1</td>\n      <td>0.00</td>\n      <td>1.0</td>\n      <td>193</td>\n      <td>193</td>\n      <td>1.0</td>\n      <td>0.0</td>\n      <td>0.0</td>\n      <td>0.0</td>\n      <td>0.00</td>\n      <td>...</td>\n      <td>0.00</td>\n      <td>0.0</td>\n      <td>1</td>\n      <td>31</td>\n      <td>23</td>\n      <td>1</td>\n      <td>31</td>\n      <td>23</td>\n      <td>False</td>\n      <td>1.066667</td>\n    </tr>\n  </tbody>\n</table>\n<p>6339567 rows × 22 columns</p>\n</div>"
     },
     "execution_count": 11,
     "metadata": {},
     "output_type": "execute_result"
    }
   ],
   "source": [
    "%timeit\n",
    "yellowcab.cleaning.clean_dataset(cab_df, \"fare_amount\")"
   ]
  },
  {
   "cell_type": "code",
   "execution_count": 11,
   "outputs": [],
   "source": [],
   "metadata": {
    "collapsed": false,
    "pycharm": {
     "name": "#%%\n"
    }
   }
  }
 ],
 "metadata": {
  "kernelspec": {
   "display_name": "Python 3",
   "language": "python",
   "name": "python3"
  },
  "language_info": {
   "codemirror_mode": {
    "name": "ipython",
    "version": 3
   },
   "file_extension": ".py",
   "mimetype": "text/x-python",
   "name": "python",
   "nbconvert_exporter": "python",
   "pygments_lexer": "ipython3",
   "version": "3.8.8"
  }
 },
 "nbformat": 4,
 "nbformat_minor": 1
}