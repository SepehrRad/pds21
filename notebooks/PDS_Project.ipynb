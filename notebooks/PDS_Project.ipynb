{
 "cells": [
  {
   "cell_type": "code",
   "execution_count": 1,
   "metadata": {},
   "outputs": [],
   "source": [
    "import pandas as pd\n",
    "import yellowcab.cleaning"
   ]
  },
  {
   "cell_type": "code",
   "execution_count": 2,
   "metadata": {},
   "outputs": [
    {
     "data": {
      "text/plain": "        tpep_pickup_datetime tpep_dropoff_datetime  passenger_count  \\\n0        2020-01-01 00:28:15   2020-01-01 00:33:03              1.0   \n1        2020-01-01 00:35:39   2020-01-01 00:43:04              1.0   \n2        2020-01-01 00:47:41   2020-01-01 00:53:52              1.0   \n3        2020-01-01 00:55:23   2020-01-01 01:00:14              1.0   \n4        2020-01-01 00:01:58   2020-01-01 00:04:16              1.0   \n...                      ...                   ...              ...   \n6339562  2020-01-31 23:38:07   2020-01-31 23:52:21              1.0   \n6339563  2020-01-31 23:00:18   2020-01-31 23:19:18              1.0   \n6339564  2020-01-31 23:24:22   2020-01-31 23:40:39              1.0   \n6339565  2020-01-31 23:44:22   2020-01-31 23:54:00              1.0   \n6339566  2020-01-31 23:19:37   2020-01-31 23:20:41              1.0   \n\n         trip_distance  RatecodeID  PULocationID  DOLocationID  payment_type  \\\n0                 1.20         1.0           238           239           1.0   \n1                 1.20         1.0           239           238           1.0   \n2                 0.60         1.0           238           238           1.0   \n3                 0.80         1.0           238           151           1.0   \n4                 0.00         1.0           193           193           2.0   \n...                ...         ...           ...           ...           ...   \n6339562           2.10         1.0           163           246           1.0   \n6339563           2.13         1.0           164            79           1.0   \n6339564           2.55         1.0            79            68           1.0   \n6339565           1.61         1.0           100           142           2.0   \n6339566           0.00         1.0           193           193           1.0   \n\n         fare_amount  extra  mta_tax  tip_amount  tolls_amount  \\\n0                6.0    3.0      0.5        1.47           0.0   \n1                7.0    3.0      0.5        1.50           0.0   \n2                6.0    3.0      0.5        1.00           0.0   \n3                5.5    0.5      0.5        1.36           0.0   \n4                3.5    0.5      0.5        0.00           0.0   \n...              ...    ...      ...         ...           ...   \n6339562         11.0    0.5      0.5        2.96           0.0   \n6339563         13.0    0.5      0.5        3.36           0.0   \n6339564         12.5    0.5      0.5        3.26           0.0   \n6339565          8.5    0.5      0.5        0.00           0.0   \n6339566          0.0    0.0      0.0        0.00           0.0   \n\n         improvement_surcharge  total_amount  congestion_surcharge  \n0                          0.3         11.27                   2.5  \n1                          0.3         12.30                   2.5  \n2                          0.3         10.80                   2.5  \n3                          0.3          8.16                   0.0  \n4                          0.3          4.80                   0.0  \n...                        ...           ...                   ...  \n6339562                    0.3         17.76                   2.5  \n6339563                    0.3         20.16                   2.5  \n6339564                    0.3         19.56                   2.5  \n6339565                    0.3         12.30                   2.5  \n6339566                    0.0          0.00                   0.0  \n\n[6339567 rows x 16 columns]",
      "text/html": "<div>\n<style scoped>\n    .dataframe tbody tr th:only-of-type {\n        vertical-align: middle;\n    }\n\n    .dataframe tbody tr th {\n        vertical-align: top;\n    }\n\n    .dataframe thead th {\n        text-align: right;\n    }\n</style>\n<table border=\"1\" class=\"dataframe\">\n  <thead>\n    <tr style=\"text-align: right;\">\n      <th></th>\n      <th>tpep_pickup_datetime</th>\n      <th>tpep_dropoff_datetime</th>\n      <th>passenger_count</th>\n      <th>trip_distance</th>\n      <th>RatecodeID</th>\n      <th>PULocationID</th>\n      <th>DOLocationID</th>\n      <th>payment_type</th>\n      <th>fare_amount</th>\n      <th>extra</th>\n      <th>mta_tax</th>\n      <th>tip_amount</th>\n      <th>tolls_amount</th>\n      <th>improvement_surcharge</th>\n      <th>total_amount</th>\n      <th>congestion_surcharge</th>\n    </tr>\n  </thead>\n  <tbody>\n    <tr>\n      <th>0</th>\n      <td>2020-01-01 00:28:15</td>\n      <td>2020-01-01 00:33:03</td>\n      <td>1.0</td>\n      <td>1.20</td>\n      <td>1.0</td>\n      <td>238</td>\n      <td>239</td>\n      <td>1.0</td>\n      <td>6.0</td>\n      <td>3.0</td>\n      <td>0.5</td>\n      <td>1.47</td>\n      <td>0.0</td>\n      <td>0.3</td>\n      <td>11.27</td>\n      <td>2.5</td>\n    </tr>\n    <tr>\n      <th>1</th>\n      <td>2020-01-01 00:35:39</td>\n      <td>2020-01-01 00:43:04</td>\n      <td>1.0</td>\n      <td>1.20</td>\n      <td>1.0</td>\n      <td>239</td>\n      <td>238</td>\n      <td>1.0</td>\n      <td>7.0</td>\n      <td>3.0</td>\n      <td>0.5</td>\n      <td>1.50</td>\n      <td>0.0</td>\n      <td>0.3</td>\n      <td>12.30</td>\n      <td>2.5</td>\n    </tr>\n    <tr>\n      <th>2</th>\n      <td>2020-01-01 00:47:41</td>\n      <td>2020-01-01 00:53:52</td>\n      <td>1.0</td>\n      <td>0.60</td>\n      <td>1.0</td>\n      <td>238</td>\n      <td>238</td>\n      <td>1.0</td>\n      <td>6.0</td>\n      <td>3.0</td>\n      <td>0.5</td>\n      <td>1.00</td>\n      <td>0.0</td>\n      <td>0.3</td>\n      <td>10.80</td>\n      <td>2.5</td>\n    </tr>\n    <tr>\n      <th>3</th>\n      <td>2020-01-01 00:55:23</td>\n      <td>2020-01-01 01:00:14</td>\n      <td>1.0</td>\n      <td>0.80</td>\n      <td>1.0</td>\n      <td>238</td>\n      <td>151</td>\n      <td>1.0</td>\n      <td>5.5</td>\n      <td>0.5</td>\n      <td>0.5</td>\n      <td>1.36</td>\n      <td>0.0</td>\n      <td>0.3</td>\n      <td>8.16</td>\n      <td>0.0</td>\n    </tr>\n    <tr>\n      <th>4</th>\n      <td>2020-01-01 00:01:58</td>\n      <td>2020-01-01 00:04:16</td>\n      <td>1.0</td>\n      <td>0.00</td>\n      <td>1.0</td>\n      <td>193</td>\n      <td>193</td>\n      <td>2.0</td>\n      <td>3.5</td>\n      <td>0.5</td>\n      <td>0.5</td>\n      <td>0.00</td>\n      <td>0.0</td>\n      <td>0.3</td>\n      <td>4.80</td>\n      <td>0.0</td>\n    </tr>\n    <tr>\n      <th>...</th>\n      <td>...</td>\n      <td>...</td>\n      <td>...</td>\n      <td>...</td>\n      <td>...</td>\n      <td>...</td>\n      <td>...</td>\n      <td>...</td>\n      <td>...</td>\n      <td>...</td>\n      <td>...</td>\n      <td>...</td>\n      <td>...</td>\n      <td>...</td>\n      <td>...</td>\n      <td>...</td>\n    </tr>\n    <tr>\n      <th>6339562</th>\n      <td>2020-01-31 23:38:07</td>\n      <td>2020-01-31 23:52:21</td>\n      <td>1.0</td>\n      <td>2.10</td>\n      <td>1.0</td>\n      <td>163</td>\n      <td>246</td>\n      <td>1.0</td>\n      <td>11.0</td>\n      <td>0.5</td>\n      <td>0.5</td>\n      <td>2.96</td>\n      <td>0.0</td>\n      <td>0.3</td>\n      <td>17.76</td>\n      <td>2.5</td>\n    </tr>\n    <tr>\n      <th>6339563</th>\n      <td>2020-01-31 23:00:18</td>\n      <td>2020-01-31 23:19:18</td>\n      <td>1.0</td>\n      <td>2.13</td>\n      <td>1.0</td>\n      <td>164</td>\n      <td>79</td>\n      <td>1.0</td>\n      <td>13.0</td>\n      <td>0.5</td>\n      <td>0.5</td>\n      <td>3.36</td>\n      <td>0.0</td>\n      <td>0.3</td>\n      <td>20.16</td>\n      <td>2.5</td>\n    </tr>\n    <tr>\n      <th>6339564</th>\n      <td>2020-01-31 23:24:22</td>\n      <td>2020-01-31 23:40:39</td>\n      <td>1.0</td>\n      <td>2.55</td>\n      <td>1.0</td>\n      <td>79</td>\n      <td>68</td>\n      <td>1.0</td>\n      <td>12.5</td>\n      <td>0.5</td>\n      <td>0.5</td>\n      <td>3.26</td>\n      <td>0.0</td>\n      <td>0.3</td>\n      <td>19.56</td>\n      <td>2.5</td>\n    </tr>\n    <tr>\n      <th>6339565</th>\n      <td>2020-01-31 23:44:22</td>\n      <td>2020-01-31 23:54:00</td>\n      <td>1.0</td>\n      <td>1.61</td>\n      <td>1.0</td>\n      <td>100</td>\n      <td>142</td>\n      <td>2.0</td>\n      <td>8.5</td>\n      <td>0.5</td>\n      <td>0.5</td>\n      <td>0.00</td>\n      <td>0.0</td>\n      <td>0.3</td>\n      <td>12.30</td>\n      <td>2.5</td>\n    </tr>\n    <tr>\n      <th>6339566</th>\n      <td>2020-01-31 23:19:37</td>\n      <td>2020-01-31 23:20:41</td>\n      <td>1.0</td>\n      <td>0.00</td>\n      <td>1.0</td>\n      <td>193</td>\n      <td>193</td>\n      <td>1.0</td>\n      <td>0.0</td>\n      <td>0.0</td>\n      <td>0.0</td>\n      <td>0.00</td>\n      <td>0.0</td>\n      <td>0.0</td>\n      <td>0.00</td>\n      <td>0.0</td>\n    </tr>\n  </tbody>\n</table>\n<p>6339567 rows × 16 columns</p>\n</div>"
     },
     "execution_count": 2,
     "metadata": {},
     "output_type": "execute_result"
    }
   ],
   "source": [
    "cab_df = pd.read_parquet(\"../data/trip_data/01.parquet\")\n",
    "cab_df"
   ]
  },
  {
   "cell_type": "code",
   "execution_count": 3,
   "metadata": {},
   "outputs": [
    {
     "name": "stdout",
     "output_type": "stream",
     "text": [
      "<class 'pandas.core.frame.DataFrame'>\n",
      "Int64Index: 6339567 entries, 0 to 6339566\n",
      "Data columns (total 16 columns):\n",
      " #   Column                 Dtype         \n",
      "---  ------                 -----         \n",
      " 0   tpep_pickup_datetime   datetime64[ns]\n",
      " 1   tpep_dropoff_datetime  datetime64[ns]\n",
      " 2   passenger_count        float64       \n",
      " 3   trip_distance          float64       \n",
      " 4   RatecodeID             float64       \n",
      " 5   PULocationID           int64         \n",
      " 6   DOLocationID           int64         \n",
      " 7   payment_type           float64       \n",
      " 8   fare_amount            float64       \n",
      " 9   extra                  float64       \n",
      " 10  mta_tax                float64       \n",
      " 11  tip_amount             float64       \n",
      " 12  tolls_amount           float64       \n",
      " 13  improvement_surcharge  float64       \n",
      " 14  total_amount           float64       \n",
      " 15  congestion_surcharge   float64       \n",
      "dtypes: datetime64[ns](2), float64(12), int64(2)\n",
      "memory usage: 822.2 MB\n"
     ]
    }
   ],
   "source": [
    "cab_df.info()\n"
   ]
  },
  {
   "cell_type": "code",
   "execution_count": 4,
   "metadata": {
    "pycharm": {
     "name": "#%%\n"
    }
   },
   "outputs": [],
   "source": [
    "relevant_columns = ['passenger_count', 'trip_distance', 'RatecodeID',\n",
    "                    'PULocationID', 'DOLocationID', 'payment_type',\n",
    "                    'fare_amount', 'extra', 'mta_tax', 'tip_amount',\n",
    "                    'tolls_amount', 'improvement_surcharge', 'total_amount',\n",
    "                    'congestion_surcharge']"
   ]
  },
  {
   "cell_type": "code",
   "execution_count": 5,
   "outputs": [
    {
     "name": "stdout",
     "output_type": "stream",
     "text": [
      "---- passenger_count ---\n",
      "1.0    4547226\n",
      "2.0     946423\n",
      "3.0     250234\n",
      "5.0     225693\n",
      "6.0     132154\n",
      "4.0     123470\n",
      "0.0     114302\n",
      "7.0         29\n",
      "9.0         19\n",
      "8.0         17\n",
      "Name: passenger_count, dtype: int64\n",
      "---- trip_distance ---\n",
      "0.90     117827\n",
      "0.80     117234\n",
      "1.00     116409\n",
      "0.70     111748\n",
      "1.10     111463\n",
      "          ...  \n",
      "36.23         1\n",
      "91.47         1\n",
      "54.34         1\n",
      "46.25         1\n",
      "30.45         1\n",
      "Name: trip_distance, Length: 4498, dtype: int64\n",
      "---- RatecodeID ---\n",
      "1.0     6126536\n",
      "2.0      157733\n",
      "5.0       36296\n",
      "3.0       13476\n",
      "4.0        5130\n",
      "99.0        350\n",
      "6.0          46\n",
      "Name: RatecodeID, dtype: int64\n",
      "---- PULocationID ---\n",
      "237    292467\n",
      "161    281545\n",
      "236    271999\n",
      "162    235024\n",
      "186    228231\n",
      "        ...  \n",
      "105         2\n",
      "245         1\n",
      "30          1\n",
      "204         1\n",
      "172         1\n",
      "Name: PULocationID, Length: 260, dtype: int64\n",
      "---- DOLocationID ---\n",
      "236    288835\n",
      "237    263281\n",
      "161    249359\n",
      "170    196167\n",
      "162    193808\n",
      "        ...  \n",
      "59         29\n",
      "99         16\n",
      "2           4\n",
      "105         3\n",
      "104         1\n",
      "Name: DOLocationID, Length: 262, dtype: int64\n",
      "---- payment_type ---\n",
      "1.0    4694897\n",
      "2.0    1593834\n",
      "3.0      32770\n",
      "4.0      18065\n",
      "5.0          1\n",
      "Name: payment_type, dtype: int64\n",
      "---- fare_amount ---\n",
      "6.00      338926\n",
      "6.50      334565\n",
      "5.50      329035\n",
      "7.00      325405\n",
      "7.50      308165\n",
      "           ...  \n",
      "50.52          1\n",
      "292.00         1\n",
      "6.65           1\n",
      "28.56          1\n",
      "30.45          1\n",
      "Name: fare_amount, Length: 2423, dtype: int64\n",
      "---- extra ---\n",
      " 0.00      2393274\n",
      " 0.50      1216847\n",
      " 2.50      1058585\n",
      " 1.00       758012\n",
      " 3.00       506444\n",
      " 3.50       366557\n",
      " 4.50        21631\n",
      " 7.00         7676\n",
      "-0.50         6218\n",
      "-1.00         2874\n",
      " 0.80          621\n",
      " 1.30          268\n",
      "-4.50          233\n",
      " 1.80          178\n",
      " 2.00           60\n",
      " 0.30           33\n",
      " 2.80            8\n",
      "-2.00            6\n",
      " 5.30            5\n",
      " 5.00            5\n",
      "-2.50            3\n",
      "-0.80            3\n",
      "-3.50            3\n",
      "-3.00            2\n",
      " 9.50            2\n",
      " 113.01          1\n",
      " 13.50           1\n",
      " 87.56           1\n",
      " 1.02            1\n",
      "-7.00            1\n",
      " 1.75            1\n",
      " 0.01            1\n",
      " 26.70           1\n",
      " 0.02            1\n",
      " 9.40            1\n",
      " 33.75           1\n",
      "-27.00           1\n",
      " 0.52            1\n",
      " 52.50           1\n",
      " 0.22            1\n",
      " 18.35           1\n",
      " 13.80           1\n",
      " 2.15            1\n",
      " 2.95            1\n",
      "Name: extra, dtype: int64\n",
      "---- mta_tax ---\n",
      " 0.50     6279840\n",
      " 0.00       40697\n",
      "-0.50       19012\n",
      " 3.30          11\n",
      " 1.10           1\n",
      " 0.35           1\n",
      " 3.00           1\n",
      " 6.80           1\n",
      " 30.80          1\n",
      " 2.50           1\n",
      " 1.54           1\n",
      "Name: mta_tax, dtype: int64\n",
      "---- tip_amount ---\n",
      "0.00     1785514\n",
      "1.00      360634\n",
      "2.00      234830\n",
      "2.06       94915\n",
      "1.96       93417\n",
      "          ...   \n",
      "33.27          1\n",
      "35.19          1\n",
      "39.73          1\n",
      "31.86          1\n",
      "29.42          1\n",
      "Name: tip_amount, Length: 3624, dtype: int64\n",
      "---- tolls_amount ---\n",
      "0.00     6021568\n",
      "6.12      290895\n",
      "11.75       3910\n",
      "2.80        3433\n",
      "13.75       2725\n",
      "          ...   \n",
      "19.62          1\n",
      "23.12          1\n",
      "36.90          1\n",
      "62.12          1\n",
      "30.45          1\n",
      "Name: tolls_amount, Length: 1028, dtype: int64\n",
      "---- improvement_surcharge ---\n",
      " 0.3    6316072\n",
      "-0.3      19437\n",
      " 0.0       4058\n",
      "Name: improvement_surcharge, dtype: int64\n",
      "---- total_amount ---\n",
      "10.30     122878\n",
      "9.80      122657\n",
      "9.30      119731\n",
      "10.80     119411\n",
      "11.30     114898\n",
      "           ...  \n",
      "39.41          1\n",
      "200.60         1\n",
      "4.64           1\n",
      "93.86          1\n",
      "94.72          1\n",
      "Name: total_amount, Length: 12230, dtype: int64\n",
      "---- congestion_surcharge ---\n",
      " 2.50    5845317\n",
      " 0.00     478675\n",
      "-2.50      15425\n",
      " 2.75         76\n",
      " 0.75         68\n",
      " 0.50          4\n",
      "-0.75          1\n",
      " 2.00          1\n",
      "Name: congestion_surcharge, dtype: int64\n"
     ]
    }
   ],
   "source": [
    "for c in relevant_columns:\n",
    "    print(\"---- %s ---\" % c)\n",
    "    print(cab_df[c].value_counts())"
   ],
   "metadata": {
    "collapsed": false,
    "pycharm": {
     "name": "#%%\n"
    }
   }
  },
  {
   "cell_type": "code",
   "execution_count": 6,
   "outputs": [
    {
     "name": "stdout",
     "output_type": "stream",
     "text": [
      "--> 114302 invalid entries found in passenger_count\n",
      "--> 65343 invalid entries found in trip_distance\n",
      "--> 17104 invalid entries found in fare_amount\n",
      "--> 2 invalid entries found in extra\n",
      "--> 0 invalid entries found in mta_tax\n",
      "--> 0 invalid entries found in tip_amount\n",
      "--> 0 invalid entries found in tolls_amount\n",
      "--> 0 invalid entries found in improvement_surcharge\n",
      "--> 0 invalid entries found in total_amount\n",
      "--> 0 invalid entries found in congestion_surcharge\n",
      "196751 invalid entries have been successfully dropped!\n",
      "--> 155 earlier date entries found in pickup\n",
      "--> 50 later date entries found in pickup\n",
      "205 invalid date entries have been successfully dropped!\n",
      "--> 32 outlier detected and removed from passenger_count column using zscore\n",
      "--> 7630 outlier detected and removed from trip_distance column using HBOS algorithm\n",
      "--> 8 outlier detected and removed from fare_amount column using HBOS algorithm\n",
      "--> 5 outlier detected and removed from extra column using HBOS algorithm\n",
      "--> 23548 outlier detected and removed from mta_tax column using HBOS algorithm\n",
      "--> 39 outlier detected and removed from tip_amount column using HBOS algorithm\n",
      "--> 17 outlier detected and removed from tolls_amount column using HBOS algorithm\n",
      "--> 1118 outlier detected and removed from improvement_surcharge column using HBOS algorithm\n",
      "--> 33228 outlier detected and removed from total_amount column using zscore\n",
      "--> 0 outlier detected and removed from congestion_surcharge column using zscore\n",
      "--> 13018 outlier detected and removed from trip_duration_minutes column using zscore\n",
      "Outlier detection completed. Number of removed outlier: 78643\n"
     ]
    }
   ],
   "source": [
    "x = yellowcab.cleaning.clean_dataset(cab_df, month=1, verbose=True)"
   ],
   "metadata": {
    "collapsed": false,
    "pycharm": {
     "name": "#%%\n"
    }
   }
  },
  {
   "cell_type": "code",
   "execution_count": 7,
   "outputs": [
    {
     "data": {
      "text/plain": "            pickup_datetime    dropoff_datetime  passenger_count  \\\n0       2020-01-01 00:28:15 2020-01-01 00:33:03              1.0   \n1       2020-01-01 00:35:39 2020-01-01 00:43:04              1.0   \n2       2020-01-01 00:47:41 2020-01-01 00:53:52              1.0   \n3       2020-01-01 00:55:23 2020-01-01 01:00:14              1.0   \n4       2020-01-01 00:09:44 2020-01-01 00:10:37              1.0   \n...                     ...                 ...              ...   \n6063963 2020-01-31 23:00:01 2020-01-31 23:21:31              1.0   \n6063964 2020-01-31 23:38:07 2020-01-31 23:52:21              1.0   \n6063965 2020-01-31 23:00:18 2020-01-31 23:19:18              1.0   \n6063966 2020-01-31 23:24:22 2020-01-31 23:40:39              1.0   \n6063967 2020-01-31 23:44:22 2020-01-31 23:54:00              1.0   \n\n         trip_distance     RatecodeID PULocationID DOLocationID payment_type  \\\n0                 1.20  Standard rate          238          239  Credit card   \n1                 1.20  Standard rate          239          238  Credit card   \n2                 0.60  Standard rate          238          238  Credit card   \n3                 0.80  Standard rate          238          151  Credit card   \n4                 0.03  Standard rate            7          193         Cash   \n...                ...            ...          ...          ...          ...   \n6063963           4.11  Standard rate           48           75  Credit card   \n6063964           2.10  Standard rate          163          246  Credit card   \n6063965           2.13  Standard rate          164           79  Credit card   \n6063966           2.55  Standard rate           79           68  Credit card   \n6063967           1.61  Standard rate          100          142         Cash   \n\n         fare_amount  extra  ...  total_amount  congestion_surcharge  \\\n0                6.0    3.0  ...         11.27                   2.5   \n1                7.0    3.0  ...         12.30                   2.5   \n2                6.0    3.0  ...         10.80                   2.5   \n3                5.5    0.5  ...          8.16                   0.0   \n4                2.5    0.5  ...          3.80                   0.0   \n...              ...    ...  ...           ...                   ...   \n6063963         17.5    0.5  ...         25.56                   2.5   \n6063964         11.0    0.5  ...         17.76                   2.5   \n6063965         13.0    0.5  ...         20.16                   2.5   \n6063966         12.5    0.5  ...         19.56                   2.5   \n6063967          8.5    0.5  ...         12.30                   2.5   \n\n         trip_duration_minutes  pickup_month  pickup_day  pickup_hour  \\\n0                     4.800000             1           1            0   \n1                     7.416667             1           1            0   \n2                     6.183333             1           1            0   \n3                     4.850000             1           1            0   \n4                     0.883333             1           1            0   \n...                        ...           ...         ...          ...   \n6063963              21.500000             1          31           23   \n6063964              14.233333             1          31           23   \n6063965              19.000000             1          31           23   \n6063966              16.283333             1          31           23   \n6063967               9.633333             1          31           23   \n\n         dropoff_month  dropoff_day  dropoff_hour  weekend  \n0                    1            1             0    False  \n1                    1            1             0    False  \n2                    1            1             0    False  \n3                    1            1             1    False  \n4                    1            1             0    False  \n...                ...          ...           ...      ...  \n6063963              1           31            23    False  \n6063964              1           31            23    False  \n6063965              1           31            23    False  \n6063966              1           31            23    False  \n6063967              1           31            23    False  \n\n[6063968 rows x 24 columns]",
      "text/html": "<div>\n<style scoped>\n    .dataframe tbody tr th:only-of-type {\n        vertical-align: middle;\n    }\n\n    .dataframe tbody tr th {\n        vertical-align: top;\n    }\n\n    .dataframe thead th {\n        text-align: right;\n    }\n</style>\n<table border=\"1\" class=\"dataframe\">\n  <thead>\n    <tr style=\"text-align: right;\">\n      <th></th>\n      <th>pickup_datetime</th>\n      <th>dropoff_datetime</th>\n      <th>passenger_count</th>\n      <th>trip_distance</th>\n      <th>RatecodeID</th>\n      <th>PULocationID</th>\n      <th>DOLocationID</th>\n      <th>payment_type</th>\n      <th>fare_amount</th>\n      <th>extra</th>\n      <th>...</th>\n      <th>total_amount</th>\n      <th>congestion_surcharge</th>\n      <th>trip_duration_minutes</th>\n      <th>pickup_month</th>\n      <th>pickup_day</th>\n      <th>pickup_hour</th>\n      <th>dropoff_month</th>\n      <th>dropoff_day</th>\n      <th>dropoff_hour</th>\n      <th>weekend</th>\n    </tr>\n  </thead>\n  <tbody>\n    <tr>\n      <th>0</th>\n      <td>2020-01-01 00:28:15</td>\n      <td>2020-01-01 00:33:03</td>\n      <td>1.0</td>\n      <td>1.20</td>\n      <td>Standard rate</td>\n      <td>238</td>\n      <td>239</td>\n      <td>Credit card</td>\n      <td>6.0</td>\n      <td>3.0</td>\n      <td>...</td>\n      <td>11.27</td>\n      <td>2.5</td>\n      <td>4.800000</td>\n      <td>1</td>\n      <td>1</td>\n      <td>0</td>\n      <td>1</td>\n      <td>1</td>\n      <td>0</td>\n      <td>False</td>\n    </tr>\n    <tr>\n      <th>1</th>\n      <td>2020-01-01 00:35:39</td>\n      <td>2020-01-01 00:43:04</td>\n      <td>1.0</td>\n      <td>1.20</td>\n      <td>Standard rate</td>\n      <td>239</td>\n      <td>238</td>\n      <td>Credit card</td>\n      <td>7.0</td>\n      <td>3.0</td>\n      <td>...</td>\n      <td>12.30</td>\n      <td>2.5</td>\n      <td>7.416667</td>\n      <td>1</td>\n      <td>1</td>\n      <td>0</td>\n      <td>1</td>\n      <td>1</td>\n      <td>0</td>\n      <td>False</td>\n    </tr>\n    <tr>\n      <th>2</th>\n      <td>2020-01-01 00:47:41</td>\n      <td>2020-01-01 00:53:52</td>\n      <td>1.0</td>\n      <td>0.60</td>\n      <td>Standard rate</td>\n      <td>238</td>\n      <td>238</td>\n      <td>Credit card</td>\n      <td>6.0</td>\n      <td>3.0</td>\n      <td>...</td>\n      <td>10.80</td>\n      <td>2.5</td>\n      <td>6.183333</td>\n      <td>1</td>\n      <td>1</td>\n      <td>0</td>\n      <td>1</td>\n      <td>1</td>\n      <td>0</td>\n      <td>False</td>\n    </tr>\n    <tr>\n      <th>3</th>\n      <td>2020-01-01 00:55:23</td>\n      <td>2020-01-01 01:00:14</td>\n      <td>1.0</td>\n      <td>0.80</td>\n      <td>Standard rate</td>\n      <td>238</td>\n      <td>151</td>\n      <td>Credit card</td>\n      <td>5.5</td>\n      <td>0.5</td>\n      <td>...</td>\n      <td>8.16</td>\n      <td>0.0</td>\n      <td>4.850000</td>\n      <td>1</td>\n      <td>1</td>\n      <td>0</td>\n      <td>1</td>\n      <td>1</td>\n      <td>1</td>\n      <td>False</td>\n    </tr>\n    <tr>\n      <th>4</th>\n      <td>2020-01-01 00:09:44</td>\n      <td>2020-01-01 00:10:37</td>\n      <td>1.0</td>\n      <td>0.03</td>\n      <td>Standard rate</td>\n      <td>7</td>\n      <td>193</td>\n      <td>Cash</td>\n      <td>2.5</td>\n      <td>0.5</td>\n      <td>...</td>\n      <td>3.80</td>\n      <td>0.0</td>\n      <td>0.883333</td>\n      <td>1</td>\n      <td>1</td>\n      <td>0</td>\n      <td>1</td>\n      <td>1</td>\n      <td>0</td>\n      <td>False</td>\n    </tr>\n    <tr>\n      <th>...</th>\n      <td>...</td>\n      <td>...</td>\n      <td>...</td>\n      <td>...</td>\n      <td>...</td>\n      <td>...</td>\n      <td>...</td>\n      <td>...</td>\n      <td>...</td>\n      <td>...</td>\n      <td>...</td>\n      <td>...</td>\n      <td>...</td>\n      <td>...</td>\n      <td>...</td>\n      <td>...</td>\n      <td>...</td>\n      <td>...</td>\n      <td>...</td>\n      <td>...</td>\n      <td>...</td>\n    </tr>\n    <tr>\n      <th>6063963</th>\n      <td>2020-01-31 23:00:01</td>\n      <td>2020-01-31 23:21:31</td>\n      <td>1.0</td>\n      <td>4.11</td>\n      <td>Standard rate</td>\n      <td>48</td>\n      <td>75</td>\n      <td>Credit card</td>\n      <td>17.5</td>\n      <td>0.5</td>\n      <td>...</td>\n      <td>25.56</td>\n      <td>2.5</td>\n      <td>21.500000</td>\n      <td>1</td>\n      <td>31</td>\n      <td>23</td>\n      <td>1</td>\n      <td>31</td>\n      <td>23</td>\n      <td>False</td>\n    </tr>\n    <tr>\n      <th>6063964</th>\n      <td>2020-01-31 23:38:07</td>\n      <td>2020-01-31 23:52:21</td>\n      <td>1.0</td>\n      <td>2.10</td>\n      <td>Standard rate</td>\n      <td>163</td>\n      <td>246</td>\n      <td>Credit card</td>\n      <td>11.0</td>\n      <td>0.5</td>\n      <td>...</td>\n      <td>17.76</td>\n      <td>2.5</td>\n      <td>14.233333</td>\n      <td>1</td>\n      <td>31</td>\n      <td>23</td>\n      <td>1</td>\n      <td>31</td>\n      <td>23</td>\n      <td>False</td>\n    </tr>\n    <tr>\n      <th>6063965</th>\n      <td>2020-01-31 23:00:18</td>\n      <td>2020-01-31 23:19:18</td>\n      <td>1.0</td>\n      <td>2.13</td>\n      <td>Standard rate</td>\n      <td>164</td>\n      <td>79</td>\n      <td>Credit card</td>\n      <td>13.0</td>\n      <td>0.5</td>\n      <td>...</td>\n      <td>20.16</td>\n      <td>2.5</td>\n      <td>19.000000</td>\n      <td>1</td>\n      <td>31</td>\n      <td>23</td>\n      <td>1</td>\n      <td>31</td>\n      <td>23</td>\n      <td>False</td>\n    </tr>\n    <tr>\n      <th>6063966</th>\n      <td>2020-01-31 23:24:22</td>\n      <td>2020-01-31 23:40:39</td>\n      <td>1.0</td>\n      <td>2.55</td>\n      <td>Standard rate</td>\n      <td>79</td>\n      <td>68</td>\n      <td>Credit card</td>\n      <td>12.5</td>\n      <td>0.5</td>\n      <td>...</td>\n      <td>19.56</td>\n      <td>2.5</td>\n      <td>16.283333</td>\n      <td>1</td>\n      <td>31</td>\n      <td>23</td>\n      <td>1</td>\n      <td>31</td>\n      <td>23</td>\n      <td>False</td>\n    </tr>\n    <tr>\n      <th>6063967</th>\n      <td>2020-01-31 23:44:22</td>\n      <td>2020-01-31 23:54:00</td>\n      <td>1.0</td>\n      <td>1.61</td>\n      <td>Standard rate</td>\n      <td>100</td>\n      <td>142</td>\n      <td>Cash</td>\n      <td>8.5</td>\n      <td>0.5</td>\n      <td>...</td>\n      <td>12.30</td>\n      <td>2.5</td>\n      <td>9.633333</td>\n      <td>1</td>\n      <td>31</td>\n      <td>23</td>\n      <td>1</td>\n      <td>31</td>\n      <td>23</td>\n      <td>False</td>\n    </tr>\n  </tbody>\n</table>\n<p>6063968 rows × 24 columns</p>\n</div>"
     },
     "execution_count": 7,
     "metadata": {},
     "output_type": "execute_result"
    }
   ],
   "source": [
    "x"
   ],
   "metadata": {
    "collapsed": false,
    "pycharm": {
     "name": "#%%\n"
    }
   }
  },
  {
   "cell_type": "code",
   "execution_count": 8,
   "outputs": [
    {
     "name": "stdout",
     "output_type": "stream",
     "text": [
      "---- passenger_count ---\n",
      "1.0    4425074\n",
      "2.0     923406\n",
      "3.0     244277\n",
      "5.0     221593\n",
      "6.0     129833\n",
      "4.0     119785\n",
      "Name: passenger_count, dtype: int64\n",
      "---- trip_distance ---\n",
      "0.90     112095\n",
      "0.80     111533\n",
      "1.00     110682\n",
      "0.70     106242\n",
      "1.10     106208\n",
      "          ...  \n",
      "26.08         1\n",
      "25.35         1\n",
      "26.26         1\n",
      "25.27         1\n",
      "25.84         1\n",
      "Name: trip_distance, Length: 2618, dtype: int64\n",
      "---- RatecodeID ---\n",
      "Standard rate         5937811\n",
      "JFK                    121187\n",
      "Negotiated fare          2491\n",
      "Nassau/Westchester       2318\n",
      "99.0                      143\n",
      "Group ride                 15\n",
      "Newark                      3\n",
      "Name: RatecodeID, dtype: int64\n",
      "---- PULocationID ---\n",
      "237    284245\n",
      "161    271900\n",
      "236    264814\n",
      "162    227188\n",
      "186    219903\n",
      "        ...  \n",
      "59          2\n",
      "84          2\n",
      "99          1\n",
      "30          1\n",
      "251         1\n",
      "Name: PULocationID, Length: 254, dtype: int64\n",
      "---- DOLocationID ---\n",
      "236    281224\n",
      "237    256228\n",
      "161    241335\n",
      "170    189685\n",
      "162    187593\n",
      "        ...  \n",
      "105         3\n",
      "176         3\n",
      "99          2\n",
      "84          1\n",
      "2           1\n",
      "Name: DOLocationID, Length: 260, dtype: int64\n",
      "---- payment_type ---\n",
      "Credit card    4506243\n",
      "Cash           1530993\n",
      "No charge        19484\n",
      "Dispute           7248\n",
      "Name: payment_type, dtype: int64\n",
      "---- fare_amount ---\n",
      "6.00     331592\n",
      "6.50     327569\n",
      "5.50     322054\n",
      "7.00     318482\n",
      "7.50     301698\n",
      "          ...  \n",
      "2.40          1\n",
      "31.03         1\n",
      "19.46         1\n",
      "61.45         1\n",
      "30.45         1\n",
      "Name: fare_amount, Length: 520, dtype: int64\n",
      "---- extra ---\n",
      "0.00    2285792\n",
      "0.50    1201302\n",
      "2.50     992597\n",
      "1.00     748575\n",
      "3.00     477954\n",
      "3.50     344715\n",
      "4.50       9522\n",
      "7.00       3478\n",
      "2.00         20\n",
      "5.00          4\n",
      "0.80          2\n",
      "2.15          1\n",
      "9.50          1\n",
      "0.52          1\n",
      "0.02          1\n",
      "1.30          1\n",
      "1.75          1\n",
      "1.02          1\n",
      "Name: extra, dtype: int64\n",
      "---- mta_tax ---\n",
      "0.5    6063968\n",
      "Name: mta_tax, dtype: int64\n",
      "---- tip_amount ---\n",
      "0.00     1671422\n",
      "1.00      352472\n",
      "2.00      228946\n",
      "2.06       94336\n",
      "1.96       92920\n",
      "          ...   \n",
      "9.37           1\n",
      "25.08          1\n",
      "24.54          1\n",
      "19.68          1\n",
      "50.80          1\n",
      "Name: tip_amount, Length: 1762, dtype: int64\n",
      "---- tolls_amount ---\n",
      "0.00     5806739\n",
      "6.12      249628\n",
      "2.80        3119\n",
      "12.24        769\n",
      "11.75        445\n",
      "          ...   \n",
      "4.29           1\n",
      "15.20          1\n",
      "18.01          1\n",
      "6.85           1\n",
      "12.20          1\n",
      "Name: tolls_amount, Length: 297, dtype: int64\n",
      "---- improvement_surcharge ---\n",
      "0.3    6063968\n",
      "Name: improvement_surcharge, dtype: int64\n",
      "---- total_amount ---\n",
      "10.30    119864\n",
      "9.80     119790\n",
      "9.30     116777\n",
      "10.80    116550\n",
      "11.30    112200\n",
      "          ...  \n",
      "38.48         1\n",
      "67.74         1\n",
      "60.49         1\n",
      "31.58         1\n",
      "43.76         1\n",
      "Name: total_amount, Length: 5913, dtype: int64\n",
      "---- congestion_surcharge ---\n",
      "2.50    5676816\n",
      "0.00     387008\n",
      "2.75         76\n",
      "0.75         68\n",
      "Name: congestion_surcharge, dtype: int64\n"
     ]
    }
   ],
   "source": [
    "# how many faulty data do we still got here?\n",
    "for c in relevant_columns:\n",
    "    print(\"---- %s ---\" % c)\n",
    "    print(x[c].value_counts())"
   ],
   "metadata": {
    "collapsed": false,
    "pycharm": {
     "name": "#%%\n"
    }
   }
  },
  {
   "cell_type": "code",
   "execution_count": 9,
   "outputs": [
    {
     "data": {
      "text/plain": "            pickup_datetime dropoff_datetime  passenger_count  trip_distance  \\\n138890  2020-01-01 18:56:37       2020-01-02              1.0           1.80   \n428534  2020-01-03 18:57:44       2020-01-04              1.0           1.37   \n943877  2020-01-06 18:58:07       2020-01-07              1.0           1.05   \n1950188 2020-01-11 18:58:21       2020-01-12              1.0           3.01   \n1957859 2020-01-11 18:55:36       2020-01-12              2.0           2.77   \n4104963 2020-01-22 18:58:24       2020-01-23              1.0           0.55   \n4545831 2020-01-24 18:56:38       2020-01-25              1.0          10.58   \n5146228 2020-01-27 18:57:16       2020-01-28              1.0           2.64   \n5997395 2020-01-31 18:58:06       2020-02-01              2.0           9.25   \n\n            RatecodeID PULocationID DOLocationID payment_type  fare_amount  \\\n138890   Standard rate           97           65  Credit card         14.5   \n428534   Standard rate           68          186         Cash          7.5   \n943877   Standard rate          236          237  Credit card          6.5   \n1950188  Standard rate          125          164  Credit card         17.0   \n1957859  Standard rate          163          234  Credit card         15.5   \n4104963  Standard rate          239          239  Credit card          4.0   \n4545831  Standard rate          132           61  Credit card         33.5   \n5146228  Standard rate          264          264  Credit card         11.5   \n5997395  Standard rate          132           95  Credit card         28.0   \n\n         extra  ...  total_amount  congestion_surcharge  \\\n138890     0.0  ...         18.36                   0.0   \n428534     1.0  ...         11.80                   2.5   \n943877     1.0  ...         12.42                   2.5   \n1950188    0.0  ...         24.36                   2.5   \n1957859    0.0  ...         21.62                   2.5   \n4104963    1.0  ...          9.54                   2.5   \n4545831    1.0  ...         42.36                   0.0   \n5146228    1.0  ...         15.96                   0.0   \n5997395    1.0  ...         32.78                   0.0   \n\n         trip_duration_minutes  pickup_month  pickup_day  pickup_hour  \\\n138890              303.383333             1           1           18   \n428534              302.266667             1           3           18   \n943877              301.883333             1           6           18   \n1950188             301.650000             1          11           18   \n1957859             304.400000             1          11           18   \n4104963             301.600000             1          22           18   \n4545831             303.366667             1          24           18   \n5146228             302.733333             1          27           18   \n5997395             301.900000             1          31           18   \n\n         dropoff_month  dropoff_day  dropoff_hour  weekend  \n138890               1            2             0    False  \n428534               1            4             0    False  \n943877               1            7             0    False  \n1950188              1           12             0     True  \n1957859              1           12             0     True  \n4104963              1           23             0    False  \n4545831              1           25             0    False  \n5146228              1           28             0    False  \n5997395              2            1             0    False  \n\n[9 rows x 24 columns]",
      "text/html": "<div>\n<style scoped>\n    .dataframe tbody tr th:only-of-type {\n        vertical-align: middle;\n    }\n\n    .dataframe tbody tr th {\n        vertical-align: top;\n    }\n\n    .dataframe thead th {\n        text-align: right;\n    }\n</style>\n<table border=\"1\" class=\"dataframe\">\n  <thead>\n    <tr style=\"text-align: right;\">\n      <th></th>\n      <th>pickup_datetime</th>\n      <th>dropoff_datetime</th>\n      <th>passenger_count</th>\n      <th>trip_distance</th>\n      <th>RatecodeID</th>\n      <th>PULocationID</th>\n      <th>DOLocationID</th>\n      <th>payment_type</th>\n      <th>fare_amount</th>\n      <th>extra</th>\n      <th>...</th>\n      <th>total_amount</th>\n      <th>congestion_surcharge</th>\n      <th>trip_duration_minutes</th>\n      <th>pickup_month</th>\n      <th>pickup_day</th>\n      <th>pickup_hour</th>\n      <th>dropoff_month</th>\n      <th>dropoff_day</th>\n      <th>dropoff_hour</th>\n      <th>weekend</th>\n    </tr>\n  </thead>\n  <tbody>\n    <tr>\n      <th>138890</th>\n      <td>2020-01-01 18:56:37</td>\n      <td>2020-01-02</td>\n      <td>1.0</td>\n      <td>1.80</td>\n      <td>Standard rate</td>\n      <td>97</td>\n      <td>65</td>\n      <td>Credit card</td>\n      <td>14.5</td>\n      <td>0.0</td>\n      <td>...</td>\n      <td>18.36</td>\n      <td>0.0</td>\n      <td>303.383333</td>\n      <td>1</td>\n      <td>1</td>\n      <td>18</td>\n      <td>1</td>\n      <td>2</td>\n      <td>0</td>\n      <td>False</td>\n    </tr>\n    <tr>\n      <th>428534</th>\n      <td>2020-01-03 18:57:44</td>\n      <td>2020-01-04</td>\n      <td>1.0</td>\n      <td>1.37</td>\n      <td>Standard rate</td>\n      <td>68</td>\n      <td>186</td>\n      <td>Cash</td>\n      <td>7.5</td>\n      <td>1.0</td>\n      <td>...</td>\n      <td>11.80</td>\n      <td>2.5</td>\n      <td>302.266667</td>\n      <td>1</td>\n      <td>3</td>\n      <td>18</td>\n      <td>1</td>\n      <td>4</td>\n      <td>0</td>\n      <td>False</td>\n    </tr>\n    <tr>\n      <th>943877</th>\n      <td>2020-01-06 18:58:07</td>\n      <td>2020-01-07</td>\n      <td>1.0</td>\n      <td>1.05</td>\n      <td>Standard rate</td>\n      <td>236</td>\n      <td>237</td>\n      <td>Credit card</td>\n      <td>6.5</td>\n      <td>1.0</td>\n      <td>...</td>\n      <td>12.42</td>\n      <td>2.5</td>\n      <td>301.883333</td>\n      <td>1</td>\n      <td>6</td>\n      <td>18</td>\n      <td>1</td>\n      <td>7</td>\n      <td>0</td>\n      <td>False</td>\n    </tr>\n    <tr>\n      <th>1950188</th>\n      <td>2020-01-11 18:58:21</td>\n      <td>2020-01-12</td>\n      <td>1.0</td>\n      <td>3.01</td>\n      <td>Standard rate</td>\n      <td>125</td>\n      <td>164</td>\n      <td>Credit card</td>\n      <td>17.0</td>\n      <td>0.0</td>\n      <td>...</td>\n      <td>24.36</td>\n      <td>2.5</td>\n      <td>301.650000</td>\n      <td>1</td>\n      <td>11</td>\n      <td>18</td>\n      <td>1</td>\n      <td>12</td>\n      <td>0</td>\n      <td>True</td>\n    </tr>\n    <tr>\n      <th>1957859</th>\n      <td>2020-01-11 18:55:36</td>\n      <td>2020-01-12</td>\n      <td>2.0</td>\n      <td>2.77</td>\n      <td>Standard rate</td>\n      <td>163</td>\n      <td>234</td>\n      <td>Credit card</td>\n      <td>15.5</td>\n      <td>0.0</td>\n      <td>...</td>\n      <td>21.62</td>\n      <td>2.5</td>\n      <td>304.400000</td>\n      <td>1</td>\n      <td>11</td>\n      <td>18</td>\n      <td>1</td>\n      <td>12</td>\n      <td>0</td>\n      <td>True</td>\n    </tr>\n    <tr>\n      <th>4104963</th>\n      <td>2020-01-22 18:58:24</td>\n      <td>2020-01-23</td>\n      <td>1.0</td>\n      <td>0.55</td>\n      <td>Standard rate</td>\n      <td>239</td>\n      <td>239</td>\n      <td>Credit card</td>\n      <td>4.0</td>\n      <td>1.0</td>\n      <td>...</td>\n      <td>9.54</td>\n      <td>2.5</td>\n      <td>301.600000</td>\n      <td>1</td>\n      <td>22</td>\n      <td>18</td>\n      <td>1</td>\n      <td>23</td>\n      <td>0</td>\n      <td>False</td>\n    </tr>\n    <tr>\n      <th>4545831</th>\n      <td>2020-01-24 18:56:38</td>\n      <td>2020-01-25</td>\n      <td>1.0</td>\n      <td>10.58</td>\n      <td>Standard rate</td>\n      <td>132</td>\n      <td>61</td>\n      <td>Credit card</td>\n      <td>33.5</td>\n      <td>1.0</td>\n      <td>...</td>\n      <td>42.36</td>\n      <td>0.0</td>\n      <td>303.366667</td>\n      <td>1</td>\n      <td>24</td>\n      <td>18</td>\n      <td>1</td>\n      <td>25</td>\n      <td>0</td>\n      <td>False</td>\n    </tr>\n    <tr>\n      <th>5146228</th>\n      <td>2020-01-27 18:57:16</td>\n      <td>2020-01-28</td>\n      <td>1.0</td>\n      <td>2.64</td>\n      <td>Standard rate</td>\n      <td>264</td>\n      <td>264</td>\n      <td>Credit card</td>\n      <td>11.5</td>\n      <td>1.0</td>\n      <td>...</td>\n      <td>15.96</td>\n      <td>0.0</td>\n      <td>302.733333</td>\n      <td>1</td>\n      <td>27</td>\n      <td>18</td>\n      <td>1</td>\n      <td>28</td>\n      <td>0</td>\n      <td>False</td>\n    </tr>\n    <tr>\n      <th>5997395</th>\n      <td>2020-01-31 18:58:06</td>\n      <td>2020-02-01</td>\n      <td>2.0</td>\n      <td>9.25</td>\n      <td>Standard rate</td>\n      <td>132</td>\n      <td>95</td>\n      <td>Credit card</td>\n      <td>28.0</td>\n      <td>1.0</td>\n      <td>...</td>\n      <td>32.78</td>\n      <td>0.0</td>\n      <td>301.900000</td>\n      <td>1</td>\n      <td>31</td>\n      <td>18</td>\n      <td>2</td>\n      <td>1</td>\n      <td>0</td>\n      <td>False</td>\n    </tr>\n  </tbody>\n</table>\n<p>9 rows × 24 columns</p>\n</div>"
     },
     "execution_count": 9,
     "metadata": {},
     "output_type": "execute_result"
    }
   ],
   "source": [
    "x[x['trip_duration_minutes'] > 300]"
   ],
   "metadata": {
    "collapsed": false,
    "pycharm": {
     "name": "#%%\n"
    }
   }
  },
  {
   "cell_type": "code",
   "execution_count": 10,
   "outputs": [
    {
     "data": {
      "text/plain": "<seaborn.axisgrid.FacetGrid at 0x7f93bf244730>"
     },
     "execution_count": 10,
     "metadata": {},
     "output_type": "execute_result"
    },
    {
     "data": {
      "text/plain": "<Figure size 360x360 with 1 Axes>",
      "image/png": "[encoded data removed]"
     },
     "metadata": {
      "needs_background": "light"
     },
     "output_type": "display_data"
    }
   ],
   "source": [
    "import seaborn as sns\n",
    "sns.displot(x, x='trip_duration_minutes')"
   ],
   "metadata": {
    "collapsed": false,
    "pycharm": {
     "name": "#%%\n"
    }
   }
  },
  {
   "cell_type": "code",
   "execution_count": 11,
   "outputs": [
    {
     "data": {
      "text/plain": "       passenger_count  trip_distance   fare_amount         extra    mta_tax  \\\ncount     6.063968e+06   6.063968e+06  6.063968e+06  6.063968e+06  6063968.0   \nmean      1.545328e+00   2.734633e+00  1.187414e+01  1.078231e+00        0.5   \nstd       1.146192e+00   3.358389e+00  9.453105e+00  1.224388e+00        0.0   \nmin       1.000000e+00   1.000000e-02  0.000000e+00  0.000000e+00        0.5   \n25%       1.000000e+00   9.800000e-01  6.500000e+00  0.000000e+00        0.5   \n50%       1.000000e+00   1.600000e+00  9.000000e+00  5.000000e-01        0.5   \n75%       2.000000e+00   2.850000e+00  1.350000e+01  2.500000e+00        0.5   \nmax       6.000000e+00   2.628000e+01  7.400000e+01  9.500000e+00        0.5   \n\n         tip_amount  tolls_amount  improvement_surcharge  total_amount  \\\ncount  6.063968e+06  6.063968e+06           6.063968e+06  6.063968e+06   \nmean   2.107506e+00  2.599875e-01           3.000000e-01  1.771672e+01   \nstd    2.213134e+00  1.246703e+00           3.663736e-15  1.157903e+01   \nmin    0.000000e+00  0.000000e+00           3.000000e-01  8.000000e-01   \n25%    0.000000e+00  0.000000e+00           3.000000e-01  1.116000e+01   \n50%    1.960000e+00  0.000000e+00           3.000000e-01  1.416000e+01   \n75%    2.860000e+00  0.000000e+00           3.000000e-01  1.930000e+01   \nmax    6.770000e+01  5.000000e+01           3.000000e-01  7.502000e+01   \n\n       congestion_surcharge  trip_duration_minutes  pickup_month  \\\ncount          6.063968e+06           6.063968e+06     6063968.0   \nmean           2.340431e+00           1.277281e+01           1.0   \nstd            6.111086e-01           9.344240e+00           0.0   \nmin            0.000000e+00           0.000000e+00           1.0   \n25%            2.500000e+00           6.400000e+00           1.0   \n50%            2.500000e+00           1.038333e+01           1.0   \n75%            2.500000e+00           1.641667e+01           1.0   \nmax            2.750000e+00           3.044000e+02           1.0   \n\n         pickup_day   pickup_hour  dropoff_month   dropoff_day  dropoff_hour  \ncount  6.063968e+06  6.063968e+06   6.063968e+06  6.063968e+06  6.063968e+06  \nmean   1.656968e+01  1.391812e+01   1.000363e+00  1.656492e+01  1.397456e+01  \nstd    8.829015e+00  5.891818e+00   1.905247e-02  8.829491e+00  5.959973e+00  \nmin    1.000000e+00  0.000000e+00   1.000000e+00  1.000000e+00  0.000000e+00  \n25%    9.000000e+00  1.000000e+01   1.000000e+00  9.000000e+00  1.000000e+01  \n50%    1.700000e+01  1.500000e+01   1.000000e+00  1.700000e+01  1.500000e+01  \n75%    2.400000e+01  1.900000e+01   1.000000e+00  2.400000e+01  1.900000e+01  \nmax    3.100000e+01  2.300000e+01   2.000000e+00  3.100000e+01  2.300000e+01  ",
      "text/html": "<div>\n<style scoped>\n    .dataframe tbody tr th:only-of-type {\n        vertical-align: middle;\n    }\n\n    .dataframe tbody tr th {\n        vertical-align: top;\n    }\n\n    .dataframe thead th {\n        text-align: right;\n    }\n</style>\n<table border=\"1\" class=\"dataframe\">\n  <thead>\n    <tr style=\"text-align: right;\">\n      <th></th>\n      <th>passenger_count</th>\n      <th>trip_distance</th>\n      <th>fare_amount</th>\n      <th>extra</th>\n      <th>mta_tax</th>\n      <th>tip_amount</th>\n      <th>tolls_amount</th>\n      <th>improvement_surcharge</th>\n      <th>total_amount</th>\n      <th>congestion_surcharge</th>\n      <th>trip_duration_minutes</th>\n      <th>pickup_month</th>\n      <th>pickup_day</th>\n      <th>pickup_hour</th>\n      <th>dropoff_month</th>\n      <th>dropoff_day</th>\n      <th>dropoff_hour</th>\n    </tr>\n  </thead>\n  <tbody>\n    <tr>\n      <th>count</th>\n      <td>6.063968e+06</td>\n      <td>6.063968e+06</td>\n      <td>6.063968e+06</td>\n      <td>6.063968e+06</td>\n      <td>6063968.0</td>\n      <td>6.063968e+06</td>\n      <td>6.063968e+06</td>\n      <td>6.063968e+06</td>\n      <td>6.063968e+06</td>\n      <td>6.063968e+06</td>\n      <td>6.063968e+06</td>\n      <td>6063968.0</td>\n      <td>6.063968e+06</td>\n      <td>6.063968e+06</td>\n      <td>6.063968e+06</td>\n      <td>6.063968e+06</td>\n      <td>6.063968e+06</td>\n    </tr>\n    <tr>\n      <th>mean</th>\n      <td>1.545328e+00</td>\n      <td>2.734633e+00</td>\n      <td>1.187414e+01</td>\n      <td>1.078231e+00</td>\n      <td>0.5</td>\n      <td>2.107506e+00</td>\n      <td>2.599875e-01</td>\n      <td>3.000000e-01</td>\n      <td>1.771672e+01</td>\n      <td>2.340431e+00</td>\n      <td>1.277281e+01</td>\n      <td>1.0</td>\n      <td>1.656968e+01</td>\n      <td>1.391812e+01</td>\n      <td>1.000363e+00</td>\n      <td>1.656492e+01</td>\n      <td>1.397456e+01</td>\n    </tr>\n    <tr>\n      <th>std</th>\n      <td>1.146192e+00</td>\n      <td>3.358389e+00</td>\n      <td>9.453105e+00</td>\n      <td>1.224388e+00</td>\n      <td>0.0</td>\n      <td>2.213134e+00</td>\n      <td>1.246703e+00</td>\n      <td>3.663736e-15</td>\n      <td>1.157903e+01</td>\n      <td>6.111086e-01</td>\n      <td>9.344240e+00</td>\n      <td>0.0</td>\n      <td>8.829015e+00</td>\n      <td>5.891818e+00</td>\n      <td>1.905247e-02</td>\n      <td>8.829491e+00</td>\n      <td>5.959973e+00</td>\n    </tr>\n    <tr>\n      <th>min</th>\n      <td>1.000000e+00</td>\n      <td>1.000000e-02</td>\n      <td>0.000000e+00</td>\n      <td>0.000000e+00</td>\n      <td>0.5</td>\n      <td>0.000000e+00</td>\n      <td>0.000000e+00</td>\n      <td>3.000000e-01</td>\n      <td>8.000000e-01</td>\n      <td>0.000000e+00</td>\n      <td>0.000000e+00</td>\n      <td>1.0</td>\n      <td>1.000000e+00</td>\n      <td>0.000000e+00</td>\n      <td>1.000000e+00</td>\n      <td>1.000000e+00</td>\n      <td>0.000000e+00</td>\n    </tr>\n    <tr>\n      <th>25%</th>\n      <td>1.000000e+00</td>\n      <td>9.800000e-01</td>\n      <td>6.500000e+00</td>\n      <td>0.000000e+00</td>\n      <td>0.5</td>\n      <td>0.000000e+00</td>\n      <td>0.000000e+00</td>\n      <td>3.000000e-01</td>\n      <td>1.116000e+01</td>\n      <td>2.500000e+00</td>\n      <td>6.400000e+00</td>\n      <td>1.0</td>\n      <td>9.000000e+00</td>\n      <td>1.000000e+01</td>\n      <td>1.000000e+00</td>\n      <td>9.000000e+00</td>\n      <td>1.000000e+01</td>\n    </tr>\n    <tr>\n      <th>50%</th>\n      <td>1.000000e+00</td>\n      <td>1.600000e+00</td>\n      <td>9.000000e+00</td>\n      <td>5.000000e-01</td>\n      <td>0.5</td>\n      <td>1.960000e+00</td>\n      <td>0.000000e+00</td>\n      <td>3.000000e-01</td>\n      <td>1.416000e+01</td>\n      <td>2.500000e+00</td>\n      <td>1.038333e+01</td>\n      <td>1.0</td>\n      <td>1.700000e+01</td>\n      <td>1.500000e+01</td>\n      <td>1.000000e+00</td>\n      <td>1.700000e+01</td>\n      <td>1.500000e+01</td>\n    </tr>\n    <tr>\n      <th>75%</th>\n      <td>2.000000e+00</td>\n      <td>2.850000e+00</td>\n      <td>1.350000e+01</td>\n      <td>2.500000e+00</td>\n      <td>0.5</td>\n      <td>2.860000e+00</td>\n      <td>0.000000e+00</td>\n      <td>3.000000e-01</td>\n      <td>1.930000e+01</td>\n      <td>2.500000e+00</td>\n      <td>1.641667e+01</td>\n      <td>1.0</td>\n      <td>2.400000e+01</td>\n      <td>1.900000e+01</td>\n      <td>1.000000e+00</td>\n      <td>2.400000e+01</td>\n      <td>1.900000e+01</td>\n    </tr>\n    <tr>\n      <th>max</th>\n      <td>6.000000e+00</td>\n      <td>2.628000e+01</td>\n      <td>7.400000e+01</td>\n      <td>9.500000e+00</td>\n      <td>0.5</td>\n      <td>6.770000e+01</td>\n      <td>5.000000e+01</td>\n      <td>3.000000e-01</td>\n      <td>7.502000e+01</td>\n      <td>2.750000e+00</td>\n      <td>3.044000e+02</td>\n      <td>1.0</td>\n      <td>3.100000e+01</td>\n      <td>2.300000e+01</td>\n      <td>2.000000e+00</td>\n      <td>3.100000e+01</td>\n      <td>2.300000e+01</td>\n    </tr>\n  </tbody>\n</table>\n</div>"
     },
     "execution_count": 11,
     "metadata": {},
     "output_type": "execute_result"
    }
   ],
   "source": [
    "x.describe()"
   ],
   "metadata": {
    "collapsed": false,
    "pycharm": {
     "name": "#%%\n"
    }
   }
  },
  {
   "cell_type": "code",
   "execution_count": 12,
   "outputs": [
    {
     "data": {
      "text/plain": "            pickup_datetime    dropoff_datetime  passenger_count  \\\n189     2020-01-01 00:44:31 2020-01-01 00:48:46              1.0   \n2261    2020-01-01 00:38:44 2020-01-01 00:57:11              2.0   \n2472    2020-01-01 00:21:10 2020-01-01 00:22:39              1.0   \n3356    2020-01-01 00:59:43 2020-01-01 01:01:51              1.0   \n3901    2020-01-01 00:39:20 2020-01-01 00:40:06              1.0   \n...                     ...                 ...              ...   \n6338554 2020-01-31 23:20:38 2020-01-31 23:58:06              1.0   \n6338862 2020-01-31 23:27:49 2020-02-01 00:13:09              1.0   \n6339283 2020-01-31 23:14:13 2020-01-31 23:24:09              1.0   \n6339340 2020-01-31 23:05:13 2020-01-31 23:24:22              1.0   \n6339383 2020-01-31 23:48:56 2020-01-31 23:49:30              1.0   \n\n         trip_distance RatecodeID PULocationID DOLocationID payment_type  \\\n189               0.80        3.0          170          107          1.0   \n2261              4.82        3.0          114          265          1.0   \n2472              0.33        1.0          146          146          2.0   \n3356              0.36        5.0          265          265          1.0   \n3901              2.40        5.0           90           90          3.0   \n...                ...        ...          ...          ...          ...   \n6338554           7.30        5.0          164           82          2.0   \n6338862          26.87        3.0          186          265          1.0   \n6339283           1.28        3.0          234          125          1.0   \n6339340          10.13        3.0          132           92          2.0   \n6339383           1.50        5.0           90           90          1.0   \n\n         fare_amount  extra  mta_tax  tip_amount  tolls_amount  \\\n189            22.50    0.5      0.0        4.65          0.00   \n2261           34.50    0.5      0.0        9.16         10.50   \n2472            0.00    0.0      0.0        0.00          0.00   \n3356           45.00    0.0      0.0        5.00         10.50   \n3901          100.00    0.0      0.0        0.00          0.00   \n...              ...    ...      ...         ...           ...   \n6338554         0.01    0.0      0.0        0.00          0.00   \n6338862        89.50    0.5      0.0        0.00         11.75   \n6339283        23.00    0.5      0.0        4.76          0.00   \n6339340        46.50    0.5      0.0        0.00          0.00   \n6339383        61.42    0.0      0.0       12.30          0.00   \n\n         improvement_surcharge  total_amount  congestion_surcharge  \n189                        0.3         27.95                   0.0  \n2261                       0.3         54.96                   0.0  \n2472                       0.0          0.00                   0.0  \n3356                       0.3         60.80                   0.0  \n3901                       0.3        100.30                   0.0  \n...                        ...           ...                   ...  \n6338554                    0.3          0.31                   0.0  \n6338862                    0.3        102.05                   0.0  \n6339283                    0.3         28.56                   0.0  \n6339340                    0.3         47.30                   0.0  \n6339383                    0.3         74.02                   0.0  \n\n[24976 rows x 16 columns]",
      "text/html": "<div>\n<style scoped>\n    .dataframe tbody tr th:only-of-type {\n        vertical-align: middle;\n    }\n\n    .dataframe tbody tr th {\n        vertical-align: top;\n    }\n\n    .dataframe thead th {\n        text-align: right;\n    }\n</style>\n<table border=\"1\" class=\"dataframe\">\n  <thead>\n    <tr style=\"text-align: right;\">\n      <th></th>\n      <th>pickup_datetime</th>\n      <th>dropoff_datetime</th>\n      <th>passenger_count</th>\n      <th>trip_distance</th>\n      <th>RatecodeID</th>\n      <th>PULocationID</th>\n      <th>DOLocationID</th>\n      <th>payment_type</th>\n      <th>fare_amount</th>\n      <th>extra</th>\n      <th>mta_tax</th>\n      <th>tip_amount</th>\n      <th>tolls_amount</th>\n      <th>improvement_surcharge</th>\n      <th>total_amount</th>\n      <th>congestion_surcharge</th>\n    </tr>\n  </thead>\n  <tbody>\n    <tr>\n      <th>189</th>\n      <td>2020-01-01 00:44:31</td>\n      <td>2020-01-01 00:48:46</td>\n      <td>1.0</td>\n      <td>0.80</td>\n      <td>3.0</td>\n      <td>170</td>\n      <td>107</td>\n      <td>1.0</td>\n      <td>22.50</td>\n      <td>0.5</td>\n      <td>0.0</td>\n      <td>4.65</td>\n      <td>0.00</td>\n      <td>0.3</td>\n      <td>27.95</td>\n      <td>0.0</td>\n    </tr>\n    <tr>\n      <th>2261</th>\n      <td>2020-01-01 00:38:44</td>\n      <td>2020-01-01 00:57:11</td>\n      <td>2.0</td>\n      <td>4.82</td>\n      <td>3.0</td>\n      <td>114</td>\n      <td>265</td>\n      <td>1.0</td>\n      <td>34.50</td>\n      <td>0.5</td>\n      <td>0.0</td>\n      <td>9.16</td>\n      <td>10.50</td>\n      <td>0.3</td>\n      <td>54.96</td>\n      <td>0.0</td>\n    </tr>\n    <tr>\n      <th>2472</th>\n      <td>2020-01-01 00:21:10</td>\n      <td>2020-01-01 00:22:39</td>\n      <td>1.0</td>\n      <td>0.33</td>\n      <td>1.0</td>\n      <td>146</td>\n      <td>146</td>\n      <td>2.0</td>\n      <td>0.00</td>\n      <td>0.0</td>\n      <td>0.0</td>\n      <td>0.00</td>\n      <td>0.00</td>\n      <td>0.0</td>\n      <td>0.00</td>\n      <td>0.0</td>\n    </tr>\n    <tr>\n      <th>3356</th>\n      <td>2020-01-01 00:59:43</td>\n      <td>2020-01-01 01:01:51</td>\n      <td>1.0</td>\n      <td>0.36</td>\n      <td>5.0</td>\n      <td>265</td>\n      <td>265</td>\n      <td>1.0</td>\n      <td>45.00</td>\n      <td>0.0</td>\n      <td>0.0</td>\n      <td>5.00</td>\n      <td>10.50</td>\n      <td>0.3</td>\n      <td>60.80</td>\n      <td>0.0</td>\n    </tr>\n    <tr>\n      <th>3901</th>\n      <td>2020-01-01 00:39:20</td>\n      <td>2020-01-01 00:40:06</td>\n      <td>1.0</td>\n      <td>2.40</td>\n      <td>5.0</td>\n      <td>90</td>\n      <td>90</td>\n      <td>3.0</td>\n      <td>100.00</td>\n      <td>0.0</td>\n      <td>0.0</td>\n      <td>0.00</td>\n      <td>0.00</td>\n      <td>0.3</td>\n      <td>100.30</td>\n      <td>0.0</td>\n    </tr>\n    <tr>\n      <th>...</th>\n      <td>...</td>\n      <td>...</td>\n      <td>...</td>\n      <td>...</td>\n      <td>...</td>\n      <td>...</td>\n      <td>...</td>\n      <td>...</td>\n      <td>...</td>\n      <td>...</td>\n      <td>...</td>\n      <td>...</td>\n      <td>...</td>\n      <td>...</td>\n      <td>...</td>\n      <td>...</td>\n    </tr>\n    <tr>\n      <th>6338554</th>\n      <td>2020-01-31 23:20:38</td>\n      <td>2020-01-31 23:58:06</td>\n      <td>1.0</td>\n      <td>7.30</td>\n      <td>5.0</td>\n      <td>164</td>\n      <td>82</td>\n      <td>2.0</td>\n      <td>0.01</td>\n      <td>0.0</td>\n      <td>0.0</td>\n      <td>0.00</td>\n      <td>0.00</td>\n      <td>0.3</td>\n      <td>0.31</td>\n      <td>0.0</td>\n    </tr>\n    <tr>\n      <th>6338862</th>\n      <td>2020-01-31 23:27:49</td>\n      <td>2020-02-01 00:13:09</td>\n      <td>1.0</td>\n      <td>26.87</td>\n      <td>3.0</td>\n      <td>186</td>\n      <td>265</td>\n      <td>1.0</td>\n      <td>89.50</td>\n      <td>0.5</td>\n      <td>0.0</td>\n      <td>0.00</td>\n      <td>11.75</td>\n      <td>0.3</td>\n      <td>102.05</td>\n      <td>0.0</td>\n    </tr>\n    <tr>\n      <th>6339283</th>\n      <td>2020-01-31 23:14:13</td>\n      <td>2020-01-31 23:24:09</td>\n      <td>1.0</td>\n      <td>1.28</td>\n      <td>3.0</td>\n      <td>234</td>\n      <td>125</td>\n      <td>1.0</td>\n      <td>23.00</td>\n      <td>0.5</td>\n      <td>0.0</td>\n      <td>4.76</td>\n      <td>0.00</td>\n      <td>0.3</td>\n      <td>28.56</td>\n      <td>0.0</td>\n    </tr>\n    <tr>\n      <th>6339340</th>\n      <td>2020-01-31 23:05:13</td>\n      <td>2020-01-31 23:24:22</td>\n      <td>1.0</td>\n      <td>10.13</td>\n      <td>3.0</td>\n      <td>132</td>\n      <td>92</td>\n      <td>2.0</td>\n      <td>46.50</td>\n      <td>0.5</td>\n      <td>0.0</td>\n      <td>0.00</td>\n      <td>0.00</td>\n      <td>0.3</td>\n      <td>47.30</td>\n      <td>0.0</td>\n    </tr>\n    <tr>\n      <th>6339383</th>\n      <td>2020-01-31 23:48:56</td>\n      <td>2020-01-31 23:49:30</td>\n      <td>1.0</td>\n      <td>1.50</td>\n      <td>5.0</td>\n      <td>90</td>\n      <td>90</td>\n      <td>1.0</td>\n      <td>61.42</td>\n      <td>0.0</td>\n      <td>0.0</td>\n      <td>12.30</td>\n      <td>0.00</td>\n      <td>0.3</td>\n      <td>74.02</td>\n      <td>0.0</td>\n    </tr>\n  </tbody>\n</table>\n<p>24976 rows × 16 columns</p>\n</div>"
     },
     "execution_count": 12,
     "metadata": {},
     "output_type": "execute_result"
    }
   ],
   "source": [
    "cab_df[cab_df['mta_tax'] == 0]"
   ],
   "metadata": {
    "collapsed": false,
    "pycharm": {
     "name": "#%%\n"
    }
   }
  },
  {
   "cell_type": "code",
   "execution_count": null,
   "outputs": [],
   "source": [],
   "metadata": {
    "collapsed": false,
    "pycharm": {
     "name": "#%%\n"
    }
   }
  }
 ],
 "metadata": {
  "kernelspec": {
   "display_name": "Python 3",
   "language": "python",
   "name": "python3"
  },
  "language_info": {
   "codemirror_mode": {
    "name": "ipython",
    "version": 3
   },
   "file_extension": ".py",
   "mimetype": "text/x-python",
   "name": "python",
   "nbconvert_exporter": "python",
   "pygments_lexer": "ipython3",
   "version": "3.8.8"
  }
 },
 "nbformat": 4,
 "nbformat_minor": 1
}