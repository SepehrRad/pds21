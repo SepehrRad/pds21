{
 "cells": [
  {
   "cell_type": "code",
   "execution_count": 1,
   "metadata": {},
   "outputs": [],
   "source": [
    "import yellowcab.cleaning"
   ]
  },
  {
   "cell_type": "code",
   "execution_count": 2,
   "metadata": {},
   "outputs": [
    {
     "data": {
      "text/plain": "       tpep_pickup_datetime tpep_dropoff_datetime  passenger_count  \\\n0       2020-04-01 00:41:22   2020-04-01 01:01:53              1.0   \n1       2020-04-01 00:56:00   2020-04-01 01:09:25              1.0   \n2       2020-04-01 00:00:26   2020-04-01 00:09:25              1.0   \n3       2020-04-01 00:24:38   2020-04-01 00:34:38              0.0   \n4       2020-04-01 00:13:24   2020-04-01 00:18:26              1.0   \n...                     ...                   ...              ...   \n218475  2020-04-30 23:03:12   2020-04-30 23:11:51              1.0   \n218476  2020-04-30 23:06:30   2020-04-30 23:16:16              5.0   \n218477  2020-04-30 23:13:40   2020-04-30 23:18:17              1.0   \n218478  2020-04-30 23:30:39   2020-04-30 23:42:56              1.0   \n218479  2020-04-30 23:35:27   2020-04-30 23:48:16              1.0   \n\n        trip_distance  RatecodeID  PULocationID  DOLocationID  payment_type  \\\n0                1.20         1.0            41            24           2.0   \n1                3.40         1.0            95           197           1.0   \n2                2.80         1.0           237           137           1.0   \n3                2.60         1.0            68           142           1.0   \n4                1.44         1.0           263            74           1.0   \n...               ...         ...           ...           ...           ...   \n218475           1.67         1.0           239            50           1.0   \n218476           3.53         1.0           141             4           1.0   \n218477           1.60         1.0           170           140           1.0   \n218478           6.70         1.0           107           168           2.0   \n218479           3.14         1.0            75            42           1.0   \n\n        fare_amount  extra  mta_tax  tip_amount  tolls_amount  \\\n0               5.5    0.5      0.5        0.00           0.0   \n1              12.5    0.5      0.5        2.75           0.0   \n2              10.0    3.0      0.5        1.00           0.0   \n3              10.0    3.0      0.5        1.00           0.0   \n4               6.5    0.5      0.5        3.00           0.0   \n...             ...    ...      ...         ...           ...   \n218475          8.5    0.5      0.5        3.08           0.0   \n218476         12.0    0.5      0.5        2.00           0.0   \n218477          6.5    3.0      0.5        5.00           0.0   \n218478         20.0    3.0      0.5        0.00           0.0   \n218479         12.5    0.5      0.5        0.00           0.0   \n\n        improvement_surcharge  total_amount  congestion_surcharge  \n0                         0.3          6.80                   0.0  \n1                         0.3         16.55                   0.0  \n2                         0.3         14.80                   2.5  \n3                         0.3         14.80                   2.5  \n4                         0.3         13.30                   2.5  \n...                       ...           ...                   ...  \n218475                    0.3         15.38                   2.5  \n218476                    0.3         19.75                   2.5  \n218477                    0.3         15.30                   2.5  \n218478                    0.3         23.80                   2.5  \n218479                    0.3         13.80                   0.0  \n\n[218480 rows x 16 columns]",
      "text/html": "<div>\n<style scoped>\n    .dataframe tbody tr th:only-of-type {\n        vertical-align: middle;\n    }\n\n    .dataframe tbody tr th {\n        vertical-align: top;\n    }\n\n    .dataframe thead th {\n        text-align: right;\n    }\n</style>\n<table border=\"1\" class=\"dataframe\">\n  <thead>\n    <tr style=\"text-align: right;\">\n      <th></th>\n      <th>tpep_pickup_datetime</th>\n      <th>tpep_dropoff_datetime</th>\n      <th>passenger_count</th>\n      <th>trip_distance</th>\n      <th>RatecodeID</th>\n      <th>PULocationID</th>\n      <th>DOLocationID</th>\n      <th>payment_type</th>\n      <th>fare_amount</th>\n      <th>extra</th>\n      <th>mta_tax</th>\n      <th>tip_amount</th>\n      <th>tolls_amount</th>\n      <th>improvement_surcharge</th>\n      <th>total_amount</th>\n      <th>congestion_surcharge</th>\n    </tr>\n  </thead>\n  <tbody>\n    <tr>\n      <th>0</th>\n      <td>2020-04-01 00:41:22</td>\n      <td>2020-04-01 01:01:53</td>\n      <td>1.0</td>\n      <td>1.20</td>\n      <td>1.0</td>\n      <td>41</td>\n      <td>24</td>\n      <td>2.0</td>\n      <td>5.5</td>\n      <td>0.5</td>\n      <td>0.5</td>\n      <td>0.00</td>\n      <td>0.0</td>\n      <td>0.3</td>\n      <td>6.80</td>\n      <td>0.0</td>\n    </tr>\n    <tr>\n      <th>1</th>\n      <td>2020-04-01 00:56:00</td>\n      <td>2020-04-01 01:09:25</td>\n      <td>1.0</td>\n      <td>3.40</td>\n      <td>1.0</td>\n      <td>95</td>\n      <td>197</td>\n      <td>1.0</td>\n      <td>12.5</td>\n      <td>0.5</td>\n      <td>0.5</td>\n      <td>2.75</td>\n      <td>0.0</td>\n      <td>0.3</td>\n      <td>16.55</td>\n      <td>0.0</td>\n    </tr>\n    <tr>\n      <th>2</th>\n      <td>2020-04-01 00:00:26</td>\n      <td>2020-04-01 00:09:25</td>\n      <td>1.0</td>\n      <td>2.80</td>\n      <td>1.0</td>\n      <td>237</td>\n      <td>137</td>\n      <td>1.0</td>\n      <td>10.0</td>\n      <td>3.0</td>\n      <td>0.5</td>\n      <td>1.00</td>\n      <td>0.0</td>\n      <td>0.3</td>\n      <td>14.80</td>\n      <td>2.5</td>\n    </tr>\n    <tr>\n      <th>3</th>\n      <td>2020-04-01 00:24:38</td>\n      <td>2020-04-01 00:34:38</td>\n      <td>0.0</td>\n      <td>2.60</td>\n      <td>1.0</td>\n      <td>68</td>\n      <td>142</td>\n      <td>1.0</td>\n      <td>10.0</td>\n      <td>3.0</td>\n      <td>0.5</td>\n      <td>1.00</td>\n      <td>0.0</td>\n      <td>0.3</td>\n      <td>14.80</td>\n      <td>2.5</td>\n    </tr>\n    <tr>\n      <th>4</th>\n      <td>2020-04-01 00:13:24</td>\n      <td>2020-04-01 00:18:26</td>\n      <td>1.0</td>\n      <td>1.44</td>\n      <td>1.0</td>\n      <td>263</td>\n      <td>74</td>\n      <td>1.0</td>\n      <td>6.5</td>\n      <td>0.5</td>\n      <td>0.5</td>\n      <td>3.00</td>\n      <td>0.0</td>\n      <td>0.3</td>\n      <td>13.30</td>\n      <td>2.5</td>\n    </tr>\n    <tr>\n      <th>...</th>\n      <td>...</td>\n      <td>...</td>\n      <td>...</td>\n      <td>...</td>\n      <td>...</td>\n      <td>...</td>\n      <td>...</td>\n      <td>...</td>\n      <td>...</td>\n      <td>...</td>\n      <td>...</td>\n      <td>...</td>\n      <td>...</td>\n      <td>...</td>\n      <td>...</td>\n      <td>...</td>\n    </tr>\n    <tr>\n      <th>218475</th>\n      <td>2020-04-30 23:03:12</td>\n      <td>2020-04-30 23:11:51</td>\n      <td>1.0</td>\n      <td>1.67</td>\n      <td>1.0</td>\n      <td>239</td>\n      <td>50</td>\n      <td>1.0</td>\n      <td>8.5</td>\n      <td>0.5</td>\n      <td>0.5</td>\n      <td>3.08</td>\n      <td>0.0</td>\n      <td>0.3</td>\n      <td>15.38</td>\n      <td>2.5</td>\n    </tr>\n    <tr>\n      <th>218476</th>\n      <td>2020-04-30 23:06:30</td>\n      <td>2020-04-30 23:16:16</td>\n      <td>5.0</td>\n      <td>3.53</td>\n      <td>1.0</td>\n      <td>141</td>\n      <td>4</td>\n      <td>1.0</td>\n      <td>12.0</td>\n      <td>0.5</td>\n      <td>0.5</td>\n      <td>2.00</td>\n      <td>0.0</td>\n      <td>0.3</td>\n      <td>19.75</td>\n      <td>2.5</td>\n    </tr>\n    <tr>\n      <th>218477</th>\n      <td>2020-04-30 23:13:40</td>\n      <td>2020-04-30 23:18:17</td>\n      <td>1.0</td>\n      <td>1.60</td>\n      <td>1.0</td>\n      <td>170</td>\n      <td>140</td>\n      <td>1.0</td>\n      <td>6.5</td>\n      <td>3.0</td>\n      <td>0.5</td>\n      <td>5.00</td>\n      <td>0.0</td>\n      <td>0.3</td>\n      <td>15.30</td>\n      <td>2.5</td>\n    </tr>\n    <tr>\n      <th>218478</th>\n      <td>2020-04-30 23:30:39</td>\n      <td>2020-04-30 23:42:56</td>\n      <td>1.0</td>\n      <td>6.70</td>\n      <td>1.0</td>\n      <td>107</td>\n      <td>168</td>\n      <td>2.0</td>\n      <td>20.0</td>\n      <td>3.0</td>\n      <td>0.5</td>\n      <td>0.00</td>\n      <td>0.0</td>\n      <td>0.3</td>\n      <td>23.80</td>\n      <td>2.5</td>\n    </tr>\n    <tr>\n      <th>218479</th>\n      <td>2020-04-30 23:35:27</td>\n      <td>2020-04-30 23:48:16</td>\n      <td>1.0</td>\n      <td>3.14</td>\n      <td>1.0</td>\n      <td>75</td>\n      <td>42</td>\n      <td>1.0</td>\n      <td>12.5</td>\n      <td>0.5</td>\n      <td>0.5</td>\n      <td>0.00</td>\n      <td>0.0</td>\n      <td>0.3</td>\n      <td>13.80</td>\n      <td>0.0</td>\n    </tr>\n  </tbody>\n</table>\n<p>218480 rows × 16 columns</p>\n</div>"
     },
     "execution_count": 2,
     "metadata": {},
     "output_type": "execute_result"
    }
   ],
   "source": [
    "cab_df = yellowcab.io.read_parquet('01.parquet')\n",
    "cab_df"
   ]
  },
  {
   "cell_type": "code",
   "execution_count": 3,
   "outputs": [
    {
     "name": "stdout",
     "output_type": "stream",
     "text": [
      "<class 'pandas.core.frame.DataFrame'>\n",
      "RangeIndex: 218480 entries, 0 to 218479\n",
      "Data columns (total 16 columns):\n",
      " #   Column                 Non-Null Count   Dtype         \n",
      "---  ------                 --------------   -----         \n",
      " 0   tpep_pickup_datetime   218480 non-null  datetime64[ns]\n",
      " 1   tpep_dropoff_datetime  218480 non-null  datetime64[ns]\n",
      " 2   passenger_count        218480 non-null  float64       \n",
      " 3   trip_distance          218480 non-null  float64       \n",
      " 4   RatecodeID             218480 non-null  float64       \n",
      " 5   PULocationID           218480 non-null  int64         \n",
      " 6   DOLocationID           218480 non-null  int64         \n",
      " 7   payment_type           218480 non-null  float64       \n",
      " 8   fare_amount            218480 non-null  float64       \n",
      " 9   extra                  218480 non-null  float64       \n",
      " 10  mta_tax                218480 non-null  float64       \n",
      " 11  tip_amount             218480 non-null  float64       \n",
      " 12  tolls_amount           218480 non-null  float64       \n",
      " 13  improvement_surcharge  218480 non-null  float64       \n",
      " 14  total_amount           218480 non-null  float64       \n",
      " 15  congestion_surcharge   218480 non-null  float64       \n",
      "dtypes: datetime64[ns](2), float64(12), int64(2)\n",
      "memory usage: 26.7 MB\n"
     ]
    }
   ],
   "source": [
    "cab_df.info()"
   ],
   "metadata": {
    "collapsed": false,
    "pycharm": {
     "name": "#%%\n"
    }
   }
  },
  {
   "cell_type": "code",
   "execution_count": 4,
   "metadata": {
    "pycharm": {
     "name": "#%%\n"
    }
   },
   "outputs": [],
   "source": [
    "relevant_columns = ['passenger_count', 'trip_distance', 'RatecodeID',\n",
    "                    'PULocationID', 'DOLocationID', 'payment_type',\n",
    "                    'fare_amount', 'extra', 'mta_tax', 'tip_amount',\n",
    "                    'tolls_amount', 'improvement_surcharge', 'total_amount',\n",
    "                    'congestion_surcharge']"
   ]
  },
  {
   "cell_type": "code",
   "execution_count": 5,
   "outputs": [
    {
     "name": "stdout",
     "output_type": "stream",
     "text": [
      "---- passenger_count ---\n",
      "1.0    177793\n",
      "2.0     19404\n",
      "0.0      6582\n",
      "5.0      4642\n",
      "3.0      4553\n",
      "6.0      3910\n",
      "4.0      1595\n",
      "7.0         1\n",
      "Name: passenger_count, dtype: int64\n",
      "---- trip_distance ---\n",
      "0.00     5526\n",
      "0.90     4568\n",
      "0.80     4446\n",
      "0.70     4424\n",
      "1.00     4400\n",
      "         ... \n",
      "17.75       1\n",
      "21.92       1\n",
      "23.04       1\n",
      "25.20       1\n",
      "16.25       1\n",
      "Name: trip_distance, Length: 2612, dtype: int64\n",
      "---- RatecodeID ---\n",
      "1.0     216080\n",
      "2.0       1025\n",
      "5.0       1025\n",
      "4.0        175\n",
      "3.0        158\n",
      "99.0        15\n",
      "6.0          2\n",
      "Name: RatecodeID, dtype: int64\n",
      "---- PULocationID ---\n",
      "140    10361\n",
      "238    10012\n",
      "75      9625\n",
      "263     9228\n",
      "137     8970\n",
      "       ...  \n",
      "172        1\n",
      "96         1\n",
      "46         1\n",
      "245        1\n",
      "154        1\n",
      "Name: PULocationID, Length: 243, dtype: int64\n",
      "---- DOLocationID ---\n",
      "75     10288\n",
      "236     8056\n",
      "140     7995\n",
      "238     7685\n",
      "74      7261\n",
      "       ...  \n",
      "253        2\n",
      "111        2\n",
      "109        2\n",
      "204        1\n",
      "99         1\n",
      "Name: DOLocationID, Length: 255, dtype: int64\n",
      "---- payment_type ---\n",
      "1.0    131151\n",
      "2.0     83038\n",
      "3.0      2910\n",
      "4.0      1381\n",
      "Name: payment_type, dtype: int64\n",
      "---- fare_amount ---\n",
      "5.00      14251\n",
      "5.50      13746\n",
      "6.00      13312\n",
      "4.50      12801\n",
      "6.50      12338\n",
      "          ...  \n",
      "228.00        1\n",
      "74.98         1\n",
      "32.80         1\n",
      "86.26         1\n",
      "58.16         1\n",
      "Name: fare_amount, Length: 697, dtype: int64\n",
      "---- extra ---\n",
      " 0.0    93541\n",
      " 2.5    51679\n",
      " 1.0    27535\n",
      " 0.5    18802\n",
      " 3.5    15802\n",
      " 3.0    10333\n",
      "-0.5      273\n",
      "-1.0      228\n",
      " 4.5      166\n",
      " 7.0       48\n",
      " 0.8       39\n",
      " 1.3       10\n",
      "-4.5        9\n",
      " 1.8        8\n",
      " 2.0        3\n",
      "-2.0        2\n",
      " 0.3        1\n",
      " 4.0        1\n",
      "Name: extra, dtype: int64\n",
      "---- mta_tax ---\n",
      " 0.5    216114\n",
      "-0.5      1272\n",
      " 0.0      1089\n",
      " 1.1         5\n",
      "Name: mta_tax, dtype: int64\n",
      "---- tip_amount ---\n",
      "0.00     98962\n",
      "1.00     10765\n",
      "2.00      8088\n",
      "3.00      2885\n",
      "1.50      2201\n",
      "         ...  \n",
      "13.73        1\n",
      "39.30        1\n",
      "3.37         1\n",
      "32.20        1\n",
      "26.38        1\n",
      "Name: tip_amount, Length: 1233, dtype: int64\n",
      "---- tolls_amount ---\n",
      "0.00     214282\n",
      "6.12       3421\n",
      "12.24       159\n",
      "2.80        152\n",
      "11.75       109\n",
      "          ...  \n",
      "24.74         1\n",
      "98.75         1\n",
      "7.70          1\n",
      "2.15          1\n",
      "7.92          1\n",
      "Name: tolls_amount, Length: 81, dtype: int64\n",
      "---- improvement_surcharge ---\n",
      " 0.3    216861\n",
      "-0.3      1291\n",
      " 0.0       328\n",
      "Name: improvement_surcharge, dtype: int64\n",
      "---- total_amount ---\n",
      "8.80      6594\n",
      "9.30      6491\n",
      "8.30      6291\n",
      "9.80      6118\n",
      "7.80      5833\n",
      "          ... \n",
      "70.71        1\n",
      "32.39        1\n",
      "168.34       1\n",
      "49.26        1\n",
      "116.30       1\n",
      "Name: total_amount, Length: 3583, dtype: int64\n",
      "---- congestion_surcharge ---\n",
      " 2.5    177717\n",
      " 0.0     39860\n",
      "-2.5       903\n",
      "Name: congestion_surcharge, dtype: int64\n"
     ]
    }
   ],
   "source": [
    "for c in relevant_columns:\n",
    "    print(\"---- %s ---\" % c)\n",
    "    print(cab_df[c].value_counts())"
   ],
   "metadata": {
    "collapsed": false,
    "pycharm": {
     "name": "#%%\n"
    }
   }
  },
  {
   "cell_type": "code",
   "execution_count": 6,
   "outputs": [
    {
     "name": "stdout",
     "output_type": "stream",
     "text": [
      "--> 6582 invalid entries found in passenger_count\n",
      "--> 5377 invalid entries found in trip_distance\n",
      "--> 1140 invalid entries found in fare_amount\n",
      "--> 0 invalid entries found in extra\n",
      "--> 0 invalid entries found in mta_tax\n",
      "--> 0 invalid entries found in tip_amount\n",
      "--> 0 invalid entries found in tolls_amount\n",
      "--> 0 invalid entries found in improvement_surcharge\n",
      "--> 0 invalid entries found in total_amount\n",
      "--> 0 invalid entries found in congestion_surcharge\n",
      "13099 invalid entries have been successfully dropped!\n",
      "130 invalid date entries have been successfully dropped!\n",
      "--> 3873 outlier detected and removed from passenger_count column using zscore\n",
      "--> 1759 outlier detected and removed from trip_distance column using zscore\n",
      "--> 3951 outlier detected and removed from fare_amount column using HBOS algorithm\n",
      "--> 8985 outlier detected and removed from extra column using HBOS algorithm\n",
      "--> 205 outlier detected and removed from mta_tax column using HBOS algorithm\n",
      "--> 310 outlier detected and removed from tip_amount column using zscore\n",
      "--> 1576 outlier detected and removed from tolls_amount column using HBOS algorithm\n",
      "--> 28 outlier detected and removed from improvement_surcharge column using HBOS algorithm\n",
      "--> 191 outlier detected and removed from total_amount column using zscore\n",
      "--> 0 outlier detected and removed from congestion_surcharge column using zscore\n",
      "--> 200 outlier detected and removed from trip_duration_minutes column using zscore\n",
      "Outlier detection completed. Number of removed outlier: 21078\n"
     ]
    }
   ],
   "source": [
    "x = yellowcab.cleaning.clean_dataset(cab_df, month=1, verbose=True)"
   ],
   "metadata": {
    "collapsed": false,
    "pycharm": {
     "name": "#%%\n"
    }
   }
  },
  {
   "cell_type": "code",
   "execution_count": 7,
   "outputs": [
    {
     "data": {
      "text/plain": "           pickup_datetime    dropoff_datetime  passenger_count  \\\n0      2020-04-01 00:41:22 2020-04-01 01:01:53              1.0   \n1      2020-04-01 00:56:00 2020-04-01 01:09:25              1.0   \n2      2020-04-01 00:13:24 2020-04-01 00:18:26              1.0   \n3      2020-04-01 00:24:36 2020-04-01 00:33:09              1.0   \n4      2020-04-01 00:56:56 2020-04-01 01:09:13              1.0   \n...                    ...                 ...              ...   \n184165 2020-04-30 23:25:48 2020-04-30 23:34:04              1.0   \n184166 2020-04-30 23:54:13 2020-05-01 00:02:56              1.0   \n184167 2020-04-30 23:03:12 2020-04-30 23:11:51              1.0   \n184168 2020-04-30 23:06:30 2020-04-30 23:16:16              5.0   \n184169 2020-04-30 23:35:27 2020-04-30 23:48:16              1.0   \n\n        trip_distance     RatecodeID PULocationID DOLocationID payment_type  \\\n0                1.20  Standard rate           41           24         Cash   \n1                3.40  Standard rate           95          197  Credit card   \n2                1.44  Standard rate          263           74  Credit card   \n3                2.93  Standard rate           75          170         Cash   \n4                6.86  Standard rate          141          243  Credit card   \n...               ...            ...          ...          ...          ...   \n184165           2.09  Standard rate          186          142  Credit card   \n184166           2.19  Standard rate          239          230  Credit card   \n184167           1.67  Standard rate          239           50  Credit card   \n184168           3.53  Standard rate          141            4  Credit card   \n184169           3.14  Standard rate           75           42  Credit card   \n\n        fare_amount  extra  ...  total_amount  congestion_surcharge  \\\n0               5.5    0.5  ...          6.80                   0.0   \n1              12.5    0.5  ...         16.55                   0.0   \n2               6.5    0.5  ...         13.30                   2.5   \n3              10.5    0.5  ...         14.30                   2.5   \n4              20.0    0.5  ...         28.56                   2.5   \n...             ...    ...  ...           ...                   ...   \n184165          9.0    0.5  ...         16.64                   2.5   \n184166          9.5    0.5  ...         17.91                   2.5   \n184167          8.5    0.5  ...         15.38                   2.5   \n184168         12.0    0.5  ...         19.75                   2.5   \n184169         12.5    0.5  ...         13.80                   0.0   \n\n        trip_duration_minutes  pickup_month  pickup_day  pickup_hour  \\\n0                   20.516667             4           1            0   \n1                   13.416667             4           1            0   \n2                    5.033333             4           1            0   \n3                    8.550000             4           1            0   \n4                   12.283333             4           1            0   \n...                       ...           ...         ...          ...   \n184165               8.266667             4          30           23   \n184166               8.716667             4          30           23   \n184167               8.650000             4          30           23   \n184168               9.766667             4          30           23   \n184169              12.816667             4          30           23   \n\n        dropoff_month  dropoff_day  dropoff_hour  weekend  \n0                   4            1             1    False  \n1                   4            1             1    False  \n2                   4            1             0    False  \n3                   4            1             0    False  \n4                   4            1             1    False  \n...               ...          ...           ...      ...  \n184165              4           30            23    False  \n184166              5            1             0    False  \n184167              4           30            23    False  \n184168              4           30            23    False  \n184169              4           30            23    False  \n\n[184170 rows x 24 columns]",
      "text/html": "<div>\n<style scoped>\n    .dataframe tbody tr th:only-of-type {\n        vertical-align: middle;\n    }\n\n    .dataframe tbody tr th {\n        vertical-align: top;\n    }\n\n    .dataframe thead th {\n        text-align: right;\n    }\n</style>\n<table border=\"1\" class=\"dataframe\">\n  <thead>\n    <tr style=\"text-align: right;\">\n      <th></th>\n      <th>pickup_datetime</th>\n      <th>dropoff_datetime</th>\n      <th>passenger_count</th>\n      <th>trip_distance</th>\n      <th>RatecodeID</th>\n      <th>PULocationID</th>\n      <th>DOLocationID</th>\n      <th>payment_type</th>\n      <th>fare_amount</th>\n      <th>extra</th>\n      <th>...</th>\n      <th>total_amount</th>\n      <th>congestion_surcharge</th>\n      <th>trip_duration_minutes</th>\n      <th>pickup_month</th>\n      <th>pickup_day</th>\n      <th>pickup_hour</th>\n      <th>dropoff_month</th>\n      <th>dropoff_day</th>\n      <th>dropoff_hour</th>\n      <th>weekend</th>\n    </tr>\n  </thead>\n  <tbody>\n    <tr>\n      <th>0</th>\n      <td>2020-04-01 00:41:22</td>\n      <td>2020-04-01 01:01:53</td>\n      <td>1.0</td>\n      <td>1.20</td>\n      <td>Standard rate</td>\n      <td>41</td>\n      <td>24</td>\n      <td>Cash</td>\n      <td>5.5</td>\n      <td>0.5</td>\n      <td>...</td>\n      <td>6.80</td>\n      <td>0.0</td>\n      <td>20.516667</td>\n      <td>4</td>\n      <td>1</td>\n      <td>0</td>\n      <td>4</td>\n      <td>1</td>\n      <td>1</td>\n      <td>False</td>\n    </tr>\n    <tr>\n      <th>1</th>\n      <td>2020-04-01 00:56:00</td>\n      <td>2020-04-01 01:09:25</td>\n      <td>1.0</td>\n      <td>3.40</td>\n      <td>Standard rate</td>\n      <td>95</td>\n      <td>197</td>\n      <td>Credit card</td>\n      <td>12.5</td>\n      <td>0.5</td>\n      <td>...</td>\n      <td>16.55</td>\n      <td>0.0</td>\n      <td>13.416667</td>\n      <td>4</td>\n      <td>1</td>\n      <td>0</td>\n      <td>4</td>\n      <td>1</td>\n      <td>1</td>\n      <td>False</td>\n    </tr>\n    <tr>\n      <th>2</th>\n      <td>2020-04-01 00:13:24</td>\n      <td>2020-04-01 00:18:26</td>\n      <td>1.0</td>\n      <td>1.44</td>\n      <td>Standard rate</td>\n      <td>263</td>\n      <td>74</td>\n      <td>Credit card</td>\n      <td>6.5</td>\n      <td>0.5</td>\n      <td>...</td>\n      <td>13.30</td>\n      <td>2.5</td>\n      <td>5.033333</td>\n      <td>4</td>\n      <td>1</td>\n      <td>0</td>\n      <td>4</td>\n      <td>1</td>\n      <td>0</td>\n      <td>False</td>\n    </tr>\n    <tr>\n      <th>3</th>\n      <td>2020-04-01 00:24:36</td>\n      <td>2020-04-01 00:33:09</td>\n      <td>1.0</td>\n      <td>2.93</td>\n      <td>Standard rate</td>\n      <td>75</td>\n      <td>170</td>\n      <td>Cash</td>\n      <td>10.5</td>\n      <td>0.5</td>\n      <td>...</td>\n      <td>14.30</td>\n      <td>2.5</td>\n      <td>8.550000</td>\n      <td>4</td>\n      <td>1</td>\n      <td>0</td>\n      <td>4</td>\n      <td>1</td>\n      <td>0</td>\n      <td>False</td>\n    </tr>\n    <tr>\n      <th>4</th>\n      <td>2020-04-01 00:56:56</td>\n      <td>2020-04-01 01:09:13</td>\n      <td>1.0</td>\n      <td>6.86</td>\n      <td>Standard rate</td>\n      <td>141</td>\n      <td>243</td>\n      <td>Credit card</td>\n      <td>20.0</td>\n      <td>0.5</td>\n      <td>...</td>\n      <td>28.56</td>\n      <td>2.5</td>\n      <td>12.283333</td>\n      <td>4</td>\n      <td>1</td>\n      <td>0</td>\n      <td>4</td>\n      <td>1</td>\n      <td>1</td>\n      <td>False</td>\n    </tr>\n    <tr>\n      <th>...</th>\n      <td>...</td>\n      <td>...</td>\n      <td>...</td>\n      <td>...</td>\n      <td>...</td>\n      <td>...</td>\n      <td>...</td>\n      <td>...</td>\n      <td>...</td>\n      <td>...</td>\n      <td>...</td>\n      <td>...</td>\n      <td>...</td>\n      <td>...</td>\n      <td>...</td>\n      <td>...</td>\n      <td>...</td>\n      <td>...</td>\n      <td>...</td>\n      <td>...</td>\n      <td>...</td>\n    </tr>\n    <tr>\n      <th>184165</th>\n      <td>2020-04-30 23:25:48</td>\n      <td>2020-04-30 23:34:04</td>\n      <td>1.0</td>\n      <td>2.09</td>\n      <td>Standard rate</td>\n      <td>186</td>\n      <td>142</td>\n      <td>Credit card</td>\n      <td>9.0</td>\n      <td>0.5</td>\n      <td>...</td>\n      <td>16.64</td>\n      <td>2.5</td>\n      <td>8.266667</td>\n      <td>4</td>\n      <td>30</td>\n      <td>23</td>\n      <td>4</td>\n      <td>30</td>\n      <td>23</td>\n      <td>False</td>\n    </tr>\n    <tr>\n      <th>184166</th>\n      <td>2020-04-30 23:54:13</td>\n      <td>2020-05-01 00:02:56</td>\n      <td>1.0</td>\n      <td>2.19</td>\n      <td>Standard rate</td>\n      <td>239</td>\n      <td>230</td>\n      <td>Credit card</td>\n      <td>9.5</td>\n      <td>0.5</td>\n      <td>...</td>\n      <td>17.91</td>\n      <td>2.5</td>\n      <td>8.716667</td>\n      <td>4</td>\n      <td>30</td>\n      <td>23</td>\n      <td>5</td>\n      <td>1</td>\n      <td>0</td>\n      <td>False</td>\n    </tr>\n    <tr>\n      <th>184167</th>\n      <td>2020-04-30 23:03:12</td>\n      <td>2020-04-30 23:11:51</td>\n      <td>1.0</td>\n      <td>1.67</td>\n      <td>Standard rate</td>\n      <td>239</td>\n      <td>50</td>\n      <td>Credit card</td>\n      <td>8.5</td>\n      <td>0.5</td>\n      <td>...</td>\n      <td>15.38</td>\n      <td>2.5</td>\n      <td>8.650000</td>\n      <td>4</td>\n      <td>30</td>\n      <td>23</td>\n      <td>4</td>\n      <td>30</td>\n      <td>23</td>\n      <td>False</td>\n    </tr>\n    <tr>\n      <th>184168</th>\n      <td>2020-04-30 23:06:30</td>\n      <td>2020-04-30 23:16:16</td>\n      <td>5.0</td>\n      <td>3.53</td>\n      <td>Standard rate</td>\n      <td>141</td>\n      <td>4</td>\n      <td>Credit card</td>\n      <td>12.0</td>\n      <td>0.5</td>\n      <td>...</td>\n      <td>19.75</td>\n      <td>2.5</td>\n      <td>9.766667</td>\n      <td>4</td>\n      <td>30</td>\n      <td>23</td>\n      <td>4</td>\n      <td>30</td>\n      <td>23</td>\n      <td>False</td>\n    </tr>\n    <tr>\n      <th>184169</th>\n      <td>2020-04-30 23:35:27</td>\n      <td>2020-04-30 23:48:16</td>\n      <td>1.0</td>\n      <td>3.14</td>\n      <td>Standard rate</td>\n      <td>75</td>\n      <td>42</td>\n      <td>Credit card</td>\n      <td>12.5</td>\n      <td>0.5</td>\n      <td>...</td>\n      <td>13.80</td>\n      <td>0.0</td>\n      <td>12.816667</td>\n      <td>4</td>\n      <td>30</td>\n      <td>23</td>\n      <td>4</td>\n      <td>30</td>\n      <td>23</td>\n      <td>False</td>\n    </tr>\n  </tbody>\n</table>\n<p>184170 rows × 24 columns</p>\n</div>"
     },
     "execution_count": 7,
     "metadata": {},
     "output_type": "execute_result"
    }
   ],
   "source": [
    "x"
   ],
   "metadata": {
    "collapsed": false,
    "pycharm": {
     "name": "#%%\n"
    }
   }
  },
  {
   "cell_type": "code",
   "execution_count": 8,
   "outputs": [
    {
     "name": "stdout",
     "output_type": "stream",
     "text": [
      "---- passenger_count ---\n",
      "1.0    156364\n",
      "2.0     17665\n",
      "5.0      4403\n",
      "3.0      4250\n",
      "4.0      1488\n",
      "Name: passenger_count, dtype: int64\n",
      "---- trip_distance ---\n",
      "0.90     3939\n",
      "0.80     3820\n",
      "0.70     3819\n",
      "1.00     3677\n",
      "1.10     3482\n",
      "         ... \n",
      "11.48       1\n",
      "11.93       1\n",
      "12.14       1\n",
      "11.92       1\n",
      "12.17       1\n",
      "Name: trip_distance, Length: 1214, dtype: int64\n",
      "---- RatecodeID ---\n",
      "Standard rate         184066\n",
      "Negotiated fare           58\n",
      "Nassau/Westchester        45\n",
      "Newark                     1\n",
      "Name: RatecodeID, dtype: int64\n",
      "---- PULocationID ---\n",
      "238    8967\n",
      "140    8591\n",
      "75     8545\n",
      "263    8171\n",
      "236    7718\n",
      "       ... \n",
      "154       1\n",
      "9         1\n",
      "180       1\n",
      "131       1\n",
      "6         1\n",
      "Name: PULocationID, Length: 231, dtype: int64\n",
      "---- DOLocationID ---\n",
      "75     9261\n",
      "236    7238\n",
      "140    7183\n",
      "238    6776\n",
      "74     6463\n",
      "       ... \n",
      "253       1\n",
      "154       1\n",
      "245       1\n",
      "150       1\n",
      "175       1\n",
      "Name: DOLocationID, Length: 238, dtype: int64\n",
      "---- payment_type ---\n",
      "Credit card    111234\n",
      "Cash            70975\n",
      "No charge        1432\n",
      "Dispute           529\n",
      "Name: payment_type, dtype: int64\n",
      "---- fare_amount ---\n",
      "5.00     12968\n",
      "5.50     12468\n",
      "6.00     12080\n",
      "4.50     11668\n",
      "6.50     11237\n",
      "         ...  \n",
      "25.80        1\n",
      "15.05        1\n",
      "27.84        1\n",
      "12.45        1\n",
      "3.85         1\n",
      "Name: fare_amount, Length: 101, dtype: int64\n",
      "---- extra ---\n",
      "0.0    81225\n",
      "2.5    46794\n",
      "1.0    25235\n",
      "0.5    16873\n",
      "3.5    14043\n",
      "Name: extra, dtype: int64\n",
      "---- mta_tax ---\n",
      "0.5    184170\n",
      "Name: mta_tax, dtype: int64\n",
      "---- tip_amount ---\n",
      "0.00     80240\n",
      "1.00      9626\n",
      "2.00      7130\n",
      "3.00      2467\n",
      "1.50      1968\n",
      "         ...  \n",
      "3.47         1\n",
      "10.25        1\n",
      "5.44         1\n",
      "2.11         1\n",
      "5.99         1\n",
      "Name: tip_amount, Length: 618, dtype: int64\n",
      "---- tolls_amount ---\n",
      "0.00    184157\n",
      "2.29         7\n",
      "2.50         2\n",
      "2.00         2\n",
      "0.08         1\n",
      "2.15         1\n",
      "Name: tolls_amount, dtype: int64\n",
      "---- improvement_surcharge ---\n",
      "0.3    184170\n",
      "Name: improvement_surcharge, dtype: int64\n",
      "---- total_amount ---\n",
      "8.80     5960\n",
      "9.30     5835\n",
      "8.30     5718\n",
      "9.80     5472\n",
      "7.80     5264\n",
      "         ... \n",
      "24.98       1\n",
      "4.81        1\n",
      "16.14       1\n",
      "38.25       1\n",
      "10.44       1\n",
      "Name: total_amount, Length: 1587, dtype: int64\n",
      "---- congestion_surcharge ---\n",
      "2.5    153858\n",
      "0.0     30312\n",
      "Name: congestion_surcharge, dtype: int64\n"
     ]
    }
   ],
   "source": [
    "# how many faulty data do we still got here?\n",
    "for c in relevant_columns:\n",
    "    print(\"---- %s ---\" % c)\n",
    "    print(x[c].value_counts())"
   ],
   "metadata": {
    "collapsed": false,
    "pycharm": {
     "name": "#%%\n"
    }
   }
  },
  {
   "cell_type": "code",
   "execution_count": 8,
   "outputs": [],
   "source": [],
   "metadata": {
    "collapsed": false,
    "pycharm": {
     "name": "#%%\n"
    }
   }
  },
  {
   "cell_type": "code",
   "execution_count": 8,
   "outputs": [],
   "source": [],
   "metadata": {
    "collapsed": false,
    "pycharm": {
     "name": "#%%\n"
    }
   }
  }
 ],
 "metadata": {
  "kernelspec": {
   "display_name": "Python 3",
   "language": "python",
   "name": "python3"
  },
  "language_info": {
   "codemirror_mode": {
    "name": "ipython",
    "version": 3
   },
   "file_extension": ".py",
   "mimetype": "text/x-python",
   "name": "python",
   "nbconvert_exporter": "python",
   "pygments_lexer": "ipython3",
   "version": "3.8.8"
  }
 },
 "nbformat": 4,
 "nbformat_minor": 1
}