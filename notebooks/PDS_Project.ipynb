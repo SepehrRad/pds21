{
 "cells": [
  {
   "cell_type": "code",
   "execution_count": 1,
   "metadata": {},
   "outputs": [],
   "source": [
    "import datetime\n",
    "\n",
    "import pandas as pd\n",
    "import geopandas\n",
    "import yellowcab.cleaning"
   ]
  },
  {
   "cell_type": "code",
   "execution_count": 2,
   "metadata": {},
   "outputs": [
    {
     "data": {
      "text/plain": "        tpep_pickup_datetime tpep_dropoff_datetime  passenger_count  \\\n0        2020-01-01 00:28:15   2020-01-01 00:33:03              1.0   \n1        2020-01-01 00:35:39   2020-01-01 00:43:04              1.0   \n2        2020-01-01 00:47:41   2020-01-01 00:53:52              1.0   \n3        2020-01-01 00:55:23   2020-01-01 01:00:14              1.0   \n4        2020-01-01 00:01:58   2020-01-01 00:04:16              1.0   \n...                      ...                   ...              ...   \n6339562  2020-01-31 23:38:07   2020-01-31 23:52:21              1.0   \n6339563  2020-01-31 23:00:18   2020-01-31 23:19:18              1.0   \n6339564  2020-01-31 23:24:22   2020-01-31 23:40:39              1.0   \n6339565  2020-01-31 23:44:22   2020-01-31 23:54:00              1.0   \n6339566  2020-01-31 23:19:37   2020-01-31 23:20:41              1.0   \n\n         trip_distance  RatecodeID  PULocationID  DOLocationID  payment_type  \\\n0                 1.20         1.0           238           239           1.0   \n1                 1.20         1.0           239           238           1.0   \n2                 0.60         1.0           238           238           1.0   \n3                 0.80         1.0           238           151           1.0   \n4                 0.00         1.0           193           193           2.0   \n...                ...         ...           ...           ...           ...   \n6339562           2.10         1.0           163           246           1.0   \n6339563           2.13         1.0           164            79           1.0   \n6339564           2.55         1.0            79            68           1.0   \n6339565           1.61         1.0           100           142           2.0   \n6339566           0.00         1.0           193           193           1.0   \n\n         fare_amount  extra  mta_tax  tip_amount  tolls_amount  \\\n0                6.0    3.0      0.5        1.47           0.0   \n1                7.0    3.0      0.5        1.50           0.0   \n2                6.0    3.0      0.5        1.00           0.0   \n3                5.5    0.5      0.5        1.36           0.0   \n4                3.5    0.5      0.5        0.00           0.0   \n...              ...    ...      ...         ...           ...   \n6339562         11.0    0.5      0.5        2.96           0.0   \n6339563         13.0    0.5      0.5        3.36           0.0   \n6339564         12.5    0.5      0.5        3.26           0.0   \n6339565          8.5    0.5      0.5        0.00           0.0   \n6339566          0.0    0.0      0.0        0.00           0.0   \n\n         improvement_surcharge  total_amount  congestion_surcharge  \n0                          0.3         11.27                   2.5  \n1                          0.3         12.30                   2.5  \n2                          0.3         10.80                   2.5  \n3                          0.3          8.16                   0.0  \n4                          0.3          4.80                   0.0  \n...                        ...           ...                   ...  \n6339562                    0.3         17.76                   2.5  \n6339563                    0.3         20.16                   2.5  \n6339564                    0.3         19.56                   2.5  \n6339565                    0.3         12.30                   2.5  \n6339566                    0.0          0.00                   0.0  \n\n[6339567 rows x 16 columns]",
      "text/html": "<div>\n<style scoped>\n    .dataframe tbody tr th:only-of-type {\n        vertical-align: middle;\n    }\n\n    .dataframe tbody tr th {\n        vertical-align: top;\n    }\n\n    .dataframe thead th {\n        text-align: right;\n    }\n</style>\n<table border=\"1\" class=\"dataframe\">\n  <thead>\n    <tr style=\"text-align: right;\">\n      <th></th>\n      <th>tpep_pickup_datetime</th>\n      <th>tpep_dropoff_datetime</th>\n      <th>passenger_count</th>\n      <th>trip_distance</th>\n      <th>RatecodeID</th>\n      <th>PULocationID</th>\n      <th>DOLocationID</th>\n      <th>payment_type</th>\n      <th>fare_amount</th>\n      <th>extra</th>\n      <th>mta_tax</th>\n      <th>tip_amount</th>\n      <th>tolls_amount</th>\n      <th>improvement_surcharge</th>\n      <th>total_amount</th>\n      <th>congestion_surcharge</th>\n    </tr>\n  </thead>\n  <tbody>\n    <tr>\n      <th>0</th>\n      <td>2020-01-01 00:28:15</td>\n      <td>2020-01-01 00:33:03</td>\n      <td>1.0</td>\n      <td>1.20</td>\n      <td>1.0</td>\n      <td>238</td>\n      <td>239</td>\n      <td>1.0</td>\n      <td>6.0</td>\n      <td>3.0</td>\n      <td>0.5</td>\n      <td>1.47</td>\n      <td>0.0</td>\n      <td>0.3</td>\n      <td>11.27</td>\n      <td>2.5</td>\n    </tr>\n    <tr>\n      <th>1</th>\n      <td>2020-01-01 00:35:39</td>\n      <td>2020-01-01 00:43:04</td>\n      <td>1.0</td>\n      <td>1.20</td>\n      <td>1.0</td>\n      <td>239</td>\n      <td>238</td>\n      <td>1.0</td>\n      <td>7.0</td>\n      <td>3.0</td>\n      <td>0.5</td>\n      <td>1.50</td>\n      <td>0.0</td>\n      <td>0.3</td>\n      <td>12.30</td>\n      <td>2.5</td>\n    </tr>\n    <tr>\n      <th>2</th>\n      <td>2020-01-01 00:47:41</td>\n      <td>2020-01-01 00:53:52</td>\n      <td>1.0</td>\n      <td>0.60</td>\n      <td>1.0</td>\n      <td>238</td>\n      <td>238</td>\n      <td>1.0</td>\n      <td>6.0</td>\n      <td>3.0</td>\n      <td>0.5</td>\n      <td>1.00</td>\n      <td>0.0</td>\n      <td>0.3</td>\n      <td>10.80</td>\n      <td>2.5</td>\n    </tr>\n    <tr>\n      <th>3</th>\n      <td>2020-01-01 00:55:23</td>\n      <td>2020-01-01 01:00:14</td>\n      <td>1.0</td>\n      <td>0.80</td>\n      <td>1.0</td>\n      <td>238</td>\n      <td>151</td>\n      <td>1.0</td>\n      <td>5.5</td>\n      <td>0.5</td>\n      <td>0.5</td>\n      <td>1.36</td>\n      <td>0.0</td>\n      <td>0.3</td>\n      <td>8.16</td>\n      <td>0.0</td>\n    </tr>\n    <tr>\n      <th>4</th>\n      <td>2020-01-01 00:01:58</td>\n      <td>2020-01-01 00:04:16</td>\n      <td>1.0</td>\n      <td>0.00</td>\n      <td>1.0</td>\n      <td>193</td>\n      <td>193</td>\n      <td>2.0</td>\n      <td>3.5</td>\n      <td>0.5</td>\n      <td>0.5</td>\n      <td>0.00</td>\n      <td>0.0</td>\n      <td>0.3</td>\n      <td>4.80</td>\n      <td>0.0</td>\n    </tr>\n    <tr>\n      <th>...</th>\n      <td>...</td>\n      <td>...</td>\n      <td>...</td>\n      <td>...</td>\n      <td>...</td>\n      <td>...</td>\n      <td>...</td>\n      <td>...</td>\n      <td>...</td>\n      <td>...</td>\n      <td>...</td>\n      <td>...</td>\n      <td>...</td>\n      <td>...</td>\n      <td>...</td>\n      <td>...</td>\n    </tr>\n    <tr>\n      <th>6339562</th>\n      <td>2020-01-31 23:38:07</td>\n      <td>2020-01-31 23:52:21</td>\n      <td>1.0</td>\n      <td>2.10</td>\n      <td>1.0</td>\n      <td>163</td>\n      <td>246</td>\n      <td>1.0</td>\n      <td>11.0</td>\n      <td>0.5</td>\n      <td>0.5</td>\n      <td>2.96</td>\n      <td>0.0</td>\n      <td>0.3</td>\n      <td>17.76</td>\n      <td>2.5</td>\n    </tr>\n    <tr>\n      <th>6339563</th>\n      <td>2020-01-31 23:00:18</td>\n      <td>2020-01-31 23:19:18</td>\n      <td>1.0</td>\n      <td>2.13</td>\n      <td>1.0</td>\n      <td>164</td>\n      <td>79</td>\n      <td>1.0</td>\n      <td>13.0</td>\n      <td>0.5</td>\n      <td>0.5</td>\n      <td>3.36</td>\n      <td>0.0</td>\n      <td>0.3</td>\n      <td>20.16</td>\n      <td>2.5</td>\n    </tr>\n    <tr>\n      <th>6339564</th>\n      <td>2020-01-31 23:24:22</td>\n      <td>2020-01-31 23:40:39</td>\n      <td>1.0</td>\n      <td>2.55</td>\n      <td>1.0</td>\n      <td>79</td>\n      <td>68</td>\n      <td>1.0</td>\n      <td>12.5</td>\n      <td>0.5</td>\n      <td>0.5</td>\n      <td>3.26</td>\n      <td>0.0</td>\n      <td>0.3</td>\n      <td>19.56</td>\n      <td>2.5</td>\n    </tr>\n    <tr>\n      <th>6339565</th>\n      <td>2020-01-31 23:44:22</td>\n      <td>2020-01-31 23:54:00</td>\n      <td>1.0</td>\n      <td>1.61</td>\n      <td>1.0</td>\n      <td>100</td>\n      <td>142</td>\n      <td>2.0</td>\n      <td>8.5</td>\n      <td>0.5</td>\n      <td>0.5</td>\n      <td>0.00</td>\n      <td>0.0</td>\n      <td>0.3</td>\n      <td>12.30</td>\n      <td>2.5</td>\n    </tr>\n    <tr>\n      <th>6339566</th>\n      <td>2020-01-31 23:19:37</td>\n      <td>2020-01-31 23:20:41</td>\n      <td>1.0</td>\n      <td>0.00</td>\n      <td>1.0</td>\n      <td>193</td>\n      <td>193</td>\n      <td>1.0</td>\n      <td>0.0</td>\n      <td>0.0</td>\n      <td>0.0</td>\n      <td>0.00</td>\n      <td>0.0</td>\n      <td>0.0</td>\n      <td>0.00</td>\n      <td>0.0</td>\n    </tr>\n  </tbody>\n</table>\n<p>6339567 rows × 16 columns</p>\n</div>"
     },
     "execution_count": 2,
     "metadata": {},
     "output_type": "execute_result"
    }
   ],
   "source": [
    "cab_df = pd.read_parquet(\"../data/trip_data/01.parquet\")\n",
    "cab_df"
   ]
  },
  {
   "cell_type": "code",
   "execution_count": 3,
   "metadata": {},
   "outputs": [
    {
     "name": "stdout",
     "output_type": "stream",
     "text": [
      "<class 'pandas.core.frame.DataFrame'>\n",
      "Int64Index: 6339567 entries, 0 to 6339566\n",
      "Data columns (total 16 columns):\n",
      " #   Column                 Dtype         \n",
      "---  ------                 -----         \n",
      " 0   tpep_pickup_datetime   datetime64[ns]\n",
      " 1   tpep_dropoff_datetime  datetime64[ns]\n",
      " 2   passenger_count        float64       \n",
      " 3   trip_distance          float64       \n",
      " 4   RatecodeID             float64       \n",
      " 5   PULocationID           int64         \n",
      " 6   DOLocationID           int64         \n",
      " 7   payment_type           float64       \n",
      " 8   fare_amount            float64       \n",
      " 9   extra                  float64       \n",
      " 10  mta_tax                float64       \n",
      " 11  tip_amount             float64       \n",
      " 12  tolls_amount           float64       \n",
      " 13  improvement_surcharge  float64       \n",
      " 14  total_amount           float64       \n",
      " 15  congestion_surcharge   float64       \n",
      "dtypes: datetime64[ns](2), float64(12), int64(2)\n",
      "memory usage: 822.2 MB\n"
     ]
    }
   ],
   "source": [
    "cab_df.info()"
   ]
  },
  {
   "cell_type": "code",
   "execution_count": 4,
   "metadata": {},
   "outputs": [
    {
     "name": "stdout",
     "output_type": "stream",
     "text": [
      "<class 'pandas.core.frame.DataFrame'>\n",
      "RangeIndex: 265 entries, 0 to 264\n",
      "Data columns (total 4 columns):\n",
      " #   Column        Non-Null Count  Dtype \n",
      "---  ------        --------------  ----- \n",
      " 0   LocationID    265 non-null    int64 \n",
      " 1   Borough       265 non-null    object\n",
      " 2   Zone          264 non-null    object\n",
      " 3   service_zone  263 non-null    object\n",
      "dtypes: int64(1), object(3)\n",
      "memory usage: 8.4+ KB\n"
     ]
    }
   ],
   "source": [
    "taxi_zone_df = pd.read_csv(\"../data/taxi_zones/taxi_zones.csv\")\n",
    "taxi_zone_df.info()"
   ]
  },
  {
   "cell_type": "code",
   "execution_count": 5,
   "metadata": {},
   "outputs": [
    {
     "data": {
      "text/plain": "          Shape_Leng  Shape_Area                     zone  LocationID  \\\nOBJECTID                                                                \n1           0.116357    0.000782           Newark Airport           1   \n2           0.433470    0.004866              Jamaica Bay           2   \n3           0.084341    0.000314  Allerton/Pelham Gardens           3   \n4           0.043567    0.000112            Alphabet City           4   \n5           0.092146    0.000498            Arden Heights           5   \n...              ...         ...                      ...         ...   \n259         0.126750    0.000395       Woodlawn/Wakefield         259   \n260         0.133514    0.000422                 Woodside         260   \n261         0.027120    0.000034       World Trade Center         261   \n262         0.049064    0.000122           Yorkville East         262   \n263         0.037017    0.000066           Yorkville West         263   \n\n                borough                                           geometry  \\\nOBJECTID                                                                     \n1                   EWR  POLYGON ((933100.918 192536.086, 933091.011 19...   \n2                Queens  MULTIPOLYGON (((1033269.244 172126.008, 103343...   \n3                 Bronx  POLYGON ((1026308.770 256767.698, 1026495.593 ...   \n4             Manhattan  POLYGON ((992073.467 203714.076, 992068.667 20...   \n5         Staten Island  POLYGON ((935843.310 144283.336, 936046.565 14...   \n...                 ...                                                ...   \n259               Bronx  POLYGON ((1025414.782 270986.139, 1025138.624 ...   \n260              Queens  POLYGON ((1011466.966 216463.005, 1011545.889 ...   \n261           Manhattan  POLYGON ((980555.204 196138.486, 980570.792 19...   \n262           Manhattan  MULTIPOLYGON (((999804.795 224498.527, 999824....   \n263           Manhattan  POLYGON ((997493.323 220912.386, 997355.264 22...   \n\n                Borough                     Zone service_zone  \nOBJECTID                                                       \n1                   EWR           Newark Airport          EWR  \n2                Queens              Jamaica Bay    Boro Zone  \n3                 Bronx  Allerton/Pelham Gardens    Boro Zone  \n4             Manhattan            Alphabet City  Yellow Zone  \n5         Staten Island            Arden Heights    Boro Zone  \n...                 ...                      ...          ...  \n259               Bronx       Woodlawn/Wakefield    Boro Zone  \n260              Queens                 Woodside    Boro Zone  \n261           Manhattan       World Trade Center  Yellow Zone  \n262           Manhattan           Yorkville East  Yellow Zone  \n263           Manhattan           Yorkville West  Yellow Zone  \n\n[263 rows x 9 columns]",
      "text/html": "<div>\n<style scoped>\n    .dataframe tbody tr th:only-of-type {\n        vertical-align: middle;\n    }\n\n    .dataframe tbody tr th {\n        vertical-align: top;\n    }\n\n    .dataframe thead th {\n        text-align: right;\n    }\n</style>\n<table border=\"1\" class=\"dataframe\">\n  <thead>\n    <tr style=\"text-align: right;\">\n      <th></th>\n      <th>Shape_Leng</th>\n      <th>Shape_Area</th>\n      <th>zone</th>\n      <th>LocationID</th>\n      <th>borough</th>\n      <th>geometry</th>\n      <th>Borough</th>\n      <th>Zone</th>\n      <th>service_zone</th>\n    </tr>\n    <tr>\n      <th>OBJECTID</th>\n      <th></th>\n      <th></th>\n      <th></th>\n      <th></th>\n      <th></th>\n      <th></th>\n      <th></th>\n      <th></th>\n      <th></th>\n    </tr>\n  </thead>\n  <tbody>\n    <tr>\n      <th>1</th>\n      <td>0.116357</td>\n      <td>0.000782</td>\n      <td>Newark Airport</td>\n      <td>1</td>\n      <td>EWR</td>\n      <td>POLYGON ((933100.918 192536.086, 933091.011 19...</td>\n      <td>EWR</td>\n      <td>Newark Airport</td>\n      <td>EWR</td>\n    </tr>\n    <tr>\n      <th>2</th>\n      <td>0.433470</td>\n      <td>0.004866</td>\n      <td>Jamaica Bay</td>\n      <td>2</td>\n      <td>Queens</td>\n      <td>MULTIPOLYGON (((1033269.244 172126.008, 103343...</td>\n      <td>Queens</td>\n      <td>Jamaica Bay</td>\n      <td>Boro Zone</td>\n    </tr>\n    <tr>\n      <th>3</th>\n      <td>0.084341</td>\n      <td>0.000314</td>\n      <td>Allerton/Pelham Gardens</td>\n      <td>3</td>\n      <td>Bronx</td>\n      <td>POLYGON ((1026308.770 256767.698, 1026495.593 ...</td>\n      <td>Bronx</td>\n      <td>Allerton/Pelham Gardens</td>\n      <td>Boro Zone</td>\n    </tr>\n    <tr>\n      <th>4</th>\n      <td>0.043567</td>\n      <td>0.000112</td>\n      <td>Alphabet City</td>\n      <td>4</td>\n      <td>Manhattan</td>\n      <td>POLYGON ((992073.467 203714.076, 992068.667 20...</td>\n      <td>Manhattan</td>\n      <td>Alphabet City</td>\n      <td>Yellow Zone</td>\n    </tr>\n    <tr>\n      <th>5</th>\n      <td>0.092146</td>\n      <td>0.000498</td>\n      <td>Arden Heights</td>\n      <td>5</td>\n      <td>Staten Island</td>\n      <td>POLYGON ((935843.310 144283.336, 936046.565 14...</td>\n      <td>Staten Island</td>\n      <td>Arden Heights</td>\n      <td>Boro Zone</td>\n    </tr>\n    <tr>\n      <th>...</th>\n      <td>...</td>\n      <td>...</td>\n      <td>...</td>\n      <td>...</td>\n      <td>...</td>\n      <td>...</td>\n      <td>...</td>\n      <td>...</td>\n      <td>...</td>\n    </tr>\n    <tr>\n      <th>259</th>\n      <td>0.126750</td>\n      <td>0.000395</td>\n      <td>Woodlawn/Wakefield</td>\n      <td>259</td>\n      <td>Bronx</td>\n      <td>POLYGON ((1025414.782 270986.139, 1025138.624 ...</td>\n      <td>Bronx</td>\n      <td>Woodlawn/Wakefield</td>\n      <td>Boro Zone</td>\n    </tr>\n    <tr>\n      <th>260</th>\n      <td>0.133514</td>\n      <td>0.000422</td>\n      <td>Woodside</td>\n      <td>260</td>\n      <td>Queens</td>\n      <td>POLYGON ((1011466.966 216463.005, 1011545.889 ...</td>\n      <td>Queens</td>\n      <td>Woodside</td>\n      <td>Boro Zone</td>\n    </tr>\n    <tr>\n      <th>261</th>\n      <td>0.027120</td>\n      <td>0.000034</td>\n      <td>World Trade Center</td>\n      <td>261</td>\n      <td>Manhattan</td>\n      <td>POLYGON ((980555.204 196138.486, 980570.792 19...</td>\n      <td>Manhattan</td>\n      <td>World Trade Center</td>\n      <td>Yellow Zone</td>\n    </tr>\n    <tr>\n      <th>262</th>\n      <td>0.049064</td>\n      <td>0.000122</td>\n      <td>Yorkville East</td>\n      <td>262</td>\n      <td>Manhattan</td>\n      <td>MULTIPOLYGON (((999804.795 224498.527, 999824....</td>\n      <td>Manhattan</td>\n      <td>Yorkville East</td>\n      <td>Yellow Zone</td>\n    </tr>\n    <tr>\n      <th>263</th>\n      <td>0.037017</td>\n      <td>0.000066</td>\n      <td>Yorkville West</td>\n      <td>263</td>\n      <td>Manhattan</td>\n      <td>POLYGON ((997493.323 220912.386, 997355.264 22...</td>\n      <td>Manhattan</td>\n      <td>Yorkville West</td>\n      <td>Yellow Zone</td>\n    </tr>\n  </tbody>\n</table>\n<p>263 rows × 9 columns</p>\n</div>"
     },
     "execution_count": 5,
     "metadata": {},
     "output_type": "execute_result"
    }
   ],
   "source": [
    "geo_df = geopandas.read_file(\"../data/taxi_zones/taxi_zones.geojson\") \n",
    "\n",
    "joined_gdf = geo_df.merge(taxi_zone_df,how='left', on=\"LocationID\")\n",
    "\n",
    "joined_gdf.set_index(\"OBJECTID\")"
   ]
  },
  {
   "cell_type": "code",
   "execution_count": 6,
   "metadata": {
    "pycharm": {
     "name": "#%%\n"
    }
   },
   "outputs": [
    {
     "data": {
      "text/plain": "\"relevant_columns = ['passenger_count', 'trip_distance', 'RatecodeID',\\n                    'PULocationID', 'DOLocationID', 'payment_type',\\n                    'fare_amount', 'extra', 'mta_tax', 'tip_amount',\\n                    'tolls_amount', 'improvement_surcharge', 'total_amount',\\n                    'congestion_surcharge']\""
     },
     "execution_count": 6,
     "metadata": {},
     "output_type": "execute_result"
    }
   ],
   "source": [
    "\"\"\"relevant_columns = ['passenger_count', 'trip_distance', 'RatecodeID',\n",
    "                    'PULocationID', 'DOLocationID', 'payment_type',\n",
    "                    'fare_amount', 'extra', 'mta_tax', 'tip_amount',\n",
    "                    'tolls_amount', 'improvement_surcharge', 'total_amount',\n",
    "                    'congestion_surcharge']\"\"\""
   ]
  },
  {
   "cell_type": "code",
   "execution_count": 7,
   "metadata": {
    "pycharm": {
     "name": "#%%\n"
    },
    "scrolled": false
   },
   "outputs": [
    {
     "data": {
      "text/plain": "'\\nfor c in relevant_columns:\\n    print(\"---- %s ---\" % c)\\n    print(cab_df[c].value_counts())'"
     },
     "execution_count": 7,
     "metadata": {},
     "output_type": "execute_result"
    }
   ],
   "source": [
    "\"\"\"\n",
    "for c in relevant_columns:\n",
    "    print(\"---- %s ---\" % c)\n",
    "    print(cab_df[c].value_counts())\"\"\""
   ]
  },
  {
   "cell_type": "code",
   "execution_count": 8,
   "metadata": {
    "pycharm": {
     "name": "#%%\n"
    }
   },
   "outputs": [
    {
     "data": {
      "text/plain": "'\\ncab_df[cab_df[\"fare_amount\"] == 65.25].drop([\"start_month\", \"start_day\", \"start_hour\", \"end_month\", \"end_day\", \"end_hour\"], axis=1)\\n'"
     },
     "execution_count": 8,
     "metadata": {},
     "output_type": "execute_result"
    }
   ],
   "source": [
    "\"\"\"\n",
    "cab_df[cab_df[\"fare_amount\"] == 65.25].drop([\"start_month\", \"start_day\", \"start_hour\", \"end_month\", \"end_day\", \"end_hour\"], axis=1)\n",
    "\"\"\""
   ]
  },
  {
   "cell_type": "code",
   "execution_count": 9,
   "metadata": {
    "pycharm": {
     "name": "#%%\n"
    }
   },
   "outputs": [
    {
     "data": {
      "text/plain": "'\\ncab_df[cab_df[\"DOLocationID\"] == 1]'"
     },
     "execution_count": 9,
     "metadata": {},
     "output_type": "execute_result"
    }
   ],
   "source": [
    "\"\"\"\n",
    "cab_df[cab_df[\"DOLocationID\"] == 1]\"\"\""
   ]
  },
  {
   "cell_type": "code",
   "execution_count": 10,
   "metadata": {
    "pycharm": {
     "name": "#%%\n"
    }
   },
   "outputs": [
    {
     "data": {
      "text/plain": "'x = yellowcab.cleaning.clean_dataset(cab_df, \"fare_amount\", \"isolation\")\\nx'"
     },
     "execution_count": 10,
     "metadata": {},
     "output_type": "execute_result"
    }
   ],
   "source": [
    "\"\"\"x = yellowcab.cleaning.clean_dataset(cab_df, \"fare_amount\", \"isolation\")\n",
    "x\"\"\""
   ]
  },
  {
   "cell_type": "code",
   "execution_count": 11,
   "outputs": [
    {
     "data": {
      "text/plain": "            pickup_datetime    dropoff_datetime  passenger_count  \\\n0       2020-01-01 00:28:15 2020-01-01 00:33:03              1.0   \n1       2020-01-01 00:35:39 2020-01-01 00:43:04              1.0   \n2       2020-01-01 00:47:41 2020-01-01 00:53:52              1.0   \n3       2020-01-01 00:55:23 2020-01-01 01:00:14              1.0   \n5       2020-01-01 00:09:44 2020-01-01 00:10:37              1.0   \n...                     ...                 ...              ...   \n6339561 2020-01-31 23:00:01 2020-01-31 23:21:31              1.0   \n6339562 2020-01-31 23:38:07 2020-01-31 23:52:21              1.0   \n6339563 2020-01-31 23:00:18 2020-01-31 23:19:18              1.0   \n6339564 2020-01-31 23:24:22 2020-01-31 23:40:39              1.0   \n6339565 2020-01-31 23:44:22 2020-01-31 23:54:00              1.0   \n\n         trip_distance  RatecodeID  PULocationID  DOLocationID  payment_type  \\\n0                 1.20         1.0         238.0         239.0           1.0   \n1                 1.20         1.0         239.0         238.0           1.0   \n2                 0.60         1.0         238.0         238.0           1.0   \n3                 0.80         1.0         238.0         151.0           1.0   \n5                 0.03         1.0           7.0         193.0           2.0   \n...                ...         ...           ...           ...           ...   \n6339561           4.11         1.0          48.0          75.0           1.0   \n6339562           2.10         1.0         163.0         246.0           1.0   \n6339563           2.13         1.0         164.0          79.0           1.0   \n6339564           2.55         1.0          79.0          68.0           1.0   \n6339565           1.61         1.0         100.0         142.0           2.0   \n\n         fare_amount  extra  mta_tax  tip_amount  tolls_amount  \\\n0                6.0    3.0      0.5        1.47           0.0   \n1                7.0    3.0      0.5        1.50           0.0   \n2                6.0    3.0      0.5        1.00           0.0   \n3                5.5    0.5      0.5        1.36           0.0   \n5                2.5    0.5      0.5        0.00           0.0   \n...              ...    ...      ...         ...           ...   \n6339561         17.5    0.5      0.5        4.26           0.0   \n6339562         11.0    0.5      0.5        2.96           0.0   \n6339563         13.0    0.5      0.5        3.36           0.0   \n6339564         12.5    0.5      0.5        3.26           0.0   \n6339565          8.5    0.5      0.5        0.00           0.0   \n\n         improvement_surcharge  total_amount  congestion_surcharge  \n0                          0.3         11.27                   2.5  \n1                          0.3         12.30                   2.5  \n2                          0.3         10.80                   2.5  \n3                          0.3          8.16                   0.0  \n5                          0.3          3.80                   0.0  \n...                        ...           ...                   ...  \n6339561                    0.3         25.56                   2.5  \n6339562                    0.3         17.76                   2.5  \n6339563                    0.3         20.16                   2.5  \n6339564                    0.3         19.56                   2.5  \n6339565                    0.3         12.30                   2.5  \n\n[6087359 rows x 16 columns]",
      "text/html": "<div>\n<style scoped>\n    .dataframe tbody tr th:only-of-type {\n        vertical-align: middle;\n    }\n\n    .dataframe tbody tr th {\n        vertical-align: top;\n    }\n\n    .dataframe thead th {\n        text-align: right;\n    }\n</style>\n<table border=\"1\" class=\"dataframe\">\n  <thead>\n    <tr style=\"text-align: right;\">\n      <th></th>\n      <th>pickup_datetime</th>\n      <th>dropoff_datetime</th>\n      <th>passenger_count</th>\n      <th>trip_distance</th>\n      <th>RatecodeID</th>\n      <th>PULocationID</th>\n      <th>DOLocationID</th>\n      <th>payment_type</th>\n      <th>fare_amount</th>\n      <th>extra</th>\n      <th>mta_tax</th>\n      <th>tip_amount</th>\n      <th>tolls_amount</th>\n      <th>improvement_surcharge</th>\n      <th>total_amount</th>\n      <th>congestion_surcharge</th>\n    </tr>\n  </thead>\n  <tbody>\n    <tr>\n      <th>0</th>\n      <td>2020-01-01 00:28:15</td>\n      <td>2020-01-01 00:33:03</td>\n      <td>1.0</td>\n      <td>1.20</td>\n      <td>1.0</td>\n      <td>238.0</td>\n      <td>239.0</td>\n      <td>1.0</td>\n      <td>6.0</td>\n      <td>3.0</td>\n      <td>0.5</td>\n      <td>1.47</td>\n      <td>0.0</td>\n      <td>0.3</td>\n      <td>11.27</td>\n      <td>2.5</td>\n    </tr>\n    <tr>\n      <th>1</th>\n      <td>2020-01-01 00:35:39</td>\n      <td>2020-01-01 00:43:04</td>\n      <td>1.0</td>\n      <td>1.20</td>\n      <td>1.0</td>\n      <td>239.0</td>\n      <td>238.0</td>\n      <td>1.0</td>\n      <td>7.0</td>\n      <td>3.0</td>\n      <td>0.5</td>\n      <td>1.50</td>\n      <td>0.0</td>\n      <td>0.3</td>\n      <td>12.30</td>\n      <td>2.5</td>\n    </tr>\n    <tr>\n      <th>2</th>\n      <td>2020-01-01 00:47:41</td>\n      <td>2020-01-01 00:53:52</td>\n      <td>1.0</td>\n      <td>0.60</td>\n      <td>1.0</td>\n      <td>238.0</td>\n      <td>238.0</td>\n      <td>1.0</td>\n      <td>6.0</td>\n      <td>3.0</td>\n      <td>0.5</td>\n      <td>1.00</td>\n      <td>0.0</td>\n      <td>0.3</td>\n      <td>10.80</td>\n      <td>2.5</td>\n    </tr>\n    <tr>\n      <th>3</th>\n      <td>2020-01-01 00:55:23</td>\n      <td>2020-01-01 01:00:14</td>\n      <td>1.0</td>\n      <td>0.80</td>\n      <td>1.0</td>\n      <td>238.0</td>\n      <td>151.0</td>\n      <td>1.0</td>\n      <td>5.5</td>\n      <td>0.5</td>\n      <td>0.5</td>\n      <td>1.36</td>\n      <td>0.0</td>\n      <td>0.3</td>\n      <td>8.16</td>\n      <td>0.0</td>\n    </tr>\n    <tr>\n      <th>5</th>\n      <td>2020-01-01 00:09:44</td>\n      <td>2020-01-01 00:10:37</td>\n      <td>1.0</td>\n      <td>0.03</td>\n      <td>1.0</td>\n      <td>7.0</td>\n      <td>193.0</td>\n      <td>2.0</td>\n      <td>2.5</td>\n      <td>0.5</td>\n      <td>0.5</td>\n      <td>0.00</td>\n      <td>0.0</td>\n      <td>0.3</td>\n      <td>3.80</td>\n      <td>0.0</td>\n    </tr>\n    <tr>\n      <th>...</th>\n      <td>...</td>\n      <td>...</td>\n      <td>...</td>\n      <td>...</td>\n      <td>...</td>\n      <td>...</td>\n      <td>...</td>\n      <td>...</td>\n      <td>...</td>\n      <td>...</td>\n      <td>...</td>\n      <td>...</td>\n      <td>...</td>\n      <td>...</td>\n      <td>...</td>\n      <td>...</td>\n    </tr>\n    <tr>\n      <th>6339561</th>\n      <td>2020-01-31 23:00:01</td>\n      <td>2020-01-31 23:21:31</td>\n      <td>1.0</td>\n      <td>4.11</td>\n      <td>1.0</td>\n      <td>48.0</td>\n      <td>75.0</td>\n      <td>1.0</td>\n      <td>17.5</td>\n      <td>0.5</td>\n      <td>0.5</td>\n      <td>4.26</td>\n      <td>0.0</td>\n      <td>0.3</td>\n      <td>25.56</td>\n      <td>2.5</td>\n    </tr>\n    <tr>\n      <th>6339562</th>\n      <td>2020-01-31 23:38:07</td>\n      <td>2020-01-31 23:52:21</td>\n      <td>1.0</td>\n      <td>2.10</td>\n      <td>1.0</td>\n      <td>163.0</td>\n      <td>246.0</td>\n      <td>1.0</td>\n      <td>11.0</td>\n      <td>0.5</td>\n      <td>0.5</td>\n      <td>2.96</td>\n      <td>0.0</td>\n      <td>0.3</td>\n      <td>17.76</td>\n      <td>2.5</td>\n    </tr>\n    <tr>\n      <th>6339563</th>\n      <td>2020-01-31 23:00:18</td>\n      <td>2020-01-31 23:19:18</td>\n      <td>1.0</td>\n      <td>2.13</td>\n      <td>1.0</td>\n      <td>164.0</td>\n      <td>79.0</td>\n      <td>1.0</td>\n      <td>13.0</td>\n      <td>0.5</td>\n      <td>0.5</td>\n      <td>3.36</td>\n      <td>0.0</td>\n      <td>0.3</td>\n      <td>20.16</td>\n      <td>2.5</td>\n    </tr>\n    <tr>\n      <th>6339564</th>\n      <td>2020-01-31 23:24:22</td>\n      <td>2020-01-31 23:40:39</td>\n      <td>1.0</td>\n      <td>2.55</td>\n      <td>1.0</td>\n      <td>79.0</td>\n      <td>68.0</td>\n      <td>1.0</td>\n      <td>12.5</td>\n      <td>0.5</td>\n      <td>0.5</td>\n      <td>3.26</td>\n      <td>0.0</td>\n      <td>0.3</td>\n      <td>19.56</td>\n      <td>2.5</td>\n    </tr>\n    <tr>\n      <th>6339565</th>\n      <td>2020-01-31 23:44:22</td>\n      <td>2020-01-31 23:54:00</td>\n      <td>1.0</td>\n      <td>1.61</td>\n      <td>1.0</td>\n      <td>100.0</td>\n      <td>142.0</td>\n      <td>2.0</td>\n      <td>8.5</td>\n      <td>0.5</td>\n      <td>0.5</td>\n      <td>0.00</td>\n      <td>0.0</td>\n      <td>0.3</td>\n      <td>12.30</td>\n      <td>2.5</td>\n    </tr>\n  </tbody>\n</table>\n<p>6087359 rows × 16 columns</p>\n</div>"
     },
     "execution_count": 11,
     "metadata": {},
     "output_type": "execute_result"
    }
   ],
   "source": [
    "x = yellowcab.cleaning.remove_faulty_data(cab_df)\n",
    "x"
   ],
   "metadata": {
    "collapsed": false,
    "pycharm": {
     "name": "#%%\n"
    }
   }
  },
  {
   "cell_type": "code",
   "execution_count": 12,
   "outputs": [
    {
     "data": {
      "text/plain": "            pickup_datetime    dropoff_datetime  passenger_count  \\\n2268432 2020-02-02 13:14:41 2020-02-02 13:21:03              2.0   \n2268433 2020-02-02 13:27:19 2020-02-02 13:31:02              3.0   \n2276321 2020-02-23 21:26:23 2020-02-23 21:44:39              3.0   \n2283587 2020-03-16 06:17:14 2020-03-16 06:21:45              3.0   \n4189276 2020-02-12 01:43:34 2020-02-12 02:02:26              1.0   \n4189277 2020-02-12 02:10:17 2020-02-12 02:31:48              1.0   \n4189278 2020-02-12 02:33:13 2020-02-12 02:40:33              1.0   \n4200484 2020-03-04 10:12:32 2020-03-04 10:23:48              1.0   \n4211274 2020-03-25 18:51:29 2020-03-25 19:00:25              1.0   \n4211275 2020-03-25 19:24:19 2020-03-26 02:46:15              1.0   \n4222375 2020-04-16 03:06:17 2020-04-16 03:12:53              1.0   \n4233628 2020-05-07 10:44:29 2020-05-07 10:51:18              1.0   \n4233629 2020-05-07 10:59:46 2020-05-07 11:20:22              1.0   \n4233630 2020-05-07 11:22:41 2020-05-07 18:57:15              1.0   \n4245062 2020-05-28 19:10:39 2020-05-28 19:25:28              1.0   \n4257183 2020-05-28 19:43:49 2020-05-29 02:52:31              1.0   \n4257184 2020-06-19 03:01:25 2020-06-19 03:35:54              1.0   \n4269476 2020-07-10 10:46:19 2020-07-10 10:52:46              1.0   \n4269477 2020-07-10 10:56:46 2020-07-10 11:02:42              1.0   \n4269478 2020-07-10 11:03:49 2020-07-10 11:21:14              1.0   \n4269479 2020-07-10 11:25:13 2020-07-10 11:27:20              1.0   \n4269480 2020-07-10 11:34:11 2020-07-10 11:42:41              1.0   \n4282277 2020-07-31 18:50:41 2020-07-31 18:54:12              1.0   \n5086601 2020-03-26 04:02:21 2020-03-26 05:44:00              5.0   \n6328241 2020-02-01 00:01:49 2020-02-01 00:09:03              2.0   \n6329250 2020-02-01 00:00:08 2020-02-01 00:18:24              2.0   \n6330562 2020-02-01 00:01:12 2020-02-01 00:12:17              1.0   \n6332090 2020-02-01 00:01:46 2020-02-01 00:07:49              1.0   \n6332107 2020-02-01 00:00:17 2020-02-01 00:12:54              1.0   \n6332307 2020-02-01 00:03:32 2020-02-01 00:11:30              2.0   \n6332652 2020-02-01 00:00:59 2020-02-01 00:06:24              1.0   \n6333579 2020-02-01 00:05:26 2020-02-01 00:13:41              1.0   \n6335480 2020-02-01 00:04:53 2020-02-01 00:13:58              1.0   \n6335688 2020-02-01 00:00:30 2020-02-01 00:08:45              6.0   \n6336038 2020-02-01 00:00:10 2020-02-01 00:18:42              1.0   \n6336413 2020-02-01 00:02:55 2020-02-01 00:14:07              2.0   \n6336453 2020-02-01 00:00:59 2020-02-01 00:17:55              1.0   \n6336671 2020-02-01 00:15:23 2020-02-01 00:25:47              1.0   \n6337746 2020-02-01 00:00:52 2020-02-01 00:31:13              1.0   \n6338103 2020-02-01 00:00:17 2020-02-01 00:23:56              1.0   \n6338245 2020-02-01 00:01:07 2020-02-01 00:12:44              1.0   \n6338369 2020-02-01 00:00:24 2020-02-01 00:05:05              1.0   \n6338826 2020-02-01 00:01:42 2020-02-01 00:12:25              1.0   \n6339106 2020-02-01 00:00:03 2020-02-01 00:13:39              1.0   \n6339239 2020-02-01 00:08:34 2020-02-01 00:26:14              2.0   \n6339553 2020-02-01 00:00:37 2020-02-01 00:11:59              1.0   \n\n         trip_distance  RatecodeID  PULocationID  DOLocationID  payment_type  \\\n2268432           0.85         1.0          48.0         246.0           2.0   \n2268433           1.17         1.0          50.0         142.0           2.0   \n2276321           6.29         1.0         230.0          88.0           1.0   \n2283587           1.21         1.0          24.0         152.0           1.0   \n4189276           1.12         1.0         100.0         233.0           1.0   \n4189277           1.02         1.0         162.0         163.0           1.0   \n4189278           0.85         1.0         163.0         143.0           1.0   \n4200484           1.19         1.0          43.0         161.0           1.0   \n4211274           0.86         1.0          43.0         161.0           1.0   \n4211275           1.94         1.0         230.0         236.0           1.0   \n4222375           0.46         1.0          43.0          43.0           1.0   \n4233628           0.50         1.0         161.0         163.0           1.0   \n4233629           1.55         1.0         237.0         162.0           1.0   \n4233630           4.16         1.0         170.0         233.0           1.0   \n4245062           3.20         1.0          50.0         151.0           1.0   \n4257183           0.52         1.0         236.0         236.0           2.0   \n4257184           3.94         1.0         236.0         186.0           2.0   \n4269476           0.64         1.0          68.0         164.0           1.0   \n4269477           0.93         1.0         170.0         163.0           1.0   \n4269478           2.41         1.0         163.0         262.0           1.0   \n4269479           0.54         1.0         262.0         263.0           1.0   \n4269480           1.07         1.0         236.0         262.0           1.0   \n4282277           0.72         1.0         236.0          43.0           2.0   \n5086601           5.48         1.0         137.0         217.0           2.0   \n6328241           0.95         1.0          79.0         148.0           1.0   \n6329250           3.27         1.0         249.0         232.0           2.0   \n6330562           2.24         1.0         164.0         141.0           1.0   \n6332090           0.82         1.0         114.0         114.0           2.0   \n6332107           2.38         1.0         158.0         230.0           1.0   \n6332307           1.43         1.0         107.0         114.0           1.0   \n6332652           1.70         1.0          50.0         239.0           2.0   \n6333579           1.46         1.0         230.0          68.0           2.0   \n6335480           1.69         1.0         162.0         162.0           1.0   \n6335688           1.45         1.0          68.0         170.0           2.0   \n6336038           3.54         1.0         229.0         158.0           1.0   \n6336413           1.52         1.0         249.0         107.0           1.0   \n6336453           1.68         1.0         234.0         148.0           1.0   \n6336671           3.51         1.0         229.0          79.0           1.0   \n6337746          12.21         1.0         249.0         136.0           1.0   \n6338103           5.42         1.0         114.0         181.0           1.0   \n6338245           4.54         1.0          87.0         170.0           1.0   \n6338369           0.60         1.0         113.0         249.0           1.0   \n6338826           1.93         1.0         100.0         162.0           1.0   \n6339106           2.37         1.0         163.0         249.0           1.0   \n6339239           3.22         1.0         148.0         246.0           1.0   \n6339553           1.18         1.0         186.0         170.0           1.0   \n\n         fare_amount  extra  mta_tax  tip_amount  tolls_amount  \\\n2268432          6.0    0.5      0.5        0.00           0.0   \n2268433          5.5    0.5      0.5        0.00           0.0   \n2276321         21.0    0.5      0.5        4.00           0.0   \n2283587          6.0    0.5      0.5        1.46           0.0   \n4189276         12.0    0.0      0.5        2.80           0.0   \n4189277         13.5    0.0      0.5        1.50           0.0   \n4189278          6.5    0.0      0.5        1.96           0.0   \n4200484          8.5    0.0      0.5        3.54           0.0   \n4211274          7.0    0.0      0.5        1.00           0.0   \n4211275         14.0    0.0      0.5        0.00           0.0   \n4222375          5.5    0.0      0.5        1.76           0.0   \n4233628          6.0    0.0      0.5        1.86           0.0   \n4233629         13.0    0.0      0.5        3.26           0.0   \n4233630         22.0    0.0      0.5        6.32           0.0   \n4245062         12.5    0.0      0.5        3.16           0.0   \n4257183          6.5    0.0      0.5        0.00           0.0   \n4257184         22.0    0.0      0.5        0.00           0.0   \n4269476          5.5    1.0      0.5        1.96           0.0   \n4269477          5.5    1.0      0.5        1.96           0.0   \n4269478         12.5    1.0      0.5        3.36           0.0   \n4269479          3.5    1.0      0.5        1.56           0.0   \n4269480          7.0    1.0      0.5        2.26           0.0   \n4282277          5.0    1.0      0.5        0.00           0.0   \n5086601         18.0    0.5      0.5        0.00           0.0   \n6328241          6.5    0.5      0.5        2.06           0.0   \n6329250         14.0    0.5      0.5        0.00           0.0   \n6330562          9.5    0.5      0.5        2.66           0.0   \n6332090          6.0    0.5      0.5        0.00           0.0   \n6332107         11.0    0.5      0.5        2.96           0.0   \n6332307          7.5    0.5      0.5        2.26           0.0   \n6332652          7.0    0.5      0.5        0.00           0.0   \n6333579          7.5    0.5      0.5        0.00           0.0   \n6335480          8.5    0.5      0.5        3.69           0.0   \n6335688          7.5    0.5      0.5        0.00           0.0   \n6336038         15.0    0.5      0.5        5.64           0.0   \n6336413          9.0    0.5      0.5        2.56           0.0   \n6336453         12.0    0.5      0.5        3.16           0.0   \n6336671         12.0    0.5      0.5        3.16           0.0   \n6337746         37.0    0.5      0.5        5.00           0.0   \n6338103         19.0    0.5      0.5        4.56           0.0   \n6338245         15.0    0.5      0.5        3.38           0.0   \n6338369          5.0    0.5      0.5        1.76           0.0   \n6338826          9.0    0.5      0.5        3.20           0.0   \n6339106         11.0    0.5      0.5        2.96           0.0   \n6339239         14.0    0.5      0.5        3.56           0.0   \n6339553          8.5    0.5      0.5        2.46           0.0   \n\n         improvement_surcharge  total_amount  congestion_surcharge  \n2268432                    0.3          9.80                   2.5  \n2268433                    0.3          9.30                   2.5  \n2276321                    0.3         28.80                   2.5  \n2283587                    0.3          8.76                   0.0  \n4189276                    0.3         18.10                   2.5  \n4189277                    0.3         18.30                   2.5  \n4189278                    0.3         11.76                   2.5  \n4200484                    0.3         15.34                   2.5  \n4211274                    0.3         11.30                   2.5  \n4211275                    0.3         17.30                   2.5  \n4222375                    0.3         10.56                   2.5  \n4233628                    0.3         11.16                   2.5  \n4233629                    0.3         19.56                   2.5  \n4233630                    0.3         31.62                   2.5  \n4245062                    0.3         18.96                   2.5  \n4257183                    0.3          9.80                   2.5  \n4257184                    0.3         25.30                   2.5  \n4269476                    0.3         11.76                   2.5  \n4269477                    0.3         11.76                   2.5  \n4269478                    0.3         20.16                   2.5  \n4269479                    0.3          9.36                   2.5  \n4269480                    0.3         13.56                   2.5  \n4282277                    0.3          9.30                   2.5  \n5086601                    0.3         21.80                   2.5  \n6328241                    0.3         12.36                   2.5  \n6329250                    0.3         17.80                   2.5  \n6330562                    0.3         15.96                   2.5  \n6332090                    0.3          9.80                   2.5  \n6332107                    0.3         17.76                   2.5  \n6332307                    0.3         13.56                   2.5  \n6332652                    0.3         10.80                   2.5  \n6333579                    0.3         11.30                   2.5  \n6335480                    0.3         15.99                   2.5  \n6335688                    0.3         11.30                   2.5  \n6336038                    0.3         24.44                   2.5  \n6336413                    0.3         15.36                   2.5  \n6336453                    0.3         18.96                   2.5  \n6336671                    0.3         18.96                   2.5  \n6337746                    0.3         45.80                   2.5  \n6338103                    0.3         27.36                   2.5  \n6338245                    0.3         22.18                   2.5  \n6338369                    0.3         10.56                   2.5  \n6338826                    0.3         16.00                   2.5  \n6339106                    0.3         17.76                   2.5  \n6339239                    0.3         21.36                   2.5  \n6339553                    0.3         14.76                   2.5  ",
      "text/html": "<div>\n<style scoped>\n    .dataframe tbody tr th:only-of-type {\n        vertical-align: middle;\n    }\n\n    .dataframe tbody tr th {\n        vertical-align: top;\n    }\n\n    .dataframe thead th {\n        text-align: right;\n    }\n</style>\n<table border=\"1\" class=\"dataframe\">\n  <thead>\n    <tr style=\"text-align: right;\">\n      <th></th>\n      <th>pickup_datetime</th>\n      <th>dropoff_datetime</th>\n      <th>passenger_count</th>\n      <th>trip_distance</th>\n      <th>RatecodeID</th>\n      <th>PULocationID</th>\n      <th>DOLocationID</th>\n      <th>payment_type</th>\n      <th>fare_amount</th>\n      <th>extra</th>\n      <th>mta_tax</th>\n      <th>tip_amount</th>\n      <th>tolls_amount</th>\n      <th>improvement_surcharge</th>\n      <th>total_amount</th>\n      <th>congestion_surcharge</th>\n    </tr>\n  </thead>\n  <tbody>\n    <tr>\n      <th>2268432</th>\n      <td>2020-02-02 13:14:41</td>\n      <td>2020-02-02 13:21:03</td>\n      <td>2.0</td>\n      <td>0.85</td>\n      <td>1.0</td>\n      <td>48.0</td>\n      <td>246.0</td>\n      <td>2.0</td>\n      <td>6.0</td>\n      <td>0.5</td>\n      <td>0.5</td>\n      <td>0.00</td>\n      <td>0.0</td>\n      <td>0.3</td>\n      <td>9.80</td>\n      <td>2.5</td>\n    </tr>\n    <tr>\n      <th>2268433</th>\n      <td>2020-02-02 13:27:19</td>\n      <td>2020-02-02 13:31:02</td>\n      <td>3.0</td>\n      <td>1.17</td>\n      <td>1.0</td>\n      <td>50.0</td>\n      <td>142.0</td>\n      <td>2.0</td>\n      <td>5.5</td>\n      <td>0.5</td>\n      <td>0.5</td>\n      <td>0.00</td>\n      <td>0.0</td>\n      <td>0.3</td>\n      <td>9.30</td>\n      <td>2.5</td>\n    </tr>\n    <tr>\n      <th>2276321</th>\n      <td>2020-02-23 21:26:23</td>\n      <td>2020-02-23 21:44:39</td>\n      <td>3.0</td>\n      <td>6.29</td>\n      <td>1.0</td>\n      <td>230.0</td>\n      <td>88.0</td>\n      <td>1.0</td>\n      <td>21.0</td>\n      <td>0.5</td>\n      <td>0.5</td>\n      <td>4.00</td>\n      <td>0.0</td>\n      <td>0.3</td>\n      <td>28.80</td>\n      <td>2.5</td>\n    </tr>\n    <tr>\n      <th>2283587</th>\n      <td>2020-03-16 06:17:14</td>\n      <td>2020-03-16 06:21:45</td>\n      <td>3.0</td>\n      <td>1.21</td>\n      <td>1.0</td>\n      <td>24.0</td>\n      <td>152.0</td>\n      <td>1.0</td>\n      <td>6.0</td>\n      <td>0.5</td>\n      <td>0.5</td>\n      <td>1.46</td>\n      <td>0.0</td>\n      <td>0.3</td>\n      <td>8.76</td>\n      <td>0.0</td>\n    </tr>\n    <tr>\n      <th>4189276</th>\n      <td>2020-02-12 01:43:34</td>\n      <td>2020-02-12 02:02:26</td>\n      <td>1.0</td>\n      <td>1.12</td>\n      <td>1.0</td>\n      <td>100.0</td>\n      <td>233.0</td>\n      <td>1.0</td>\n      <td>12.0</td>\n      <td>0.0</td>\n      <td>0.5</td>\n      <td>2.80</td>\n      <td>0.0</td>\n      <td>0.3</td>\n      <td>18.10</td>\n      <td>2.5</td>\n    </tr>\n    <tr>\n      <th>4189277</th>\n      <td>2020-02-12 02:10:17</td>\n      <td>2020-02-12 02:31:48</td>\n      <td>1.0</td>\n      <td>1.02</td>\n      <td>1.0</td>\n      <td>162.0</td>\n      <td>163.0</td>\n      <td>1.0</td>\n      <td>13.5</td>\n      <td>0.0</td>\n      <td>0.5</td>\n      <td>1.50</td>\n      <td>0.0</td>\n      <td>0.3</td>\n      <td>18.30</td>\n      <td>2.5</td>\n    </tr>\n    <tr>\n      <th>4189278</th>\n      <td>2020-02-12 02:33:13</td>\n      <td>2020-02-12 02:40:33</td>\n      <td>1.0</td>\n      <td>0.85</td>\n      <td>1.0</td>\n      <td>163.0</td>\n      <td>143.0</td>\n      <td>1.0</td>\n      <td>6.5</td>\n      <td>0.0</td>\n      <td>0.5</td>\n      <td>1.96</td>\n      <td>0.0</td>\n      <td>0.3</td>\n      <td>11.76</td>\n      <td>2.5</td>\n    </tr>\n    <tr>\n      <th>4200484</th>\n      <td>2020-03-04 10:12:32</td>\n      <td>2020-03-04 10:23:48</td>\n      <td>1.0</td>\n      <td>1.19</td>\n      <td>1.0</td>\n      <td>43.0</td>\n      <td>161.0</td>\n      <td>1.0</td>\n      <td>8.5</td>\n      <td>0.0</td>\n      <td>0.5</td>\n      <td>3.54</td>\n      <td>0.0</td>\n      <td>0.3</td>\n      <td>15.34</td>\n      <td>2.5</td>\n    </tr>\n    <tr>\n      <th>4211274</th>\n      <td>2020-03-25 18:51:29</td>\n      <td>2020-03-25 19:00:25</td>\n      <td>1.0</td>\n      <td>0.86</td>\n      <td>1.0</td>\n      <td>43.0</td>\n      <td>161.0</td>\n      <td>1.0</td>\n      <td>7.0</td>\n      <td>0.0</td>\n      <td>0.5</td>\n      <td>1.00</td>\n      <td>0.0</td>\n      <td>0.3</td>\n      <td>11.30</td>\n      <td>2.5</td>\n    </tr>\n    <tr>\n      <th>4211275</th>\n      <td>2020-03-25 19:24:19</td>\n      <td>2020-03-26 02:46:15</td>\n      <td>1.0</td>\n      <td>1.94</td>\n      <td>1.0</td>\n      <td>230.0</td>\n      <td>236.0</td>\n      <td>1.0</td>\n      <td>14.0</td>\n      <td>0.0</td>\n      <td>0.5</td>\n      <td>0.00</td>\n      <td>0.0</td>\n      <td>0.3</td>\n      <td>17.30</td>\n      <td>2.5</td>\n    </tr>\n    <tr>\n      <th>4222375</th>\n      <td>2020-04-16 03:06:17</td>\n      <td>2020-04-16 03:12:53</td>\n      <td>1.0</td>\n      <td>0.46</td>\n      <td>1.0</td>\n      <td>43.0</td>\n      <td>43.0</td>\n      <td>1.0</td>\n      <td>5.5</td>\n      <td>0.0</td>\n      <td>0.5</td>\n      <td>1.76</td>\n      <td>0.0</td>\n      <td>0.3</td>\n      <td>10.56</td>\n      <td>2.5</td>\n    </tr>\n    <tr>\n      <th>4233628</th>\n      <td>2020-05-07 10:44:29</td>\n      <td>2020-05-07 10:51:18</td>\n      <td>1.0</td>\n      <td>0.50</td>\n      <td>1.0</td>\n      <td>161.0</td>\n      <td>163.0</td>\n      <td>1.0</td>\n      <td>6.0</td>\n      <td>0.0</td>\n      <td>0.5</td>\n      <td>1.86</td>\n      <td>0.0</td>\n      <td>0.3</td>\n      <td>11.16</td>\n      <td>2.5</td>\n    </tr>\n    <tr>\n      <th>4233629</th>\n      <td>2020-05-07 10:59:46</td>\n      <td>2020-05-07 11:20:22</td>\n      <td>1.0</td>\n      <td>1.55</td>\n      <td>1.0</td>\n      <td>237.0</td>\n      <td>162.0</td>\n      <td>1.0</td>\n      <td>13.0</td>\n      <td>0.0</td>\n      <td>0.5</td>\n      <td>3.26</td>\n      <td>0.0</td>\n      <td>0.3</td>\n      <td>19.56</td>\n      <td>2.5</td>\n    </tr>\n    <tr>\n      <th>4233630</th>\n      <td>2020-05-07 11:22:41</td>\n      <td>2020-05-07 18:57:15</td>\n      <td>1.0</td>\n      <td>4.16</td>\n      <td>1.0</td>\n      <td>170.0</td>\n      <td>233.0</td>\n      <td>1.0</td>\n      <td>22.0</td>\n      <td>0.0</td>\n      <td>0.5</td>\n      <td>6.32</td>\n      <td>0.0</td>\n      <td>0.3</td>\n      <td>31.62</td>\n      <td>2.5</td>\n    </tr>\n    <tr>\n      <th>4245062</th>\n      <td>2020-05-28 19:10:39</td>\n      <td>2020-05-28 19:25:28</td>\n      <td>1.0</td>\n      <td>3.20</td>\n      <td>1.0</td>\n      <td>50.0</td>\n      <td>151.0</td>\n      <td>1.0</td>\n      <td>12.5</td>\n      <td>0.0</td>\n      <td>0.5</td>\n      <td>3.16</td>\n      <td>0.0</td>\n      <td>0.3</td>\n      <td>18.96</td>\n      <td>2.5</td>\n    </tr>\n    <tr>\n      <th>4257183</th>\n      <td>2020-05-28 19:43:49</td>\n      <td>2020-05-29 02:52:31</td>\n      <td>1.0</td>\n      <td>0.52</td>\n      <td>1.0</td>\n      <td>236.0</td>\n      <td>236.0</td>\n      <td>2.0</td>\n      <td>6.5</td>\n      <td>0.0</td>\n      <td>0.5</td>\n      <td>0.00</td>\n      <td>0.0</td>\n      <td>0.3</td>\n      <td>9.80</td>\n      <td>2.5</td>\n    </tr>\n    <tr>\n      <th>4257184</th>\n      <td>2020-06-19 03:01:25</td>\n      <td>2020-06-19 03:35:54</td>\n      <td>1.0</td>\n      <td>3.94</td>\n      <td>1.0</td>\n      <td>236.0</td>\n      <td>186.0</td>\n      <td>2.0</td>\n      <td>22.0</td>\n      <td>0.0</td>\n      <td>0.5</td>\n      <td>0.00</td>\n      <td>0.0</td>\n      <td>0.3</td>\n      <td>25.30</td>\n      <td>2.5</td>\n    </tr>\n    <tr>\n      <th>4269476</th>\n      <td>2020-07-10 10:46:19</td>\n      <td>2020-07-10 10:52:46</td>\n      <td>1.0</td>\n      <td>0.64</td>\n      <td>1.0</td>\n      <td>68.0</td>\n      <td>164.0</td>\n      <td>1.0</td>\n      <td>5.5</td>\n      <td>1.0</td>\n      <td>0.5</td>\n      <td>1.96</td>\n      <td>0.0</td>\n      <td>0.3</td>\n      <td>11.76</td>\n      <td>2.5</td>\n    </tr>\n    <tr>\n      <th>4269477</th>\n      <td>2020-07-10 10:56:46</td>\n      <td>2020-07-10 11:02:42</td>\n      <td>1.0</td>\n      <td>0.93</td>\n      <td>1.0</td>\n      <td>170.0</td>\n      <td>163.0</td>\n      <td>1.0</td>\n      <td>5.5</td>\n      <td>1.0</td>\n      <td>0.5</td>\n      <td>1.96</td>\n      <td>0.0</td>\n      <td>0.3</td>\n      <td>11.76</td>\n      <td>2.5</td>\n    </tr>\n    <tr>\n      <th>4269478</th>\n      <td>2020-07-10 11:03:49</td>\n      <td>2020-07-10 11:21:14</td>\n      <td>1.0</td>\n      <td>2.41</td>\n      <td>1.0</td>\n      <td>163.0</td>\n      <td>262.0</td>\n      <td>1.0</td>\n      <td>12.5</td>\n      <td>1.0</td>\n      <td>0.5</td>\n      <td>3.36</td>\n      <td>0.0</td>\n      <td>0.3</td>\n      <td>20.16</td>\n      <td>2.5</td>\n    </tr>\n    <tr>\n      <th>4269479</th>\n      <td>2020-07-10 11:25:13</td>\n      <td>2020-07-10 11:27:20</td>\n      <td>1.0</td>\n      <td>0.54</td>\n      <td>1.0</td>\n      <td>262.0</td>\n      <td>263.0</td>\n      <td>1.0</td>\n      <td>3.5</td>\n      <td>1.0</td>\n      <td>0.5</td>\n      <td>1.56</td>\n      <td>0.0</td>\n      <td>0.3</td>\n      <td>9.36</td>\n      <td>2.5</td>\n    </tr>\n    <tr>\n      <th>4269480</th>\n      <td>2020-07-10 11:34:11</td>\n      <td>2020-07-10 11:42:41</td>\n      <td>1.0</td>\n      <td>1.07</td>\n      <td>1.0</td>\n      <td>236.0</td>\n      <td>262.0</td>\n      <td>1.0</td>\n      <td>7.0</td>\n      <td>1.0</td>\n      <td>0.5</td>\n      <td>2.26</td>\n      <td>0.0</td>\n      <td>0.3</td>\n      <td>13.56</td>\n      <td>2.5</td>\n    </tr>\n    <tr>\n      <th>4282277</th>\n      <td>2020-07-31 18:50:41</td>\n      <td>2020-07-31 18:54:12</td>\n      <td>1.0</td>\n      <td>0.72</td>\n      <td>1.0</td>\n      <td>236.0</td>\n      <td>43.0</td>\n      <td>2.0</td>\n      <td>5.0</td>\n      <td>1.0</td>\n      <td>0.5</td>\n      <td>0.00</td>\n      <td>0.0</td>\n      <td>0.3</td>\n      <td>9.30</td>\n      <td>2.5</td>\n    </tr>\n    <tr>\n      <th>5086601</th>\n      <td>2020-03-26 04:02:21</td>\n      <td>2020-03-26 05:44:00</td>\n      <td>5.0</td>\n      <td>5.48</td>\n      <td>1.0</td>\n      <td>137.0</td>\n      <td>217.0</td>\n      <td>2.0</td>\n      <td>18.0</td>\n      <td>0.5</td>\n      <td>0.5</td>\n      <td>0.00</td>\n      <td>0.0</td>\n      <td>0.3</td>\n      <td>21.80</td>\n      <td>2.5</td>\n    </tr>\n    <tr>\n      <th>6328241</th>\n      <td>2020-02-01 00:01:49</td>\n      <td>2020-02-01 00:09:03</td>\n      <td>2.0</td>\n      <td>0.95</td>\n      <td>1.0</td>\n      <td>79.0</td>\n      <td>148.0</td>\n      <td>1.0</td>\n      <td>6.5</td>\n      <td>0.5</td>\n      <td>0.5</td>\n      <td>2.06</td>\n      <td>0.0</td>\n      <td>0.3</td>\n      <td>12.36</td>\n      <td>2.5</td>\n    </tr>\n    <tr>\n      <th>6329250</th>\n      <td>2020-02-01 00:00:08</td>\n      <td>2020-02-01 00:18:24</td>\n      <td>2.0</td>\n      <td>3.27</td>\n      <td>1.0</td>\n      <td>249.0</td>\n      <td>232.0</td>\n      <td>2.0</td>\n      <td>14.0</td>\n      <td>0.5</td>\n      <td>0.5</td>\n      <td>0.00</td>\n      <td>0.0</td>\n      <td>0.3</td>\n      <td>17.80</td>\n      <td>2.5</td>\n    </tr>\n    <tr>\n      <th>6330562</th>\n      <td>2020-02-01 00:01:12</td>\n      <td>2020-02-01 00:12:17</td>\n      <td>1.0</td>\n      <td>2.24</td>\n      <td>1.0</td>\n      <td>164.0</td>\n      <td>141.0</td>\n      <td>1.0</td>\n      <td>9.5</td>\n      <td>0.5</td>\n      <td>0.5</td>\n      <td>2.66</td>\n      <td>0.0</td>\n      <td>0.3</td>\n      <td>15.96</td>\n      <td>2.5</td>\n    </tr>\n    <tr>\n      <th>6332090</th>\n      <td>2020-02-01 00:01:46</td>\n      <td>2020-02-01 00:07:49</td>\n      <td>1.0</td>\n      <td>0.82</td>\n      <td>1.0</td>\n      <td>114.0</td>\n      <td>114.0</td>\n      <td>2.0</td>\n      <td>6.0</td>\n      <td>0.5</td>\n      <td>0.5</td>\n      <td>0.00</td>\n      <td>0.0</td>\n      <td>0.3</td>\n      <td>9.80</td>\n      <td>2.5</td>\n    </tr>\n    <tr>\n      <th>6332107</th>\n      <td>2020-02-01 00:00:17</td>\n      <td>2020-02-01 00:12:54</td>\n      <td>1.0</td>\n      <td>2.38</td>\n      <td>1.0</td>\n      <td>158.0</td>\n      <td>230.0</td>\n      <td>1.0</td>\n      <td>11.0</td>\n      <td>0.5</td>\n      <td>0.5</td>\n      <td>2.96</td>\n      <td>0.0</td>\n      <td>0.3</td>\n      <td>17.76</td>\n      <td>2.5</td>\n    </tr>\n    <tr>\n      <th>6332307</th>\n      <td>2020-02-01 00:03:32</td>\n      <td>2020-02-01 00:11:30</td>\n      <td>2.0</td>\n      <td>1.43</td>\n      <td>1.0</td>\n      <td>107.0</td>\n      <td>114.0</td>\n      <td>1.0</td>\n      <td>7.5</td>\n      <td>0.5</td>\n      <td>0.5</td>\n      <td>2.26</td>\n      <td>0.0</td>\n      <td>0.3</td>\n      <td>13.56</td>\n      <td>2.5</td>\n    </tr>\n    <tr>\n      <th>6332652</th>\n      <td>2020-02-01 00:00:59</td>\n      <td>2020-02-01 00:06:24</td>\n      <td>1.0</td>\n      <td>1.70</td>\n      <td>1.0</td>\n      <td>50.0</td>\n      <td>239.0</td>\n      <td>2.0</td>\n      <td>7.0</td>\n      <td>0.5</td>\n      <td>0.5</td>\n      <td>0.00</td>\n      <td>0.0</td>\n      <td>0.3</td>\n      <td>10.80</td>\n      <td>2.5</td>\n    </tr>\n    <tr>\n      <th>6333579</th>\n      <td>2020-02-01 00:05:26</td>\n      <td>2020-02-01 00:13:41</td>\n      <td>1.0</td>\n      <td>1.46</td>\n      <td>1.0</td>\n      <td>230.0</td>\n      <td>68.0</td>\n      <td>2.0</td>\n      <td>7.5</td>\n      <td>0.5</td>\n      <td>0.5</td>\n      <td>0.00</td>\n      <td>0.0</td>\n      <td>0.3</td>\n      <td>11.30</td>\n      <td>2.5</td>\n    </tr>\n    <tr>\n      <th>6335480</th>\n      <td>2020-02-01 00:04:53</td>\n      <td>2020-02-01 00:13:58</td>\n      <td>1.0</td>\n      <td>1.69</td>\n      <td>1.0</td>\n      <td>162.0</td>\n      <td>162.0</td>\n      <td>1.0</td>\n      <td>8.5</td>\n      <td>0.5</td>\n      <td>0.5</td>\n      <td>3.69</td>\n      <td>0.0</td>\n      <td>0.3</td>\n      <td>15.99</td>\n      <td>2.5</td>\n    </tr>\n    <tr>\n      <th>6335688</th>\n      <td>2020-02-01 00:00:30</td>\n      <td>2020-02-01 00:08:45</td>\n      <td>6.0</td>\n      <td>1.45</td>\n      <td>1.0</td>\n      <td>68.0</td>\n      <td>170.0</td>\n      <td>2.0</td>\n      <td>7.5</td>\n      <td>0.5</td>\n      <td>0.5</td>\n      <td>0.00</td>\n      <td>0.0</td>\n      <td>0.3</td>\n      <td>11.30</td>\n      <td>2.5</td>\n    </tr>\n    <tr>\n      <th>6336038</th>\n      <td>2020-02-01 00:00:10</td>\n      <td>2020-02-01 00:18:42</td>\n      <td>1.0</td>\n      <td>3.54</td>\n      <td>1.0</td>\n      <td>229.0</td>\n      <td>158.0</td>\n      <td>1.0</td>\n      <td>15.0</td>\n      <td>0.5</td>\n      <td>0.5</td>\n      <td>5.64</td>\n      <td>0.0</td>\n      <td>0.3</td>\n      <td>24.44</td>\n      <td>2.5</td>\n    </tr>\n    <tr>\n      <th>6336413</th>\n      <td>2020-02-01 00:02:55</td>\n      <td>2020-02-01 00:14:07</td>\n      <td>2.0</td>\n      <td>1.52</td>\n      <td>1.0</td>\n      <td>249.0</td>\n      <td>107.0</td>\n      <td>1.0</td>\n      <td>9.0</td>\n      <td>0.5</td>\n      <td>0.5</td>\n      <td>2.56</td>\n      <td>0.0</td>\n      <td>0.3</td>\n      <td>15.36</td>\n      <td>2.5</td>\n    </tr>\n    <tr>\n      <th>6336453</th>\n      <td>2020-02-01 00:00:59</td>\n      <td>2020-02-01 00:17:55</td>\n      <td>1.0</td>\n      <td>1.68</td>\n      <td>1.0</td>\n      <td>234.0</td>\n      <td>148.0</td>\n      <td>1.0</td>\n      <td>12.0</td>\n      <td>0.5</td>\n      <td>0.5</td>\n      <td>3.16</td>\n      <td>0.0</td>\n      <td>0.3</td>\n      <td>18.96</td>\n      <td>2.5</td>\n    </tr>\n    <tr>\n      <th>6336671</th>\n      <td>2020-02-01 00:15:23</td>\n      <td>2020-02-01 00:25:47</td>\n      <td>1.0</td>\n      <td>3.51</td>\n      <td>1.0</td>\n      <td>229.0</td>\n      <td>79.0</td>\n      <td>1.0</td>\n      <td>12.0</td>\n      <td>0.5</td>\n      <td>0.5</td>\n      <td>3.16</td>\n      <td>0.0</td>\n      <td>0.3</td>\n      <td>18.96</td>\n      <td>2.5</td>\n    </tr>\n    <tr>\n      <th>6337746</th>\n      <td>2020-02-01 00:00:52</td>\n      <td>2020-02-01 00:31:13</td>\n      <td>1.0</td>\n      <td>12.21</td>\n      <td>1.0</td>\n      <td>249.0</td>\n      <td>136.0</td>\n      <td>1.0</td>\n      <td>37.0</td>\n      <td>0.5</td>\n      <td>0.5</td>\n      <td>5.00</td>\n      <td>0.0</td>\n      <td>0.3</td>\n      <td>45.80</td>\n      <td>2.5</td>\n    </tr>\n    <tr>\n      <th>6338103</th>\n      <td>2020-02-01 00:00:17</td>\n      <td>2020-02-01 00:23:56</td>\n      <td>1.0</td>\n      <td>5.42</td>\n      <td>1.0</td>\n      <td>114.0</td>\n      <td>181.0</td>\n      <td>1.0</td>\n      <td>19.0</td>\n      <td>0.5</td>\n      <td>0.5</td>\n      <td>4.56</td>\n      <td>0.0</td>\n      <td>0.3</td>\n      <td>27.36</td>\n      <td>2.5</td>\n    </tr>\n    <tr>\n      <th>6338245</th>\n      <td>2020-02-01 00:01:07</td>\n      <td>2020-02-01 00:12:44</td>\n      <td>1.0</td>\n      <td>4.54</td>\n      <td>1.0</td>\n      <td>87.0</td>\n      <td>170.0</td>\n      <td>1.0</td>\n      <td>15.0</td>\n      <td>0.5</td>\n      <td>0.5</td>\n      <td>3.38</td>\n      <td>0.0</td>\n      <td>0.3</td>\n      <td>22.18</td>\n      <td>2.5</td>\n    </tr>\n    <tr>\n      <th>6338369</th>\n      <td>2020-02-01 00:00:24</td>\n      <td>2020-02-01 00:05:05</td>\n      <td>1.0</td>\n      <td>0.60</td>\n      <td>1.0</td>\n      <td>113.0</td>\n      <td>249.0</td>\n      <td>1.0</td>\n      <td>5.0</td>\n      <td>0.5</td>\n      <td>0.5</td>\n      <td>1.76</td>\n      <td>0.0</td>\n      <td>0.3</td>\n      <td>10.56</td>\n      <td>2.5</td>\n    </tr>\n    <tr>\n      <th>6338826</th>\n      <td>2020-02-01 00:01:42</td>\n      <td>2020-02-01 00:12:25</td>\n      <td>1.0</td>\n      <td>1.93</td>\n      <td>1.0</td>\n      <td>100.0</td>\n      <td>162.0</td>\n      <td>1.0</td>\n      <td>9.0</td>\n      <td>0.5</td>\n      <td>0.5</td>\n      <td>3.20</td>\n      <td>0.0</td>\n      <td>0.3</td>\n      <td>16.00</td>\n      <td>2.5</td>\n    </tr>\n    <tr>\n      <th>6339106</th>\n      <td>2020-02-01 00:00:03</td>\n      <td>2020-02-01 00:13:39</td>\n      <td>1.0</td>\n      <td>2.37</td>\n      <td>1.0</td>\n      <td>163.0</td>\n      <td>249.0</td>\n      <td>1.0</td>\n      <td>11.0</td>\n      <td>0.5</td>\n      <td>0.5</td>\n      <td>2.96</td>\n      <td>0.0</td>\n      <td>0.3</td>\n      <td>17.76</td>\n      <td>2.5</td>\n    </tr>\n    <tr>\n      <th>6339239</th>\n      <td>2020-02-01 00:08:34</td>\n      <td>2020-02-01 00:26:14</td>\n      <td>2.0</td>\n      <td>3.22</td>\n      <td>1.0</td>\n      <td>148.0</td>\n      <td>246.0</td>\n      <td>1.0</td>\n      <td>14.0</td>\n      <td>0.5</td>\n      <td>0.5</td>\n      <td>3.56</td>\n      <td>0.0</td>\n      <td>0.3</td>\n      <td>21.36</td>\n      <td>2.5</td>\n    </tr>\n    <tr>\n      <th>6339553</th>\n      <td>2020-02-01 00:00:37</td>\n      <td>2020-02-01 00:11:59</td>\n      <td>1.0</td>\n      <td>1.18</td>\n      <td>1.0</td>\n      <td>186.0</td>\n      <td>170.0</td>\n      <td>1.0</td>\n      <td>8.5</td>\n      <td>0.5</td>\n      <td>0.5</td>\n      <td>2.46</td>\n      <td>0.0</td>\n      <td>0.3</td>\n      <td>14.76</td>\n      <td>2.5</td>\n    </tr>\n  </tbody>\n</table>\n</div>"
     },
     "execution_count": 12,
     "metadata": {},
     "output_type": "execute_result"
    }
   ],
   "source": [
    "x[(x['pickup_datetime']>datetime.datetime(2020, 2, 1)) | (x['pickup_datetime']<datetime.datetime(2020, 1, 1))]"
   ],
   "metadata": {
    "collapsed": false,
    "pycharm": {
     "name": "#%%\n"
    }
   }
  },
  {
   "cell_type": "code",
   "execution_count": 13,
   "outputs": [],
   "source": [
    "relevant_columns = ['passenger_count', 'trip_distance', 'RatecodeID',\n",
    "                    'PULocationID', 'DOLocationID', 'payment_type',\n",
    "                    'fare_amount', 'extra', 'mta_tax', 'tip_amount',\n",
    "                    'tolls_amount', 'improvement_surcharge', 'total_amount',\n",
    "                    'congestion_surcharge']"
   ],
   "metadata": {
    "collapsed": false,
    "pycharm": {
     "name": "#%%\n"
    }
   }
  },
  {
   "cell_type": "code",
   "execution_count": 14,
   "outputs": [
    {
     "name": "stdout",
     "output_type": "stream",
     "text": [
      "---- passenger_count ---\n",
      "1.0    4439116\n",
      "2.0     928712\n",
      "3.0     245646\n",
      "5.0     222764\n",
      "6.0     130636\n",
      "4.0     120464\n",
      "7.0         12\n",
      "9.0          5\n",
      "8.0          4\n",
      "Name: passenger_count, dtype: int64\n",
      "---- trip_distance ---\n",
      "0.90     111424\n",
      "0.80     110920\n",
      "1.00     110002\n",
      "0.70     105636\n",
      "1.10     105588\n",
      "          ...  \n",
      "45.70         1\n",
      "32.47         1\n",
      "37.61         1\n",
      "39.30         1\n",
      "85.20         1\n",
      "Name: trip_distance, Length: 3677, dtype: int64\n",
      "---- RatecodeID ---\n",
      "1.0    5919024\n",
      "2.0     146186\n",
      "3.0      11626\n",
      "5.0       9936\n",
      "4.0        572\n",
      "6.0         15\n",
      "Name: RatecodeID, dtype: int64\n",
      "---- PULocationID ---\n",
      "237.0    285244\n",
      "161.0    274233\n",
      "236.0    265657\n",
      "162.0    228893\n",
      "230.0    221166\n",
      "          ...  \n",
      "99.0          2\n",
      "59.0          2\n",
      "251.0         2\n",
      "204.0         1\n",
      "30.0          1\n",
      "Name: PULocationID, Length: 254, dtype: int64\n",
      "---- DOLocationID ---\n",
      "236.0    281801\n",
      "237.0    256648\n",
      "161.0    242285\n",
      "170.0    190693\n",
      "162.0    188459\n",
      "          ...  \n",
      "184.0        24\n",
      "99.0         15\n",
      "105.0         3\n",
      "2.0           1\n",
      "104.0         1\n",
      "Name: DOLocationID, Length: 260, dtype: int64\n",
      "---- payment_type ---\n",
      "1.0    4531433\n",
      "2.0    1528551\n",
      "3.0      19913\n",
      "4.0       7462\n",
      "Name: payment_type, dtype: int64\n",
      "---- fare_amount ---\n",
      "6.00     330193\n",
      "6.50     326132\n",
      "5.50     320621\n",
      "7.00     317149\n",
      "7.50     300435\n",
      "          ...  \n",
      "57.52         1\n",
      "62.98         1\n",
      "25.31         1\n",
      "64.85         1\n",
      "30.45         1\n",
      "Name: fare_amount, Length: 1066, dtype: int64\n",
      "---- extra ---\n",
      "0.00      2301614\n",
      "0.50      1199707\n",
      "2.50       990492\n",
      "1.00       747809\n",
      "3.00       476048\n",
      "3.50       343160\n",
      "4.50        20516\n",
      "7.00         7000\n",
      "0.80          545\n",
      "1.30          248\n",
      "1.80          170\n",
      "2.00           17\n",
      "0.30            9\n",
      "2.80            4\n",
      "5.00            4\n",
      "9.50            2\n",
      "0.02            1\n",
      "1.02            1\n",
      "1.75            1\n",
      "26.70           1\n",
      "13.50           1\n",
      "0.52            1\n",
      "18.35           1\n",
      "5.30            1\n",
      "13.80           1\n",
      "33.75           1\n",
      "113.01          1\n",
      "9.40            1\n",
      "52.50           1\n",
      "2.15            1\n",
      "Name: extra, dtype: int64\n",
      "---- mta_tax ---\n",
      "0.5    6067697\n",
      "0.0      19662\n",
      "Name: mta_tax, dtype: int64\n",
      "---- tip_amount ---\n",
      "0.00      1672056\n",
      "1.00       350595\n",
      "2.00       227841\n",
      "2.06        93991\n",
      "1.96        92545\n",
      "           ...   \n",
      "68.57           1\n",
      "38.91           1\n",
      "22.68           1\n",
      "156.00          1\n",
      "24.93           1\n",
      "Name: tip_amount, Length: 2841, dtype: int64\n",
      "---- tolls_amount ---\n",
      "0.00     5791036\n",
      "6.12      276282\n",
      "2.80        3037\n",
      "11.75       2116\n",
      "13.75       1929\n",
      "          ...   \n",
      "22.46          1\n",
      "9.69           1\n",
      "23.70          1\n",
      "4.54           1\n",
      "30.45          1\n",
      "Name: tolls_amount, Length: 858, dtype: int64\n",
      "---- improvement_surcharge ---\n",
      "0.3    6085655\n",
      "0.0       1704\n",
      "Name: improvement_surcharge, dtype: int64\n",
      "---- total_amount ---\n",
      "10.30     119467\n",
      "9.80      119357\n",
      "9.30      116340\n",
      "10.80     116157\n",
      "11.30     111771\n",
      "           ...  \n",
      "136.17         1\n",
      "94.71          1\n",
      "119.85         1\n",
      "96.67          1\n",
      "114.15         1\n",
      "Name: total_amount, Length: 9414, dtype: int64\n",
      "---- congestion_surcharge ---\n",
      "2.50    5692523\n",
      "0.00     394690\n",
      "2.75         76\n",
      "0.75         68\n",
      "0.50          2\n",
      "Name: congestion_surcharge, dtype: int64\n"
     ]
    }
   ],
   "source": [
    "for c in relevant_columns:\n",
    "    print(\"---- %s ---\" % c)\n",
    "    print(x[c].value_counts())"
   ],
   "metadata": {
    "collapsed": false,
    "pycharm": {
     "name": "#%%\n"
    }
   }
  },
  {
   "cell_type": "code",
   "execution_count": 15,
   "outputs": [],
   "source": [
    "yellowcab.io.write_parquet(x, 'christian.parquet')"
   ],
   "metadata": {
    "collapsed": false,
    "pycharm": {
     "name": "#%%\n"
    }
   }
  }
 ],
 "metadata": {
  "kernelspec": {
   "display_name": "Python 3",
   "language": "python",
   "name": "python3"
  },
  "language_info": {
   "codemirror_mode": {
    "name": "ipython",
    "version": 3
   },
   "file_extension": ".py",
   "mimetype": "text/x-python",
   "name": "python",
   "nbconvert_exporter": "python",
   "pygments_lexer": "ipython3",
   "version": "3.8.8"
  }
 },
 "nbformat": 4,
 "nbformat_minor": 1
}