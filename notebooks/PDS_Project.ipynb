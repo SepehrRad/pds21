{
 "cells": [
  {
   "cell_type": "code",
   "execution_count": 1,
   "metadata": {},
   "outputs": [],
   "source": [
    "import yellowcab.cleaning"
   ]
  },
  {
   "cell_type": "code",
   "execution_count": 2,
   "metadata": {
    "pycharm": {
     "name": "#%%\n"
    }
   },
   "outputs": [
    {
     "name": "stdout",
     "output_type": "stream",
     "text": [
      "Reading month 1\n",
      "Cleaning month 1\n",
      "196751 invalid entries have been successfully dropped!\n",
      "205 invalid date entries have been successfully dropped!\n",
      "55316 invalid zone entries have been successfully dropped!\n",
      "Outlier detection completed. Number of removed outlier: 178525\n",
      "Saving month 1\n",
      "Reading month 2\n",
      "Cleaning month 2\n",
      "199409 invalid entries have been successfully dropped!\n",
      "291 invalid date entries have been successfully dropped!\n",
      "50727 invalid zone entries have been successfully dropped!\n",
      "Outlier detection completed. Number of removed outlier: 496191\n",
      "Saving month 2\n",
      "Reading month 3\n",
      "Cleaning month 3\n",
      "103611 invalid entries have been successfully dropped!\n",
      "421 invalid date entries have been successfully dropped!\n",
      "24494 invalid zone entries have been successfully dropped!\n",
      "Outlier detection completed. Number of removed outlier: 243017\n",
      "Saving month 3\n",
      "Reading month 4\n",
      "Cleaning month 4\n",
      "13099 invalid entries have been successfully dropped!\n",
      "130 invalid date entries have been successfully dropped!\n",
      "2249 invalid zone entries have been successfully dropped!\n",
      "Outlier detection completed. Number of removed outlier: 25716\n",
      "Saving month 4\n",
      "Reading month 5\n",
      "Cleaning month 5\n",
      "19779 invalid entries have been successfully dropped!\n",
      "23 invalid date entries have been successfully dropped!\n",
      "3157 invalid zone entries have been successfully dropped!\n",
      "Outlier detection completed. Number of removed outlier: 30286\n",
      "Saving month 5\n",
      "Reading month 6\n",
      "Cleaning month 6\n",
      "31171 invalid entries have been successfully dropped!\n",
      "9 invalid date entries have been successfully dropped!\n",
      "5663 invalid zone entries have been successfully dropped!\n",
      "Outlier detection completed. Number of removed outlier: 68622\n",
      "Saving month 6\n",
      "Reading month 7\n",
      "Cleaning month 7\n",
      "45798 invalid entries have been successfully dropped!\n",
      "10 invalid date entries have been successfully dropped!\n",
      "8771 invalid zone entries have been successfully dropped!\n",
      "Outlier detection completed. Number of removed outlier: 77137\n",
      "Saving month 7\n",
      "Reading month 8\n",
      "Cleaning month 8\n",
      "51582 invalid entries have been successfully dropped!\n",
      "15 invalid date entries have been successfully dropped!\n",
      "9215 invalid zone entries have been successfully dropped!\n",
      "Outlier detection completed. Number of removed outlier: 34822\n",
      "Saving month 8\n",
      "Reading month 9\n",
      "Cleaning month 9\n",
      "54302 invalid entries have been successfully dropped!\n",
      "132 invalid date entries have been successfully dropped!\n",
      "11352 invalid zone entries have been successfully dropped!\n",
      "Outlier detection completed. Number of removed outlier: 162348\n",
      "Saving month 9\n",
      "Reading month 10\n",
      "Cleaning month 10\n",
      "61418 invalid entries have been successfully dropped!\n",
      "26 invalid date entries have been successfully dropped!\n",
      "13789 invalid zone entries have been successfully dropped!\n",
      "Outlier detection completed. Number of removed outlier: 113339\n",
      "Saving month 10\n",
      "Reading month 11\n",
      "Cleaning month 11\n",
      "52441 invalid entries have been successfully dropped!\n",
      "107 invalid date entries have been successfully dropped!\n",
      "13297 invalid zone entries have been successfully dropped!\n",
      "Outlier detection completed. Number of removed outlier: 181152\n",
      "Saving month 11\n",
      "Reading month 12\n",
      "Cleaning month 12\n",
      "50607 invalid entries have been successfully dropped!\n",
      "29 invalid date entries have been successfully dropped!\n",
      "13382 invalid zone entries have been successfully dropped!\n",
      "Outlier detection completed. Number of removed outlier: 169278\n",
      "Saving month 12\n"
     ]
    }
   ],
   "source": [
    "for month in range(1,13):\n",
    "    month_string = f'{month}'.zfill(2)\n",
    "    print(f'Reading month {month}')\n",
    "    df = yellowcab.io.read_parquet(f'{month_string}.parquet')\n",
    "    print(f'Cleaning month {month}')\n",
    "    df = yellowcab.cleaning.clean_dataset(df, month)\n",
    "    print(f'Saving month {month}')\n",
    "    yellowcab.io.write_parquet(df, f'{month_string}.parquet')"
   ]
  }
 ],
 "metadata": {
  "kernelspec": {
   "display_name": "Python 3",
   "language": "python",
   "name": "python3"
  },
  "language_info": {
   "codemirror_mode": {
    "name": "ipython",
    "version": 3
   },
   "file_extension": ".py",
   "mimetype": "text/x-python",
   "name": "python",
   "nbconvert_exporter": "python",
   "pygments_lexer": "ipython3",
   "version": "3.8.8"
  }
 },
 "nbformat": 4,
 "nbformat_minor": 1
}