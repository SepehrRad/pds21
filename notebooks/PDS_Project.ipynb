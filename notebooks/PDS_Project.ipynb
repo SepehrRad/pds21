{
 "cells": [
  {
   "cell_type": "code",
   "execution_count": 1,
   "metadata": {},
   "outputs": [],
   "source": [
    "import yellowcab.cleaning"
   ]
  },
  {
   "cell_type": "code",
   "execution_count": 2,
   "metadata": {
    "pycharm": {
     "name": "#%%\n"
    }
   },
   "outputs": [
    {
     "name": "stderr",
     "output_type": "stream",
     "text": [
      "  0%|          | 0/12 [00:00<?, ?it/s]"
     ]
    },
    {
     "name": "stdout",
     "output_type": "stream",
     "text": [
      "Started cleaning the December data set\n",
      "50607 invalid entries have been successfully dropped!\n",
      "29 invalid date entries have been successfully dropped!\n",
      "13382 invalid zone entries have been successfully dropped!\n",
      "Outlier detection completed. Number of removed outlier: 169278\n"
     ]
    },
    {
     "name": "stderr",
     "output_type": "stream",
     "text": [
      "  8%|▊         | 1/12 [00:21<03:54, 21.34s/it]"
     ]
    },
    {
     "name": "stdout",
     "output_type": "stream",
     "text": [
      "Finished cleaning the December data set\n",
      "Started cleaning the February data set\n",
      "199409 invalid entries have been successfully dropped!\n",
      "291 invalid date entries have been successfully dropped!\n",
      "50727 invalid zone entries have been successfully dropped!\n",
      "Outlier detection completed. Number of removed outlier: 496191\n"
     ]
    },
    {
     "name": "stderr",
     "output_type": "stream",
     "text": [
      " 17%|█▋        | 2/12 [02:08<11:58, 71.80s/it]"
     ]
    },
    {
     "name": "stdout",
     "output_type": "stream",
     "text": [
      "Finished cleaning the February data set\n",
      "Started cleaning the March data set\n",
      "103611 invalid entries have been successfully dropped!\n",
      "421 invalid date entries have been successfully dropped!\n",
      "24494 invalid zone entries have been successfully dropped!\n",
      "Outlier detection completed. Number of removed outlier: 243017\n"
     ]
    },
    {
     "name": "stderr",
     "output_type": "stream",
     "text": [
      " 25%|██▌       | 3/12 [02:54<09:01, 60.15s/it]"
     ]
    },
    {
     "name": "stdout",
     "output_type": "stream",
     "text": [
      "Finished cleaning the March data set\n",
      "Started cleaning the November data set\n",
      "52441 invalid entries have been successfully dropped!\n",
      "107 invalid date entries have been successfully dropped!\n",
      "13297 invalid zone entries have been successfully dropped!\n",
      "Outlier detection completed. Number of removed outlier: 181152\n"
     ]
    },
    {
     "name": "stderr",
     "output_type": "stream",
     "text": [
      " 33%|███▎      | 4/12 [03:13<05:51, 43.98s/it]"
     ]
    },
    {
     "name": "stdout",
     "output_type": "stream",
     "text": [
      "Finished cleaning the November data set\n",
      "Started cleaning the January data set\n",
      "196751 invalid entries have been successfully dropped!\n",
      "205 invalid date entries have been successfully dropped!\n",
      "55316 invalid zone entries have been successfully dropped!\n",
      "Outlier detection completed. Number of removed outlier: 178525\n"
     ]
    },
    {
     "name": "stderr",
     "output_type": "stream",
     "text": [
      " 42%|████▏     | 5/12 [04:57<07:38, 65.49s/it]"
     ]
    },
    {
     "name": "stdout",
     "output_type": "stream",
     "text": [
      "Finished cleaning the January data set\n",
      "Started cleaning the August data set\n",
      "51582 invalid entries have been successfully dropped!\n",
      "15 invalid date entries have been successfully dropped!\n",
      "9215 invalid zone entries have been successfully dropped!\n",
      "Outlier detection completed. Number of removed outlier: 34822\n"
     ]
    },
    {
     "name": "stderr",
     "output_type": "stream",
     "text": [
      " 50%|█████     | 6/12 [05:12<04:49, 48.20s/it]"
     ]
    },
    {
     "name": "stdout",
     "output_type": "stream",
     "text": [
      "Finished cleaning the August data set\n",
      "Started cleaning the September data set\n",
      "54302 invalid entries have been successfully dropped!\n",
      "132 invalid date entries have been successfully dropped!\n",
      "11352 invalid zone entries have been successfully dropped!\n",
      "Outlier detection completed. Number of removed outlier: 162348\n"
     ]
    },
    {
     "name": "stderr",
     "output_type": "stream",
     "text": [
      " 58%|█████▊    | 7/12 [05:28<03:09, 37.90s/it]"
     ]
    },
    {
     "name": "stdout",
     "output_type": "stream",
     "text": [
      "Finished cleaning the September data set\n",
      "Started cleaning the October data set\n",
      "61418 invalid entries have been successfully dropped!\n",
      "26 invalid date entries have been successfully dropped!\n",
      "13789 invalid zone entries have been successfully dropped!\n",
      "Outlier detection completed. Number of removed outlier: 113339\n"
     ]
    },
    {
     "name": "stderr",
     "output_type": "stream",
     "text": [
      " 67%|██████▋   | 8/12 [05:50<02:11, 32.84s/it]"
     ]
    },
    {
     "name": "stdout",
     "output_type": "stream",
     "text": [
      "Finished cleaning the October data set\n",
      "Started cleaning the May data set\n",
      "19779 invalid entries have been successfully dropped!\n",
      "23 invalid date entries have been successfully dropped!\n",
      "3157 invalid zone entries have been successfully dropped!\n",
      "Outlier detection completed. Number of removed outlier: 30286\n"
     ]
    },
    {
     "name": "stderr",
     "output_type": "stream",
     "text": [
      " 75%|███████▌  | 9/12 [05:55<01:12, 24.15s/it]"
     ]
    },
    {
     "name": "stdout",
     "output_type": "stream",
     "text": [
      "Finished cleaning the May data set\n",
      "Started cleaning the April data set\n",
      "13099 invalid entries have been successfully dropped!\n",
      "130 invalid date entries have been successfully dropped!\n",
      "2249 invalid zone entries have been successfully dropped!\n",
      "Outlier detection completed. Number of removed outlier: 25716\n"
     ]
    },
    {
     "name": "stderr",
     "output_type": "stream",
     "text": [
      " 83%|████████▎ | 10/12 [06:00<00:35, 17.99s/it]"
     ]
    },
    {
     "name": "stdout",
     "output_type": "stream",
     "text": [
      "Finished cleaning the April data set\n",
      "Started cleaning the June data set\n",
      "31171 invalid entries have been successfully dropped!\n",
      "9 invalid date entries have been successfully dropped!\n",
      "5663 invalid zone entries have been successfully dropped!\n",
      "Outlier detection completed. Number of removed outlier: 68622\n"
     ]
    },
    {
     "name": "stderr",
     "output_type": "stream",
     "text": [
      " 92%|█████████▏| 11/12 [06:08<00:14, 14.95s/it]"
     ]
    },
    {
     "name": "stdout",
     "output_type": "stream",
     "text": [
      "Finished cleaning the June data set\n",
      "Started cleaning the July data set\n",
      "45798 invalid entries have been successfully dropped!\n",
      "10 invalid date entries have been successfully dropped!\n",
      "8771 invalid zone entries have been successfully dropped!\n",
      "Outlier detection completed. Number of removed outlier: 77137\n"
     ]
    },
    {
     "name": "stderr",
     "output_type": "stream",
     "text": [
      "100%|██████████| 12/12 [06:18<00:00, 31.57s/it]"
     ]
    },
    {
     "name": "stdout",
     "output_type": "stream",
     "text": [
      "Finished cleaning the July data set\n"
     ]
    },
    {
     "name": "stderr",
     "output_type": "stream",
     "text": [
      "\n"
     ]
    },
    {
     "data": {
      "text/plain": "\"for month in range(1,13):\\n    month_string = f'{month}'.zfill(2)\\n    print(f'Reading month {month}')\\n    df = yellowcab.io.read_parquet(f'{month_string}.parquet')\\n    print(f'Cleaning month {month}')\\n    df = yellowcab.cleaning.clean_all_datasets(df, month)\\n    print(f'Saving month {month}')\\n    yellowcab.io.write_parquet(df, f'{month_string}.parquet')\""
     },
     "execution_count": 2,
     "metadata": {},
     "output_type": "execute_result"
    }
   ],
   "source": [
    "yellowcab.cleaning.clean_all_datasets()\n",
    "\n",
    "\"\"\"for month in range(1,13):\n",
    "    month_string = f'{month}'.zfill(2)\n",
    "    print(f'Reading month {month}')\n",
    "    df = yellowcab.io.read_parquet(f'{month_string}.parquet')\n",
    "    print(f'Cleaning month {month}')\n",
    "    df = yellowcab.cleaning.clean_all_datasets(df, month)\n",
    "    print(f'Saving month {month}')\n",
    "    yellowcab.io.write_parquet(df, f'{month_string}.parquet')\"\"\""
   ]
  },
  {
   "cell_type": "code",
   "execution_count": 9,
   "outputs": [
    {
     "data": {
      "text/plain": "           pickup_datetime    dropoff_datetime  passenger_count  \\\n0      2020-05-01 00:07:10 2020-05-01 00:12:46              1.0   \n1      2020-05-01 00:09:46 2020-05-01 00:27:44              1.0   \n2      2020-05-01 00:22:48 2020-05-01 00:28:58              1.0   \n3      2020-05-01 00:57:59 2020-05-01 01:07:48              1.0   \n4      2020-05-01 00:10:53 2020-05-01 00:14:17              1.0   \n...                    ...                 ...              ...   \n236402 2020-05-31 23:26:51 2020-05-31 23:41:12              1.0   \n236403 2020-05-31 23:45:06 2020-05-31 23:53:56              1.0   \n236404 2020-05-31 23:04:57 2020-05-31 23:11:16              1.0   \n236405 2020-05-31 23:20:00 2020-05-31 23:29:40              1.0   \n236406 2020-05-31 23:49:48 2020-05-31 23:51:29              1.0   \n\n        trip_distance     RatecodeID PULocationID DOLocationID payment_type  \\\n0                 1.7  Standard rate          107          229         Cash   \n1                 2.9  Standard rate           79          237         Cash   \n2                 1.5  Standard rate          140          263  Credit card   \n3                 2.0  Standard rate          140          230         Cash   \n4                 0.5  Standard rate          239          239         Cash   \n...               ...            ...          ...          ...          ...   \n236402            6.1  Standard rate           79           75  Credit card   \n236403            2.6  Standard rate           75          168  Credit card   \n236404            1.0  Standard rate           41           74         Cash   \n236405            3.2  Standard rate          263          137         Cash   \n236406            0.5  Standard rate           75           74         Cash   \n\n        fare_amount  extra  ...  centers_lat_dropoff  centers_long_dropoff  \\\n0               7.0    3.0  ...            40.756728            -73.965146   \n1              12.0    3.0  ...            40.768615            -73.965634   \n2               7.0    3.0  ...            40.778765            -73.951010   \n3               9.0    3.0  ...            40.759817            -73.984196   \n4               4.5    3.0  ...            40.783961            -73.978632   \n...             ...    ...  ...                  ...                   ...   \n236402         19.0    3.0  ...            40.790010            -73.945750   \n236403         10.0    0.5  ...            40.807347            -73.916822   \n236404          6.5    0.5  ...            40.801169            -73.937345   \n236405         11.5    3.0  ...            40.740438            -73.976495   \n236406          4.0    0.5  ...            40.801169            -73.937345   \n\n        trip_duration_minutes  pickup_month  pickup_day  pickup_hour  \\\n0                    5.600000             5           1            0   \n1                   17.966667             5           1            0   \n2                    6.166667             5           1            0   \n3                    9.816667             5           1            0   \n4                    3.400000             5           1            0   \n...                       ...           ...         ...          ...   \n236402              14.350000             5          31           23   \n236403               8.833333             5          31           23   \n236404               6.316667             5          31           23   \n236405               9.666667             5          31           23   \n236406               1.683333             5          31           23   \n\n        dropoff_month  dropoff_day  dropoff_hour  weekend  \n0                   5            1             0    False  \n1                   5            1             0    False  \n2                   5            1             0    False  \n3                   5            1             1    False  \n4                   5            1             0    False  \n...               ...          ...           ...      ...  \n236402              5           31            23     True  \n236403              5           31            23     True  \n236404              5           31            23     True  \n236405              5           31            23     True  \n236406              5           31            23     True  \n\n[236407 rows x 28 columns]",
      "text/html": "<div>\n<style scoped>\n    .dataframe tbody tr th:only-of-type {\n        vertical-align: middle;\n    }\n\n    .dataframe tbody tr th {\n        vertical-align: top;\n    }\n\n    .dataframe thead th {\n        text-align: right;\n    }\n</style>\n<table border=\"1\" class=\"dataframe\">\n  <thead>\n    <tr style=\"text-align: right;\">\n      <th></th>\n      <th>pickup_datetime</th>\n      <th>dropoff_datetime</th>\n      <th>passenger_count</th>\n      <th>trip_distance</th>\n      <th>RatecodeID</th>\n      <th>PULocationID</th>\n      <th>DOLocationID</th>\n      <th>payment_type</th>\n      <th>fare_amount</th>\n      <th>extra</th>\n      <th>...</th>\n      <th>centers_lat_dropoff</th>\n      <th>centers_long_dropoff</th>\n      <th>trip_duration_minutes</th>\n      <th>pickup_month</th>\n      <th>pickup_day</th>\n      <th>pickup_hour</th>\n      <th>dropoff_month</th>\n      <th>dropoff_day</th>\n      <th>dropoff_hour</th>\n      <th>weekend</th>\n    </tr>\n  </thead>\n  <tbody>\n    <tr>\n      <th>0</th>\n      <td>2020-05-01 00:07:10</td>\n      <td>2020-05-01 00:12:46</td>\n      <td>1.0</td>\n      <td>1.7</td>\n      <td>Standard rate</td>\n      <td>107</td>\n      <td>229</td>\n      <td>Cash</td>\n      <td>7.0</td>\n      <td>3.0</td>\n      <td>...</td>\n      <td>40.756728</td>\n      <td>-73.965146</td>\n      <td>5.600000</td>\n      <td>5</td>\n      <td>1</td>\n      <td>0</td>\n      <td>5</td>\n      <td>1</td>\n      <td>0</td>\n      <td>False</td>\n    </tr>\n    <tr>\n      <th>1</th>\n      <td>2020-05-01 00:09:46</td>\n      <td>2020-05-01 00:27:44</td>\n      <td>1.0</td>\n      <td>2.9</td>\n      <td>Standard rate</td>\n      <td>79</td>\n      <td>237</td>\n      <td>Cash</td>\n      <td>12.0</td>\n      <td>3.0</td>\n      <td>...</td>\n      <td>40.768615</td>\n      <td>-73.965634</td>\n      <td>17.966667</td>\n      <td>5</td>\n      <td>1</td>\n      <td>0</td>\n      <td>5</td>\n      <td>1</td>\n      <td>0</td>\n      <td>False</td>\n    </tr>\n    <tr>\n      <th>2</th>\n      <td>2020-05-01 00:22:48</td>\n      <td>2020-05-01 00:28:58</td>\n      <td>1.0</td>\n      <td>1.5</td>\n      <td>Standard rate</td>\n      <td>140</td>\n      <td>263</td>\n      <td>Credit card</td>\n      <td>7.0</td>\n      <td>3.0</td>\n      <td>...</td>\n      <td>40.778765</td>\n      <td>-73.951010</td>\n      <td>6.166667</td>\n      <td>5</td>\n      <td>1</td>\n      <td>0</td>\n      <td>5</td>\n      <td>1</td>\n      <td>0</td>\n      <td>False</td>\n    </tr>\n    <tr>\n      <th>3</th>\n      <td>2020-05-01 00:57:59</td>\n      <td>2020-05-01 01:07:48</td>\n      <td>1.0</td>\n      <td>2.0</td>\n      <td>Standard rate</td>\n      <td>140</td>\n      <td>230</td>\n      <td>Cash</td>\n      <td>9.0</td>\n      <td>3.0</td>\n      <td>...</td>\n      <td>40.759817</td>\n      <td>-73.984196</td>\n      <td>9.816667</td>\n      <td>5</td>\n      <td>1</td>\n      <td>0</td>\n      <td>5</td>\n      <td>1</td>\n      <td>1</td>\n      <td>False</td>\n    </tr>\n    <tr>\n      <th>4</th>\n      <td>2020-05-01 00:10:53</td>\n      <td>2020-05-01 00:14:17</td>\n      <td>1.0</td>\n      <td>0.5</td>\n      <td>Standard rate</td>\n      <td>239</td>\n      <td>239</td>\n      <td>Cash</td>\n      <td>4.5</td>\n      <td>3.0</td>\n      <td>...</td>\n      <td>40.783961</td>\n      <td>-73.978632</td>\n      <td>3.400000</td>\n      <td>5</td>\n      <td>1</td>\n      <td>0</td>\n      <td>5</td>\n      <td>1</td>\n      <td>0</td>\n      <td>False</td>\n    </tr>\n    <tr>\n      <th>...</th>\n      <td>...</td>\n      <td>...</td>\n      <td>...</td>\n      <td>...</td>\n      <td>...</td>\n      <td>...</td>\n      <td>...</td>\n      <td>...</td>\n      <td>...</td>\n      <td>...</td>\n      <td>...</td>\n      <td>...</td>\n      <td>...</td>\n      <td>...</td>\n      <td>...</td>\n      <td>...</td>\n      <td>...</td>\n      <td>...</td>\n      <td>...</td>\n      <td>...</td>\n      <td>...</td>\n    </tr>\n    <tr>\n      <th>236402</th>\n      <td>2020-05-31 23:26:51</td>\n      <td>2020-05-31 23:41:12</td>\n      <td>1.0</td>\n      <td>6.1</td>\n      <td>Standard rate</td>\n      <td>79</td>\n      <td>75</td>\n      <td>Credit card</td>\n      <td>19.0</td>\n      <td>3.0</td>\n      <td>...</td>\n      <td>40.790010</td>\n      <td>-73.945750</td>\n      <td>14.350000</td>\n      <td>5</td>\n      <td>31</td>\n      <td>23</td>\n      <td>5</td>\n      <td>31</td>\n      <td>23</td>\n      <td>True</td>\n    </tr>\n    <tr>\n      <th>236403</th>\n      <td>2020-05-31 23:45:06</td>\n      <td>2020-05-31 23:53:56</td>\n      <td>1.0</td>\n      <td>2.6</td>\n      <td>Standard rate</td>\n      <td>75</td>\n      <td>168</td>\n      <td>Credit card</td>\n      <td>10.0</td>\n      <td>0.5</td>\n      <td>...</td>\n      <td>40.807347</td>\n      <td>-73.916822</td>\n      <td>8.833333</td>\n      <td>5</td>\n      <td>31</td>\n      <td>23</td>\n      <td>5</td>\n      <td>31</td>\n      <td>23</td>\n      <td>True</td>\n    </tr>\n    <tr>\n      <th>236404</th>\n      <td>2020-05-31 23:04:57</td>\n      <td>2020-05-31 23:11:16</td>\n      <td>1.0</td>\n      <td>1.0</td>\n      <td>Standard rate</td>\n      <td>41</td>\n      <td>74</td>\n      <td>Cash</td>\n      <td>6.5</td>\n      <td>0.5</td>\n      <td>...</td>\n      <td>40.801169</td>\n      <td>-73.937345</td>\n      <td>6.316667</td>\n      <td>5</td>\n      <td>31</td>\n      <td>23</td>\n      <td>5</td>\n      <td>31</td>\n      <td>23</td>\n      <td>True</td>\n    </tr>\n    <tr>\n      <th>236405</th>\n      <td>2020-05-31 23:20:00</td>\n      <td>2020-05-31 23:29:40</td>\n      <td>1.0</td>\n      <td>3.2</td>\n      <td>Standard rate</td>\n      <td>263</td>\n      <td>137</td>\n      <td>Cash</td>\n      <td>11.5</td>\n      <td>3.0</td>\n      <td>...</td>\n      <td>40.740438</td>\n      <td>-73.976495</td>\n      <td>9.666667</td>\n      <td>5</td>\n      <td>31</td>\n      <td>23</td>\n      <td>5</td>\n      <td>31</td>\n      <td>23</td>\n      <td>True</td>\n    </tr>\n    <tr>\n      <th>236406</th>\n      <td>2020-05-31 23:49:48</td>\n      <td>2020-05-31 23:51:29</td>\n      <td>1.0</td>\n      <td>0.5</td>\n      <td>Standard rate</td>\n      <td>75</td>\n      <td>74</td>\n      <td>Cash</td>\n      <td>4.0</td>\n      <td>0.5</td>\n      <td>...</td>\n      <td>40.801169</td>\n      <td>-73.937345</td>\n      <td>1.683333</td>\n      <td>5</td>\n      <td>31</td>\n      <td>23</td>\n      <td>5</td>\n      <td>31</td>\n      <td>23</td>\n      <td>True</td>\n    </tr>\n  </tbody>\n</table>\n<p>236407 rows × 28 columns</p>\n</div>"
     },
     "execution_count": 9,
     "metadata": {},
     "output_type": "execute_result"
    }
   ],
   "source": [
    "df = yellowcab.io.read_parquet(\"May_cleaned.parquet\", relative_path=\"output\")\n",
    "df"
   ],
   "metadata": {
    "collapsed": false,
    "pycharm": {
     "name": "#%%\n"
    }
   }
  },
  {
   "cell_type": "code",
   "execution_count": null,
   "outputs": [],
   "source": [],
   "metadata": {
    "collapsed": false,
    "pycharm": {
     "name": "#%%\n"
    }
   }
  }
 ],
 "metadata": {
  "kernelspec": {
   "display_name": "Python 3",
   "language": "python",
   "name": "python3"
  },
  "language_info": {
   "codemirror_mode": {
    "name": "ipython",
    "version": 3
   },
   "file_extension": ".py",
   "mimetype": "text/x-python",
   "name": "python",
   "nbconvert_exporter": "python",
   "pygments_lexer": "ipython3",
   "version": "3.8.8"
  }
 },
 "nbformat": 4,
 "nbformat_minor": 1
}