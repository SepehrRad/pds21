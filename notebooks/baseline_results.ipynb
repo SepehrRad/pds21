{
 "cells": [
  {
   "cell_type": "code",
   "execution_count": 1,
   "outputs": [],
   "source": [
    "from yellowcab.io.input import read_parquet_dataset\n",
    "from yellowcab.model import make_baseline_predictions"
   ],
   "metadata": {
    "collapsed": false,
    "pycharm": {
     "name": "#%%\n"
    }
   }
  },
  {
   "cell_type": "code",
   "execution_count": 2,
   "outputs": [],
   "source": [
    "cab_df = read_parquet_dataset(relative_path=\"input/cleaned\").sample(frac=0.1,random_state=7)"
   ],
   "metadata": {
    "collapsed": false,
    "pycharm": {
     "name": "#%%\n"
    }
   }
  },
  {
   "cell_type": "code",
   "execution_count": 3,
   "outputs": [
    {
     "name": "stdout",
     "output_type": "stream",
     "text": [
      "\n",
      "Predicted target: trip_distance, model name: base_reg_trip_distance, prediction type: regression\n",
      "5 features were selected for prediction from the original 517 features.\n",
      "-------MODEL SCORES-------\n",
      "MAE:  0.549\n",
      "MSE:  0.716\n",
      "RMSE:  0.846\n",
      "R2:  87.349 %\n",
      "\n",
      "Predicted target: fare_amount, model name: base_reg_fare_amount, prediction type: regression\n",
      "5 features were selected for prediction from the original 512 features.\n",
      "-------MODEL SCORES-------\n",
      "MAE:  0.404\n",
      "MSE:  1.599\n",
      "RMSE:  1.265\n",
      "R2:  96.754 %\n"
     ]
    }
   ],
   "source": [
    "make_baseline_predictions(cab_df)"
   ],
   "metadata": {
    "collapsed": false,
    "pycharm": {
     "name": "#%%\n"
    }
   }
  },
  {
   "cell_type": "code",
   "execution_count": 3,
   "outputs": [],
   "source": [],
   "metadata": {
    "collapsed": false,
    "pycharm": {
     "name": "#%%\n"
    }
   }
  }
 ],
 "metadata": {
  "kernelspec": {
   "display_name": "Python 3",
   "language": "python",
   "name": "python3"
  },
  "language_info": {
   "codemirror_mode": {
    "name": "ipython",
    "version": 2
   },
   "file_extension": ".py",
   "mimetype": "text/x-python",
   "name": "python",
   "nbconvert_exporter": "python",
   "pygments_lexer": "ipython2",
   "version": "2.7.6"
  }
 },
 "nbformat": 4,
 "nbformat_minor": 0
}