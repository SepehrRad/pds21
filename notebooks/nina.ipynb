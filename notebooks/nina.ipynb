{
 "cells": [
  {
   "cell_type": "code",
   "execution_count": 1,
   "outputs": [
    {
     "ename": "ImportError",
     "evalue": "cannot import name 'regression' from 'yellowcab.prediction' (/Users/ninaerlacher/Documents/GitHub/pds21/yellowcab/prediction/__init__.py)",
     "output_type": "error",
     "traceback": [
      "\u001B[0;31m---------------------------------------------------------------------------\u001B[0m",
      "\u001B[0;31mImportError\u001B[0m                               Traceback (most recent call last)",
      "\u001B[0;32m<ipython-input-1-af452c20008d>\u001B[0m in \u001B[0;36m<module>\u001B[0;34m\u001B[0m\n\u001B[1;32m      1\u001B[0m \u001B[0;32mfrom\u001B[0m \u001B[0myellowcab\u001B[0m\u001B[0;34m.\u001B[0m\u001B[0mio\u001B[0m\u001B[0;34m.\u001B[0m\u001B[0minput\u001B[0m \u001B[0;32mimport\u001B[0m \u001B[0mread_parquet_dataset\u001B[0m\u001B[0;34m\u001B[0m\u001B[0;34m\u001B[0m\u001B[0m\n\u001B[0;32m----> 2\u001B[0;31m \u001B[0;32mfrom\u001B[0m \u001B[0myellowcab\u001B[0m\u001B[0;34m.\u001B[0m\u001B[0mprediction\u001B[0m \u001B[0;32mimport\u001B[0m \u001B[0mregression\u001B[0m\u001B[0;34m\u001B[0m\u001B[0;34m\u001B[0m\u001B[0m\n\u001B[0m\u001B[1;32m      3\u001B[0m \u001B[0;32mfrom\u001B[0m \u001B[0myellowcab\u001B[0m\u001B[0;34m.\u001B[0m\u001B[0mfeature_engineering\u001B[0m \u001B[0;32mimport\u001B[0m \u001B[0madd_relevant_features\u001B[0m\u001B[0;34m\u001B[0m\u001B[0;34m\u001B[0m\u001B[0m\n\u001B[1;32m      4\u001B[0m \u001B[0;34m\u001B[0m\u001B[0m\n",
      "\u001B[0;31mImportError\u001B[0m: cannot import name 'regression' from 'yellowcab.prediction' (/Users/ninaerlacher/Documents/GitHub/pds21/yellowcab/prediction/__init__.py)"
     ]
    }
   ],
   "source": [
    "from yellowcab.io.input import read_parquet_dataset\n",
    "from yellowcab.prediction import regression\n",
    "from yellowcab.feature_engineering import add_relevant_features"
   ],
   "metadata": {
    "collapsed": false,
    "pycharm": {
     "name": "#%%\n"
    }
   }
  },
  {
   "cell_type": "code",
   "execution_count": 3,
   "outputs": [
    {
     "name": "stdout",
     "output_type": "stream",
     "text": [
      "<class 'pandas.core.frame.DataFrame'>\n",
      "Int64Index: 800000 entries, 2479665 to 5424152\n",
      "Data columns (total 28 columns):\n",
      " #   Column                 Non-Null Count   Dtype         \n",
      "---  ------                 --------------   -----         \n",
      " 0   pickup_datetime        800000 non-null  datetime64[ns]\n",
      " 1   dropoff_datetime       800000 non-null  datetime64[ns]\n",
      " 2   passenger_count        800000 non-null  float64       \n",
      " 3   trip_distance          800000 non-null  float64       \n",
      " 4   RatecodeID             800000 non-null  object        \n",
      " 5   PULocationID           800000 non-null  object        \n",
      " 6   DOLocationID           800000 non-null  object        \n",
      " 7   payment_type           800000 non-null  object        \n",
      " 8   fare_amount            800000 non-null  float64       \n",
      " 9   extra                  800000 non-null  float64       \n",
      " 10  mta_tax                800000 non-null  float64       \n",
      " 11  tip_amount             800000 non-null  float64       \n",
      " 12  tolls_amount           800000 non-null  float64       \n",
      " 13  improvement_surcharge  800000 non-null  float64       \n",
      " 14  total_amount           800000 non-null  float64       \n",
      " 15  congestion_surcharge   800000 non-null  float64       \n",
      " 16  centers_lat_pickup     800000 non-null  float64       \n",
      " 17  centers_long_pickup    800000 non-null  float64       \n",
      " 18  centers_lat_dropoff    800000 non-null  float64       \n",
      " 19  centers_long_dropoff   800000 non-null  float64       \n",
      " 20  trip_duration_minutes  800000 non-null  float64       \n",
      " 21  pickup_month           800000 non-null  int64         \n",
      " 22  pickup_day             800000 non-null  int64         \n",
      " 23  pickup_hour            800000 non-null  int64         \n",
      " 24  dropoff_month          800000 non-null  int64         \n",
      " 25  dropoff_day            800000 non-null  int64         \n",
      " 26  dropoff_hour           800000 non-null  int64         \n",
      " 27  weekend                800000 non-null  bool          \n",
      "dtypes: bool(1), datetime64[ns](2), float64(15), int64(6), object(4)\n",
      "memory usage: 171.7+ MB\n"
     ]
    }
   ],
   "source": [
    "cab_df = read_parquet_dataset(relative_path=\"input/cleaned\").sample(800000,random_state=7)\n",
    "cab_df.info()"
   ],
   "metadata": {
    "collapsed": false,
    "pycharm": {
     "name": "#%%\n"
    }
   }
  },
  {
   "cell_type": "code",
   "execution_count": 3,
   "outputs": [
    {
     "name": "stdout",
     "output_type": "stream",
     "text": [
      "\n",
      "trip_distance regression\n",
      "MAE:  0.960\n",
      "MSE:  1.898\n",
      "RMSE:  1.378\n",
      "R2:  65.946 %\n"
     ]
    }
   ],
   "source": [
    "regression(cab_df)"
   ],
   "metadata": {
    "collapsed": false,
    "pycharm": {
     "name": "#%%\n"
    }
   }
  },
  {
   "cell_type": "code",
   "execution_count": 4,
   "outputs": [
    {
     "name": "stdout",
     "output_type": "stream",
     "text": [
      "<class 'pandas.core.frame.DataFrame'>\n",
      "Int64Index: 800000 entries, 2479665 to 5424152\n",
      "Data columns (total 28 columns):\n",
      " #   Column                 Non-Null Count   Dtype         \n",
      "---  ------                 --------------   -----         \n",
      " 0   pickup_datetime        800000 non-null  datetime64[ns]\n",
      " 1   dropoff_datetime       800000 non-null  datetime64[ns]\n",
      " 2   passenger_count        800000 non-null  float64       \n",
      " 3   trip_distance          800000 non-null  float64       \n",
      " 4   RatecodeID             800000 non-null  object        \n",
      " 5   PULocationID           800000 non-null  object        \n",
      " 6   DOLocationID           800000 non-null  object        \n",
      " 7   payment_type           800000 non-null  object        \n",
      " 8   fare_amount            800000 non-null  float64       \n",
      " 9   extra                  800000 non-null  float64       \n",
      " 10  mta_tax                800000 non-null  float64       \n",
      " 11  tip_amount             800000 non-null  float64       \n",
      " 12  tolls_amount           800000 non-null  float64       \n",
      " 13  improvement_surcharge  800000 non-null  float64       \n",
      " 14  total_amount           800000 non-null  float64       \n",
      " 15  congestion_surcharge   800000 non-null  float64       \n",
      " 16  centers_lat_pickup     800000 non-null  float64       \n",
      " 17  centers_long_pickup    800000 non-null  float64       \n",
      " 18  centers_lat_dropoff    800000 non-null  float64       \n",
      " 19  centers_long_dropoff   800000 non-null  float64       \n",
      " 20  trip_duration_minutes  800000 non-null  float64       \n",
      " 21  pickup_month           800000 non-null  int64         \n",
      " 22  pickup_day             800000 non-null  int64         \n",
      " 23  pickup_hour            800000 non-null  int64         \n",
      " 24  dropoff_month          800000 non-null  int64         \n",
      " 25  dropoff_day            800000 non-null  int64         \n",
      " 26  dropoff_hour           800000 non-null  int64         \n",
      " 27  weekend                800000 non-null  bool          \n",
      "dtypes: bool(1), datetime64[ns](2), float64(15), int64(6), object(4)\n",
      "memory usage: 171.7+ MB\n"
     ]
    }
   ],
   "source": [
    "cab_df.info()"
   ],
   "metadata": {
    "collapsed": false,
    "pycharm": {
     "name": "#%%\n"
    }
   }
  },
  {
   "cell_type": "code",
   "execution_count": 4,
   "outputs": [
    {
     "data": {
      "text/plain": "             pickup_datetime    dropoff_datetime  passenger_count  \\\n2479665  2020-11-28 16:03:52 2020-11-28 16:10:49              1.0   \n1114002  2020-10-26 14:06:16 2020-10-26 14:21:20              6.0   \n14854170 2020-02-28 21:42:12 2020-02-28 21:55:26              1.0   \n10238188 2020-02-04 15:11:36 2020-02-04 15:38:03              1.0   \n13089598 2020-02-19 20:32:54 2020-02-19 20:38:04              2.0   \n...                      ...                 ...              ...   \n1446695  2020-11-02 15:42:31 2020-11-02 15:51:17              1.0   \n13321796 2020-02-20 22:44:43 2020-02-20 22:58:49              2.0   \n5619020  2020-01-11 21:55:21 2020-01-11 22:03:14              1.0   \n20583437 2020-09-20 16:09:29 2020-09-20 16:17:50              1.0   \n5424152  2020-01-10 22:16:08 2020-01-10 22:28:24              2.0   \n\n          trip_distance     RatecodeID PULocationID DOLocationID payment_type  \\\n2479665            1.89  Standard rate           48          158  Credit card   \n1114002            1.33  Standard rate          141          236  Credit card   \n14854170           1.98  Standard rate          163          140  Credit card   \n10238188           2.06  Standard rate          262          239  Credit card   \n13089598           1.10  Standard rate          229          137  Credit card   \n...                 ...            ...          ...          ...          ...   \n1446695            3.20  Standard rate          132          216         Cash   \n13321796           4.18  Standard rate          161          145  Credit card   \n5619020            2.14  Standard rate           87           65  Credit card   \n20583437           1.30  Standard rate          140          236         Cash   \n5424152            2.20  Standard rate           68          161         Cash   \n\n          fare_amount  extra  ...  pickup_hour  dropoff_month  dropoff_day  \\\n2479665           7.5    0.0  ...           16             11           28   \n1114002          10.5    0.0  ...           14             10           26   \n14854170         10.5    0.5  ...           21              2           28   \n10238188         16.5    0.0  ...           15              2            4   \n13089598          5.5    3.0  ...           20              2           19   \n...               ...    ...  ...          ...            ...          ...   \n1446695          11.0    0.0  ...           15             11            2   \n13321796         14.5    0.5  ...           22              2           20   \n5619020           9.0    0.5  ...           21              1           11   \n20583437          7.5    0.0  ...           16              9           20   \n5424152          10.0    3.0  ...           22              1           10   \n\n          dropoff_hour  weekend  Holiday  Season  covid_new_cases  \\\n2479665             16     True    False  autumn              1.0   \n1114002             14    False    False  autumn              1.0   \n14854170            21    False    False  winter              0.0   \n10238188            15    False    False  winter              0.0   \n13089598            20    False    False  winter              0.0   \n...                ...      ...      ...     ...              ...   \n1446695             15    False    False  autumn              1.0   \n13321796            22    False    False  winter              0.0   \n5619020             22     True    False  winter              0.0   \n20583437            16     True    False  summer              1.0   \n5424152             22    False    False  winter              0.0   \n\n          covid_lockdown  covid_school_restrictions  \n2479665              0.0                        0.0  \n1114002              0.0                        0.0  \n14854170             0.0                        0.0  \n10238188             0.0                        0.0  \n13089598             0.0                        0.0  \n...                  ...                        ...  \n1446695              0.0                        0.0  \n13321796             0.0                        0.0  \n5619020              0.0                        0.0  \n20583437             0.0                        0.0  \n5424152              0.0                        0.0  \n\n[800000 rows x 33 columns]",
      "text/html": "<div>\n<style scoped>\n    .dataframe tbody tr th:only-of-type {\n        vertical-align: middle;\n    }\n\n    .dataframe tbody tr th {\n        vertical-align: top;\n    }\n\n    .dataframe thead th {\n        text-align: right;\n    }\n</style>\n<table border=\"1\" class=\"dataframe\">\n  <thead>\n    <tr style=\"text-align: right;\">\n      <th></th>\n      <th>pickup_datetime</th>\n      <th>dropoff_datetime</th>\n      <th>passenger_count</th>\n      <th>trip_distance</th>\n      <th>RatecodeID</th>\n      <th>PULocationID</th>\n      <th>DOLocationID</th>\n      <th>payment_type</th>\n      <th>fare_amount</th>\n      <th>extra</th>\n      <th>...</th>\n      <th>pickup_hour</th>\n      <th>dropoff_month</th>\n      <th>dropoff_day</th>\n      <th>dropoff_hour</th>\n      <th>weekend</th>\n      <th>Holiday</th>\n      <th>Season</th>\n      <th>covid_new_cases</th>\n      <th>covid_lockdown</th>\n      <th>covid_school_restrictions</th>\n    </tr>\n  </thead>\n  <tbody>\n    <tr>\n      <th>2479665</th>\n      <td>2020-11-28 16:03:52</td>\n      <td>2020-11-28 16:10:49</td>\n      <td>1.0</td>\n      <td>1.89</td>\n      <td>Standard rate</td>\n      <td>48</td>\n      <td>158</td>\n      <td>Credit card</td>\n      <td>7.5</td>\n      <td>0.0</td>\n      <td>...</td>\n      <td>16</td>\n      <td>11</td>\n      <td>28</td>\n      <td>16</td>\n      <td>True</td>\n      <td>False</td>\n      <td>autumn</td>\n      <td>1.0</td>\n      <td>0.0</td>\n      <td>0.0</td>\n    </tr>\n    <tr>\n      <th>1114002</th>\n      <td>2020-10-26 14:06:16</td>\n      <td>2020-10-26 14:21:20</td>\n      <td>6.0</td>\n      <td>1.33</td>\n      <td>Standard rate</td>\n      <td>141</td>\n      <td>236</td>\n      <td>Credit card</td>\n      <td>10.5</td>\n      <td>0.0</td>\n      <td>...</td>\n      <td>14</td>\n      <td>10</td>\n      <td>26</td>\n      <td>14</td>\n      <td>False</td>\n      <td>False</td>\n      <td>autumn</td>\n      <td>1.0</td>\n      <td>0.0</td>\n      <td>0.0</td>\n    </tr>\n    <tr>\n      <th>14854170</th>\n      <td>2020-02-28 21:42:12</td>\n      <td>2020-02-28 21:55:26</td>\n      <td>1.0</td>\n      <td>1.98</td>\n      <td>Standard rate</td>\n      <td>163</td>\n      <td>140</td>\n      <td>Credit card</td>\n      <td>10.5</td>\n      <td>0.5</td>\n      <td>...</td>\n      <td>21</td>\n      <td>2</td>\n      <td>28</td>\n      <td>21</td>\n      <td>False</td>\n      <td>False</td>\n      <td>winter</td>\n      <td>0.0</td>\n      <td>0.0</td>\n      <td>0.0</td>\n    </tr>\n    <tr>\n      <th>10238188</th>\n      <td>2020-02-04 15:11:36</td>\n      <td>2020-02-04 15:38:03</td>\n      <td>1.0</td>\n      <td>2.06</td>\n      <td>Standard rate</td>\n      <td>262</td>\n      <td>239</td>\n      <td>Credit card</td>\n      <td>16.5</td>\n      <td>0.0</td>\n      <td>...</td>\n      <td>15</td>\n      <td>2</td>\n      <td>4</td>\n      <td>15</td>\n      <td>False</td>\n      <td>False</td>\n      <td>winter</td>\n      <td>0.0</td>\n      <td>0.0</td>\n      <td>0.0</td>\n    </tr>\n    <tr>\n      <th>13089598</th>\n      <td>2020-02-19 20:32:54</td>\n      <td>2020-02-19 20:38:04</td>\n      <td>2.0</td>\n      <td>1.10</td>\n      <td>Standard rate</td>\n      <td>229</td>\n      <td>137</td>\n      <td>Credit card</td>\n      <td>5.5</td>\n      <td>3.0</td>\n      <td>...</td>\n      <td>20</td>\n      <td>2</td>\n      <td>19</td>\n      <td>20</td>\n      <td>False</td>\n      <td>False</td>\n      <td>winter</td>\n      <td>0.0</td>\n      <td>0.0</td>\n      <td>0.0</td>\n    </tr>\n    <tr>\n      <th>...</th>\n      <td>...</td>\n      <td>...</td>\n      <td>...</td>\n      <td>...</td>\n      <td>...</td>\n      <td>...</td>\n      <td>...</td>\n      <td>...</td>\n      <td>...</td>\n      <td>...</td>\n      <td>...</td>\n      <td>...</td>\n      <td>...</td>\n      <td>...</td>\n      <td>...</td>\n      <td>...</td>\n      <td>...</td>\n      <td>...</td>\n      <td>...</td>\n      <td>...</td>\n      <td>...</td>\n    </tr>\n    <tr>\n      <th>1446695</th>\n      <td>2020-11-02 15:42:31</td>\n      <td>2020-11-02 15:51:17</td>\n      <td>1.0</td>\n      <td>3.20</td>\n      <td>Standard rate</td>\n      <td>132</td>\n      <td>216</td>\n      <td>Cash</td>\n      <td>11.0</td>\n      <td>0.0</td>\n      <td>...</td>\n      <td>15</td>\n      <td>11</td>\n      <td>2</td>\n      <td>15</td>\n      <td>False</td>\n      <td>False</td>\n      <td>autumn</td>\n      <td>1.0</td>\n      <td>0.0</td>\n      <td>0.0</td>\n    </tr>\n    <tr>\n      <th>13321796</th>\n      <td>2020-02-20 22:44:43</td>\n      <td>2020-02-20 22:58:49</td>\n      <td>2.0</td>\n      <td>4.18</td>\n      <td>Standard rate</td>\n      <td>161</td>\n      <td>145</td>\n      <td>Credit card</td>\n      <td>14.5</td>\n      <td>0.5</td>\n      <td>...</td>\n      <td>22</td>\n      <td>2</td>\n      <td>20</td>\n      <td>22</td>\n      <td>False</td>\n      <td>False</td>\n      <td>winter</td>\n      <td>0.0</td>\n      <td>0.0</td>\n      <td>0.0</td>\n    </tr>\n    <tr>\n      <th>5619020</th>\n      <td>2020-01-11 21:55:21</td>\n      <td>2020-01-11 22:03:14</td>\n      <td>1.0</td>\n      <td>2.14</td>\n      <td>Standard rate</td>\n      <td>87</td>\n      <td>65</td>\n      <td>Credit card</td>\n      <td>9.0</td>\n      <td>0.5</td>\n      <td>...</td>\n      <td>21</td>\n      <td>1</td>\n      <td>11</td>\n      <td>22</td>\n      <td>True</td>\n      <td>False</td>\n      <td>winter</td>\n      <td>0.0</td>\n      <td>0.0</td>\n      <td>0.0</td>\n    </tr>\n    <tr>\n      <th>20583437</th>\n      <td>2020-09-20 16:09:29</td>\n      <td>2020-09-20 16:17:50</td>\n      <td>1.0</td>\n      <td>1.30</td>\n      <td>Standard rate</td>\n      <td>140</td>\n      <td>236</td>\n      <td>Cash</td>\n      <td>7.5</td>\n      <td>0.0</td>\n      <td>...</td>\n      <td>16</td>\n      <td>9</td>\n      <td>20</td>\n      <td>16</td>\n      <td>True</td>\n      <td>False</td>\n      <td>summer</td>\n      <td>1.0</td>\n      <td>0.0</td>\n      <td>0.0</td>\n    </tr>\n    <tr>\n      <th>5424152</th>\n      <td>2020-01-10 22:16:08</td>\n      <td>2020-01-10 22:28:24</td>\n      <td>2.0</td>\n      <td>2.20</td>\n      <td>Standard rate</td>\n      <td>68</td>\n      <td>161</td>\n      <td>Cash</td>\n      <td>10.0</td>\n      <td>3.0</td>\n      <td>...</td>\n      <td>22</td>\n      <td>1</td>\n      <td>10</td>\n      <td>22</td>\n      <td>False</td>\n      <td>False</td>\n      <td>winter</td>\n      <td>0.0</td>\n      <td>0.0</td>\n      <td>0.0</td>\n    </tr>\n  </tbody>\n</table>\n<p>800000 rows × 33 columns</p>\n</div>"
     },
     "execution_count": 4,
     "metadata": {},
     "output_type": "execute_result"
    }
   ],
   "source": [
    "add_relevant_features(cab_df, \"pickup_datetime\")"
   ],
   "metadata": {
    "collapsed": false,
    "pycharm": {
     "name": "#%%\n"
    }
   }
  },
  {
   "cell_type": "code",
   "execution_count": 5,
   "outputs": [
    {
     "name": "stdout",
     "output_type": "stream",
     "text": [
      "<class 'pandas.core.frame.DataFrame'>\n",
      "Int64Index: 800000 entries, 2479665 to 5424152\n",
      "Data columns (total 33 columns):\n",
      " #   Column                     Non-Null Count   Dtype         \n",
      "---  ------                     --------------   -----         \n",
      " 0   pickup_datetime            800000 non-null  datetime64[ns]\n",
      " 1   dropoff_datetime           800000 non-null  datetime64[ns]\n",
      " 2   passenger_count            800000 non-null  float64       \n",
      " 3   trip_distance              800000 non-null  float64       \n",
      " 4   RatecodeID                 800000 non-null  object        \n",
      " 5   PULocationID               800000 non-null  object        \n",
      " 6   DOLocationID               800000 non-null  object        \n",
      " 7   payment_type               800000 non-null  object        \n",
      " 8   fare_amount                800000 non-null  float64       \n",
      " 9   extra                      800000 non-null  float64       \n",
      " 10  mta_tax                    800000 non-null  float64       \n",
      " 11  tip_amount                 800000 non-null  float64       \n",
      " 12  tolls_amount               800000 non-null  float64       \n",
      " 13  improvement_surcharge      800000 non-null  float64       \n",
      " 14  total_amount               800000 non-null  float64       \n",
      " 15  congestion_surcharge       800000 non-null  float64       \n",
      " 16  centers_lat_pickup         800000 non-null  float64       \n",
      " 17  centers_long_pickup        800000 non-null  float64       \n",
      " 18  centers_lat_dropoff        800000 non-null  float64       \n",
      " 19  centers_long_dropoff       800000 non-null  float64       \n",
      " 20  trip_duration_minutes      800000 non-null  float64       \n",
      " 21  pickup_month               800000 non-null  int64         \n",
      " 22  pickup_day                 800000 non-null  int64         \n",
      " 23  pickup_hour                800000 non-null  int64         \n",
      " 24  dropoff_month              800000 non-null  int64         \n",
      " 25  dropoff_day                800000 non-null  int64         \n",
      " 26  dropoff_hour               800000 non-null  int64         \n",
      " 27  weekend                    800000 non-null  bool          \n",
      " 28  Holiday                    800000 non-null  bool          \n",
      " 29  Season                     800000 non-null  object        \n",
      " 30  covid_new_cases            800000 non-null  float64       \n",
      " 31  covid_lockdown             800000 non-null  float64       \n",
      " 32  covid_school_restrictions  800000 non-null  float64       \n",
      "dtypes: bool(2), datetime64[ns](2), float64(18), int64(6), object(5)\n",
      "memory usage: 196.8+ MB\n"
     ]
    }
   ],
   "source": [
    "cab_df.info()\n"
   ],
   "metadata": {
    "collapsed": false,
    "pycharm": {
     "name": "#%%\n"
    }
   }
  },
  {
   "cell_type": "code",
   "execution_count": 6,
   "outputs": [
    {
     "name": "stdout",
     "output_type": "stream",
     "text": [
      "\n",
      "trip_distance regression\n",
      "MAE:  0.961\n",
      "MSE:  1.894\n",
      "RMSE:  1.376\n",
      "R2:  66.023 %\n"
     ]
    }
   ],
   "source": [
    "#now with more features from feature_engineering\n",
    "regression(cab_df)\n"
   ],
   "metadata": {
    "collapsed": false,
    "pycharm": {
     "name": "#%%\n"
    }
   }
  },
  {
   "cell_type": "code",
   "execution_count": null,
   "outputs": [],
   "source": [
    "# lasso (feature selection) dazwischen bauen\n",
    "#\n"
   ],
   "metadata": {
    "collapsed": false,
    "pycharm": {
     "name": "#%%\n"
    }
   }
  }
 ],
 "metadata": {
  "kernelspec": {
   "display_name": "Python 3",
   "language": "python",
   "name": "python3"
  },
  "language_info": {
   "codemirror_mode": {
    "name": "ipython",
    "version": 2
   },
   "file_extension": ".py",
   "mimetype": "text/x-python",
   "name": "python",
   "nbconvert_exporter": "python",
   "pygments_lexer": "ipython2",
   "version": "2.7.6"
  }
 },
 "nbformat": 4,
 "nbformat_minor": 0
}