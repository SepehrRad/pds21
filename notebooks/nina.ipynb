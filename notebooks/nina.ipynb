{
 "cells": [
  {
   "cell_type": "code",
   "execution_count": 1,
   "outputs": [],
   "source": [
    "from yellowcab.io.input import read_parquet_dataset\n",
    "from yellowcab.prediction import regression\n",
    "from yellowcab.feature_engineering import add_relevant_features"
   ],
   "metadata": {
    "collapsed": false,
    "pycharm": {
     "name": "#%%\n"
    }
   }
  },
  {
   "cell_type": "code",
   "execution_count": 2,
   "outputs": [
    {
     "name": "stdout",
     "output_type": "stream",
     "text": [
      "<class 'pandas.core.frame.DataFrame'>\n",
      "Int64Index: 40000 entries, 2479665 to 19646303\n",
      "Data columns (total 28 columns):\n",
      " #   Column                 Non-Null Count  Dtype         \n",
      "---  ------                 --------------  -----         \n",
      " 0   pickup_datetime        40000 non-null  datetime64[ns]\n",
      " 1   dropoff_datetime       40000 non-null  datetime64[ns]\n",
      " 2   passenger_count        40000 non-null  float64       \n",
      " 3   trip_distance          40000 non-null  float64       \n",
      " 4   RatecodeID             40000 non-null  object        \n",
      " 5   PULocationID           40000 non-null  object        \n",
      " 6   DOLocationID           40000 non-null  object        \n",
      " 7   payment_type           40000 non-null  object        \n",
      " 8   fare_amount            40000 non-null  float64       \n",
      " 9   extra                  40000 non-null  float64       \n",
      " 10  mta_tax                40000 non-null  float64       \n",
      " 11  tip_amount             40000 non-null  float64       \n",
      " 12  tolls_amount           40000 non-null  float64       \n",
      " 13  improvement_surcharge  40000 non-null  float64       \n",
      " 14  total_amount           40000 non-null  float64       \n",
      " 15  congestion_surcharge   40000 non-null  float64       \n",
      " 16  centers_lat_pickup     40000 non-null  float64       \n",
      " 17  centers_long_pickup    40000 non-null  float64       \n",
      " 18  centers_lat_dropoff    40000 non-null  float64       \n",
      " 19  centers_long_dropoff   40000 non-null  float64       \n",
      " 20  trip_duration_minutes  40000 non-null  float64       \n",
      " 21  pickup_month           40000 non-null  int64         \n",
      " 22  pickup_day             40000 non-null  int64         \n",
      " 23  pickup_hour            40000 non-null  int64         \n",
      " 24  dropoff_month          40000 non-null  int64         \n",
      " 25  dropoff_day            40000 non-null  int64         \n",
      " 26  dropoff_hour           40000 non-null  int64         \n",
      " 27  weekend                40000 non-null  bool          \n",
      "dtypes: bool(1), datetime64[ns](2), float64(15), int64(6), object(4)\n",
      "memory usage: 8.6+ MB\n"
     ]
    }
   ],
   "source": [
    "cab_df = read_parquet_dataset(relative_path=\"input/cleaned\").sample(40000,random_state=7)\n",
    "cab_df.info()"
   ],
   "metadata": {
    "collapsed": false,
    "pycharm": {
     "name": "#%%\n"
    }
   }
  },
  {
   "cell_type": "code",
   "execution_count": 3,
   "outputs": [
    {
     "name": "stdout",
     "output_type": "stream",
     "text": [
      "\n",
      "Predicted target: trip_distance, model name: xg_boost, prediction type: regression\n"
     ]
    },
    {
     "ename": "KeyError",
     "evalue": "'feature_selector'",
     "output_type": "error",
     "traceback": [
      "\u001B[0;31m---------------------------------------------------------------------------\u001B[0m",
      "\u001B[0;31mKeyError\u001B[0m                                  Traceback (most recent call last)",
      "\u001B[0;32m<ipython-input-3-092b9ea55fea>\u001B[0m in \u001B[0;36m<module>\u001B[0;34m\u001B[0m\n\u001B[0;32m----> 1\u001B[0;31m \u001B[0mregression\u001B[0m\u001B[0;34m(\u001B[0m\u001B[0mcab_df\u001B[0m\u001B[0;34m)\u001B[0m\u001B[0;34m\u001B[0m\u001B[0;34m\u001B[0m\u001B[0m\n\u001B[0m\u001B[1;32m      2\u001B[0m \u001B[0;34m\u001B[0m\u001B[0m\n",
      "\u001B[0;32m~/Documents/GitHub/pds21/yellowcab/prediction/prediction.py\u001B[0m in \u001B[0;36mregression\u001B[0;34m(df)\u001B[0m\n\u001B[1;32m    317\u001B[0m     \u001B[0mfeature_selector\u001B[0m \u001B[0;34m=\u001B[0m \u001B[0mSelectFromModel\u001B[0m\u001B[0;34m(\u001B[0m\u001B[0mLasso\u001B[0m\u001B[0;34m(\u001B[0m\u001B[0malpha\u001B[0m\u001B[0;34m=\u001B[0m\u001B[0;36m0.1\u001B[0m\u001B[0;34m)\u001B[0m\u001B[0;34m)\u001B[0m\u001B[0;34m\u001B[0m\u001B[0;34m\u001B[0m\u001B[0m\n\u001B[1;32m    318\u001B[0m     \u001B[0mdf\u001B[0m \u001B[0;34m=\u001B[0m \u001B[0madd_relevant_features\u001B[0m\u001B[0;34m(\u001B[0m\u001B[0mdf\u001B[0m\u001B[0;34m,\u001B[0m \u001B[0;34m\"pickup_datetime\"\u001B[0m\u001B[0;34m)\u001B[0m\u001B[0;34m\u001B[0m\u001B[0;34m\u001B[0m\u001B[0m\n\u001B[0;32m--> 319\u001B[0;31m     make_predictions(df=df, prediction_type=\"regression\", target=\"trip_distance\", relevant_features={\n\u001B[0m\u001B[1;32m    320\u001B[0m             \u001B[0;34m\"target\"\u001B[0m\u001B[0;34m:\u001B[0m \u001B[0;34m\"trip_distance\"\u001B[0m\u001B[0;34m,\u001B[0m\u001B[0;34m\u001B[0m\u001B[0;34m\u001B[0m\u001B[0m\n\u001B[1;32m    321\u001B[0m             \u001B[0;34m\"categorical_features\"\u001B[0m\u001B[0;34m:\u001B[0m \u001B[0;34m[\u001B[0m\u001B[0;34m\"Zone_dropoff\"\u001B[0m\u001B[0;34m,\u001B[0m \u001B[0;34m\"Zone_pickup\"\u001B[0m\u001B[0;34m]\u001B[0m\u001B[0;34m,\u001B[0m\u001B[0;34m\u001B[0m\u001B[0;34m\u001B[0m\u001B[0m\n",
      "\u001B[0;32m~/Documents/GitHub/pds21/yellowcab/prediction/prediction.py\u001B[0m in \u001B[0;36mmake_predictions\u001B[0;34m(df, prediction_type, target, model, model_name, scaler_type, relevant_features, feature_selector, feature_selection, use_sampler, sampler)\u001B[0m\n\u001B[1;32m    188\u001B[0m     \u001B[0mpipeline\u001B[0m \u001B[0;34m=\u001B[0m \u001B[0mpipeline\u001B[0m\u001B[0;34m.\u001B[0m\u001B[0mfit\u001B[0m\u001B[0;34m(\u001B[0m\u001B[0mX_train\u001B[0m\u001B[0;34m,\u001B[0m \u001B[0my_train\u001B[0m\u001B[0;34m)\u001B[0m\u001B[0;34m\u001B[0m\u001B[0;34m\u001B[0m\u001B[0m\n\u001B[1;32m    189\u001B[0m     \u001B[0;32mif\u001B[0m \u001B[0mfeature_selection\u001B[0m\u001B[0;34m:\u001B[0m\u001B[0;34m\u001B[0m\u001B[0;34m\u001B[0m\u001B[0m\n\u001B[0;32m--> 190\u001B[0;31m         \u001B[0m_get_information_for_feature_selection\u001B[0m\u001B[0;34m(\u001B[0m\u001B[0mpipeline\u001B[0m\u001B[0;34m=\u001B[0m\u001B[0mpipeline\u001B[0m\u001B[0;34m,\u001B[0m \u001B[0mX_train\u001B[0m\u001B[0;34m=\u001B[0m\u001B[0mX_train\u001B[0m\u001B[0;34m)\u001B[0m\u001B[0;34m\u001B[0m\u001B[0;34m\u001B[0m\u001B[0m\n\u001B[0m\u001B[1;32m    191\u001B[0m     \u001B[0msave_model\u001B[0m\u001B[0;34m(\u001B[0m\u001B[0mpipeline\u001B[0m\u001B[0;34m.\u001B[0m\u001B[0mnamed_steps\u001B[0m\u001B[0;34m[\u001B[0m\u001B[0mmodel_name\u001B[0m\u001B[0;34m]\u001B[0m\u001B[0;34m,\u001B[0m \u001B[0mmodel_name\u001B[0m\u001B[0;34m)\u001B[0m\u001B[0;34m\u001B[0m\u001B[0;34m\u001B[0m\u001B[0m\n\u001B[1;32m    192\u001B[0m     _print_prediction_scores(\n",
      "\u001B[0;32m~/Documents/GitHub/pds21/yellowcab/prediction/prediction.py\u001B[0m in \u001B[0;36m_get_information_for_feature_selection\u001B[0;34m(pipeline, X_train)\u001B[0m\n\u001B[1;32m    134\u001B[0m     \u001B[0;34m:\u001B[0m\u001B[0;32mreturn\u001B[0m\u001B[0;34m:\u001B[0m\u001B[0;34m\u001B[0m\u001B[0;34m\u001B[0m\u001B[0m\n\u001B[1;32m    135\u001B[0m     \"\"\"\n\u001B[0;32m--> 136\u001B[0;31m     \u001B[0mselected_feature_mask\u001B[0m \u001B[0;34m=\u001B[0m \u001B[0mpipeline\u001B[0m\u001B[0;34m.\u001B[0m\u001B[0mnamed_steps\u001B[0m\u001B[0;34m[\u001B[0m\u001B[0;34m'feature_selector'\u001B[0m\u001B[0;34m]\u001B[0m\u001B[0;34m.\u001B[0m\u001B[0mget_support\u001B[0m\u001B[0;34m(\u001B[0m\u001B[0;34m)\u001B[0m\u001B[0;34m\u001B[0m\u001B[0;34m\u001B[0m\u001B[0m\n\u001B[0m\u001B[1;32m    137\u001B[0m     \u001B[0moriginal_features\u001B[0m \u001B[0;34m=\u001B[0m \u001B[0mlen\u001B[0m\u001B[0;34m(\u001B[0m\u001B[0mX_train\u001B[0m\u001B[0;34m.\u001B[0m\u001B[0mcolumns\u001B[0m\u001B[0;34m)\u001B[0m\u001B[0;34m\u001B[0m\u001B[0;34m\u001B[0m\u001B[0m\n\u001B[1;32m    138\u001B[0m     \u001B[0mselected_features\u001B[0m \u001B[0;34m=\u001B[0m \u001B[0mlen\u001B[0m\u001B[0;34m(\u001B[0m\u001B[0mX_train\u001B[0m\u001B[0;34m.\u001B[0m\u001B[0mcolumns\u001B[0m\u001B[0;34m[\u001B[0m\u001B[0mselected_feature_mask\u001B[0m\u001B[0;34m]\u001B[0m\u001B[0;34m)\u001B[0m\u001B[0;34m\u001B[0m\u001B[0;34m\u001B[0m\u001B[0m\n",
      "\u001B[0;31mKeyError\u001B[0m: 'feature_selector'"
     ]
    }
   ],
   "source": [
    "regression(cab_df)\n"
   ],
   "metadata": {
    "collapsed": false,
    "pycharm": {
     "name": "#%%\n"
    }
   }
  }
 ],
 "metadata": {
  "kernelspec": {
   "display_name": "Python 3",
   "language": "python",
   "name": "python3"
  },
  "language_info": {
   "codemirror_mode": {
    "name": "ipython",
    "version": 2
   },
   "file_extension": ".py",
   "mimetype": "text/x-python",
   "name": "python",
   "nbconvert_exporter": "python",
   "pygments_lexer": "ipython2",
   "version": "2.7.6"
  }
 },
 "nbformat": 4,
 "nbformat_minor": 0
}