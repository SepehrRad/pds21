{
 "cells": [
  {
   "cell_type": "code",
   "execution_count": 1,
   "outputs": [],
   "source": [
    "from yellowcab.io.input import read_parquet_dataset\n",
    "from yellowcab.model import trip_distance_regression_base"
   ],
   "metadata": {
    "collapsed": false,
    "pycharm": {
     "name": "#%%\n"
    }
   }
  },
  {
   "cell_type": "code",
   "execution_count": 2,
   "outputs": [
    {
     "name": "stdout",
     "output_type": "stream",
     "text": [
      "<class 'pandas.core.frame.DataFrame'>\n",
      "Int64Index: 40000 entries, 2479665 to 19646302\n",
      "Data columns (total 28 columns):\n",
      " #   Column                 Non-Null Count  Dtype         \n",
      "---  ------                 --------------  -----         \n",
      " 0   pickup_datetime        40000 non-null  datetime64[ns]\n",
      " 1   dropoff_datetime       40000 non-null  datetime64[ns]\n",
      " 2   passenger_count        40000 non-null  float64       \n",
      " 3   trip_distance          40000 non-null  float64       \n",
      " 4   RatecodeID             40000 non-null  object        \n",
      " 5   PULocationID           40000 non-null  object        \n",
      " 6   DOLocationID           40000 non-null  object        \n",
      " 7   payment_type           40000 non-null  object        \n",
      " 8   fare_amount            40000 non-null  float64       \n",
      " 9   extra                  40000 non-null  float64       \n",
      " 10  mta_tax                40000 non-null  float64       \n",
      " 11  tip_amount             40000 non-null  float64       \n",
      " 12  tolls_amount           40000 non-null  float64       \n",
      " 13  improvement_surcharge  40000 non-null  float64       \n",
      " 14  total_amount           40000 non-null  float64       \n",
      " 15  congestion_surcharge   40000 non-null  float64       \n",
      " 16  centers_lat_pickup     40000 non-null  float64       \n",
      " 17  centers_long_pickup    40000 non-null  float64       \n",
      " 18  centers_lat_dropoff    40000 non-null  float64       \n",
      " 19  centers_long_dropoff   40000 non-null  float64       \n",
      " 20  trip_duration_minutes  40000 non-null  float64       \n",
      " 21  pickup_month           40000 non-null  int64         \n",
      " 22  pickup_day             40000 non-null  int64         \n",
      " 23  pickup_hour            40000 non-null  int64         \n",
      " 24  dropoff_month          40000 non-null  int64         \n",
      " 25  dropoff_day            40000 non-null  int64         \n",
      " 26  dropoff_hour           40000 non-null  int64         \n",
      " 27  weekend                40000 non-null  int64         \n",
      "dtypes: datetime64[ns](2), float64(15), int64(7), object(4)\n",
      "memory usage: 8.9+ MB\n"
     ]
    }
   ],
   "source": [
    "cab_df = read_parquet_dataset(relative_path=\"input/cleaned\").sample(40000,random_state=7)\n",
    "cab_df.info()"
   ],
   "metadata": {
    "collapsed": false,
    "pycharm": {
     "name": "#%%\n"
    }
   }
  },
  {
   "cell_type": "code",
   "execution_count": 3,
   "outputs": [
    {
     "name": "stdout",
     "output_type": "stream",
     "text": [
      "\n",
      "Predicted target: trip_distance, model name: xg_boost, prediction type: regression\n",
      "9 features were selected for prediction from the original 389 features.\n",
      "-------MODEL SCORES-------\n",
      "MAE:  0.413\n",
      "MSE:  0.416\n",
      "RMSE:  0.645\n",
      "R2:  92.677 %\n"
     ]
    }
   ],
   "source": [
    "\n",
    "trip_distance_regression_base(cab_df)"
   ],
   "metadata": {
    "collapsed": false,
    "pycharm": {
     "name": "#%%\n"
    }
   }
  },
  {
   "cell_type": "code",
   "execution_count": 4,
   "outputs": [
    {
     "data": {
      "text/plain": "             pickup_datetime    dropoff_datetime  passenger_count  \\\n2479665  2020-02-02 18:45:07 2020-02-02 18:52:13              1.0   \n1114002  2020-12-03 10:25:01 2020-12-03 10:32:58              1.0   \n14854170 2020-03-02 19:04:25 2020-03-02 19:11:50              5.0   \n10238188 2020-01-15 10:55:15 2020-01-15 11:09:08              1.0   \n13089598 2020-01-29 20:57:50 2020-01-29 21:20:13              1.0   \n...                      ...                 ...              ...   \n6364926  2020-02-23 13:23:22 2020-02-23 13:28:39              6.0   \n7507883  2020-02-29 11:51:54 2020-02-29 11:58:33              1.0   \n1736592  2020-12-18 23:30:36 2020-12-18 23:39:30              1.0   \n13063284 2020-01-29 19:58:12 2020-01-29 20:01:23              4.0   \n19646302 2020-10-25 18:41:44 2020-10-25 18:53:14              2.0   \n\n          trip_distance     RatecodeID PULocationID DOLocationID payment_type  \\\n2479665            0.87  Standard rate           68          170  Credit card   \n1114002            1.10  Standard rate          113          158         Cash   \n14854170           1.33  Standard rate          170           79  Credit card   \n10238188           1.64  Standard rate           90          230  Credit card   \n13089598           9.22  Standard rate          138          113  Credit card   \n...                 ...            ...          ...          ...          ...   \n6364926            0.85  Standard rate           43          238  Credit card   \n7507883            1.20  Standard rate          141          236  Credit card   \n1736592            1.75  Standard rate          236          229  Credit card   \n13063284           0.30  Standard rate          161          163  Credit card   \n19646302           1.44  Standard rate          140          163  Credit card   \n\n          fare_amount  extra  ...  weekend  Holiday  Season  covid_new_cases  \\\n2479665           6.0    0.0  ...        1    False  winter              0.0   \n1114002           7.0    2.5  ...        0    False  autumn              1.0   \n14854170          7.0    1.0  ...        0    False  winter              1.0   \n10238188         10.0    0.0  ...        0    False  winter              0.0   \n13089598         27.5    0.5  ...        0    False  winter              0.0   \n...               ...    ...  ...      ...      ...     ...              ...   \n6364926           5.5    0.0  ...        1    False  winter              0.0   \n7507883           6.5    0.0  ...        1    False  winter              0.0   \n1736592           8.5    0.5  ...        0    False  autumn              1.0   \n13063284          4.0    1.0  ...        0    False  winter              0.0   \n19646302          9.0    0.0  ...        1    False  autumn              1.0   \n\n          covid_lockdown  covid_school_restrictions  manhattan_distance  \\\n2479665              0.0                        0.0            1.880706   \n1114002              0.0                        0.0            1.510004   \n14854170             0.0                        0.0            2.865105   \n10238188             0.0                        0.0            3.026498   \n13089598             0.0                        0.0           14.809287   \n...                  ...                        ...                 ...   \n6364926              0.0                        0.0            1.657056   \n7507883              0.0                        0.0            1.720724   \n1736592              0.0                        0.0            3.321035   \n13063284             0.0                        0.0            0.721796   \n19646302             0.0                        0.0            2.040848   \n\n          bearing_distance  haversine_distance  weekday  \n2479665         359.725618            2.382534        6  \n1114002         178.269286            1.634002        3  \n14854170        203.192359            1.032861        0  \n10238188         12.076356            1.518928        2  \n13089598        183.303635           13.480073        2  \n...                    ...                 ...      ...  \n6364926         169.864093            0.880285        6  \n7507883          33.485738            0.506798        5  \n1736592         201.899209            1.161272        4  \n13063284         82.125037            0.196746        2  \n19646302        180.398953            2.538779        6  \n\n[40000 rows x 37 columns]",
      "text/html": "<div>\n<style scoped>\n    .dataframe tbody tr th:only-of-type {\n        vertical-align: middle;\n    }\n\n    .dataframe tbody tr th {\n        vertical-align: top;\n    }\n\n    .dataframe thead th {\n        text-align: right;\n    }\n</style>\n<table border=\"1\" class=\"dataframe\">\n  <thead>\n    <tr style=\"text-align: right;\">\n      <th></th>\n      <th>pickup_datetime</th>\n      <th>dropoff_datetime</th>\n      <th>passenger_count</th>\n      <th>trip_distance</th>\n      <th>RatecodeID</th>\n      <th>PULocationID</th>\n      <th>DOLocationID</th>\n      <th>payment_type</th>\n      <th>fare_amount</th>\n      <th>extra</th>\n      <th>...</th>\n      <th>weekend</th>\n      <th>Holiday</th>\n      <th>Season</th>\n      <th>covid_new_cases</th>\n      <th>covid_lockdown</th>\n      <th>covid_school_restrictions</th>\n      <th>manhattan_distance</th>\n      <th>bearing_distance</th>\n      <th>haversine_distance</th>\n      <th>weekday</th>\n    </tr>\n  </thead>\n  <tbody>\n    <tr>\n      <th>2479665</th>\n      <td>2020-02-02 18:45:07</td>\n      <td>2020-02-02 18:52:13</td>\n      <td>1.0</td>\n      <td>0.87</td>\n      <td>Standard rate</td>\n      <td>68</td>\n      <td>170</td>\n      <td>Credit card</td>\n      <td>6.0</td>\n      <td>0.0</td>\n      <td>...</td>\n      <td>1</td>\n      <td>False</td>\n      <td>winter</td>\n      <td>0.0</td>\n      <td>0.0</td>\n      <td>0.0</td>\n      <td>1.880706</td>\n      <td>359.725618</td>\n      <td>2.382534</td>\n      <td>6</td>\n    </tr>\n    <tr>\n      <th>1114002</th>\n      <td>2020-12-03 10:25:01</td>\n      <td>2020-12-03 10:32:58</td>\n      <td>1.0</td>\n      <td>1.10</td>\n      <td>Standard rate</td>\n      <td>113</td>\n      <td>158</td>\n      <td>Cash</td>\n      <td>7.0</td>\n      <td>2.5</td>\n      <td>...</td>\n      <td>0</td>\n      <td>False</td>\n      <td>autumn</td>\n      <td>1.0</td>\n      <td>0.0</td>\n      <td>0.0</td>\n      <td>1.510004</td>\n      <td>178.269286</td>\n      <td>1.634002</td>\n      <td>3</td>\n    </tr>\n    <tr>\n      <th>14854170</th>\n      <td>2020-03-02 19:04:25</td>\n      <td>2020-03-02 19:11:50</td>\n      <td>5.0</td>\n      <td>1.33</td>\n      <td>Standard rate</td>\n      <td>170</td>\n      <td>79</td>\n      <td>Credit card</td>\n      <td>7.0</td>\n      <td>1.0</td>\n      <td>...</td>\n      <td>0</td>\n      <td>False</td>\n      <td>winter</td>\n      <td>1.0</td>\n      <td>0.0</td>\n      <td>0.0</td>\n      <td>2.865105</td>\n      <td>203.192359</td>\n      <td>1.032861</td>\n      <td>0</td>\n    </tr>\n    <tr>\n      <th>10238188</th>\n      <td>2020-01-15 10:55:15</td>\n      <td>2020-01-15 11:09:08</td>\n      <td>1.0</td>\n      <td>1.64</td>\n      <td>Standard rate</td>\n      <td>90</td>\n      <td>230</td>\n      <td>Credit card</td>\n      <td>10.0</td>\n      <td>0.0</td>\n      <td>...</td>\n      <td>0</td>\n      <td>False</td>\n      <td>winter</td>\n      <td>0.0</td>\n      <td>0.0</td>\n      <td>0.0</td>\n      <td>3.026498</td>\n      <td>12.076356</td>\n      <td>1.518928</td>\n      <td>2</td>\n    </tr>\n    <tr>\n      <th>13089598</th>\n      <td>2020-01-29 20:57:50</td>\n      <td>2020-01-29 21:20:13</td>\n      <td>1.0</td>\n      <td>9.22</td>\n      <td>Standard rate</td>\n      <td>138</td>\n      <td>113</td>\n      <td>Credit card</td>\n      <td>27.5</td>\n      <td>0.5</td>\n      <td>...</td>\n      <td>0</td>\n      <td>False</td>\n      <td>winter</td>\n      <td>0.0</td>\n      <td>0.0</td>\n      <td>0.0</td>\n      <td>14.809287</td>\n      <td>183.303635</td>\n      <td>13.480073</td>\n      <td>2</td>\n    </tr>\n    <tr>\n      <th>...</th>\n      <td>...</td>\n      <td>...</td>\n      <td>...</td>\n      <td>...</td>\n      <td>...</td>\n      <td>...</td>\n      <td>...</td>\n      <td>...</td>\n      <td>...</td>\n      <td>...</td>\n      <td>...</td>\n      <td>...</td>\n      <td>...</td>\n      <td>...</td>\n      <td>...</td>\n      <td>...</td>\n      <td>...</td>\n      <td>...</td>\n      <td>...</td>\n      <td>...</td>\n      <td>...</td>\n    </tr>\n    <tr>\n      <th>6364926</th>\n      <td>2020-02-23 13:23:22</td>\n      <td>2020-02-23 13:28:39</td>\n      <td>6.0</td>\n      <td>0.85</td>\n      <td>Standard rate</td>\n      <td>43</td>\n      <td>238</td>\n      <td>Credit card</td>\n      <td>5.5</td>\n      <td>0.0</td>\n      <td>...</td>\n      <td>1</td>\n      <td>False</td>\n      <td>winter</td>\n      <td>0.0</td>\n      <td>0.0</td>\n      <td>0.0</td>\n      <td>1.657056</td>\n      <td>169.864093</td>\n      <td>0.880285</td>\n      <td>6</td>\n    </tr>\n    <tr>\n      <th>7507883</th>\n      <td>2020-02-29 11:51:54</td>\n      <td>2020-02-29 11:58:33</td>\n      <td>1.0</td>\n      <td>1.20</td>\n      <td>Standard rate</td>\n      <td>141</td>\n      <td>236</td>\n      <td>Credit card</td>\n      <td>6.5</td>\n      <td>0.0</td>\n      <td>...</td>\n      <td>1</td>\n      <td>False</td>\n      <td>winter</td>\n      <td>0.0</td>\n      <td>0.0</td>\n      <td>0.0</td>\n      <td>1.720724</td>\n      <td>33.485738</td>\n      <td>0.506798</td>\n      <td>5</td>\n    </tr>\n    <tr>\n      <th>1736592</th>\n      <td>2020-12-18 23:30:36</td>\n      <td>2020-12-18 23:39:30</td>\n      <td>1.0</td>\n      <td>1.75</td>\n      <td>Standard rate</td>\n      <td>236</td>\n      <td>229</td>\n      <td>Credit card</td>\n      <td>8.5</td>\n      <td>0.5</td>\n      <td>...</td>\n      <td>0</td>\n      <td>False</td>\n      <td>autumn</td>\n      <td>1.0</td>\n      <td>0.0</td>\n      <td>0.0</td>\n      <td>3.321035</td>\n      <td>201.899209</td>\n      <td>1.161272</td>\n      <td>4</td>\n    </tr>\n    <tr>\n      <th>13063284</th>\n      <td>2020-01-29 19:58:12</td>\n      <td>2020-01-29 20:01:23</td>\n      <td>4.0</td>\n      <td>0.30</td>\n      <td>Standard rate</td>\n      <td>161</td>\n      <td>163</td>\n      <td>Credit card</td>\n      <td>4.0</td>\n      <td>1.0</td>\n      <td>...</td>\n      <td>0</td>\n      <td>False</td>\n      <td>winter</td>\n      <td>0.0</td>\n      <td>0.0</td>\n      <td>0.0</td>\n      <td>0.721796</td>\n      <td>82.125037</td>\n      <td>0.196746</td>\n      <td>2</td>\n    </tr>\n    <tr>\n      <th>19646302</th>\n      <td>2020-10-25 18:41:44</td>\n      <td>2020-10-25 18:53:14</td>\n      <td>2.0</td>\n      <td>1.44</td>\n      <td>Standard rate</td>\n      <td>140</td>\n      <td>163</td>\n      <td>Credit card</td>\n      <td>9.0</td>\n      <td>0.0</td>\n      <td>...</td>\n      <td>1</td>\n      <td>False</td>\n      <td>autumn</td>\n      <td>1.0</td>\n      <td>0.0</td>\n      <td>0.0</td>\n      <td>2.040848</td>\n      <td>180.398953</td>\n      <td>2.538779</td>\n      <td>6</td>\n    </tr>\n  </tbody>\n</table>\n<p>40000 rows × 37 columns</p>\n</div>"
     },
     "execution_count": 4,
     "metadata": {},
     "output_type": "execute_result"
    }
   ],
   "source": [
    "cab_df"
   ],
   "metadata": {
    "collapsed": false,
    "pycharm": {
     "name": "#%%\n"
    }
   }
  },
  {
   "cell_type": "code",
   "execution_count": 4,
   "outputs": [],
   "source": [],
   "metadata": {
    "collapsed": false,
    "pycharm": {
     "name": "#%%\n"
    }
   }
  }
 ],
 "metadata": {
  "kernelspec": {
   "display_name": "Python 3",
   "language": "python",
   "name": "python3"
  },
  "language_info": {
   "codemirror_mode": {
    "name": "ipython",
    "version": 2
   },
   "file_extension": ".py",
   "mimetype": "text/x-python",
   "name": "python",
   "nbconvert_exporter": "python",
   "pygments_lexer": "ipython2",
   "version": "2.7.6"
  }
 },
 "nbformat": 4,
 "nbformat_minor": 0
}