{
 "cells": [
  {
   "cell_type": "code",
   "execution_count": 1,
   "outputs": [],
   "source": [
    "from yellowcab.io.input import read_parquet_dataset\n",
    "from yellowcab.model import trip_distance_regression"
   ],
   "metadata": {
    "collapsed": false,
    "pycharm": {
     "name": "#%%\n"
    }
   }
  },
  {
   "cell_type": "code",
   "execution_count": 2,
   "outputs": [
    {
     "name": "stdout",
     "output_type": "stream",
     "text": [
      "<class 'pandas.core.frame.DataFrame'>\n",
      "Int64Index: 40000 entries, 2479665 to 19646302\n",
      "Data columns (total 28 columns):\n",
      " #   Column                 Non-Null Count  Dtype         \n",
      "---  ------                 --------------  -----         \n",
      " 0   pickup_datetime        40000 non-null  datetime64[ns]\n",
      " 1   dropoff_datetime       40000 non-null  datetime64[ns]\n",
      " 2   passenger_count        40000 non-null  float64       \n",
      " 3   trip_distance          40000 non-null  float64       \n",
      " 4   RatecodeID             40000 non-null  object        \n",
      " 5   PULocationID           40000 non-null  object        \n",
      " 6   DOLocationID           40000 non-null  object        \n",
      " 7   payment_type           40000 non-null  object        \n",
      " 8   fare_amount            40000 non-null  float64       \n",
      " 9   extra                  40000 non-null  float64       \n",
      " 10  mta_tax                40000 non-null  float64       \n",
      " 11  tip_amount             40000 non-null  float64       \n",
      " 12  tolls_amount           40000 non-null  float64       \n",
      " 13  improvement_surcharge  40000 non-null  float64       \n",
      " 14  total_amount           40000 non-null  float64       \n",
      " 15  congestion_surcharge   40000 non-null  float64       \n",
      " 16  centers_lat_pickup     40000 non-null  float64       \n",
      " 17  centers_long_pickup    40000 non-null  float64       \n",
      " 18  centers_lat_dropoff    40000 non-null  float64       \n",
      " 19  centers_long_dropoff   40000 non-null  float64       \n",
      " 20  trip_duration_minutes  40000 non-null  float64       \n",
      " 21  pickup_month           40000 non-null  int64         \n",
      " 22  pickup_day             40000 non-null  int64         \n",
      " 23  pickup_hour            40000 non-null  int64         \n",
      " 24  dropoff_month          40000 non-null  int64         \n",
      " 25  dropoff_day            40000 non-null  int64         \n",
      " 26  dropoff_hour           40000 non-null  int64         \n",
      " 27  weekend                40000 non-null  int64         \n",
      "dtypes: datetime64[ns](2), float64(15), int64(7), object(4)\n",
      "memory usage: 8.9+ MB\n"
     ]
    }
   ],
   "source": [
    "cab_df = read_parquet_dataset(relative_path=\"input/cleaned\").sample(40000,random_state=7)\n",
    "cab_df.info()"
   ],
   "metadata": {
    "collapsed": false,
    "pycharm": {
     "name": "#%%\n"
    }
   }
  },
  {
   "cell_type": "code",
   "execution_count": 3,
   "outputs": [
    {
     "name": "stdout",
     "output_type": "stream",
     "text": [
      "\n",
      "Predicted target: trip_distance, model name: xg_boost, prediction type: regression\n",
      "2 features were selected for prediction from the original 386 features.\n",
      "MAE:  0.583\n",
      "MSE:  0.960\n",
      "RMSE:  0.980\n",
      "R2:  83.095 %\n"
     ]
    }
   ],
   "source": [
    "trip_distance_regression(cab_df, feature_selection=True)"
   ],
   "metadata": {
    "collapsed": false,
    "pycharm": {
     "name": "#%%\n"
    }
   }
  },
  {
   "cell_type": "code",
   "execution_count": 4,
   "outputs": [
    {
     "name": "stdout",
     "output_type": "stream",
     "text": [
      "\n",
      "Predicted target: trip_distance, model name: xg_boost, prediction type: regression\n",
      "MAE:  0.585\n",
      "MSE:  0.810\n",
      "RMSE:  0.900\n",
      "R2:  85.727 %\n"
     ]
    }
   ],
   "source": [
    "trip_distance_regression(cab_df)\n"
   ],
   "metadata": {
    "collapsed": false,
    "pycharm": {
     "name": "#%%\n"
    }
   }
  },
  {
   "cell_type": "code",
   "execution_count": 4,
   "outputs": [],
   "source": [],
   "metadata": {
    "collapsed": false,
    "pycharm": {
     "name": "#%%\n"
    }
   }
  }
 ],
 "metadata": {
  "kernelspec": {
   "display_name": "Python 3",
   "language": "python",
   "name": "python3"
  },
  "language_info": {
   "codemirror_mode": {
    "name": "ipython",
    "version": 2
   },
   "file_extension": ".py",
   "mimetype": "text/x-python",
   "name": "python",
   "nbconvert_exporter": "python",
   "pygments_lexer": "ipython2",
   "version": "2.7.6"
  }
 },
 "nbformat": 4,
 "nbformat_minor": 0
}