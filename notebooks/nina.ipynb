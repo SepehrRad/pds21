{
 "cells": [
  {
   "cell_type": "code",
   "execution_count": 1,
   "outputs": [],
   "source": [
    "from yellowcab.io.input import read_parquet_dataset\n",
    "from yellowcab.model import build_trip_distance_model_optimized\n",
    "#start: 16:03"
   ],
   "metadata": {
    "collapsed": false,
    "pycharm": {
     "name": "#%%\n"
    }
   }
  },
  {
   "cell_type": "code",
   "execution_count": 2,
   "outputs": [],
   "source": [
    "df = read_parquet_dataset(relative_path=\"input/cleaned\")"
   ],
   "metadata": {
    "collapsed": false,
    "pycharm": {
     "name": "#%%\n"
    }
   }
  },
  {
   "cell_type": "code",
   "execution_count": 3,
   "outputs": [
    {
     "name": "stdout",
     "output_type": "stream",
     "text": [
      "\n",
      "Predicted target: trip_distance, model name: xgb_model_trip_distance_optimized, prediction type: regression\n",
      "-------MODEL SCORES-------\n",
      "MAE:  0.407\n",
      "MSE:  0.442\n",
      "RMSE:  0.665\n",
      "R2:  92.158 %\n"
     ]
    }
   ],
   "source": [
    "build_trip_distance_model_optimized(df, manhattan=False)"
   ],
   "metadata": {
    "collapsed": false,
    "pycharm": {
     "name": "#%%\n"
    }
   }
  },
  {
   "cell_type": "code",
   "execution_count": 3,
   "outputs": [
    {
     "name": "stdout",
     "output_type": "stream",
     "text": [
      "\n",
      "Predicted target: trip_distance, model name: xgb_model_trip_distance_optimized_manhattan, prediction type: regression\n",
      "-------MODEL SCORES-------\n",
      "MAE:  0.389\n",
      "MSE:  0.383\n",
      "RMSE:  0.619\n",
      "R2:  91.419 %\n"
     ]
    }
   ],
   "source": [
    "build_trip_distance_model_optimized(df, manhattan=True)\n"
   ],
   "metadata": {
    "collapsed": false,
    "pycharm": {
     "name": "#%%\n"
    }
   }
  }
 ],
 "metadata": {
  "kernelspec": {
   "display_name": "Python 3",
   "language": "python",
   "name": "python3"
  },
  "language_info": {
   "codemirror_mode": {
    "name": "ipython",
    "version": 2
   },
   "file_extension": ".py",
   "mimetype": "text/x-python",
   "name": "python",
   "nbconvert_exporter": "python",
   "pygments_lexer": "ipython2",
   "version": "2.7.6"
  }
 },
 "nbformat": 4,
 "nbformat_minor": 0
}