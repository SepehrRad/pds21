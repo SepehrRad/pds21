{
 "cells": [
  {
   "cell_type": "code",
   "execution_count": 1,
   "metadata": {},
   "outputs": [
    {
     "name": "stdout",
     "output_type": "stream",
     "text": [
      "Obtaining file:///C:/Users/Sepehr/Desktop/Master/Programming_Data_Science/Git/pds21/pds21\n",
      "Requirement already satisfied: pandas in c:\\users\\sepehr\\.conda\\envs\\pds21\\lib\\site-packages (from yellowcab==0.0.1.dev1) (1.2.4)\n",
      "Requirement already satisfied: numpy in c:\\users\\sepehr\\.conda\\envs\\pds21\\lib\\site-packages (from yellowcab==0.0.1.dev1) (1.20.1)\n",
      "Requirement already satisfied: matplotlib in c:\\users\\sepehr\\.conda\\envs\\pds21\\lib\\site-packages (from yellowcab==0.0.1.dev1) (3.4.2)\n",
      "Requirement already satisfied: click in c:\\users\\sepehr\\.conda\\envs\\pds21\\lib\\site-packages (from yellowcab==0.0.1.dev1) (7.1.2)\n",
      "Requirement already satisfied: scikit-learn in c:\\users\\sepehr\\.conda\\envs\\pds21\\lib\\site-packages (from yellowcab==0.0.1.dev1) (0.24.2)\n",
      "Requirement already satisfied: pyarrow in c:\\users\\sepehr\\.conda\\envs\\pds21\\lib\\site-packages (from yellowcab==0.0.1.dev1) (4.0.0)\n",
      "Requirement already satisfied: scipy in c:\\users\\sepehr\\.conda\\envs\\pds21\\lib\\site-packages (from yellowcab==0.0.1.dev1) (1.6.3)\n",
      "Requirement already satisfied: pyod in c:\\users\\sepehr\\.conda\\envs\\pds21\\lib\\site-packages (from yellowcab==0.0.1.dev1) (0.8.8)\n",
      "Requirement already satisfied: geopandas in c:\\users\\sepehr\\.conda\\envs\\pds21\\lib\\site-packages (from yellowcab==0.0.1.dev1) (0.8.1)\n",
      "Requirement already satisfied: folium in c:\\users\\sepehr\\.conda\\envs\\pds21\\lib\\site-packages (from yellowcab==0.0.1.dev1) (0.12.1)\n",
      "Requirement already satisfied: plotly in c:\\users\\sepehr\\.conda\\envs\\pds21\\lib\\site-packages (from yellowcab==0.0.1.dev1) (4.14.3)\n",
      "Requirement already satisfied: branca in c:\\users\\sepehr\\.conda\\envs\\pds21\\lib\\site-packages (from yellowcab==0.0.1.dev1) (0.4.2)\n",
      "Requirement already satisfied: xgboost in c:\\users\\sepehr\\.conda\\envs\\pds21\\lib\\site-packages (from yellowcab==0.0.1.dev1) (1.4.2)\n",
      "Requirement already satisfied: tqdm in c:\\users\\sepehr\\.conda\\envs\\pds21\\lib\\site-packages (from yellowcab==0.0.1.dev1) (4.59.0)\n",
      "Requirement already satisfied: imblearn in c:\\users\\sepehr\\.conda\\envs\\pds21\\lib\\site-packages (from yellowcab==0.0.1.dev1) (0.0)\n",
      "Requirement already satisfied: jinja2 in c:\\users\\sepehr\\.conda\\envs\\pds21\\lib\\site-packages (from branca->yellowcab==0.0.1.dev1) (2.11.3)\n",
      "Requirement already satisfied: requests in c:\\users\\sepehr\\.conda\\envs\\pds21\\lib\\site-packages (from folium->yellowcab==0.0.1.dev1) (2.25.1)\n",
      "Requirement already satisfied: MarkupSafe>=0.23 in c:\\users\\sepehr\\.conda\\envs\\pds21\\lib\\site-packages (from jinja2->branca->yellowcab==0.0.1.dev1) (1.1.1)\n",
      "Requirement already satisfied: fiona in c:\\users\\sepehr\\.conda\\envs\\pds21\\lib\\site-packages (from geopandas->yellowcab==0.0.1.dev1) (1.8.19)\n",
      "Requirement already satisfied: shapely in c:\\users\\sepehr\\.conda\\envs\\pds21\\lib\\site-packages (from geopandas->yellowcab==0.0.1.dev1) (1.7.1)\n",
      "Requirement already satisfied: pyproj>=2.2.0 in c:\\users\\sepehr\\.conda\\envs\\pds21\\lib\\site-packages (from geopandas->yellowcab==0.0.1.dev1) (3.0.1)\n",
      "Requirement already satisfied: python-dateutil>=2.7.3 in c:\\users\\sepehr\\.conda\\envs\\pds21\\lib\\site-packages (from pandas->yellowcab==0.0.1.dev1) (2.8.1)\n",
      "Requirement already satisfied: pytz>=2017.3 in c:\\users\\sepehr\\.conda\\envs\\pds21\\lib\\site-packages (from pandas->yellowcab==0.0.1.dev1) (2021.1)\n",
      "Requirement already satisfied: certifi in c:\\users\\sepehr\\.conda\\envs\\pds21\\lib\\site-packages (from pyproj>=2.2.0->geopandas->yellowcab==0.0.1.dev1) (2020.12.5)\n",
      "Requirement already satisfied: six>=1.5 in c:\\users\\sepehr\\.conda\\envs\\pds21\\lib\\site-packages (from python-dateutil>=2.7.3->pandas->yellowcab==0.0.1.dev1) (1.15.0)\n",
      "Requirement already satisfied: attrs>=17 in c:\\users\\sepehr\\.conda\\envs\\pds21\\lib\\site-packages (from fiona->geopandas->yellowcab==0.0.1.dev1) (21.2.0)\n",
      "Requirement already satisfied: cligj>=0.5 in c:\\users\\sepehr\\.conda\\envs\\pds21\\lib\\site-packages (from fiona->geopandas->yellowcab==0.0.1.dev1) (0.7.1)\n",
      "Requirement already satisfied: click-plugins>=1.0 in c:\\users\\sepehr\\.conda\\envs\\pds21\\lib\\site-packages (from fiona->geopandas->yellowcab==0.0.1.dev1) (1.1.1)\n",
      "Requirement already satisfied: munch in c:\\users\\sepehr\\.conda\\envs\\pds21\\lib\\site-packages (from fiona->geopandas->yellowcab==0.0.1.dev1) (2.5.0)\n",
      "Requirement already satisfied: imbalanced-learn in c:\\users\\sepehr\\.conda\\envs\\pds21\\lib\\site-packages (from imblearn->yellowcab==0.0.1.dev1) (0.8.0)\n",
      "Requirement already satisfied: joblib>=0.11 in c:\\users\\sepehr\\.conda\\envs\\pds21\\lib\\site-packages (from imbalanced-learn->imblearn->yellowcab==0.0.1.dev1) (1.0.1)\n",
      "Requirement already satisfied: threadpoolctl>=2.0.0 in c:\\users\\sepehr\\.conda\\envs\\pds21\\lib\\site-packages (from scikit-learn->yellowcab==0.0.1.dev1) (2.1.0)\n",
      "Requirement already satisfied: kiwisolver>=1.0.1 in c:\\users\\sepehr\\.conda\\envs\\pds21\\lib\\site-packages (from matplotlib->yellowcab==0.0.1.dev1) (1.3.1)\n",
      "Requirement already satisfied: pillow>=6.2.0 in c:\\users\\sepehr\\.conda\\envs\\pds21\\lib\\site-packages (from matplotlib->yellowcab==0.0.1.dev1) (8.2.0)\n",
      "Requirement already satisfied: pyparsing>=2.2.1 in c:\\users\\sepehr\\.conda\\envs\\pds21\\lib\\site-packages (from matplotlib->yellowcab==0.0.1.dev1) (2.4.7)\n",
      "Requirement already satisfied: cycler>=0.10 in c:\\users\\sepehr\\.conda\\envs\\pds21\\lib\\site-packages (from matplotlib->yellowcab==0.0.1.dev1) (0.10.0)\n",
      "Requirement already satisfied: retrying>=1.3.3 in c:\\users\\sepehr\\.conda\\envs\\pds21\\lib\\site-packages (from plotly->yellowcab==0.0.1.dev1) (1.3.3)\n",
      "Requirement already satisfied: numba>=0.35 in c:\\users\\sepehr\\.conda\\envs\\pds21\\lib\\site-packages (from pyod->yellowcab==0.0.1.dev1) (0.53.1)\n",
      "Requirement already satisfied: statsmodels in c:\\users\\sepehr\\.conda\\envs\\pds21\\lib\\site-packages (from pyod->yellowcab==0.0.1.dev1) (0.12.2)\n",
      "Requirement already satisfied: setuptools in c:\\users\\sepehr\\.conda\\envs\\pds21\\lib\\site-packages (from numba>=0.35->pyod->yellowcab==0.0.1.dev1) (52.0.0.post20210125)\n",
      "Requirement already satisfied: llvmlite<0.37,>=0.36.0rc1 in c:\\users\\sepehr\\.conda\\envs\\pds21\\lib\\site-packages (from numba>=0.35->pyod->yellowcab==0.0.1.dev1) (0.36.0)\n",
      "Requirement already satisfied: chardet<5,>=3.0.2 in c:\\users\\sepehr\\.conda\\envs\\pds21\\lib\\site-packages (from requests->folium->yellowcab==0.0.1.dev1) (4.0.0)\n",
      "Requirement already satisfied: urllib3<1.27,>=1.21.1 in c:\\users\\sepehr\\.conda\\envs\\pds21\\lib\\site-packages (from requests->folium->yellowcab==0.0.1.dev1) (1.26.4)\n",
      "Requirement already satisfied: idna<3,>=2.5 in c:\\users\\sepehr\\.conda\\envs\\pds21\\lib\\site-packages (from requests->folium->yellowcab==0.0.1.dev1) (2.10)\n",
      "Requirement already satisfied: patsy>=0.5 in c:\\users\\sepehr\\.conda\\envs\\pds21\\lib\\site-packages (from statsmodels->pyod->yellowcab==0.0.1.dev1) (0.5.1)\n",
      "Installing collected packages: yellowcab\n",
      "  Attempting uninstall: yellowcab\n",
      "    Found existing installation: yellowcab 0.0.1.dev1\n",
      "    Uninstalling yellowcab-0.0.1.dev1:\n",
      "      Successfully uninstalled yellowcab-0.0.1.dev1\n",
      "  Running setup.py develop for yellowcab\n",
      "Successfully installed yellowcab\n"
     ]
    }
   ],
   "source": [
    "!pip install -e .."
   ]
  },
  {
   "cell_type": "code",
   "execution_count": 1,
   "metadata": {
    "pycharm": {
     "name": "#%%\n"
    }
   },
   "outputs": [],
   "source": [
    "from yellowcab.io.input import read_parquet_dataset\n",
    "from yellowcab.model import fare_amount_hyper_parameter_optimization,build_fare_amount_model_optimized\n",
    "import numpy as np"
   ]
  },
  {
   "cell_type": "code",
   "execution_count": 2,
   "metadata": {
    "scrolled": true
   },
   "outputs": [
    {
     "name": "stdout",
     "output_type": "stream",
     "text": [
      "Wall time: 21.2 s\n"
     ]
    }
   ],
   "source": [
    "%%time\n",
    "cab_df = read_parquet_dataset(relative_path=\"input/cleaned\")\n"
   ]
  },
  {
   "cell_type": "code",
   "execution_count": 3,
   "metadata": {},
   "outputs": [
    {
     "name": "stdout",
     "output_type": "stream",
     "text": [
      "\n",
      "Predicted target: fare_amount, model name: xgb_fare_amount_model, prediction type: regression\n",
      "Running grid search for xgb_fare_amount_model based on neg_mean_absolute_error\n",
      "Fitting 3 folds for each of 12 candidates, totalling 36 fits\n",
      "Best neg_mean_absolute_error Score was: -0.29220388393437574\n",
      "The best hyper parameters for xgb_fare_amount_model are:\n",
      "{'xgb_fare_amount_model__learning_rate': 0.1, 'xgb_fare_amount_model__max_depth': 10, 'xgb_fare_amount_model__min_child_weight': 1, 'xgb_fare_amount_model__n_estimators': 80, 'xgb_fare_amount_model__reg_lambda': 10}\n",
      "Wall time: 13min 14s\n"
     ]
    }
   ],
   "source": [
    "%%time\n",
    "cab_df = cab_df.sample(frac=0.05,random_state=7)\n",
    "fare_amount_hyper_parameter_optimization(cab_df)"
   ]
  },
  {
   "cell_type": "code",
   "execution_count": 4,
   "metadata": {},
   "outputs": [
    {
     "name": "stdout",
     "output_type": "stream",
     "text": [
      "\n",
      "Predicted target: fare_amount, model name: xgb_model_fare_amount_optimized, prediction type: regression\n",
      "-------MODEL SCORES-------\n",
      "MAE:  0.385\n",
      "MSE:  1.662\n",
      "RMSE:  1.289\n",
      "R2:  96.611 %\n",
      "Wall time: 18min 34s\n"
     ]
    }
   ],
   "source": [
    "%%time\n",
    "build_fare_amount_model_optimized(cab_df)"
   ]
  },
  {
   "cell_type": "code",
   "execution_count": 3,
   "metadata": {},
   "outputs": [
    {
     "name": "stdout",
     "output_type": "stream",
     "text": [
      "\n",
      "Predicted target: fare_amount, model name: xgb_model_fare_amount_optimized, prediction type: regression\n",
      "-------MODEL SCORES-------\n",
      "MAE:  0.370\n",
      "MSE:  1.596\n",
      "RMSE:  1.263\n",
      "R2:  96.159 %\n",
      "Wall time: 18min 6s\n"
     ]
    }
   ],
   "source": [
    "%%time\n",
    "build_fare_amount_model_optimized(cab_df,manhattan=True)"
   ]
  },
  {
   "cell_type": "code",
   "execution_count": null,
   "metadata": {},
   "outputs": [],
   "source": []
  }
 ],
 "metadata": {
  "kernelspec": {
   "display_name": "Python 3",
   "language": "python",
   "name": "python3"
  },
  "language_info": {
   "codemirror_mode": {
    "name": "ipython",
    "version": 3
   },
   "file_extension": ".py",
   "mimetype": "text/x-python",
   "name": "python",
   "nbconvert_exporter": "python",
   "pygments_lexer": "ipython3",
   "version": "3.8.8"
  }
 },
 "nbformat": 4,
 "nbformat_minor": 4
}
