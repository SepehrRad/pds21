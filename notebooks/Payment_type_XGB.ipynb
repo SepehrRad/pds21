{
 "cells": [
  {
   "cell_type": "code",
   "execution_count": 1,
   "metadata": {
    "collapsed": true
   },
   "outputs": [
    {
     "name": "stdout",
     "output_type": "stream",
     "text": [
      "Obtaining file:///Users/christianbergen/Documents/prog/pds21\r\n",
      "Requirement already satisfied: pandas in /opt/anaconda3/envs/pds_env/lib/python3.8/site-packages (from yellowcab==0.0.1.dev1) (1.2.4)\r\n",
      "Requirement already satisfied: numpy in /opt/anaconda3/envs/pds_env/lib/python3.8/site-packages (from yellowcab==0.0.1.dev1) (1.20.3)\r\n",
      "Requirement already satisfied: matplotlib in /opt/anaconda3/envs/pds_env/lib/python3.8/site-packages (from yellowcab==0.0.1.dev1) (3.4.2)\r\n",
      "Requirement already satisfied: click in /opt/anaconda3/envs/pds_env/lib/python3.8/site-packages (from yellowcab==0.0.1.dev1) (7.1.2)\r\n",
      "Requirement already satisfied: scikit-learn in /opt/anaconda3/envs/pds_env/lib/python3.8/site-packages (from yellowcab==0.0.1.dev1) (0.24.1)\r\n",
      "Requirement already satisfied: pyarrow in /opt/anaconda3/envs/pds_env/lib/python3.8/site-packages (from yellowcab==0.0.1.dev1) (3.0.0)\r\n",
      "Requirement already satisfied: scipy in /opt/anaconda3/envs/pds_env/lib/python3.8/site-packages (from yellowcab==0.0.1.dev1) (1.6.3)\r\n",
      "Requirement already satisfied: pyod in /opt/anaconda3/envs/pds_env/lib/python3.8/site-packages (from yellowcab==0.0.1.dev1) (0.8.8)\r\n",
      "Requirement already satisfied: geopandas in /opt/anaconda3/envs/pds_env/lib/python3.8/site-packages (from yellowcab==0.0.1.dev1) (0.9.0)\r\n",
      "Requirement already satisfied: folium in /opt/anaconda3/envs/pds_env/lib/python3.8/site-packages (from yellowcab==0.0.1.dev1) (0.12.1)\r\n",
      "Requirement already satisfied: plotly in /opt/anaconda3/envs/pds_env/lib/python3.8/site-packages (from yellowcab==0.0.1.dev1) (4.14.3)\r\n",
      "Requirement already satisfied: branca in /opt/anaconda3/envs/pds_env/lib/python3.8/site-packages (from yellowcab==0.0.1.dev1) (0.4.2)\r\n",
      "Requirement already satisfied: xgboost in /opt/anaconda3/envs/pds_env/lib/python3.8/site-packages (from yellowcab==0.0.1.dev1) (1.4.2)\r\n",
      "Requirement already satisfied: tqdm in /opt/anaconda3/envs/pds_env/lib/python3.8/site-packages (from yellowcab==0.0.1.dev1) (4.59.0)\r\n",
      "Requirement already satisfied: imblearn in /opt/anaconda3/envs/pds_env/lib/python3.8/site-packages (from yellowcab==0.0.1.dev1) (0.0)\r\n",
      "Requirement already satisfied: jinja2 in /opt/anaconda3/envs/pds_env/lib/python3.8/site-packages (from branca->yellowcab==0.0.1.dev1) (2.11.3)\r\n",
      "Requirement already satisfied: requests in /opt/anaconda3/envs/pds_env/lib/python3.8/site-packages (from folium->yellowcab==0.0.1.dev1) (2.25.1)\r\n",
      "Requirement already satisfied: MarkupSafe>=0.23 in /opt/anaconda3/envs/pds_env/lib/python3.8/site-packages (from jinja2->branca->yellowcab==0.0.1.dev1) (1.1.1)\r\n",
      "Requirement already satisfied: shapely>=1.6 in /opt/anaconda3/envs/pds_env/lib/python3.8/site-packages (from geopandas->yellowcab==0.0.1.dev1) (1.7.1)\r\n",
      "Requirement already satisfied: fiona>=1.8 in /opt/anaconda3/envs/pds_env/lib/python3.8/site-packages (from geopandas->yellowcab==0.0.1.dev1) (1.8.19)\r\n",
      "Requirement already satisfied: pyproj>=2.2.0 in /opt/anaconda3/envs/pds_env/lib/python3.8/site-packages (from geopandas->yellowcab==0.0.1.dev1) (3.0.1)\r\n",
      "Requirement already satisfied: cligj>=0.5 in /opt/anaconda3/envs/pds_env/lib/python3.8/site-packages (from fiona>=1.8->geopandas->yellowcab==0.0.1.dev1) (0.7.1)\r\n",
      "Requirement already satisfied: click-plugins>=1.0 in /opt/anaconda3/envs/pds_env/lib/python3.8/site-packages (from fiona>=1.8->geopandas->yellowcab==0.0.1.dev1) (1.1.1)\r\n",
      "Requirement already satisfied: certifi in /opt/anaconda3/envs/pds_env/lib/python3.8/site-packages (from fiona>=1.8->geopandas->yellowcab==0.0.1.dev1) (2020.12.5)\r\n",
      "Requirement already satisfied: munch in /opt/anaconda3/envs/pds_env/lib/python3.8/site-packages (from fiona>=1.8->geopandas->yellowcab==0.0.1.dev1) (2.5.0)\r\n",
      "Requirement already satisfied: six>=1.7 in /opt/anaconda3/envs/pds_env/lib/python3.8/site-packages (from fiona>=1.8->geopandas->yellowcab==0.0.1.dev1) (1.15.0)\r\n",
      "Requirement already satisfied: attrs>=17 in /opt/anaconda3/envs/pds_env/lib/python3.8/site-packages (from fiona>=1.8->geopandas->yellowcab==0.0.1.dev1) (20.3.0)\r\n",
      "Requirement already satisfied: python-dateutil>=2.7.3 in /opt/anaconda3/envs/pds_env/lib/python3.8/site-packages (from pandas->yellowcab==0.0.1.dev1) (2.8.1)\r\n",
      "Requirement already satisfied: pytz>=2017.3 in /opt/anaconda3/envs/pds_env/lib/python3.8/site-packages (from pandas->yellowcab==0.0.1.dev1) (2021.1)\r\n",
      "Requirement already satisfied: imbalanced-learn in /opt/anaconda3/envs/pds_env/lib/python3.8/site-packages (from imblearn->yellowcab==0.0.1.dev1) (0.8.0)\r\n",
      "Requirement already satisfied: joblib>=0.11 in /opt/anaconda3/envs/pds_env/lib/python3.8/site-packages (from imbalanced-learn->imblearn->yellowcab==0.0.1.dev1) (1.0.1)\r\n",
      "Requirement already satisfied: threadpoolctl>=2.0.0 in /opt/anaconda3/envs/pds_env/lib/python3.8/site-packages (from scikit-learn->yellowcab==0.0.1.dev1) (2.1.0)\r\n",
      "Requirement already satisfied: kiwisolver>=1.0.1 in /opt/anaconda3/envs/pds_env/lib/python3.8/site-packages (from matplotlib->yellowcab==0.0.1.dev1) (1.3.1)\r\n",
      "Requirement already satisfied: pillow>=6.2.0 in /opt/anaconda3/envs/pds_env/lib/python3.8/site-packages (from matplotlib->yellowcab==0.0.1.dev1) (8.2.0)\r\n",
      "Requirement already satisfied: pyparsing>=2.2.1 in /opt/anaconda3/envs/pds_env/lib/python3.8/site-packages (from matplotlib->yellowcab==0.0.1.dev1) (2.4.7)\r\n",
      "Requirement already satisfied: cycler>=0.10 in /opt/anaconda3/envs/pds_env/lib/python3.8/site-packages (from matplotlib->yellowcab==0.0.1.dev1) (0.10.0)\r\n",
      "Requirement already satisfied: retrying>=1.3.3 in /opt/anaconda3/envs/pds_env/lib/python3.8/site-packages (from plotly->yellowcab==0.0.1.dev1) (1.3.3)\r\n",
      "Requirement already satisfied: statsmodels in /opt/anaconda3/envs/pds_env/lib/python3.8/site-packages (from pyod->yellowcab==0.0.1.dev1) (0.12.2)\r\n",
      "Requirement already satisfied: numba>=0.35 in /opt/anaconda3/envs/pds_env/lib/python3.8/site-packages (from pyod->yellowcab==0.0.1.dev1) (0.53.1)\r\n",
      "Requirement already satisfied: llvmlite<0.37,>=0.36.0rc1 in /opt/anaconda3/envs/pds_env/lib/python3.8/site-packages (from numba>=0.35->pyod->yellowcab==0.0.1.dev1) (0.36.0)\r\n",
      "Requirement already satisfied: setuptools in /opt/anaconda3/envs/pds_env/lib/python3.8/site-packages (from numba>=0.35->pyod->yellowcab==0.0.1.dev1) (52.0.0.post20210125)\r\n",
      "Requirement already satisfied: chardet<5,>=3.0.2 in /opt/anaconda3/envs/pds_env/lib/python3.8/site-packages (from requests->folium->yellowcab==0.0.1.dev1) (4.0.0)\r\n",
      "Requirement already satisfied: urllib3<1.27,>=1.21.1 in /opt/anaconda3/envs/pds_env/lib/python3.8/site-packages (from requests->folium->yellowcab==0.0.1.dev1) (1.26.4)\r\n",
      "Requirement already satisfied: idna<3,>=2.5 in /opt/anaconda3/envs/pds_env/lib/python3.8/site-packages (from requests->folium->yellowcab==0.0.1.dev1) (2.10)\r\n",
      "Requirement already satisfied: patsy>=0.5 in /opt/anaconda3/envs/pds_env/lib/python3.8/site-packages (from statsmodels->pyod->yellowcab==0.0.1.dev1) (0.5.1)\r\n",
      "Installing collected packages: yellowcab\r\n",
      "  Attempting uninstall: yellowcab\r\n",
      "    Found existing installation: yellowcab 0.0.1.dev1\r\n",
      "    Uninstalling yellowcab-0.0.1.dev1:\r\n",
      "      Successfully uninstalled yellowcab-0.0.1.dev1\r\n",
      "  Running setup.py develop for yellowcab\r\n",
      "Successfully installed yellowcab-0.0.1.dev1\r\n"
     ]
    }
   ],
   "source": [
    "!pip install -e .."
   ]
  },
  {
   "cell_type": "code",
   "execution_count": 2,
   "outputs": [],
   "source": [
    "from yellowcab.io import read_parquet_dataset\n",
    "from yellowcab.model import build_payment_type_model_optimized, make_baseline_predictions\n"
   ],
   "metadata": {
    "collapsed": false,
    "pycharm": {
     "name": "#%%\n"
    }
   }
  },
  {
   "cell_type": "code",
   "execution_count": 3,
   "outputs": [
    {
     "name": "stdout",
     "output_type": "stream",
     "text": [
      "<class 'pandas.core.frame.DataFrame'>\n",
      "RangeIndex: 20976798 entries, 0 to 20976797\n",
      "Data columns (total 37 columns):\n",
      " #   Column                     Dtype         \n",
      "---  ------                     -----         \n",
      " 0   pickup_datetime            datetime64[ns]\n",
      " 1   dropoff_datetime           datetime64[ns]\n",
      " 2   passenger_count            float64       \n",
      " 3   trip_distance              float64       \n",
      " 4   RatecodeID                 object        \n",
      " 5   PULocationID               object        \n",
      " 6   DOLocationID               object        \n",
      " 7   payment_type               object        \n",
      " 8   fare_amount                float64       \n",
      " 9   extra                      float64       \n",
      " 10  mta_tax                    float64       \n",
      " 11  tip_amount                 float64       \n",
      " 12  tolls_amount               float64       \n",
      " 13  improvement_surcharge      float64       \n",
      " 14  total_amount               float64       \n",
      " 15  congestion_surcharge       float64       \n",
      " 16  centers_lat_pickup         float64       \n",
      " 17  centers_long_pickup        float64       \n",
      " 18  centers_lat_dropoff        float64       \n",
      " 19  centers_long_dropoff       float64       \n",
      " 20  trip_duration_minutes      float64       \n",
      " 21  pickup_month               int64         \n",
      " 22  pickup_day                 int64         \n",
      " 23  pickup_hour                int64         \n",
      " 24  dropoff_month              int64         \n",
      " 25  dropoff_day                int64         \n",
      " 26  dropoff_hour               int64         \n",
      " 27  weekend                    int64         \n",
      " 28  Holiday                    bool          \n",
      " 29  Season                     object        \n",
      " 30  covid_new_cases            float64       \n",
      " 31  covid_lockdown             float64       \n",
      " 32  covid_school_restrictions  float64       \n",
      " 33  manhattan_distance         float64       \n",
      " 34  bearing_distance           float64       \n",
      " 35  haversine_distance         float64       \n",
      " 36  weekday                    int64         \n",
      "dtypes: bool(1), datetime64[ns](2), float64(21), int64(8), object(5)\n",
      "memory usage: 5.6+ GB\n"
     ]
    }
   ],
   "source": [
    "cab_df = read_parquet_dataset(relative_path=\"output/cleaned_feature\")\n",
    "cab_df.info()\n"
   ],
   "metadata": {
    "collapsed": false,
    "pycharm": {
     "name": "#%%\n"
    }
   }
  },
  {
   "cell_type": "code",
   "execution_count": 4,
   "outputs": [
    {
     "name": "stdout",
     "output_type": "stream",
     "text": [
      "<class 'pandas.core.frame.DataFrame'>\n",
      "Int64Index: 2097680 entries, 2479665 to 9036575\n",
      "Data columns (total 37 columns):\n",
      " #   Column                     Dtype         \n",
      "---  ------                     -----         \n",
      " 0   pickup_datetime            datetime64[ns]\n",
      " 1   dropoff_datetime           datetime64[ns]\n",
      " 2   passenger_count            float64       \n",
      " 3   trip_distance              float64       \n",
      " 4   RatecodeID                 object        \n",
      " 5   PULocationID               object        \n",
      " 6   DOLocationID               object        \n",
      " 7   payment_type               object        \n",
      " 8   fare_amount                float64       \n",
      " 9   extra                      float64       \n",
      " 10  mta_tax                    float64       \n",
      " 11  tip_amount                 float64       \n",
      " 12  tolls_amount               float64       \n",
      " 13  improvement_surcharge      float64       \n",
      " 14  total_amount               float64       \n",
      " 15  congestion_surcharge       float64       \n",
      " 16  centers_lat_pickup         float64       \n",
      " 17  centers_long_pickup        float64       \n",
      " 18  centers_lat_dropoff        float64       \n",
      " 19  centers_long_dropoff       float64       \n",
      " 20  trip_duration_minutes      float64       \n",
      " 21  pickup_month               int64         \n",
      " 22  pickup_day                 int64         \n",
      " 23  pickup_hour                int64         \n",
      " 24  dropoff_month              int64         \n",
      " 25  dropoff_day                int64         \n",
      " 26  dropoff_hour               int64         \n",
      " 27  weekend                    int64         \n",
      " 28  Holiday                    bool          \n",
      " 29  Season                     object        \n",
      " 30  covid_new_cases            float64       \n",
      " 31  covid_lockdown             float64       \n",
      " 32  covid_school_restrictions  float64       \n",
      " 33  manhattan_distance         float64       \n",
      " 34  bearing_distance           float64       \n",
      " 35  haversine_distance         float64       \n",
      " 36  weekday                    int64         \n",
      "dtypes: bool(1), datetime64[ns](2), float64(21), int64(8), object(5)\n",
      "memory usage: 594.1+ MB\n"
     ]
    }
   ],
   "source": [
    "sample_df = cab_df.sample(frac=0.1,random_state=7)\n",
    "del cab_df\n",
    "sample_df.info()"
   ],
   "metadata": {
    "collapsed": false,
    "pycharm": {
     "name": "#%%\n"
    }
   }
  },
  {
   "cell_type": "code",
   "execution_count": 5,
   "outputs": [
    {
     "name": "stdout",
     "output_type": "stream",
     "text": [
      "\n",
      "Predicted target: payment_type, model name: base_clas_payment_type, prediction type: classification\n",
      "-------MODEL SCORES-------\n",
      "                   pre       rec       spe        f1       geo       iba       sup\n",
      "\n",
      "       Cash       0.52      0.19      0.94      0.28      0.42      0.17    164544\n",
      "Credit card       0.91      0.76      0.79      0.83      0.77      0.59    461908\n",
      "    Dispute       0.00      0.20      0.90      0.01      0.43      0.17       757\n",
      "  No charge       0.01      0.50      0.80      0.02      0.64      0.39      2095\n",
      "\n",
      "avg / total       0.80      0.61      0.83      0.68      0.68      0.48    629304\n",
      "\n",
      "\n",
      "Predicted target: payment_type, model name: base_clas_payment_type_nm, prediction type: classification\n",
      "-------MODEL SCORES-------\n",
      "                   pre       rec       spe        f1       geo       iba       sup\n",
      "\n",
      "       Cash       0.68      0.14      0.98      0.23      0.37      0.13    164544\n",
      "Credit card       0.87      0.52      0.79      0.65      0.64      0.40    461908\n",
      "    Dispute       0.00      0.54      0.54      0.00      0.54      0.29       757\n",
      "  No charge       0.01      0.12      0.95      0.02      0.34      0.11      2095\n",
      "\n",
      "avg / total       0.82      0.42      0.84      0.54      0.57      0.33    629304\n",
      "\n"
     ]
    }
   ],
   "source": [
    "make_baseline_predictions(sample_df)"
   ],
   "metadata": {
    "collapsed": false,
    "pycharm": {
     "name": "#%%\n"
    }
   }
  },
  {
   "cell_type": "code",
   "execution_count": 6,
   "outputs": [
    {
     "name": "stdout",
     "output_type": "stream",
     "text": [
      "<class 'pandas.core.frame.DataFrame'>\n",
      "RangeIndex: 20976798 entries, 0 to 20976797\n",
      "Data columns (total 37 columns):\n",
      " #   Column                     Dtype         \n",
      "---  ------                     -----         \n",
      " 0   pickup_datetime            datetime64[ns]\n",
      " 1   dropoff_datetime           datetime64[ns]\n",
      " 2   passenger_count            float64       \n",
      " 3   trip_distance              float64       \n",
      " 4   RatecodeID                 object        \n",
      " 5   PULocationID               object        \n",
      " 6   DOLocationID               object        \n",
      " 7   payment_type               object        \n",
      " 8   fare_amount                float64       \n",
      " 9   extra                      float64       \n",
      " 10  mta_tax                    float64       \n",
      " 11  tip_amount                 float64       \n",
      " 12  tolls_amount               float64       \n",
      " 13  improvement_surcharge      float64       \n",
      " 14  total_amount               float64       \n",
      " 15  congestion_surcharge       float64       \n",
      " 16  centers_lat_pickup         float64       \n",
      " 17  centers_long_pickup        float64       \n",
      " 18  centers_lat_dropoff        float64       \n",
      " 19  centers_long_dropoff       float64       \n",
      " 20  trip_duration_minutes      float64       \n",
      " 21  pickup_month               int64         \n",
      " 22  pickup_day                 int64         \n",
      " 23  pickup_hour                int64         \n",
      " 24  dropoff_month              int64         \n",
      " 25  dropoff_day                int64         \n",
      " 26  dropoff_hour               int64         \n",
      " 27  weekend                    int64         \n",
      " 28  Holiday                    bool          \n",
      " 29  Season                     object        \n",
      " 30  covid_new_cases            float64       \n",
      " 31  covid_lockdown             float64       \n",
      " 32  covid_school_restrictions  float64       \n",
      " 33  manhattan_distance         float64       \n",
      " 34  bearing_distance           float64       \n",
      " 35  haversine_distance         float64       \n",
      " 36  weekday                    int64         \n",
      "dtypes: bool(1), datetime64[ns](2), float64(21), int64(8), object(5)\n",
      "memory usage: 5.6+ GB\n"
     ]
    }
   ],
   "source": [
    "cab_df = read_parquet_dataset(relative_path=\"output/cleaned_feature\")\n",
    "cab_df.info()\n",
    "#\n",
    "%%time\n",
    "build_payment_type_model_optimized(cab_df, manhattan=False)"
   ],
   "metadata": {
    "collapsed": false,
    "pycharm": {
     "name": "#%%\n"
    }
   }
  },
  {
   "cell_type": "code",
   "execution_count": 7,
   "outputs": [],
   "source": [
    "#\n",
    "%%time\n",
    "build_payment_type_model_optimized(cab_df, manhattan=True)\n"
   ],
   "metadata": {
    "collapsed": false,
    "pycharm": {
     "name": "#%%\n"
    }
   }
  }
 ],
 "metadata": {
  "kernelspec": {
   "display_name": "Python 3",
   "language": "python",
   "name": "python3"
  },
  "language_info": {
   "codemirror_mode": {
    "name": "ipython",
    "version": 2
   },
   "file_extension": ".py",
   "mimetype": "text/x-python",
   "name": "python",
   "nbconvert_exporter": "python",
   "pygments_lexer": "ipython2",
   "version": "2.7.6"
  }
 },
 "nbformat": 4,
 "nbformat_minor": 0
}