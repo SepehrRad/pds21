{
 "cells": [
  {
   "cell_type": "code",
   "execution_count": 1,
   "outputs": [],
   "source": [
    "from datetime import date, datetime\n",
    "import pandas as pd\n",
    "import geopandas\n",
    "import numpy as np\n",
    "from pathlib import Path\n",
    "from yellowcab.preprocessing.feature_engineering import create_holiday_column\n",
    "from yellowcab.preprocessing.feature_engineering import create_season_column\n"
   ],
   "metadata": {
    "collapsed": false,
    "pycharm": {
     "name": "#%%\n"
    }
   }
  },
  {
   "cell_type": "code",
   "execution_count": 2,
   "outputs": [
    {
     "data": {
      "text/plain": "        tpep_pickup_datetime tpep_dropoff_datetime  passenger_count  \\\n0        2020-02-01 00:17:35   2020-02-01 00:30:32              1.0   \n1        2020-02-01 00:32:47   2020-02-01 01:05:36              1.0   \n2        2020-02-01 00:31:44   2020-02-01 00:43:28              1.0   \n3        2020-02-01 00:07:35   2020-02-01 00:31:39              1.0   \n4        2020-02-01 00:51:43   2020-02-01 01:01:29              1.0   \n...                      ...                   ...              ...   \n6250515  2020-02-29 23:08:41   2020-02-29 23:13:24              1.0   \n6250516  2020-02-29 23:30:49   2020-02-29 23:50:29              1.0   \n6250517  2020-02-29 23:22:08   2020-02-29 23:31:02              1.0   \n6250518  2020-02-29 23:47:04   2020-02-29 23:51:32              2.0   \n6250519  2020-02-29 23:37:30   2020-02-29 23:39:20              1.0   \n\n         trip_distance  RatecodeID  PULocationID  DOLocationID  payment_type  \\\n0                 2.60         1.0           145             7           1.0   \n1                 4.80         1.0            45            61           1.0   \n2                 3.20         1.0           186           140           1.0   \n3                 4.38         1.0           144           140           1.0   \n4                 2.28         1.0           238           152           2.0   \n...                ...         ...           ...           ...           ...   \n6250515           0.54         1.0            50            48           2.0   \n6250516           2.91         1.0           113           229           2.0   \n6250517           1.65         1.0           262           237           1.0   \n6250518           0.72         1.0           140           236           1.0   \n6250519           0.00         1.0           193           193           1.0   \n\n         fare_amount  extra  mta_tax  tip_amount  tolls_amount  \\\n0               11.0    0.5      0.5        2.45           0.0   \n1               21.5    3.0      0.5        6.30           0.0   \n2               11.0    3.0      0.5        1.00           0.0   \n3               18.0    0.5      0.5        3.00           0.0   \n4                9.5    0.5      0.5        0.00           0.0   \n...              ...    ...      ...         ...           ...   \n6250515          5.0    0.5      0.5        0.00           0.0   \n6250516         14.0    0.5      0.5        0.00           0.0   \n6250517          8.5    0.5      0.5        1.70           0.0   \n6250518          5.0    0.5      0.5        2.64           0.0   \n6250519          0.0    0.0      0.0        0.00           0.0   \n\n         improvement_surcharge  total_amount  congestion_surcharge  \n0                          0.3         14.75                   0.0  \n1                          0.3         31.60                   2.5  \n2                          0.3         15.80                   2.5  \n3                          0.3         24.80                   2.5  \n4                          0.3         10.80                   0.0  \n...                        ...           ...                   ...  \n6250515                    0.3          8.80                   2.5  \n6250516                    0.3         17.80                   2.5  \n6250517                    0.3         14.00                   2.5  \n6250518                    0.3         11.44                   2.5  \n6250519                    0.0          0.00                   0.0  \n\n[6250520 rows x 16 columns]",
      "text/html": "<div>\n<style scoped>\n    .dataframe tbody tr th:only-of-type {\n        vertical-align: middle;\n    }\n\n    .dataframe tbody tr th {\n        vertical-align: top;\n    }\n\n    .dataframe thead th {\n        text-align: right;\n    }\n</style>\n<table border=\"1\" class=\"dataframe\">\n  <thead>\n    <tr style=\"text-align: right;\">\n      <th></th>\n      <th>tpep_pickup_datetime</th>\n      <th>tpep_dropoff_datetime</th>\n      <th>passenger_count</th>\n      <th>trip_distance</th>\n      <th>RatecodeID</th>\n      <th>PULocationID</th>\n      <th>DOLocationID</th>\n      <th>payment_type</th>\n      <th>fare_amount</th>\n      <th>extra</th>\n      <th>mta_tax</th>\n      <th>tip_amount</th>\n      <th>tolls_amount</th>\n      <th>improvement_surcharge</th>\n      <th>total_amount</th>\n      <th>congestion_surcharge</th>\n    </tr>\n  </thead>\n  <tbody>\n    <tr>\n      <th>0</th>\n      <td>2020-02-01 00:17:35</td>\n      <td>2020-02-01 00:30:32</td>\n      <td>1.0</td>\n      <td>2.60</td>\n      <td>1.0</td>\n      <td>145</td>\n      <td>7</td>\n      <td>1.0</td>\n      <td>11.0</td>\n      <td>0.5</td>\n      <td>0.5</td>\n      <td>2.45</td>\n      <td>0.0</td>\n      <td>0.3</td>\n      <td>14.75</td>\n      <td>0.0</td>\n    </tr>\n    <tr>\n      <th>1</th>\n      <td>2020-02-01 00:32:47</td>\n      <td>2020-02-01 01:05:36</td>\n      <td>1.0</td>\n      <td>4.80</td>\n      <td>1.0</td>\n      <td>45</td>\n      <td>61</td>\n      <td>1.0</td>\n      <td>21.5</td>\n      <td>3.0</td>\n      <td>0.5</td>\n      <td>6.30</td>\n      <td>0.0</td>\n      <td>0.3</td>\n      <td>31.60</td>\n      <td>2.5</td>\n    </tr>\n    <tr>\n      <th>2</th>\n      <td>2020-02-01 00:31:44</td>\n      <td>2020-02-01 00:43:28</td>\n      <td>1.0</td>\n      <td>3.20</td>\n      <td>1.0</td>\n      <td>186</td>\n      <td>140</td>\n      <td>1.0</td>\n      <td>11.0</td>\n      <td>3.0</td>\n      <td>0.5</td>\n      <td>1.00</td>\n      <td>0.0</td>\n      <td>0.3</td>\n      <td>15.80</td>\n      <td>2.5</td>\n    </tr>\n    <tr>\n      <th>3</th>\n      <td>2020-02-01 00:07:35</td>\n      <td>2020-02-01 00:31:39</td>\n      <td>1.0</td>\n      <td>4.38</td>\n      <td>1.0</td>\n      <td>144</td>\n      <td>140</td>\n      <td>1.0</td>\n      <td>18.0</td>\n      <td>0.5</td>\n      <td>0.5</td>\n      <td>3.00</td>\n      <td>0.0</td>\n      <td>0.3</td>\n      <td>24.80</td>\n      <td>2.5</td>\n    </tr>\n    <tr>\n      <th>4</th>\n      <td>2020-02-01 00:51:43</td>\n      <td>2020-02-01 01:01:29</td>\n      <td>1.0</td>\n      <td>2.28</td>\n      <td>1.0</td>\n      <td>238</td>\n      <td>152</td>\n      <td>2.0</td>\n      <td>9.5</td>\n      <td>0.5</td>\n      <td>0.5</td>\n      <td>0.00</td>\n      <td>0.0</td>\n      <td>0.3</td>\n      <td>10.80</td>\n      <td>0.0</td>\n    </tr>\n    <tr>\n      <th>...</th>\n      <td>...</td>\n      <td>...</td>\n      <td>...</td>\n      <td>...</td>\n      <td>...</td>\n      <td>...</td>\n      <td>...</td>\n      <td>...</td>\n      <td>...</td>\n      <td>...</td>\n      <td>...</td>\n      <td>...</td>\n      <td>...</td>\n      <td>...</td>\n      <td>...</td>\n      <td>...</td>\n    </tr>\n    <tr>\n      <th>6250515</th>\n      <td>2020-02-29 23:08:41</td>\n      <td>2020-02-29 23:13:24</td>\n      <td>1.0</td>\n      <td>0.54</td>\n      <td>1.0</td>\n      <td>50</td>\n      <td>48</td>\n      <td>2.0</td>\n      <td>5.0</td>\n      <td>0.5</td>\n      <td>0.5</td>\n      <td>0.00</td>\n      <td>0.0</td>\n      <td>0.3</td>\n      <td>8.80</td>\n      <td>2.5</td>\n    </tr>\n    <tr>\n      <th>6250516</th>\n      <td>2020-02-29 23:30:49</td>\n      <td>2020-02-29 23:50:29</td>\n      <td>1.0</td>\n      <td>2.91</td>\n      <td>1.0</td>\n      <td>113</td>\n      <td>229</td>\n      <td>2.0</td>\n      <td>14.0</td>\n      <td>0.5</td>\n      <td>0.5</td>\n      <td>0.00</td>\n      <td>0.0</td>\n      <td>0.3</td>\n      <td>17.80</td>\n      <td>2.5</td>\n    </tr>\n    <tr>\n      <th>6250517</th>\n      <td>2020-02-29 23:22:08</td>\n      <td>2020-02-29 23:31:02</td>\n      <td>1.0</td>\n      <td>1.65</td>\n      <td>1.0</td>\n      <td>262</td>\n      <td>237</td>\n      <td>1.0</td>\n      <td>8.5</td>\n      <td>0.5</td>\n      <td>0.5</td>\n      <td>1.70</td>\n      <td>0.0</td>\n      <td>0.3</td>\n      <td>14.00</td>\n      <td>2.5</td>\n    </tr>\n    <tr>\n      <th>6250518</th>\n      <td>2020-02-29 23:47:04</td>\n      <td>2020-02-29 23:51:32</td>\n      <td>2.0</td>\n      <td>0.72</td>\n      <td>1.0</td>\n      <td>140</td>\n      <td>236</td>\n      <td>1.0</td>\n      <td>5.0</td>\n      <td>0.5</td>\n      <td>0.5</td>\n      <td>2.64</td>\n      <td>0.0</td>\n      <td>0.3</td>\n      <td>11.44</td>\n      <td>2.5</td>\n    </tr>\n    <tr>\n      <th>6250519</th>\n      <td>2020-02-29 23:37:30</td>\n      <td>2020-02-29 23:39:20</td>\n      <td>1.0</td>\n      <td>0.00</td>\n      <td>1.0</td>\n      <td>193</td>\n      <td>193</td>\n      <td>1.0</td>\n      <td>0.0</td>\n      <td>0.0</td>\n      <td>0.0</td>\n      <td>0.00</td>\n      <td>0.0</td>\n      <td>0.0</td>\n      <td>0.00</td>\n      <td>0.0</td>\n    </tr>\n  </tbody>\n</table>\n<p>6250520 rows × 16 columns</p>\n</div>"
     },
     "execution_count": 2,
     "metadata": {},
     "output_type": "execute_result"
    }
   ],
   "source": [
    "df = pd.read_parquet(\"/Users/ninaerlacher/Downloads/02.parquet\")"
   ],
   "metadata": {
    "collapsed": false,
    "pycharm": {
     "name": "#%%\n"
    }
   }
  },
  {
   "cell_type": "code",
   "execution_count": 2,
   "outputs": [],
   "source": [],
   "metadata": {
    "collapsed": false,
    "pycharm": {
     "name": "#%%\n"
    }
   }
  },
  {
   "cell_type": "code",
   "execution_count": 3,
   "outputs": [],
   "source": [
    "df = create_holiday_column(df, 'tpep_pickup_datetime')"
   ],
   "metadata": {
    "collapsed": false,
    "pycharm": {
     "name": "#%%\n"
    }
   }
  },
  {
   "cell_type": "code",
   "execution_count": 4,
   "outputs": [
    {
     "data": {
      "text/plain": "        tpep_pickup_datetime tpep_dropoff_datetime  passenger_count  \\\n0        2020-02-01 00:17:35   2020-02-01 00:30:32              1.0   \n1        2020-02-01 00:32:47   2020-02-01 01:05:36              1.0   \n2        2020-02-01 00:31:44   2020-02-01 00:43:28              1.0   \n3        2020-02-01 00:07:35   2020-02-01 00:31:39              1.0   \n4        2020-02-01 00:51:43   2020-02-01 01:01:29              1.0   \n...                      ...                   ...              ...   \n6250515  2020-02-29 23:08:41   2020-02-29 23:13:24              1.0   \n6250516  2020-02-29 23:30:49   2020-02-29 23:50:29              1.0   \n6250517  2020-02-29 23:22:08   2020-02-29 23:31:02              1.0   \n6250518  2020-02-29 23:47:04   2020-02-29 23:51:32              2.0   \n6250519  2020-02-29 23:37:30   2020-02-29 23:39:20              1.0   \n\n         trip_distance  RatecodeID  PULocationID  DOLocationID  payment_type  \\\n0                 2.60         1.0           145             7           1.0   \n1                 4.80         1.0            45            61           1.0   \n2                 3.20         1.0           186           140           1.0   \n3                 4.38         1.0           144           140           1.0   \n4                 2.28         1.0           238           152           2.0   \n...                ...         ...           ...           ...           ...   \n6250515           0.54         1.0            50            48           2.0   \n6250516           2.91         1.0           113           229           2.0   \n6250517           1.65         1.0           262           237           1.0   \n6250518           0.72         1.0           140           236           1.0   \n6250519           0.00         1.0           193           193           1.0   \n\n         fare_amount  extra  mta_tax  tip_amount  tolls_amount  \\\n0               11.0    0.5      0.5        2.45           0.0   \n1               21.5    3.0      0.5        6.30           0.0   \n2               11.0    3.0      0.5        1.00           0.0   \n3               18.0    0.5      0.5        3.00           0.0   \n4                9.5    0.5      0.5        0.00           0.0   \n...              ...    ...      ...         ...           ...   \n6250515          5.0    0.5      0.5        0.00           0.0   \n6250516         14.0    0.5      0.5        0.00           0.0   \n6250517          8.5    0.5      0.5        1.70           0.0   \n6250518          5.0    0.5      0.5        2.64           0.0   \n6250519          0.0    0.0      0.0        0.00           0.0   \n\n         improvement_surcharge  total_amount  congestion_surcharge  Holiday  \\\n0                          0.3         14.75                   0.0    False   \n1                          0.3         31.60                   2.5    False   \n2                          0.3         15.80                   2.5    False   \n3                          0.3         24.80                   2.5    False   \n4                          0.3         10.80                   0.0    False   \n...                        ...           ...                   ...      ...   \n6250515                    0.3          8.80                   2.5    False   \n6250516                    0.3         17.80                   2.5    False   \n6250517                    0.3         14.00                   2.5    False   \n6250518                    0.3         11.44                   2.5    False   \n6250519                    0.0          0.00                   0.0    False   \n\n         Season  \n0        winter  \n1        winter  \n2        winter  \n3        winter  \n4        winter  \n...         ...  \n6250515  winter  \n6250516  winter  \n6250517  winter  \n6250518  winter  \n6250519  winter  \n\n[6250520 rows x 18 columns]",
      "text/html": "<div>\n<style scoped>\n    .dataframe tbody tr th:only-of-type {\n        vertical-align: middle;\n    }\n\n    .dataframe tbody tr th {\n        vertical-align: top;\n    }\n\n    .dataframe thead th {\n        text-align: right;\n    }\n</style>\n<table border=\"1\" class=\"dataframe\">\n  <thead>\n    <tr style=\"text-align: right;\">\n      <th></th>\n      <th>tpep_pickup_datetime</th>\n      <th>tpep_dropoff_datetime</th>\n      <th>passenger_count</th>\n      <th>trip_distance</th>\n      <th>RatecodeID</th>\n      <th>PULocationID</th>\n      <th>DOLocationID</th>\n      <th>payment_type</th>\n      <th>fare_amount</th>\n      <th>extra</th>\n      <th>mta_tax</th>\n      <th>tip_amount</th>\n      <th>tolls_amount</th>\n      <th>improvement_surcharge</th>\n      <th>total_amount</th>\n      <th>congestion_surcharge</th>\n      <th>Holiday</th>\n      <th>Season</th>\n    </tr>\n  </thead>\n  <tbody>\n    <tr>\n      <th>0</th>\n      <td>2020-02-01 00:17:35</td>\n      <td>2020-02-01 00:30:32</td>\n      <td>1.0</td>\n      <td>2.60</td>\n      <td>1.0</td>\n      <td>145</td>\n      <td>7</td>\n      <td>1.0</td>\n      <td>11.0</td>\n      <td>0.5</td>\n      <td>0.5</td>\n      <td>2.45</td>\n      <td>0.0</td>\n      <td>0.3</td>\n      <td>14.75</td>\n      <td>0.0</td>\n      <td>False</td>\n      <td>winter</td>\n    </tr>\n    <tr>\n      <th>1</th>\n      <td>2020-02-01 00:32:47</td>\n      <td>2020-02-01 01:05:36</td>\n      <td>1.0</td>\n      <td>4.80</td>\n      <td>1.0</td>\n      <td>45</td>\n      <td>61</td>\n      <td>1.0</td>\n      <td>21.5</td>\n      <td>3.0</td>\n      <td>0.5</td>\n      <td>6.30</td>\n      <td>0.0</td>\n      <td>0.3</td>\n      <td>31.60</td>\n      <td>2.5</td>\n      <td>False</td>\n      <td>winter</td>\n    </tr>\n    <tr>\n      <th>2</th>\n      <td>2020-02-01 00:31:44</td>\n      <td>2020-02-01 00:43:28</td>\n      <td>1.0</td>\n      <td>3.20</td>\n      <td>1.0</td>\n      <td>186</td>\n      <td>140</td>\n      <td>1.0</td>\n      <td>11.0</td>\n      <td>3.0</td>\n      <td>0.5</td>\n      <td>1.00</td>\n      <td>0.0</td>\n      <td>0.3</td>\n      <td>15.80</td>\n      <td>2.5</td>\n      <td>False</td>\n      <td>winter</td>\n    </tr>\n    <tr>\n      <th>3</th>\n      <td>2020-02-01 00:07:35</td>\n      <td>2020-02-01 00:31:39</td>\n      <td>1.0</td>\n      <td>4.38</td>\n      <td>1.0</td>\n      <td>144</td>\n      <td>140</td>\n      <td>1.0</td>\n      <td>18.0</td>\n      <td>0.5</td>\n      <td>0.5</td>\n      <td>3.00</td>\n      <td>0.0</td>\n      <td>0.3</td>\n      <td>24.80</td>\n      <td>2.5</td>\n      <td>False</td>\n      <td>winter</td>\n    </tr>\n    <tr>\n      <th>4</th>\n      <td>2020-02-01 00:51:43</td>\n      <td>2020-02-01 01:01:29</td>\n      <td>1.0</td>\n      <td>2.28</td>\n      <td>1.0</td>\n      <td>238</td>\n      <td>152</td>\n      <td>2.0</td>\n      <td>9.5</td>\n      <td>0.5</td>\n      <td>0.5</td>\n      <td>0.00</td>\n      <td>0.0</td>\n      <td>0.3</td>\n      <td>10.80</td>\n      <td>0.0</td>\n      <td>False</td>\n      <td>winter</td>\n    </tr>\n    <tr>\n      <th>...</th>\n      <td>...</td>\n      <td>...</td>\n      <td>...</td>\n      <td>...</td>\n      <td>...</td>\n      <td>...</td>\n      <td>...</td>\n      <td>...</td>\n      <td>...</td>\n      <td>...</td>\n      <td>...</td>\n      <td>...</td>\n      <td>...</td>\n      <td>...</td>\n      <td>...</td>\n      <td>...</td>\n      <td>...</td>\n      <td>...</td>\n    </tr>\n    <tr>\n      <th>6250515</th>\n      <td>2020-02-29 23:08:41</td>\n      <td>2020-02-29 23:13:24</td>\n      <td>1.0</td>\n      <td>0.54</td>\n      <td>1.0</td>\n      <td>50</td>\n      <td>48</td>\n      <td>2.0</td>\n      <td>5.0</td>\n      <td>0.5</td>\n      <td>0.5</td>\n      <td>0.00</td>\n      <td>0.0</td>\n      <td>0.3</td>\n      <td>8.80</td>\n      <td>2.5</td>\n      <td>False</td>\n      <td>winter</td>\n    </tr>\n    <tr>\n      <th>6250516</th>\n      <td>2020-02-29 23:30:49</td>\n      <td>2020-02-29 23:50:29</td>\n      <td>1.0</td>\n      <td>2.91</td>\n      <td>1.0</td>\n      <td>113</td>\n      <td>229</td>\n      <td>2.0</td>\n      <td>14.0</td>\n      <td>0.5</td>\n      <td>0.5</td>\n      <td>0.00</td>\n      <td>0.0</td>\n      <td>0.3</td>\n      <td>17.80</td>\n      <td>2.5</td>\n      <td>False</td>\n      <td>winter</td>\n    </tr>\n    <tr>\n      <th>6250517</th>\n      <td>2020-02-29 23:22:08</td>\n      <td>2020-02-29 23:31:02</td>\n      <td>1.0</td>\n      <td>1.65</td>\n      <td>1.0</td>\n      <td>262</td>\n      <td>237</td>\n      <td>1.0</td>\n      <td>8.5</td>\n      <td>0.5</td>\n      <td>0.5</td>\n      <td>1.70</td>\n      <td>0.0</td>\n      <td>0.3</td>\n      <td>14.00</td>\n      <td>2.5</td>\n      <td>False</td>\n      <td>winter</td>\n    </tr>\n    <tr>\n      <th>6250518</th>\n      <td>2020-02-29 23:47:04</td>\n      <td>2020-02-29 23:51:32</td>\n      <td>2.0</td>\n      <td>0.72</td>\n      <td>1.0</td>\n      <td>140</td>\n      <td>236</td>\n      <td>1.0</td>\n      <td>5.0</td>\n      <td>0.5</td>\n      <td>0.5</td>\n      <td>2.64</td>\n      <td>0.0</td>\n      <td>0.3</td>\n      <td>11.44</td>\n      <td>2.5</td>\n      <td>False</td>\n      <td>winter</td>\n    </tr>\n    <tr>\n      <th>6250519</th>\n      <td>2020-02-29 23:37:30</td>\n      <td>2020-02-29 23:39:20</td>\n      <td>1.0</td>\n      <td>0.00</td>\n      <td>1.0</td>\n      <td>193</td>\n      <td>193</td>\n      <td>1.0</td>\n      <td>0.0</td>\n      <td>0.0</td>\n      <td>0.0</td>\n      <td>0.00</td>\n      <td>0.0</td>\n      <td>0.0</td>\n      <td>0.00</td>\n      <td>0.0</td>\n      <td>False</td>\n      <td>winter</td>\n    </tr>\n  </tbody>\n</table>\n<p>6250520 rows × 18 columns</p>\n</div>"
     },
     "execution_count": 4,
     "metadata": {},
     "output_type": "execute_result"
    }
   ],
   "source": [
    "create_season_column(df, 'tpep_pickup_datetime')\n",
    "\n",
    "\n"
   ],
   "metadata": {
    "collapsed": false,
    "pycharm": {
     "name": "#%%\n"
    }
   }
  }
 ],
 "metadata": {
  "kernelspec": {
   "display_name": "Python 3",
   "language": "python",
   "name": "python3"
  },
  "language_info": {
   "codemirror_mode": {
    "name": "ipython",
    "version": 2
   },
   "file_extension": ".py",
   "mimetype": "text/x-python",
   "name": "python",
   "nbconvert_exporter": "python",
   "pygments_lexer": "ipython2",
   "version": "2.7.6"
  }
 },
 "nbformat": 4,
 "nbformat_minor": 0
}